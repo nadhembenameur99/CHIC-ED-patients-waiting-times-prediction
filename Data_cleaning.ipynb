{
 "cells": [
  {
   "cell_type": "code",
   "execution_count": 2,
   "metadata": {
    "collapsed": true,
    "pycharm": {
     "name": "#%%\n"
    }
   },
   "outputs": [],
   "source": [
    "import pandas as pd\n",
    "import matplotlib.pyplot as plt\n",
    "import seaborn as sns"
   ]
  },
  {
   "cell_type": "code",
   "execution_count": 3,
   "outputs": [
    {
     "data": {
      "text/plain": "   dos_id  age  sexe code postal  nbre_patient  ven_etat ven_motifAdmission  \\\n0    2225   33     1     81100.0           334         2        Non precise   \n1    2226   46     2     81290.0           335         2        Non precise   \n2    2227   10     2     81100.0           336         2        Non precise   \n3    2228   16     1     81100.0           340         2        Non precise   \n4    2229   63     2     81700.0           341         2        Non precise   \n\n   gravité  ven_modeEntree  ven_modeSortie  ... nbre_dem_avis_spe  \\\n0        4            11.0            64.0  ...                 0   \n1        4            11.0            64.0  ...                 1   \n2        5            11.0            64.0  ...                 0   \n3        5            11.0            64.0  ...                 0   \n4        5            11.0            64.0  ...                 1   \n\n  date_deb_obs_avis_spe date_saisie_obs_spe ccmu_id mode_sortie_id    dest  \\\n0                   NaN                 NaN       2              1     NaN   \n1      22/01/2019 10:11    22/01/2019 10:53       3              3  2701.0   \n2                   NaN                 NaN       2              1     NaN   \n3                   NaN                 NaN       1              1     NaN   \n4      22/01/2019 11:17    22/01/2019 12:47       3              3  2701.0   \n\n            ven_admission              ven_sortie  ven_date_sortie_reelle  \\\n0  2019-01-22 08:42:00.00  2019-01-22 12:39:00.00  2019-01-22 12:39:00.00   \n1  2019-01-22 08:46:00.00  2019-01-23 13:00:00.00  2019-01-23 13:00:00.00   \n2  2019-01-22 08:54:00.00  2019-01-22 10:19:00.00  2019-01-22 10:19:00.00   \n3  2019-01-22 09:00:00.00  2019-01-22 10:06:00.00  2019-01-22 10:06:00.00   \n4  2019-01-22 09:06:00.00  2019-01-24 11:27:00.00  2019-01-24 11:27:00.00   \n\n  nbre_pat_uhcd  \n0            11  \n1            11  \n2            11  \n3            11  \n4            11  \n\n[5 rows x 44 columns]",
      "text/html": "<div>\n<style scoped>\n    .dataframe tbody tr th:only-of-type {\n        vertical-align: middle;\n    }\n\n    .dataframe tbody tr th {\n        vertical-align: top;\n    }\n\n    .dataframe thead th {\n        text-align: right;\n    }\n</style>\n<table border=\"1\" class=\"dataframe\">\n  <thead>\n    <tr style=\"text-align: right;\">\n      <th></th>\n      <th>dos_id</th>\n      <th>age</th>\n      <th>sexe</th>\n      <th>code postal</th>\n      <th>nbre_patient</th>\n      <th>ven_etat</th>\n      <th>ven_motifAdmission</th>\n      <th>gravité</th>\n      <th>ven_modeEntree</th>\n      <th>ven_modeSortie</th>\n      <th>...</th>\n      <th>nbre_dem_avis_spe</th>\n      <th>date_deb_obs_avis_spe</th>\n      <th>date_saisie_obs_spe</th>\n      <th>ccmu_id</th>\n      <th>mode_sortie_id</th>\n      <th>dest</th>\n      <th>ven_admission</th>\n      <th>ven_sortie</th>\n      <th>ven_date_sortie_reelle</th>\n      <th>nbre_pat_uhcd</th>\n    </tr>\n  </thead>\n  <tbody>\n    <tr>\n      <th>0</th>\n      <td>2225</td>\n      <td>33</td>\n      <td>1</td>\n      <td>81100.0</td>\n      <td>334</td>\n      <td>2</td>\n      <td>Non precise</td>\n      <td>4</td>\n      <td>11.0</td>\n      <td>64.0</td>\n      <td>...</td>\n      <td>0</td>\n      <td>NaN</td>\n      <td>NaN</td>\n      <td>2</td>\n      <td>1</td>\n      <td>NaN</td>\n      <td>2019-01-22 08:42:00.00</td>\n      <td>2019-01-22 12:39:00.00</td>\n      <td>2019-01-22 12:39:00.00</td>\n      <td>11</td>\n    </tr>\n    <tr>\n      <th>1</th>\n      <td>2226</td>\n      <td>46</td>\n      <td>2</td>\n      <td>81290.0</td>\n      <td>335</td>\n      <td>2</td>\n      <td>Non precise</td>\n      <td>4</td>\n      <td>11.0</td>\n      <td>64.0</td>\n      <td>...</td>\n      <td>1</td>\n      <td>22/01/2019 10:11</td>\n      <td>22/01/2019 10:53</td>\n      <td>3</td>\n      <td>3</td>\n      <td>2701.0</td>\n      <td>2019-01-22 08:46:00.00</td>\n      <td>2019-01-23 13:00:00.00</td>\n      <td>2019-01-23 13:00:00.00</td>\n      <td>11</td>\n    </tr>\n    <tr>\n      <th>2</th>\n      <td>2227</td>\n      <td>10</td>\n      <td>2</td>\n      <td>81100.0</td>\n      <td>336</td>\n      <td>2</td>\n      <td>Non precise</td>\n      <td>5</td>\n      <td>11.0</td>\n      <td>64.0</td>\n      <td>...</td>\n      <td>0</td>\n      <td>NaN</td>\n      <td>NaN</td>\n      <td>2</td>\n      <td>1</td>\n      <td>NaN</td>\n      <td>2019-01-22 08:54:00.00</td>\n      <td>2019-01-22 10:19:00.00</td>\n      <td>2019-01-22 10:19:00.00</td>\n      <td>11</td>\n    </tr>\n    <tr>\n      <th>3</th>\n      <td>2228</td>\n      <td>16</td>\n      <td>1</td>\n      <td>81100.0</td>\n      <td>340</td>\n      <td>2</td>\n      <td>Non precise</td>\n      <td>5</td>\n      <td>11.0</td>\n      <td>64.0</td>\n      <td>...</td>\n      <td>0</td>\n      <td>NaN</td>\n      <td>NaN</td>\n      <td>1</td>\n      <td>1</td>\n      <td>NaN</td>\n      <td>2019-01-22 09:00:00.00</td>\n      <td>2019-01-22 10:06:00.00</td>\n      <td>2019-01-22 10:06:00.00</td>\n      <td>11</td>\n    </tr>\n    <tr>\n      <th>4</th>\n      <td>2229</td>\n      <td>63</td>\n      <td>2</td>\n      <td>81700.0</td>\n      <td>341</td>\n      <td>2</td>\n      <td>Non precise</td>\n      <td>5</td>\n      <td>11.0</td>\n      <td>64.0</td>\n      <td>...</td>\n      <td>1</td>\n      <td>22/01/2019 11:17</td>\n      <td>22/01/2019 12:47</td>\n      <td>3</td>\n      <td>3</td>\n      <td>2701.0</td>\n      <td>2019-01-22 09:06:00.00</td>\n      <td>2019-01-24 11:27:00.00</td>\n      <td>2019-01-24 11:27:00.00</td>\n      <td>11</td>\n    </tr>\n  </tbody>\n</table>\n<p>5 rows × 44 columns</p>\n</div>"
     },
     "execution_count": 3,
     "metadata": {},
     "output_type": "execute_result"
    }
   ],
   "source": [
    "raw_data = pd.read_csv('output/result_with_nbre_patient.csv', sep=';', low_memory=False)\n",
    "raw_data.head()"
   ],
   "metadata": {
    "collapsed": false,
    "pycharm": {
     "name": "#%%\n"
    }
   }
  },
  {
   "cell_type": "code",
   "execution_count": 4,
   "outputs": [
    {
     "name": "stdout",
     "output_type": "stream",
     "text": [
      "<class 'pandas.core.frame.DataFrame'>\n",
      "RangeIndex: 121023 entries, 0 to 121022\n",
      "Data columns (total 44 columns):\n",
      " #   Column                       Non-Null Count   Dtype  \n",
      "---  ------                       --------------   -----  \n",
      " 0   dos_id                       121023 non-null  int64  \n",
      " 1   age                          121023 non-null  int64  \n",
      " 2   sexe                         121023 non-null  int64  \n",
      " 3   code postal                  120036 non-null  object \n",
      " 4   nbre_patient                 121023 non-null  int64  \n",
      " 5   ven_etat                     121023 non-null  int64  \n",
      " 6   ven_motifAdmission           120912 non-null  object \n",
      " 7   gravité                      121023 non-null  int64  \n",
      " 8   ven_modeEntree               120914 non-null  float64\n",
      " 9   ven_modeSortie               107542 non-null  float64\n",
      " 10  date_arrivee_patient         121023 non-null  object \n",
      " 11  TS_tri                       121023 non-null  object \n",
      " 12  debut_loc_iao                76645 non-null   object \n",
      " 13  fin_loc_iao                  76645 non-null   object \n",
      " 14  h_debut_att                  90140 non-null   object \n",
      " 15  h_fin_att                    90140 non-null   object \n",
      " 16  h_debut_box                  111694 non-null  object \n",
      " 17  h_fin_box                    111694 non-null  object \n",
      " 18  box                          111694 non-null  object \n",
      " 19  statut                       121023 non-null  object \n",
      " 20  motif                        120571 non-null  object \n",
      " 21  motif_code                   120571 non-null  object \n",
      " 22  h_debut_att_transfert        13838 non-null   object \n",
      " 23  h_fin_att_transfert          13838 non-null   object \n",
      " 24  dos_fin_PEC                  121023 non-null  object \n",
      " 25  serv_dest                    33987 non-null   float64\n",
      " 26  dos_fin_sortie               121023 non-null  object \n",
      " 27  date_deb_affect_med_interne  51563 non-null   object \n",
      " 28  date_fin_affect_med_interne  51563 non-null   object \n",
      " 29  date_deb_affect_med          42582 non-null   object \n",
      " 30  date_fin_affect_med          42582 non-null   object \n",
      " 31  c10ma                        121023 non-null  object \n",
      " 32  diag_categ_pmsi              120972 non-null  object \n",
      " 33  diag_typage_pmsi             121023 non-null  float64\n",
      " 34  nbre_dem_avis_spe            121023 non-null  int64  \n",
      " 35  date_deb_obs_avis_spe        3906 non-null    object \n",
      " 36  date_saisie_obs_spe          3906 non-null    object \n",
      " 37  ccmu_id                      121023 non-null  int64  \n",
      " 38  mode_sortie_id               121023 non-null  int64  \n",
      " 39  dest                         33987 non-null   float64\n",
      " 40  ven_admission                121023 non-null  object \n",
      " 41  ven_sortie                   120680 non-null  object \n",
      " 42  ven_date_sortie_reelle       120675 non-null  object \n",
      " 43  nbre_pat_uhcd                121023 non-null  int64  \n",
      "dtypes: float64(5), int64(10), object(29)\n",
      "memory usage: 40.6+ MB\n"
     ]
    }
   ],
   "source": [
    "raw_data.info()"
   ],
   "metadata": {
    "collapsed": false,
    "pycharm": {
     "name": "#%%\n"
    }
   }
  },
  {
   "cell_type": "code",
   "execution_count": 5,
   "outputs": [
    {
     "data": {
      "text/plain": "              dos_id            age           sexe   nbre_patient  \\\ncount  121023.000000  121023.000000  121023.000000  121023.000000   \nmean    68259.936921      44.508209       1.496112     273.213125   \nstd     38575.564325      28.656753       0.500003      36.207237   \nmin      2225.000000       0.000000       0.000000      35.000000   \n25%     35614.500000      20.000000       1.000000     250.000000   \n50%     67958.000000      43.000000       1.000000     273.000000   \n75%    101329.500000      69.000000       2.000000     297.000000   \nmax    135763.000000     108.000000       2.000000     386.000000   \n\n            ven_etat        gravité  ven_modeEntree  ven_modeSortie  \\\ncount  121023.000000  121023.000000   120914.000000   107542.000000   \nmean        1.996133       3.792791       12.123625       52.532573   \nstd         0.062065       0.876695        2.666456       22.197831   \nmin         1.000000       0.000000       10.000000       11.000000   \n25%         2.000000       3.000000       11.000000       64.000000   \n50%         2.000000       4.000000       11.000000       64.000000   \n75%         2.000000       4.000000       11.000000       64.000000   \nmax         2.000000       5.000000       75.000000       96.000000   \n\n          serv_dest  diag_typage_pmsi  nbre_dem_avis_spe        ccmu_id  \\\ncount  33987.000000     121023.000000      121023.000000  121023.000000   \nmean    3097.048842          1.074515           0.034588       2.491576   \nstd     1284.740668          0.665007           0.196716       0.850198   \nmin     1511.000000          1.000000           0.000000       1.000000   \n25%     1734.000000          1.000000           0.000000       2.000000   \n50%     2702.000000          1.000000           0.000000       3.000000   \n75%     4710.000000          1.000000           0.000000       3.000000   \nmax     4750.000000          8.000000           5.000000       7.000000   \n\n       mode_sortie_id          dest  nbre_pat_uhcd  \ncount   121023.000000  33987.000000  121023.000000  \nmean         1.593276   3097.048842       5.580509  \nstd          0.930865   1284.740668       3.076916  \nmin          1.000000   1511.000000       0.000000  \n25%          1.000000   1734.000000       3.000000  \n50%          1.000000   2702.000000       5.000000  \n75%          3.000000   4710.000000       8.000000  \nmax          4.000000   4750.000000      18.000000  ",
      "text/html": "<div>\n<style scoped>\n    .dataframe tbody tr th:only-of-type {\n        vertical-align: middle;\n    }\n\n    .dataframe tbody tr th {\n        vertical-align: top;\n    }\n\n    .dataframe thead th {\n        text-align: right;\n    }\n</style>\n<table border=\"1\" class=\"dataframe\">\n  <thead>\n    <tr style=\"text-align: right;\">\n      <th></th>\n      <th>dos_id</th>\n      <th>age</th>\n      <th>sexe</th>\n      <th>nbre_patient</th>\n      <th>ven_etat</th>\n      <th>gravité</th>\n      <th>ven_modeEntree</th>\n      <th>ven_modeSortie</th>\n      <th>serv_dest</th>\n      <th>diag_typage_pmsi</th>\n      <th>nbre_dem_avis_spe</th>\n      <th>ccmu_id</th>\n      <th>mode_sortie_id</th>\n      <th>dest</th>\n      <th>nbre_pat_uhcd</th>\n    </tr>\n  </thead>\n  <tbody>\n    <tr>\n      <th>count</th>\n      <td>121023.000000</td>\n      <td>121023.000000</td>\n      <td>121023.000000</td>\n      <td>121023.000000</td>\n      <td>121023.000000</td>\n      <td>121023.000000</td>\n      <td>120914.000000</td>\n      <td>107542.000000</td>\n      <td>33987.000000</td>\n      <td>121023.000000</td>\n      <td>121023.000000</td>\n      <td>121023.000000</td>\n      <td>121023.000000</td>\n      <td>33987.000000</td>\n      <td>121023.000000</td>\n    </tr>\n    <tr>\n      <th>mean</th>\n      <td>68259.936921</td>\n      <td>44.508209</td>\n      <td>1.496112</td>\n      <td>273.213125</td>\n      <td>1.996133</td>\n      <td>3.792791</td>\n      <td>12.123625</td>\n      <td>52.532573</td>\n      <td>3097.048842</td>\n      <td>1.074515</td>\n      <td>0.034588</td>\n      <td>2.491576</td>\n      <td>1.593276</td>\n      <td>3097.048842</td>\n      <td>5.580509</td>\n    </tr>\n    <tr>\n      <th>std</th>\n      <td>38575.564325</td>\n      <td>28.656753</td>\n      <td>0.500003</td>\n      <td>36.207237</td>\n      <td>0.062065</td>\n      <td>0.876695</td>\n      <td>2.666456</td>\n      <td>22.197831</td>\n      <td>1284.740668</td>\n      <td>0.665007</td>\n      <td>0.196716</td>\n      <td>0.850198</td>\n      <td>0.930865</td>\n      <td>1284.740668</td>\n      <td>3.076916</td>\n    </tr>\n    <tr>\n      <th>min</th>\n      <td>2225.000000</td>\n      <td>0.000000</td>\n      <td>0.000000</td>\n      <td>35.000000</td>\n      <td>1.000000</td>\n      <td>0.000000</td>\n      <td>10.000000</td>\n      <td>11.000000</td>\n      <td>1511.000000</td>\n      <td>1.000000</td>\n      <td>0.000000</td>\n      <td>1.000000</td>\n      <td>1.000000</td>\n      <td>1511.000000</td>\n      <td>0.000000</td>\n    </tr>\n    <tr>\n      <th>25%</th>\n      <td>35614.500000</td>\n      <td>20.000000</td>\n      <td>1.000000</td>\n      <td>250.000000</td>\n      <td>2.000000</td>\n      <td>3.000000</td>\n      <td>11.000000</td>\n      <td>64.000000</td>\n      <td>1734.000000</td>\n      <td>1.000000</td>\n      <td>0.000000</td>\n      <td>2.000000</td>\n      <td>1.000000</td>\n      <td>1734.000000</td>\n      <td>3.000000</td>\n    </tr>\n    <tr>\n      <th>50%</th>\n      <td>67958.000000</td>\n      <td>43.000000</td>\n      <td>1.000000</td>\n      <td>273.000000</td>\n      <td>2.000000</td>\n      <td>4.000000</td>\n      <td>11.000000</td>\n      <td>64.000000</td>\n      <td>2702.000000</td>\n      <td>1.000000</td>\n      <td>0.000000</td>\n      <td>3.000000</td>\n      <td>1.000000</td>\n      <td>2702.000000</td>\n      <td>5.000000</td>\n    </tr>\n    <tr>\n      <th>75%</th>\n      <td>101329.500000</td>\n      <td>69.000000</td>\n      <td>2.000000</td>\n      <td>297.000000</td>\n      <td>2.000000</td>\n      <td>4.000000</td>\n      <td>11.000000</td>\n      <td>64.000000</td>\n      <td>4710.000000</td>\n      <td>1.000000</td>\n      <td>0.000000</td>\n      <td>3.000000</td>\n      <td>3.000000</td>\n      <td>4710.000000</td>\n      <td>8.000000</td>\n    </tr>\n    <tr>\n      <th>max</th>\n      <td>135763.000000</td>\n      <td>108.000000</td>\n      <td>2.000000</td>\n      <td>386.000000</td>\n      <td>2.000000</td>\n      <td>5.000000</td>\n      <td>75.000000</td>\n      <td>96.000000</td>\n      <td>4750.000000</td>\n      <td>8.000000</td>\n      <td>5.000000</td>\n      <td>7.000000</td>\n      <td>4.000000</td>\n      <td>4750.000000</td>\n      <td>18.000000</td>\n    </tr>\n  </tbody>\n</table>\n</div>"
     },
     "execution_count": 5,
     "metadata": {},
     "output_type": "execute_result"
    }
   ],
   "source": [
    "raw_data.describe()"
   ],
   "metadata": {
    "collapsed": false,
    "pycharm": {
     "name": "#%%\n"
    }
   }
  },
  {
   "cell_type": "code",
   "execution_count": 6,
   "outputs": [
    {
     "data": {
      "text/plain": "Index(['dos_id', 'age', 'sexe', 'nbre_patient', 'ven_etat', 'gravité',\n       'ven_modeEntree', 'ven_modeSortie', 'serv_dest', 'diag_typage_pmsi',\n       'nbre_dem_avis_spe', 'ccmu_id', 'mode_sortie_id', 'dest',\n       'nbre_pat_uhcd'],\n      dtype='object')"
     },
     "execution_count": 6,
     "metadata": {},
     "output_type": "execute_result"
    }
   ],
   "source": [
    "raw_data.describe().columns"
   ],
   "metadata": {
    "collapsed": false,
    "pycharm": {
     "name": "#%%\n"
    }
   }
  },
  {
   "cell_type": "code",
   "execution_count": 7,
   "outputs": [
    {
     "data": {
      "text/plain": "<Figure size 1872x1800 with 11 Axes>",
      "image/png": "[encoded data removed]"
     },
     "metadata": {},
     "output_type": "display_data"
    }
   ],
   "source": [
    "import warnings\n",
    "warnings.filterwarnings('ignore')\n",
    "plt.figure(figsize=(26,25))\n",
    "\n",
    "plt.subplot(6,2,1)\n",
    "sns.distplot(raw_data['age'])\n",
    "plt.subplot(6,2,2)\n",
    "sns.distplot(raw_data['nbre_patient'])\n",
    "\n",
    "plt.subplot(6,2,3)\n",
    "sns.distplot(raw_data['ven_etat'])\n",
    "plt.subplot(6,2,4)\n",
    "sns.distplot(raw_data['gravité'])\n",
    "\n",
    "plt.subplot(6,2,5)\n",
    "sns.distplot(raw_data['ven_modeEntree'])\n",
    "plt.subplot(6,2,6)\n",
    "sns.distplot(raw_data['ven_modeSortie'])\n",
    "\n",
    "plt.subplot(6,2,7)\n",
    "sns.distplot(raw_data['serv_dest'])\n",
    "plt.subplot(6,2,8)\n",
    "sns.distplot(raw_data['diag_typage_pmsi'])\n",
    "\n",
    "plt.subplot(6,2,9)\n",
    "sns.distplot(raw_data['ccmu_id'])\n",
    "plt.subplot(6,2,10)\n",
    "sns.distplot(raw_data['dest'])\n",
    "\n",
    "plt.subplot(6,2,11)\n",
    "sns.distplot(raw_data['nbre_pat_uhcd'])\n",
    "plt.show()"
   ],
   "metadata": {
    "collapsed": false,
    "pycharm": {
     "name": "#%%\n"
    }
   }
  },
  {
   "cell_type": "code",
   "execution_count": 8,
   "outputs": [],
   "source": [
    "data = raw_data.copy(deep=True)"
   ],
   "metadata": {
    "collapsed": false,
    "pycharm": {
     "name": "#%%\n"
    }
   }
  },
  {
   "cell_type": "code",
   "execution_count": 9,
   "outputs": [
    {
     "data": {
      "text/plain": "T13.9    9017\nR10.4    8778\nT11.9    7823\nT00.9    6604\nR06.0    6339\n         ... \nT18.5       5\nT35.7       2\nP59.9       2\nS36.6       2\nO46.9       1\nName: motif_code, Length: 140, dtype: int64"
     },
     "execution_count": 9,
     "metadata": {},
     "output_type": "execute_result"
    }
   ],
   "source": [
    "data[\"motif_code\"].value_counts()"
   ],
   "metadata": {
    "collapsed": false,
    "pycharm": {
     "name": "#%%\n"
    }
   }
  },
  {
   "cell_type": "code",
   "execution_count": 10,
   "outputs": [
    {
     "data": {
      "text/plain": "(121023, 44)"
     },
     "execution_count": 10,
     "metadata": {},
     "output_type": "execute_result"
    }
   ],
   "source": [
    "#TS_tri indicator cleaning\n",
    "data.shape"
   ],
   "metadata": {
    "collapsed": false,
    "pycharm": {
     "name": "#%%\n"
    }
   }
  },
  {
   "cell_type": "code",
   "execution_count": 11,
   "outputs": [
    {
     "data": {
      "text/plain": "(120679, 44)"
     },
     "execution_count": 11,
     "metadata": {},
     "output_type": "execute_result"
    }
   ],
   "source": [
    "data.drop_duplicates().shape"
   ],
   "metadata": {
    "collapsed": false,
    "pycharm": {
     "name": "#%%\n"
    }
   }
  },
  {
   "cell_type": "code",
   "execution_count": 12,
   "outputs": [],
   "source": [
    "#Duplicates removal\n",
    "data.drop_duplicates(inplace=True)"
   ],
   "metadata": {
    "collapsed": false,
    "pycharm": {
     "name": "#%%\n"
    }
   }
  },
  {
   "cell_type": "code",
   "execution_count": 13,
   "outputs": [
    {
     "data": {
      "text/plain": "(120679, 44)"
     },
     "execution_count": 13,
     "metadata": {},
     "output_type": "execute_result"
    }
   ],
   "source": [
    "data.shape"
   ],
   "metadata": {
    "collapsed": false,
    "pycharm": {
     "name": "#%%\n"
    }
   }
  },
  {
   "cell_type": "code",
   "execution_count": 14,
   "outputs": [],
   "source": [
    "data.to_csv(\"clean/dup_removal.csv\", sep=\";\", index=True)"
   ],
   "metadata": {
    "collapsed": false,
    "pycharm": {
     "name": "#%%\n"
    }
   }
  },
  {
   "cell_type": "code",
   "execution_count": 15,
   "outputs": [],
   "source": [
    "#Age filter\n",
    "data_age_filter = data[data.age >= 12]"
   ],
   "metadata": {
    "collapsed": false,
    "pycharm": {
     "name": "#%%\n"
    }
   }
  },
  {
   "cell_type": "code",
   "execution_count": 16,
   "outputs": [
    {
     "data": {
      "text/plain": "(101800, 44)"
     },
     "execution_count": 16,
     "metadata": {},
     "output_type": "execute_result"
    }
   ],
   "source": [
    "data_age_filter.shape"
   ],
   "metadata": {
    "collapsed": false,
    "pycharm": {
     "name": "#%%\n"
    }
   }
  },
  {
   "cell_type": "code",
   "execution_count": 17,
   "outputs": [
    {
     "data": {
      "text/plain": "        dos_id  age  sexe code postal  nbre_patient  ven_etat  \\\n121018  135695   59     1     81100.0            56         2   \n121019  135696   90     2     81240.0            56         1   \n121020  135697   37     2     81120.0            56         2   \n121021  135762   15     1     81100.0            35         2   \n121022  135763   15     1     81100.0            35         2   \n\n       ven_motifAdmission  gravité  ven_modeEntree  ven_modeSortie  ...  \\\n121018        Non precise        3            16.0            62.0  ...   \n121019        Non precise        3            16.0             NaN  ...   \n121020        Non precise        5            11.0            64.0  ...   \n121021        Non precise        5            11.0            64.0  ...   \n121022        Non precise        5            11.0            64.0  ...   \n\n       nbre_dem_avis_spe date_deb_obs_avis_spe date_saisie_obs_spe ccmu_id  \\\n121018                 0                   NaN                 NaN       4   \n121019                 0                   NaN                 NaN       3   \n121020                 0                   NaN                 NaN       2   \n121021                 0                   NaN                 NaN       1   \n121022                 0                   NaN                 NaN       1   \n\n       mode_sortie_id    dest           ven_admission              ven_sortie  \\\n121018              3  1734.0  2022-04-25 23:04:00.00  2022-04-26 11:50:00.00   \n121019              3  2701.0  2022-04-25 23:18:00.00                     NaN   \n121020              1     NaN  2022-04-25 23:45:00.00  2022-04-26 02:11:00.00   \n121021              1     NaN  2022-04-26 16:21:00.00  2022-04-26 17:10:00.00   \n121022              1     NaN  2022-04-26 16:22:00.00  2022-04-26 16:58:00.00   \n\n        ven_date_sortie_reelle nbre_pat_uhcd  \n121018  2022-04-26 11:50:00.00             1  \n121019                     NaN             1  \n121020  2022-04-26 02:11:00.00             1  \n121021  2022-04-26 17:10:00.00             1  \n121022  2022-04-26 16:58:00.00             1  \n\n[5 rows x 44 columns]",
      "text/html": "<div>\n<style scoped>\n    .dataframe tbody tr th:only-of-type {\n        vertical-align: middle;\n    }\n\n    .dataframe tbody tr th {\n        vertical-align: top;\n    }\n\n    .dataframe thead th {\n        text-align: right;\n    }\n</style>\n<table border=\"1\" class=\"dataframe\">\n  <thead>\n    <tr style=\"text-align: right;\">\n      <th></th>\n      <th>dos_id</th>\n      <th>age</th>\n      <th>sexe</th>\n      <th>code postal</th>\n      <th>nbre_patient</th>\n      <th>ven_etat</th>\n      <th>ven_motifAdmission</th>\n      <th>gravité</th>\n      <th>ven_modeEntree</th>\n      <th>ven_modeSortie</th>\n      <th>...</th>\n      <th>nbre_dem_avis_spe</th>\n      <th>date_deb_obs_avis_spe</th>\n      <th>date_saisie_obs_spe</th>\n      <th>ccmu_id</th>\n      <th>mode_sortie_id</th>\n      <th>dest</th>\n      <th>ven_admission</th>\n      <th>ven_sortie</th>\n      <th>ven_date_sortie_reelle</th>\n      <th>nbre_pat_uhcd</th>\n    </tr>\n  </thead>\n  <tbody>\n    <tr>\n      <th>121018</th>\n      <td>135695</td>\n      <td>59</td>\n      <td>1</td>\n      <td>81100.0</td>\n      <td>56</td>\n      <td>2</td>\n      <td>Non precise</td>\n      <td>3</td>\n      <td>16.0</td>\n      <td>62.0</td>\n      <td>...</td>\n      <td>0</td>\n      <td>NaN</td>\n      <td>NaN</td>\n      <td>4</td>\n      <td>3</td>\n      <td>1734.0</td>\n      <td>2022-04-25 23:04:00.00</td>\n      <td>2022-04-26 11:50:00.00</td>\n      <td>2022-04-26 11:50:00.00</td>\n      <td>1</td>\n    </tr>\n    <tr>\n      <th>121019</th>\n      <td>135696</td>\n      <td>90</td>\n      <td>2</td>\n      <td>81240.0</td>\n      <td>56</td>\n      <td>1</td>\n      <td>Non precise</td>\n      <td>3</td>\n      <td>16.0</td>\n      <td>NaN</td>\n      <td>...</td>\n      <td>0</td>\n      <td>NaN</td>\n      <td>NaN</td>\n      <td>3</td>\n      <td>3</td>\n      <td>2701.0</td>\n      <td>2022-04-25 23:18:00.00</td>\n      <td>NaN</td>\n      <td>NaN</td>\n      <td>1</td>\n    </tr>\n    <tr>\n      <th>121020</th>\n      <td>135697</td>\n      <td>37</td>\n      <td>2</td>\n      <td>81120.0</td>\n      <td>56</td>\n      <td>2</td>\n      <td>Non precise</td>\n      <td>5</td>\n      <td>11.0</td>\n      <td>64.0</td>\n      <td>...</td>\n      <td>0</td>\n      <td>NaN</td>\n      <td>NaN</td>\n      <td>2</td>\n      <td>1</td>\n      <td>NaN</td>\n      <td>2022-04-25 23:45:00.00</td>\n      <td>2022-04-26 02:11:00.00</td>\n      <td>2022-04-26 02:11:00.00</td>\n      <td>1</td>\n    </tr>\n    <tr>\n      <th>121021</th>\n      <td>135762</td>\n      <td>15</td>\n      <td>1</td>\n      <td>81100.0</td>\n      <td>35</td>\n      <td>2</td>\n      <td>Non precise</td>\n      <td>5</td>\n      <td>11.0</td>\n      <td>64.0</td>\n      <td>...</td>\n      <td>0</td>\n      <td>NaN</td>\n      <td>NaN</td>\n      <td>1</td>\n      <td>1</td>\n      <td>NaN</td>\n      <td>2022-04-26 16:21:00.00</td>\n      <td>2022-04-26 17:10:00.00</td>\n      <td>2022-04-26 17:10:00.00</td>\n      <td>1</td>\n    </tr>\n    <tr>\n      <th>121022</th>\n      <td>135763</td>\n      <td>15</td>\n      <td>1</td>\n      <td>81100.0</td>\n      <td>35</td>\n      <td>2</td>\n      <td>Non precise</td>\n      <td>5</td>\n      <td>11.0</td>\n      <td>64.0</td>\n      <td>...</td>\n      <td>0</td>\n      <td>NaN</td>\n      <td>NaN</td>\n      <td>1</td>\n      <td>1</td>\n      <td>NaN</td>\n      <td>2022-04-26 16:22:00.00</td>\n      <td>2022-04-26 16:58:00.00</td>\n      <td>2022-04-26 16:58:00.00</td>\n      <td>1</td>\n    </tr>\n  </tbody>\n</table>\n<p>5 rows × 44 columns</p>\n</div>"
     },
     "execution_count": 17,
     "metadata": {},
     "output_type": "execute_result"
    }
   ],
   "source": [
    "data_age_filter.tail()"
   ],
   "metadata": {
    "collapsed": false,
    "pycharm": {
     "name": "#%%\n"
    }
   }
  },
  {
   "cell_type": "code",
   "execution_count": 18,
   "outputs": [],
   "source": [
    "#Clean columns values (replace ' ' with nan)\n",
    "import numpy as np\n",
    "\n",
    "#data_age_filter.mask(data_age_filter == ' ', np.nan, inplace=True)\n",
    "data_age_filter['ven_admission'].mask(data_age_filter['ven_admission'] == ' ', np.nan, inplace=True)\n",
    "data_age_filter['date_arrivee_patient'].mask(data_age_filter['date_arrivee_patient'] == ' ', np.nan, inplace=True)\n",
    "data_age_filter['TS_tri'].mask(data_age_filter['TS_tri'] == ' ', np.nan, inplace=True)\n",
    "\n",
    "data_age_filter['debut_loc_iao'].mask(data_age_filter['debut_loc_iao'] == ' ', np.nan, inplace=True)\n",
    "data_age_filter['fin_loc_iao'].mask(data_age_filter['fin_loc_iao'] == ' ', np.nan, inplace=True)\n",
    "data_age_filter['h_debut_att'].mask(data_age_filter['h_debut_att'] == ' ', np.nan, inplace=True)\n",
    "\n",
    "data_age_filter['h_fin_att'].mask(data_age_filter['h_fin_att'] == ' ', np.nan, inplace=True)\n",
    "data_age_filter['h_debut_box'].mask(data_age_filter['h_debut_box'] == ' ', np.nan, inplace=True)\n",
    "data_age_filter['h_debut_att_transfert'].mask(data_age_filter['h_debut_att_transfert'] == ' ', np.nan, inplace=True)\n",
    "\n",
    "data_age_filter['dos_fin_PEC'].mask(data_age_filter['dos_fin_PEC'] == ' ', np.nan, inplace=True)\n",
    "\n",
    "#FORMATTING DATES\n",
    "data_age_filter[\"date_arrivee_patient\"] = pd.to_datetime(data_age_filter[\"date_arrivee_patient\"], format=\"%d/%m/%Y %H:%M\").dt.strftime(\n",
    "    \"%Y-%m-%d %H:%M\")\n",
    "data_age_filter[\"debut_loc_iao\"] = pd.to_datetime(data_age_filter[\"debut_loc_iao\"],\n",
    "                                                  format=\"%d/%m/%Y %H:%M\").dt.strftime(\n",
    "    \"%Y-%m-%d %H:%M\")\n",
    "data_age_filter[\"fin_loc_iao\"] = pd.to_datetime(data_age_filter[\"fin_loc_iao\"], format=\"%d/%m/%Y %H:%M\").dt.strftime(\n",
    "    \"%Y-%m-%d %H:%M\")\n",
    "data_age_filter[\"h_debut_att\"] = pd.to_datetime(data_age_filter[\"h_debut_att\"], format=\"%d/%m/%Y %H:%M\").dt.strftime(\n",
    "    \"%Y-%m-%d %H:%M\")\n",
    "data_age_filter[\"h_fin_att\"] = pd.to_datetime(data_age_filter[\"h_fin_att\"], format=\"%d/%m/%Y %H:%M\").dt.strftime(\n",
    "    \"%Y-%m-%d %H:%M\")\n",
    "data_age_filter[\"h_debut_box\"] = pd.to_datetime(data_age_filter[\"h_debut_box\"], format=\"%d/%m/%Y %H:%M\").dt.strftime(\n",
    "    \"%Y-%m-%d %H:%M\")\n",
    "data_age_filter[\"h_debut_att_transfert\"] = pd.to_datetime(data_age_filter[\"h_debut_att_transfert\"],\n",
    "                                                          format=\"%d/%m/%Y %H:%M\").dt.strftime(\n",
    "    \"%Y-%m-%d %H:%M\")\n",
    "data_age_filter[\"dos_fin_PEC\"] = pd.to_datetime(data_age_filter[\"dos_fin_PEC\"], format=\"%d/%m/%Y %H:%M\").dt.strftime(\n",
    "    \"%Y-%m-%d %H:%M\")"
   ],
   "metadata": {
    "collapsed": false,
    "pycharm": {
     "name": "#%%\n"
    }
   }
  },
  {
   "cell_type": "code",
   "execution_count": 19,
   "outputs": [
    {
     "data": {
      "text/plain": "        dos_id  age  sexe code postal  nbre_patient  ven_etat  \\\n101795  135695   59     1     81100.0            56         2   \n101796  135696   90     2     81240.0            56         1   \n101797  135697   37     2     81120.0            56         2   \n101798  135762   15     1     81100.0            35         2   \n101799  135763   15     1     81100.0            35         2   \n\n       ven_motifAdmission  gravité  ven_modeEntree  ven_modeSortie  ...  \\\n101795        Non precise        3            16.0            62.0  ...   \n101796        Non precise        3            16.0             NaN  ...   \n101797        Non precise        5            11.0            64.0  ...   \n101798        Non precise        5            11.0            64.0  ...   \n101799        Non precise        5            11.0            64.0  ...   \n\n       nbre_dem_avis_spe date_deb_obs_avis_spe date_saisie_obs_spe ccmu_id  \\\n101795                 0                   NaN                 NaN       4   \n101796                 0                   NaN                 NaN       3   \n101797                 0                   NaN                 NaN       2   \n101798                 0                   NaN                 NaN       1   \n101799                 0                   NaN                 NaN       1   \n\n       mode_sortie_id    dest           ven_admission              ven_sortie  \\\n101795              3  1734.0  2022-04-25 23:04:00.00  2022-04-26 11:50:00.00   \n101796              3  2701.0  2022-04-25 23:18:00.00                     NaN   \n101797              1     NaN  2022-04-25 23:45:00.00  2022-04-26 02:11:00.00   \n101798              1     NaN  2022-04-26 16:21:00.00  2022-04-26 17:10:00.00   \n101799              1     NaN  2022-04-26 16:22:00.00  2022-04-26 16:58:00.00   \n\n        ven_date_sortie_reelle nbre_pat_uhcd  \n101795  2022-04-26 11:50:00.00             1  \n101796                     NaN             1  \n101797  2022-04-26 02:11:00.00             1  \n101798  2022-04-26 17:10:00.00             1  \n101799  2022-04-26 16:58:00.00             1  \n\n[5 rows x 44 columns]",
      "text/html": "<div>\n<style scoped>\n    .dataframe tbody tr th:only-of-type {\n        vertical-align: middle;\n    }\n\n    .dataframe tbody tr th {\n        vertical-align: top;\n    }\n\n    .dataframe thead th {\n        text-align: right;\n    }\n</style>\n<table border=\"1\" class=\"dataframe\">\n  <thead>\n    <tr style=\"text-align: right;\">\n      <th></th>\n      <th>dos_id</th>\n      <th>age</th>\n      <th>sexe</th>\n      <th>code postal</th>\n      <th>nbre_patient</th>\n      <th>ven_etat</th>\n      <th>ven_motifAdmission</th>\n      <th>gravité</th>\n      <th>ven_modeEntree</th>\n      <th>ven_modeSortie</th>\n      <th>...</th>\n      <th>nbre_dem_avis_spe</th>\n      <th>date_deb_obs_avis_spe</th>\n      <th>date_saisie_obs_spe</th>\n      <th>ccmu_id</th>\n      <th>mode_sortie_id</th>\n      <th>dest</th>\n      <th>ven_admission</th>\n      <th>ven_sortie</th>\n      <th>ven_date_sortie_reelle</th>\n      <th>nbre_pat_uhcd</th>\n    </tr>\n  </thead>\n  <tbody>\n    <tr>\n      <th>101795</th>\n      <td>135695</td>\n      <td>59</td>\n      <td>1</td>\n      <td>81100.0</td>\n      <td>56</td>\n      <td>2</td>\n      <td>Non precise</td>\n      <td>3</td>\n      <td>16.0</td>\n      <td>62.0</td>\n      <td>...</td>\n      <td>0</td>\n      <td>NaN</td>\n      <td>NaN</td>\n      <td>4</td>\n      <td>3</td>\n      <td>1734.0</td>\n      <td>2022-04-25 23:04:00.00</td>\n      <td>2022-04-26 11:50:00.00</td>\n      <td>2022-04-26 11:50:00.00</td>\n      <td>1</td>\n    </tr>\n    <tr>\n      <th>101796</th>\n      <td>135696</td>\n      <td>90</td>\n      <td>2</td>\n      <td>81240.0</td>\n      <td>56</td>\n      <td>1</td>\n      <td>Non precise</td>\n      <td>3</td>\n      <td>16.0</td>\n      <td>NaN</td>\n      <td>...</td>\n      <td>0</td>\n      <td>NaN</td>\n      <td>NaN</td>\n      <td>3</td>\n      <td>3</td>\n      <td>2701.0</td>\n      <td>2022-04-25 23:18:00.00</td>\n      <td>NaN</td>\n      <td>NaN</td>\n      <td>1</td>\n    </tr>\n    <tr>\n      <th>101797</th>\n      <td>135697</td>\n      <td>37</td>\n      <td>2</td>\n      <td>81120.0</td>\n      <td>56</td>\n      <td>2</td>\n      <td>Non precise</td>\n      <td>5</td>\n      <td>11.0</td>\n      <td>64.0</td>\n      <td>...</td>\n      <td>0</td>\n      <td>NaN</td>\n      <td>NaN</td>\n      <td>2</td>\n      <td>1</td>\n      <td>NaN</td>\n      <td>2022-04-25 23:45:00.00</td>\n      <td>2022-04-26 02:11:00.00</td>\n      <td>2022-04-26 02:11:00.00</td>\n      <td>1</td>\n    </tr>\n    <tr>\n      <th>101798</th>\n      <td>135762</td>\n      <td>15</td>\n      <td>1</td>\n      <td>81100.0</td>\n      <td>35</td>\n      <td>2</td>\n      <td>Non precise</td>\n      <td>5</td>\n      <td>11.0</td>\n      <td>64.0</td>\n      <td>...</td>\n      <td>0</td>\n      <td>NaN</td>\n      <td>NaN</td>\n      <td>1</td>\n      <td>1</td>\n      <td>NaN</td>\n      <td>2022-04-26 16:21:00.00</td>\n      <td>2022-04-26 17:10:00.00</td>\n      <td>2022-04-26 17:10:00.00</td>\n      <td>1</td>\n    </tr>\n    <tr>\n      <th>101799</th>\n      <td>135763</td>\n      <td>15</td>\n      <td>1</td>\n      <td>81100.0</td>\n      <td>35</td>\n      <td>2</td>\n      <td>Non precise</td>\n      <td>5</td>\n      <td>11.0</td>\n      <td>64.0</td>\n      <td>...</td>\n      <td>0</td>\n      <td>NaN</td>\n      <td>NaN</td>\n      <td>1</td>\n      <td>1</td>\n      <td>NaN</td>\n      <td>2022-04-26 16:22:00.00</td>\n      <td>2022-04-26 16:58:00.00</td>\n      <td>2022-04-26 16:58:00.00</td>\n      <td>1</td>\n    </tr>\n  </tbody>\n</table>\n<p>5 rows × 44 columns</p>\n</div>"
     },
     "execution_count": 19,
     "metadata": {},
     "output_type": "execute_result"
    }
   ],
   "source": [
    "#Reindexing rows after duplicates removal\n",
    "data_age_filter.to_csv(\"clean/dup_removal_age_filter.csv\", sep=\";\", index=False)\n",
    "data_age_filter = pd.read_csv(\"clean/dup_removal_age_filter.csv\", sep=\";\", low_memory=False)\n",
    "data_age_filter.tail()"
   ],
   "metadata": {
    "collapsed": false,
    "pycharm": {
     "name": "#%%\n"
    }
   }
  },
  {
   "cell_type": "code",
   "execution_count": 20,
   "outputs": [],
   "source": [
    "#Classify rows by validity of IAO sort timestamp\n",
    "import time\n",
    "from datetime import datetime, timedelta\n",
    "\n",
    "\n",
    "def verify_iao_sort_ts_validity(dataframe=None):\n",
    "    ven_admission = datetime.strptime(dataframe[\"date_arrivee_patient\"], \"%Y-%m-%d %H:%M\")\n",
    "    ts_tri = datetime.strptime(dataframe[\"TS_tri\"][:-4], \"%Y-%m-%d %H:%M:%S\")\n",
    "\n",
    "    #Compare time between admission time and IAO sort Timestamp\n",
    "    iao_sort_ts = ts_tri\n",
    "    if pd.isnull(iao_sort_ts):\n",
    "        deb_loc_iao = dataframe['debut_loc_iao']\n",
    "        if not pd.isnull(deb_loc_iao):\n",
    "            deb_loc_iao = datetime.strptime(deb_loc_iao, \"%Y-%m-%d %H:%M\")\n",
    "            iao_sort_ts = deb_loc_iao\n",
    "    if pd.isnull(iao_sort_ts):\n",
    "        print(\"Extern wait time not calculable !!\")\n",
    "        return 0\n",
    "\n",
    "    if not pd.isnull(iao_sort_ts) and abs(iao_sort_ts - ven_admission) > timedelta(days=1):\n",
    "        return 0\n",
    "    return 1\n",
    "\n",
    "\n",
    "def add_column_iao_sort_ts_validity(dataframe=None):\n",
    "    df = dataframe.copy(deep=True)\n",
    "    start = time.time()\n",
    "    for row_i in range(len(dataframe)):\n",
    "        df.at[row_i, 'valid_ts_tri'] = verify_iao_sort_ts_validity(dataframe=dataframe.iloc[row_i])\n",
    "        if row_i % 10000 == 0:\n",
    "            print(\"\\n*******************************************************************\")\n",
    "            print(\"row_i: \", row_i)\n",
    "            print(\"Partial time of execution: \", time.time() - start, \" s\")\n",
    "            print(\"******************************************************************\\n\")\n",
    "    end = time.time()\n",
    "    print(\"The time of execution of above program is :\", end - start, \" s\")\n",
    "    return df"
   ],
   "metadata": {
    "collapsed": false,
    "pycharm": {
     "name": "#%%\n"
    }
   }
  },
  {
   "cell_type": "code",
   "execution_count": 21,
   "outputs": [
    {
     "name": "stdout",
     "output_type": "stream",
     "text": [
      "\n",
      "*******************************************************************\n",
      "row_i:  0\n",
      "Partial time of execution:  0.004000186920166016  s\n",
      "******************************************************************\n",
      "\n",
      "\n",
      "*******************************************************************\n",
      "row_i:  10000\n",
      "Partial time of execution:  2.1987507343292236  s\n",
      "******************************************************************\n",
      "\n",
      "\n",
      "*******************************************************************\n",
      "row_i:  20000\n",
      "Partial time of execution:  4.726464748382568  s\n",
      "******************************************************************\n",
      "\n",
      "\n",
      "*******************************************************************\n",
      "row_i:  30000\n",
      "Partial time of execution:  8.58305311203003  s\n",
      "******************************************************************\n",
      "\n",
      "\n",
      "*******************************************************************\n",
      "row_i:  40000\n",
      "Partial time of execution:  11.078621625900269  s\n",
      "******************************************************************\n",
      "\n",
      "\n",
      "*******************************************************************\n",
      "row_i:  50000\n",
      "Partial time of execution:  13.327195405960083  s\n",
      "******************************************************************\n",
      "\n",
      "\n",
      "*******************************************************************\n",
      "row_i:  60000\n",
      "Partial time of execution:  15.494195222854614  s\n",
      "******************************************************************\n",
      "\n",
      "\n",
      "*******************************************************************\n",
      "row_i:  70000\n",
      "Partial time of execution:  17.574978590011597  s\n",
      "******************************************************************\n",
      "\n",
      "\n",
      "*******************************************************************\n",
      "row_i:  80000\n",
      "Partial time of execution:  19.437686443328857  s\n",
      "******************************************************************\n",
      "\n",
      "\n",
      "*******************************************************************\n",
      "row_i:  90000\n",
      "Partial time of execution:  21.446577787399292  s\n",
      "******************************************************************\n",
      "\n",
      "\n",
      "*******************************************************************\n",
      "row_i:  100000\n",
      "Partial time of execution:  23.249550342559814  s\n",
      "******************************************************************\n",
      "\n",
      "The time of execution of above program is : 23.62254786491394  s\n"
     ]
    }
   ],
   "source": [
    "data_age_filter_ts_validity = add_column_iao_sort_ts_validity(dataframe=data_age_filter).copy(deep=True)"
   ],
   "metadata": {
    "collapsed": false,
    "pycharm": {
     "name": "#%%\n"
    }
   }
  },
  {
   "cell_type": "code",
   "execution_count": 22,
   "outputs": [
    {
     "data": {
      "text/plain": "   dos_id  age  sexe code postal  nbre_patient  ven_etat ven_motifAdmission  \\\n0    2225   33     1     81100.0           334         2        Non precise   \n1    2226   46     2     81290.0           335         2        Non precise   \n2    2228   16     1     81100.0           340         2        Non precise   \n3    2229   63     2     81700.0           341         2        Non precise   \n4    2230   38     1     81100.0           341         2        Non precise   \n\n   gravité  ven_modeEntree  ven_modeSortie  ... date_deb_obs_avis_spe  \\\n0        4            11.0            64.0  ...                   NaN   \n1        4            11.0            64.0  ...      22/01/2019 10:11   \n2        5            11.0            64.0  ...                   NaN   \n3        5            11.0            64.0  ...      22/01/2019 11:17   \n4        5            11.0            64.0  ...                   NaN   \n\n  date_saisie_obs_spe ccmu_id mode_sortie_id    dest           ven_admission  \\\n0                 NaN       2              1     NaN  2019-01-22 08:42:00.00   \n1    22/01/2019 10:53       3              3  2701.0  2019-01-22 08:46:00.00   \n2                 NaN       1              1     NaN  2019-01-22 09:00:00.00   \n3    22/01/2019 12:47       3              3  2701.0  2019-01-22 09:06:00.00   \n4                 NaN       2              1     NaN  2019-01-22 09:15:00.00   \n\n               ven_sortie  ven_date_sortie_reelle nbre_pat_uhcd valid_ts_tri  \n0  2019-01-22 12:39:00.00  2019-01-22 12:39:00.00            11          1.0  \n1  2019-01-23 13:00:00.00  2019-01-23 13:00:00.00            11          1.0  \n2  2019-01-22 10:06:00.00  2019-01-22 10:06:00.00            11          1.0  \n3  2019-01-24 11:27:00.00  2019-01-24 11:27:00.00            11          1.0  \n4  2019-01-22 11:29:00.00  2019-01-22 11:29:00.00            11          1.0  \n\n[5 rows x 45 columns]",
      "text/html": "<div>\n<style scoped>\n    .dataframe tbody tr th:only-of-type {\n        vertical-align: middle;\n    }\n\n    .dataframe tbody tr th {\n        vertical-align: top;\n    }\n\n    .dataframe thead th {\n        text-align: right;\n    }\n</style>\n<table border=\"1\" class=\"dataframe\">\n  <thead>\n    <tr style=\"text-align: right;\">\n      <th></th>\n      <th>dos_id</th>\n      <th>age</th>\n      <th>sexe</th>\n      <th>code postal</th>\n      <th>nbre_patient</th>\n      <th>ven_etat</th>\n      <th>ven_motifAdmission</th>\n      <th>gravité</th>\n      <th>ven_modeEntree</th>\n      <th>ven_modeSortie</th>\n      <th>...</th>\n      <th>date_deb_obs_avis_spe</th>\n      <th>date_saisie_obs_spe</th>\n      <th>ccmu_id</th>\n      <th>mode_sortie_id</th>\n      <th>dest</th>\n      <th>ven_admission</th>\n      <th>ven_sortie</th>\n      <th>ven_date_sortie_reelle</th>\n      <th>nbre_pat_uhcd</th>\n      <th>valid_ts_tri</th>\n    </tr>\n  </thead>\n  <tbody>\n    <tr>\n      <th>0</th>\n      <td>2225</td>\n      <td>33</td>\n      <td>1</td>\n      <td>81100.0</td>\n      <td>334</td>\n      <td>2</td>\n      <td>Non precise</td>\n      <td>4</td>\n      <td>11.0</td>\n      <td>64.0</td>\n      <td>...</td>\n      <td>NaN</td>\n      <td>NaN</td>\n      <td>2</td>\n      <td>1</td>\n      <td>NaN</td>\n      <td>2019-01-22 08:42:00.00</td>\n      <td>2019-01-22 12:39:00.00</td>\n      <td>2019-01-22 12:39:00.00</td>\n      <td>11</td>\n      <td>1.0</td>\n    </tr>\n    <tr>\n      <th>1</th>\n      <td>2226</td>\n      <td>46</td>\n      <td>2</td>\n      <td>81290.0</td>\n      <td>335</td>\n      <td>2</td>\n      <td>Non precise</td>\n      <td>4</td>\n      <td>11.0</td>\n      <td>64.0</td>\n      <td>...</td>\n      <td>22/01/2019 10:11</td>\n      <td>22/01/2019 10:53</td>\n      <td>3</td>\n      <td>3</td>\n      <td>2701.0</td>\n      <td>2019-01-22 08:46:00.00</td>\n      <td>2019-01-23 13:00:00.00</td>\n      <td>2019-01-23 13:00:00.00</td>\n      <td>11</td>\n      <td>1.0</td>\n    </tr>\n    <tr>\n      <th>2</th>\n      <td>2228</td>\n      <td>16</td>\n      <td>1</td>\n      <td>81100.0</td>\n      <td>340</td>\n      <td>2</td>\n      <td>Non precise</td>\n      <td>5</td>\n      <td>11.0</td>\n      <td>64.0</td>\n      <td>...</td>\n      <td>NaN</td>\n      <td>NaN</td>\n      <td>1</td>\n      <td>1</td>\n      <td>NaN</td>\n      <td>2019-01-22 09:00:00.00</td>\n      <td>2019-01-22 10:06:00.00</td>\n      <td>2019-01-22 10:06:00.00</td>\n      <td>11</td>\n      <td>1.0</td>\n    </tr>\n    <tr>\n      <th>3</th>\n      <td>2229</td>\n      <td>63</td>\n      <td>2</td>\n      <td>81700.0</td>\n      <td>341</td>\n      <td>2</td>\n      <td>Non precise</td>\n      <td>5</td>\n      <td>11.0</td>\n      <td>64.0</td>\n      <td>...</td>\n      <td>22/01/2019 11:17</td>\n      <td>22/01/2019 12:47</td>\n      <td>3</td>\n      <td>3</td>\n      <td>2701.0</td>\n      <td>2019-01-22 09:06:00.00</td>\n      <td>2019-01-24 11:27:00.00</td>\n      <td>2019-01-24 11:27:00.00</td>\n      <td>11</td>\n      <td>1.0</td>\n    </tr>\n    <tr>\n      <th>4</th>\n      <td>2230</td>\n      <td>38</td>\n      <td>1</td>\n      <td>81100.0</td>\n      <td>341</td>\n      <td>2</td>\n      <td>Non precise</td>\n      <td>5</td>\n      <td>11.0</td>\n      <td>64.0</td>\n      <td>...</td>\n      <td>NaN</td>\n      <td>NaN</td>\n      <td>2</td>\n      <td>1</td>\n      <td>NaN</td>\n      <td>2019-01-22 09:15:00.00</td>\n      <td>2019-01-22 11:29:00.00</td>\n      <td>2019-01-22 11:29:00.00</td>\n      <td>11</td>\n      <td>1.0</td>\n    </tr>\n  </tbody>\n</table>\n<p>5 rows × 45 columns</p>\n</div>"
     },
     "execution_count": 22,
     "metadata": {},
     "output_type": "execute_result"
    }
   ],
   "source": [
    "data_age_filter_ts_validity.head()"
   ],
   "metadata": {
    "collapsed": false,
    "pycharm": {
     "name": "#%%\n"
    }
   }
  },
  {
   "cell_type": "code",
   "execution_count": 23,
   "outputs": [
    {
     "data": {
      "text/plain": "1.0    101520\n0.0       280\nName: valid_ts_tri, dtype: int64"
     },
     "execution_count": 23,
     "metadata": {},
     "output_type": "execute_result"
    }
   ],
   "source": [
    "data_age_filter_ts_validity.valid_ts_tri.value_counts()"
   ],
   "metadata": {
    "collapsed": false,
    "pycharm": {
     "name": "#%%\n"
    }
   }
  },
  {
   "cell_type": "code",
   "execution_count": 24,
   "outputs": [],
   "source": [
    "data_age_filter_ts_validity.to_csv(\"clean/data_age_filter_ts_validity.csv\", sep=\";\", index=True)"
   ],
   "metadata": {
    "collapsed": false,
    "pycharm": {
     "name": "#%%\n"
    }
   }
  },
  {
   "cell_type": "code",
   "execution_count": 25,
   "outputs": [
    {
     "data": {
      "text/plain": "1.0    101520\n0.0       280\nName: valid_ts_tri, dtype: int64"
     },
     "execution_count": 25,
     "metadata": {},
     "output_type": "execute_result"
    }
   ],
   "source": [
    "data_age_filter_ts_validity[\"valid_ts_tri\"].value_counts()"
   ],
   "metadata": {
    "collapsed": false,
    "pycharm": {
     "name": "#%%\n"
    }
   }
  },
  {
   "cell_type": "code",
   "execution_count": 26,
   "outputs": [
    {
     "data": {
      "text/plain": "Int64Index([  299,  1788,  2635,  2729, 14110, 17683, 22214, 22237, 23572,\n            24303,\n            ...\n            88160, 88161, 88163, 88164, 88924, 90578, 90674, 91056, 91967,\n            98244],\n           dtype='int64', length=280)"
     },
     "execution_count": 26,
     "metadata": {},
     "output_type": "execute_result"
    }
   ],
   "source": [
    "# get names of indexes for which\n",
    "# column valid_ts_tri has value 0\n",
    "index_patients = data_age_filter_ts_validity[data_age_filter_ts_validity['valid_ts_tri'] == 0].index\n",
    "index_patients"
   ],
   "metadata": {
    "collapsed": false,
    "pycharm": {
     "name": "#%%\n"
    }
   }
  },
  {
   "cell_type": "code",
   "execution_count": 27,
   "outputs": [
    {
     "data": {
      "text/plain": "(101800, 45)"
     },
     "execution_count": 27,
     "metadata": {},
     "output_type": "execute_result"
    }
   ],
   "source": [
    "data_age_filter_ts_validity.shape"
   ],
   "metadata": {
    "collapsed": false,
    "pycharm": {
     "name": "#%%\n"
    }
   }
  },
  {
   "cell_type": "code",
   "execution_count": 28,
   "outputs": [
    {
     "data": {
      "text/plain": "(101520, 45)"
     },
     "execution_count": 28,
     "metadata": {},
     "output_type": "execute_result"
    }
   ],
   "source": [
    "# drop these row indexes\n",
    "# from dataFrame\n",
    "data_age_filter_ts_validity.drop(index_patients, inplace=True)\n",
    "data_age_filter_ts_validity.shape"
   ],
   "metadata": {
    "collapsed": false,
    "pycharm": {
     "name": "#%%\n"
    }
   }
  },
  {
   "cell_type": "code",
   "execution_count": 29,
   "outputs": [
    {
     "data": {
      "text/plain": "1.0    101520\nName: valid_ts_tri, dtype: int64"
     },
     "execution_count": 29,
     "metadata": {},
     "output_type": "execute_result"
    }
   ],
   "source": [
    "data_age_filter_ts_validity.valid_ts_tri.value_counts()"
   ],
   "metadata": {
    "collapsed": false,
    "pycharm": {
     "name": "#%%\n"
    }
   }
  },
  {
   "cell_type": "code",
   "execution_count": 30,
   "outputs": [
    {
     "data": {
      "text/plain": "        dos_id  age  sexe code postal  nbre_patient  ven_etat  \\\n101515  135695   59     1     81100.0            56         2   \n101516  135696   90     2     81240.0            56         1   \n101517  135697   37     2     81120.0            56         2   \n101518  135762   15     1     81100.0            35         2   \n101519  135763   15     1     81100.0            35         2   \n\n       ven_motifAdmission  gravité  ven_modeEntree  ven_modeSortie  ...  \\\n101515        Non precise        3            16.0            62.0  ...   \n101516        Non precise        3            16.0             NaN  ...   \n101517        Non precise        5            11.0            64.0  ...   \n101518        Non precise        5            11.0            64.0  ...   \n101519        Non precise        5            11.0            64.0  ...   \n\n       date_deb_obs_avis_spe date_saisie_obs_spe ccmu_id mode_sortie_id  \\\n101515                   NaN                 NaN       4              3   \n101516                   NaN                 NaN       3              3   \n101517                   NaN                 NaN       2              1   \n101518                   NaN                 NaN       1              1   \n101519                   NaN                 NaN       1              1   \n\n          dest           ven_admission              ven_sortie  \\\n101515  1734.0  2022-04-25 23:04:00.00  2022-04-26 11:50:00.00   \n101516  2701.0  2022-04-25 23:18:00.00                     NaN   \n101517     NaN  2022-04-25 23:45:00.00  2022-04-26 02:11:00.00   \n101518     NaN  2022-04-26 16:21:00.00  2022-04-26 17:10:00.00   \n101519     NaN  2022-04-26 16:22:00.00  2022-04-26 16:58:00.00   \n\n        ven_date_sortie_reelle nbre_pat_uhcd valid_ts_tri  \n101515  2022-04-26 11:50:00.00             1          1.0  \n101516                     NaN             1          1.0  \n101517  2022-04-26 02:11:00.00             1          1.0  \n101518  2022-04-26 17:10:00.00             1          1.0  \n101519  2022-04-26 16:58:00.00             1          1.0  \n\n[5 rows x 45 columns]",
      "text/html": "<div>\n<style scoped>\n    .dataframe tbody tr th:only-of-type {\n        vertical-align: middle;\n    }\n\n    .dataframe tbody tr th {\n        vertical-align: top;\n    }\n\n    .dataframe thead th {\n        text-align: right;\n    }\n</style>\n<table border=\"1\" class=\"dataframe\">\n  <thead>\n    <tr style=\"text-align: right;\">\n      <th></th>\n      <th>dos_id</th>\n      <th>age</th>\n      <th>sexe</th>\n      <th>code postal</th>\n      <th>nbre_patient</th>\n      <th>ven_etat</th>\n      <th>ven_motifAdmission</th>\n      <th>gravité</th>\n      <th>ven_modeEntree</th>\n      <th>ven_modeSortie</th>\n      <th>...</th>\n      <th>date_deb_obs_avis_spe</th>\n      <th>date_saisie_obs_spe</th>\n      <th>ccmu_id</th>\n      <th>mode_sortie_id</th>\n      <th>dest</th>\n      <th>ven_admission</th>\n      <th>ven_sortie</th>\n      <th>ven_date_sortie_reelle</th>\n      <th>nbre_pat_uhcd</th>\n      <th>valid_ts_tri</th>\n    </tr>\n  </thead>\n  <tbody>\n    <tr>\n      <th>101515</th>\n      <td>135695</td>\n      <td>59</td>\n      <td>1</td>\n      <td>81100.0</td>\n      <td>56</td>\n      <td>2</td>\n      <td>Non precise</td>\n      <td>3</td>\n      <td>16.0</td>\n      <td>62.0</td>\n      <td>...</td>\n      <td>NaN</td>\n      <td>NaN</td>\n      <td>4</td>\n      <td>3</td>\n      <td>1734.0</td>\n      <td>2022-04-25 23:04:00.00</td>\n      <td>2022-04-26 11:50:00.00</td>\n      <td>2022-04-26 11:50:00.00</td>\n      <td>1</td>\n      <td>1.0</td>\n    </tr>\n    <tr>\n      <th>101516</th>\n      <td>135696</td>\n      <td>90</td>\n      <td>2</td>\n      <td>81240.0</td>\n      <td>56</td>\n      <td>1</td>\n      <td>Non precise</td>\n      <td>3</td>\n      <td>16.0</td>\n      <td>NaN</td>\n      <td>...</td>\n      <td>NaN</td>\n      <td>NaN</td>\n      <td>3</td>\n      <td>3</td>\n      <td>2701.0</td>\n      <td>2022-04-25 23:18:00.00</td>\n      <td>NaN</td>\n      <td>NaN</td>\n      <td>1</td>\n      <td>1.0</td>\n    </tr>\n    <tr>\n      <th>101517</th>\n      <td>135697</td>\n      <td>37</td>\n      <td>2</td>\n      <td>81120.0</td>\n      <td>56</td>\n      <td>2</td>\n      <td>Non precise</td>\n      <td>5</td>\n      <td>11.0</td>\n      <td>64.0</td>\n      <td>...</td>\n      <td>NaN</td>\n      <td>NaN</td>\n      <td>2</td>\n      <td>1</td>\n      <td>NaN</td>\n      <td>2022-04-25 23:45:00.00</td>\n      <td>2022-04-26 02:11:00.00</td>\n      <td>2022-04-26 02:11:00.00</td>\n      <td>1</td>\n      <td>1.0</td>\n    </tr>\n    <tr>\n      <th>101518</th>\n      <td>135762</td>\n      <td>15</td>\n      <td>1</td>\n      <td>81100.0</td>\n      <td>35</td>\n      <td>2</td>\n      <td>Non precise</td>\n      <td>5</td>\n      <td>11.0</td>\n      <td>64.0</td>\n      <td>...</td>\n      <td>NaN</td>\n      <td>NaN</td>\n      <td>1</td>\n      <td>1</td>\n      <td>NaN</td>\n      <td>2022-04-26 16:21:00.00</td>\n      <td>2022-04-26 17:10:00.00</td>\n      <td>2022-04-26 17:10:00.00</td>\n      <td>1</td>\n      <td>1.0</td>\n    </tr>\n    <tr>\n      <th>101519</th>\n      <td>135763</td>\n      <td>15</td>\n      <td>1</td>\n      <td>81100.0</td>\n      <td>35</td>\n      <td>2</td>\n      <td>Non precise</td>\n      <td>5</td>\n      <td>11.0</td>\n      <td>64.0</td>\n      <td>...</td>\n      <td>NaN</td>\n      <td>NaN</td>\n      <td>1</td>\n      <td>1</td>\n      <td>NaN</td>\n      <td>2022-04-26 16:22:00.00</td>\n      <td>2022-04-26 16:58:00.00</td>\n      <td>2022-04-26 16:58:00.00</td>\n      <td>1</td>\n      <td>1.0</td>\n    </tr>\n  </tbody>\n</table>\n<p>5 rows × 45 columns</p>\n</div>"
     },
     "execution_count": 30,
     "metadata": {},
     "output_type": "execute_result"
    }
   ],
   "source": [
    "data_age_filter_ts_validity.to_csv(\"clean/data_age_filter_ts_validity_filtred.csv\", sep=\";\", index=False)\n",
    "data_age_filter_ts_validity_filtred = pd.read_csv(\"clean/data_age_filter_ts_validity_filtred.csv\", sep=\";\", low_memory=False)\n",
    "data_age_filter_ts_validity_filtred.tail()"
   ],
   "metadata": {
    "collapsed": false,
    "pycharm": {
     "name": "#%%\n"
    }
   }
  },
  {
   "cell_type": "code",
   "execution_count": 31,
   "outputs": [
    {
     "data": {
      "text/plain": "(101520, 45)"
     },
     "execution_count": 31,
     "metadata": {},
     "output_type": "execute_result"
    }
   ],
   "source": [
    "data_age_filter_ts_validity_filtred.shape"
   ],
   "metadata": {
    "collapsed": false,
    "pycharm": {
     "name": "#%%\n"
    }
   }
  },
  {
   "cell_type": "code",
   "execution_count": 32,
   "outputs": [],
   "source": [
    "#Clean by intern wait time calculability\n",
    "import time\n",
    "from datetime import datetime, timedelta\n",
    "\n",
    "\n",
    "def verify_intern_wait_time_calculability(dataframe=None):\n",
    "    ts_tri = datetime.strptime(dataframe[\"TS_tri\"][:-4], \"%Y-%m-%d %H:%M:%S\")\n",
    "\n",
    "    fin_loc_iao = dataframe['fin_loc_iao']\n",
    "    h_debut_att = dataframe['h_debut_att']\n",
    "\n",
    "    h_fin_att = dataframe['h_fin_att']\n",
    "    h_debut_box = dataframe['h_debut_box']\n",
    "    h_debut_att_transfert = dataframe['h_debut_att_transfert']\n",
    "    ven_sortie = datetime.strptime(dataframe[\"dos_fin_PEC\"], \"%Y-%m-%d %H:%M\")\n",
    "\n",
    "    wait_time_interne_deb = fin_loc_iao\n",
    "    wait_time_interne_end = h_debut_box\n",
    "    if pd.isnull(wait_time_interne_deb) and not pd.isnull(h_debut_att):\n",
    "        wait_time_interne_deb = datetime.strptime(h_debut_att, \"%Y-%m-%d %H:%M\")\n",
    "    elif not pd.isnull(wait_time_interne_deb):\n",
    "        wait_time_interne_deb = datetime.strptime(wait_time_interne_deb, \"%Y-%m-%d %H:%M\")\n",
    "    else:\n",
    "        wait_time_interne_deb = ts_tri\n",
    "\n",
    "    if pd.isnull(wait_time_interne_end) and (not pd.isnull(h_fin_att) or not pd.isnull(h_debut_att_transfert)):\n",
    "        if not pd.isnull(h_fin_att):\n",
    "            wait_time_interne_end = datetime.strptime(h_fin_att, \"%Y-%m-%d %H:%M\")\n",
    "        else:\n",
    "            wait_time_interne_end = datetime.strptime(h_debut_att_transfert, \"%Y-%m-%d %H:%M\")\n",
    "    elif not pd.isnull(wait_time_interne_end):\n",
    "        wait_time_interne_end = datetime.strptime(wait_time_interne_end, \"%Y-%m-%d %H:%M\")\n",
    "\n",
    "    #Verify intern wait time calculability\n",
    "    if (pd.isnull(wait_time_interne_end) and ven_sortie - ts_tri > timedelta(minutes=15)) or (ts_tri - wait_time_interne_deb > timedelta(minutes=5)):\n",
    "        return 0\n",
    "    return 1\n",
    "\n",
    "\n",
    "def add_column_intern_wait_time_calculability(dataframe=None):\n",
    "    df_local = dataframe.copy(deep=True)\n",
    "    print(df_local.shape)\n",
    "    start = time.time()\n",
    "    for row_i in range(len(df_local)):\n",
    "        df_local.at[row_i, 'intern_wait_time_calculable'] = verify_intern_wait_time_calculability(\n",
    "            dataframe=dataframe.iloc[row_i])\n",
    "        if row_i % 10000 == 0:\n",
    "            print(\"\\n*******************************************************************\")\n",
    "            print(\"row_i: \", row_i)\n",
    "            print(\"Partial time of execution: \", time.time() - start, \" s\")\n",
    "            print(\"******************************************************************\\n\")\n",
    "    end = time.time()\n",
    "    print(\"The time of execution of above program is :\", end - start, \" s\")\n",
    "    return df_local"
   ],
   "metadata": {
    "collapsed": false,
    "pycharm": {
     "name": "#%%\n"
    }
   }
  },
  {
   "cell_type": "code",
   "execution_count": 33,
   "outputs": [
    {
     "name": "stdout",
     "output_type": "stream",
     "text": [
      "(101520, 45)\n",
      "\n",
      "*******************************************************************\n",
      "row_i:  0\n",
      "Partial time of execution:  0.0010046958923339844  s\n",
      "******************************************************************\n",
      "\n",
      "\n",
      "*******************************************************************\n",
      "row_i:  10000\n",
      "Partial time of execution:  2.243542194366455  s\n",
      "******************************************************************\n",
      "\n",
      "\n",
      "*******************************************************************\n",
      "row_i:  20000\n",
      "Partial time of execution:  4.432542085647583  s\n",
      "******************************************************************\n",
      "\n",
      "\n",
      "*******************************************************************\n",
      "row_i:  30000\n",
      "Partial time of execution:  7.219347715377808  s\n",
      "******************************************************************\n",
      "\n",
      "\n",
      "*******************************************************************\n",
      "row_i:  40000\n",
      "Partial time of execution:  9.549971342086792  s\n",
      "******************************************************************\n",
      "\n",
      "\n",
      "*******************************************************************\n",
      "row_i:  50000\n",
      "Partial time of execution:  11.731978416442871  s\n",
      "******************************************************************\n",
      "\n",
      "\n",
      "*******************************************************************\n",
      "row_i:  60000\n",
      "Partial time of execution:  14.167588710784912  s\n",
      "******************************************************************\n",
      "\n",
      "\n",
      "*******************************************************************\n",
      "row_i:  70000\n",
      "Partial time of execution:  16.743555068969727  s\n",
      "******************************************************************\n",
      "\n",
      "\n",
      "*******************************************************************\n",
      "row_i:  80000\n",
      "Partial time of execution:  19.309770584106445  s\n",
      "******************************************************************\n",
      "\n",
      "\n",
      "*******************************************************************\n",
      "row_i:  90000\n",
      "Partial time of execution:  21.870970726013184  s\n",
      "******************************************************************\n",
      "\n",
      "\n",
      "*******************************************************************\n",
      "row_i:  100000\n",
      "Partial time of execution:  24.132973670959473  s\n",
      "******************************************************************\n",
      "\n",
      "The time of execution of above program is : 24.47897481918335  s\n"
     ]
    }
   ],
   "source": [
    "data_age_filter_ts_validity_intern_wait = add_column_intern_wait_time_calculability(\n",
    "    dataframe=data_age_filter_ts_validity_filtred).copy(deep=True)"
   ],
   "metadata": {
    "collapsed": false,
    "pycharm": {
     "name": "#%%\n"
    }
   }
  },
  {
   "cell_type": "code",
   "execution_count": 34,
   "outputs": [
    {
     "data": {
      "text/plain": "        dos_id  age  sexe code postal  nbre_patient  ven_etat  \\\n101515  135695   59     1     81100.0            56         2   \n101516  135696   90     2     81240.0            56         1   \n101517  135697   37     2     81120.0            56         2   \n101518  135762   15     1     81100.0            35         2   \n101519  135763   15     1     81100.0            35         2   \n\n       ven_motifAdmission  gravité  ven_modeEntree  ven_modeSortie  ...  \\\n101515        Non precise        3            16.0            62.0  ...   \n101516        Non precise        3            16.0             NaN  ...   \n101517        Non precise        5            11.0            64.0  ...   \n101518        Non precise        5            11.0            64.0  ...   \n101519        Non precise        5            11.0            64.0  ...   \n\n       date_saisie_obs_spe ccmu_id mode_sortie_id    dest  \\\n101515                 NaN       4              3  1734.0   \n101516                 NaN       3              3  2701.0   \n101517                 NaN       2              1     NaN   \n101518                 NaN       1              1     NaN   \n101519                 NaN       1              1     NaN   \n\n                 ven_admission              ven_sortie  \\\n101515  2022-04-25 23:04:00.00  2022-04-26 11:50:00.00   \n101516  2022-04-25 23:18:00.00                     NaN   \n101517  2022-04-25 23:45:00.00  2022-04-26 02:11:00.00   \n101518  2022-04-26 16:21:00.00  2022-04-26 17:10:00.00   \n101519  2022-04-26 16:22:00.00  2022-04-26 16:58:00.00   \n\n        ven_date_sortie_reelle nbre_pat_uhcd valid_ts_tri  \\\n101515  2022-04-26 11:50:00.00             1          1.0   \n101516                     NaN             1          1.0   \n101517  2022-04-26 02:11:00.00             1          1.0   \n101518  2022-04-26 17:10:00.00             1          1.0   \n101519  2022-04-26 16:58:00.00             1          1.0   \n\n       intern_wait_time_calculable  \n101515                         1.0  \n101516                         0.0  \n101517                         1.0  \n101518                         1.0  \n101519                         1.0  \n\n[5 rows x 46 columns]",
      "text/html": "<div>\n<style scoped>\n    .dataframe tbody tr th:only-of-type {\n        vertical-align: middle;\n    }\n\n    .dataframe tbody tr th {\n        vertical-align: top;\n    }\n\n    .dataframe thead th {\n        text-align: right;\n    }\n</style>\n<table border=\"1\" class=\"dataframe\">\n  <thead>\n    <tr style=\"text-align: right;\">\n      <th></th>\n      <th>dos_id</th>\n      <th>age</th>\n      <th>sexe</th>\n      <th>code postal</th>\n      <th>nbre_patient</th>\n      <th>ven_etat</th>\n      <th>ven_motifAdmission</th>\n      <th>gravité</th>\n      <th>ven_modeEntree</th>\n      <th>ven_modeSortie</th>\n      <th>...</th>\n      <th>date_saisie_obs_spe</th>\n      <th>ccmu_id</th>\n      <th>mode_sortie_id</th>\n      <th>dest</th>\n      <th>ven_admission</th>\n      <th>ven_sortie</th>\n      <th>ven_date_sortie_reelle</th>\n      <th>nbre_pat_uhcd</th>\n      <th>valid_ts_tri</th>\n      <th>intern_wait_time_calculable</th>\n    </tr>\n  </thead>\n  <tbody>\n    <tr>\n      <th>101515</th>\n      <td>135695</td>\n      <td>59</td>\n      <td>1</td>\n      <td>81100.0</td>\n      <td>56</td>\n      <td>2</td>\n      <td>Non precise</td>\n      <td>3</td>\n      <td>16.0</td>\n      <td>62.0</td>\n      <td>...</td>\n      <td>NaN</td>\n      <td>4</td>\n      <td>3</td>\n      <td>1734.0</td>\n      <td>2022-04-25 23:04:00.00</td>\n      <td>2022-04-26 11:50:00.00</td>\n      <td>2022-04-26 11:50:00.00</td>\n      <td>1</td>\n      <td>1.0</td>\n      <td>1.0</td>\n    </tr>\n    <tr>\n      <th>101516</th>\n      <td>135696</td>\n      <td>90</td>\n      <td>2</td>\n      <td>81240.0</td>\n      <td>56</td>\n      <td>1</td>\n      <td>Non precise</td>\n      <td>3</td>\n      <td>16.0</td>\n      <td>NaN</td>\n      <td>...</td>\n      <td>NaN</td>\n      <td>3</td>\n      <td>3</td>\n      <td>2701.0</td>\n      <td>2022-04-25 23:18:00.00</td>\n      <td>NaN</td>\n      <td>NaN</td>\n      <td>1</td>\n      <td>1.0</td>\n      <td>0.0</td>\n    </tr>\n    <tr>\n      <th>101517</th>\n      <td>135697</td>\n      <td>37</td>\n      <td>2</td>\n      <td>81120.0</td>\n      <td>56</td>\n      <td>2</td>\n      <td>Non precise</td>\n      <td>5</td>\n      <td>11.0</td>\n      <td>64.0</td>\n      <td>...</td>\n      <td>NaN</td>\n      <td>2</td>\n      <td>1</td>\n      <td>NaN</td>\n      <td>2022-04-25 23:45:00.00</td>\n      <td>2022-04-26 02:11:00.00</td>\n      <td>2022-04-26 02:11:00.00</td>\n      <td>1</td>\n      <td>1.0</td>\n      <td>1.0</td>\n    </tr>\n    <tr>\n      <th>101518</th>\n      <td>135762</td>\n      <td>15</td>\n      <td>1</td>\n      <td>81100.0</td>\n      <td>35</td>\n      <td>2</td>\n      <td>Non precise</td>\n      <td>5</td>\n      <td>11.0</td>\n      <td>64.0</td>\n      <td>...</td>\n      <td>NaN</td>\n      <td>1</td>\n      <td>1</td>\n      <td>NaN</td>\n      <td>2022-04-26 16:21:00.00</td>\n      <td>2022-04-26 17:10:00.00</td>\n      <td>2022-04-26 17:10:00.00</td>\n      <td>1</td>\n      <td>1.0</td>\n      <td>1.0</td>\n    </tr>\n    <tr>\n      <th>101519</th>\n      <td>135763</td>\n      <td>15</td>\n      <td>1</td>\n      <td>81100.0</td>\n      <td>35</td>\n      <td>2</td>\n      <td>Non precise</td>\n      <td>5</td>\n      <td>11.0</td>\n      <td>64.0</td>\n      <td>...</td>\n      <td>NaN</td>\n      <td>1</td>\n      <td>1</td>\n      <td>NaN</td>\n      <td>2022-04-26 16:22:00.00</td>\n      <td>2022-04-26 16:58:00.00</td>\n      <td>2022-04-26 16:58:00.00</td>\n      <td>1</td>\n      <td>1.0</td>\n      <td>1.0</td>\n    </tr>\n  </tbody>\n</table>\n<p>5 rows × 46 columns</p>\n</div>"
     },
     "execution_count": 34,
     "metadata": {},
     "output_type": "execute_result"
    }
   ],
   "source": [
    "data_age_filter_ts_validity_intern_wait.tail()"
   ],
   "metadata": {
    "collapsed": false,
    "pycharm": {
     "name": "#%%\n"
    }
   }
  },
  {
   "cell_type": "code",
   "execution_count": 35,
   "outputs": [
    {
     "data": {
      "text/plain": "1.0    88166\n0.0    13354\nName: intern_wait_time_calculable, dtype: int64"
     },
     "execution_count": 35,
     "metadata": {},
     "output_type": "execute_result"
    }
   ],
   "source": [
    "data_age_filter_ts_validity_intern_wait['intern_wait_time_calculable'].value_counts()"
   ],
   "metadata": {
    "collapsed": false,
    "pycharm": {
     "name": "#%%\n"
    }
   }
  },
  {
   "cell_type": "code",
   "execution_count": 36,
   "outputs": [
    {
     "data": {
      "text/plain": "(101520, 46)"
     },
     "execution_count": 36,
     "metadata": {},
     "output_type": "execute_result"
    }
   ],
   "source": [
    "data_age_filter_ts_validity_intern_wait.shape"
   ],
   "metadata": {
    "collapsed": false,
    "pycharm": {
     "name": "#%%\n"
    }
   }
  },
  {
   "cell_type": "code",
   "execution_count": 37,
   "outputs": [
    {
     "data": {
      "text/plain": "        dos_id  age  sexe code postal  nbre_patient  ven_etat  \\\n101515  135695   59     1     81100.0            56         2   \n101516  135696   90     2     81240.0            56         1   \n101517  135697   37     2     81120.0            56         2   \n101518  135762   15     1     81100.0            35         2   \n101519  135763   15     1     81100.0            35         2   \n\n       ven_motifAdmission  gravité  ven_modeEntree  ven_modeSortie  ...  \\\n101515        Non precise        3            16.0            62.0  ...   \n101516        Non precise        3            16.0             NaN  ...   \n101517        Non precise        5            11.0            64.0  ...   \n101518        Non precise        5            11.0            64.0  ...   \n101519        Non precise        5            11.0            64.0  ...   \n\n       date_saisie_obs_spe ccmu_id mode_sortie_id    dest  \\\n101515                 NaN       4              3  1734.0   \n101516                 NaN       3              3  2701.0   \n101517                 NaN       2              1     NaN   \n101518                 NaN       1              1     NaN   \n101519                 NaN       1              1     NaN   \n\n                 ven_admission              ven_sortie  \\\n101515  2022-04-25 23:04:00.00  2022-04-26 11:50:00.00   \n101516  2022-04-25 23:18:00.00                     NaN   \n101517  2022-04-25 23:45:00.00  2022-04-26 02:11:00.00   \n101518  2022-04-26 16:21:00.00  2022-04-26 17:10:00.00   \n101519  2022-04-26 16:22:00.00  2022-04-26 16:58:00.00   \n\n        ven_date_sortie_reelle nbre_pat_uhcd valid_ts_tri  \\\n101515  2022-04-26 11:50:00.00             1          1.0   \n101516                     NaN             1          1.0   \n101517  2022-04-26 02:11:00.00             1          1.0   \n101518  2022-04-26 17:10:00.00             1          1.0   \n101519  2022-04-26 16:58:00.00             1          1.0   \n\n       intern_wait_time_calculable  \n101515                         1.0  \n101516                         0.0  \n101517                         1.0  \n101518                         1.0  \n101519                         1.0  \n\n[5 rows x 46 columns]",
      "text/html": "<div>\n<style scoped>\n    .dataframe tbody tr th:only-of-type {\n        vertical-align: middle;\n    }\n\n    .dataframe tbody tr th {\n        vertical-align: top;\n    }\n\n    .dataframe thead th {\n        text-align: right;\n    }\n</style>\n<table border=\"1\" class=\"dataframe\">\n  <thead>\n    <tr style=\"text-align: right;\">\n      <th></th>\n      <th>dos_id</th>\n      <th>age</th>\n      <th>sexe</th>\n      <th>code postal</th>\n      <th>nbre_patient</th>\n      <th>ven_etat</th>\n      <th>ven_motifAdmission</th>\n      <th>gravité</th>\n      <th>ven_modeEntree</th>\n      <th>ven_modeSortie</th>\n      <th>...</th>\n      <th>date_saisie_obs_spe</th>\n      <th>ccmu_id</th>\n      <th>mode_sortie_id</th>\n      <th>dest</th>\n      <th>ven_admission</th>\n      <th>ven_sortie</th>\n      <th>ven_date_sortie_reelle</th>\n      <th>nbre_pat_uhcd</th>\n      <th>valid_ts_tri</th>\n      <th>intern_wait_time_calculable</th>\n    </tr>\n  </thead>\n  <tbody>\n    <tr>\n      <th>101515</th>\n      <td>135695</td>\n      <td>59</td>\n      <td>1</td>\n      <td>81100.0</td>\n      <td>56</td>\n      <td>2</td>\n      <td>Non precise</td>\n      <td>3</td>\n      <td>16.0</td>\n      <td>62.0</td>\n      <td>...</td>\n      <td>NaN</td>\n      <td>4</td>\n      <td>3</td>\n      <td>1734.0</td>\n      <td>2022-04-25 23:04:00.00</td>\n      <td>2022-04-26 11:50:00.00</td>\n      <td>2022-04-26 11:50:00.00</td>\n      <td>1</td>\n      <td>1.0</td>\n      <td>1.0</td>\n    </tr>\n    <tr>\n      <th>101516</th>\n      <td>135696</td>\n      <td>90</td>\n      <td>2</td>\n      <td>81240.0</td>\n      <td>56</td>\n      <td>1</td>\n      <td>Non precise</td>\n      <td>3</td>\n      <td>16.0</td>\n      <td>NaN</td>\n      <td>...</td>\n      <td>NaN</td>\n      <td>3</td>\n      <td>3</td>\n      <td>2701.0</td>\n      <td>2022-04-25 23:18:00.00</td>\n      <td>NaN</td>\n      <td>NaN</td>\n      <td>1</td>\n      <td>1.0</td>\n      <td>0.0</td>\n    </tr>\n    <tr>\n      <th>101517</th>\n      <td>135697</td>\n      <td>37</td>\n      <td>2</td>\n      <td>81120.0</td>\n      <td>56</td>\n      <td>2</td>\n      <td>Non precise</td>\n      <td>5</td>\n      <td>11.0</td>\n      <td>64.0</td>\n      <td>...</td>\n      <td>NaN</td>\n      <td>2</td>\n      <td>1</td>\n      <td>NaN</td>\n      <td>2022-04-25 23:45:00.00</td>\n      <td>2022-04-26 02:11:00.00</td>\n      <td>2022-04-26 02:11:00.00</td>\n      <td>1</td>\n      <td>1.0</td>\n      <td>1.0</td>\n    </tr>\n    <tr>\n      <th>101518</th>\n      <td>135762</td>\n      <td>15</td>\n      <td>1</td>\n      <td>81100.0</td>\n      <td>35</td>\n      <td>2</td>\n      <td>Non precise</td>\n      <td>5</td>\n      <td>11.0</td>\n      <td>64.0</td>\n      <td>...</td>\n      <td>NaN</td>\n      <td>1</td>\n      <td>1</td>\n      <td>NaN</td>\n      <td>2022-04-26 16:21:00.00</td>\n      <td>2022-04-26 17:10:00.00</td>\n      <td>2022-04-26 17:10:00.00</td>\n      <td>1</td>\n      <td>1.0</td>\n      <td>1.0</td>\n    </tr>\n    <tr>\n      <th>101519</th>\n      <td>135763</td>\n      <td>15</td>\n      <td>1</td>\n      <td>81100.0</td>\n      <td>35</td>\n      <td>2</td>\n      <td>Non precise</td>\n      <td>5</td>\n      <td>11.0</td>\n      <td>64.0</td>\n      <td>...</td>\n      <td>NaN</td>\n      <td>1</td>\n      <td>1</td>\n      <td>NaN</td>\n      <td>2022-04-26 16:22:00.00</td>\n      <td>2022-04-26 16:58:00.00</td>\n      <td>2022-04-26 16:58:00.00</td>\n      <td>1</td>\n      <td>1.0</td>\n      <td>1.0</td>\n    </tr>\n  </tbody>\n</table>\n<p>5 rows × 46 columns</p>\n</div>"
     },
     "execution_count": 37,
     "metadata": {},
     "output_type": "execute_result"
    }
   ],
   "source": [
    "data_age_filter_ts_validity_intern_wait.to_csv(\"clean/data_age_filter_ts_non_valid_intern_wait.csv\", sep=\";\", index=False)\n",
    "data_age_filter_ts_non_valid_intern_wait = pd.read_csv(\"clean/data_age_filter_ts_non_valid_intern_wait.csv\", sep=\";\", low_memory=False)\n",
    "data_age_filter_ts_non_valid_intern_wait.tail()"
   ],
   "metadata": {
    "collapsed": false,
    "pycharm": {
     "name": "#%%\n"
    }
   }
  },
  {
   "cell_type": "code",
   "execution_count": 38,
   "outputs": [
    {
     "data": {
      "text/plain": "(13354,)"
     },
     "execution_count": 38,
     "metadata": {},
     "output_type": "execute_result"
    }
   ],
   "source": [
    "# get names of indexes for which\n",
    "# column valid_ts_tri has value 0\n",
    "index_patients = data_age_filter_ts_non_valid_intern_wait[data_age_filter_ts_non_valid_intern_wait['intern_wait_time_calculable'] == 0].index\n",
    "index_patients.shape"
   ],
   "metadata": {
    "collapsed": false,
    "pycharm": {
     "name": "#%%\n"
    }
   }
  },
  {
   "cell_type": "code",
   "execution_count": 39,
   "outputs": [
    {
     "data": {
      "text/plain": "(101520, 46)"
     },
     "execution_count": 39,
     "metadata": {},
     "output_type": "execute_result"
    }
   ],
   "source": [
    "data_age_filter_ts_non_valid_intern_wait.shape"
   ],
   "metadata": {
    "collapsed": false,
    "pycharm": {
     "name": "#%%\n"
    }
   }
  },
  {
   "cell_type": "code",
   "execution_count": 40,
   "outputs": [
    {
     "data": {
      "text/plain": "(88166, 46)"
     },
     "execution_count": 40,
     "metadata": {},
     "output_type": "execute_result"
    }
   ],
   "source": [
    "# drop these row indexes\n",
    "# from dataFrame\n",
    "data_age_filter_ts_valid_intern_wait = data_age_filter_ts_non_valid_intern_wait.drop(index_patients)\n",
    "data_age_filter_ts_valid_intern_wait.shape"
   ],
   "metadata": {
    "collapsed": false,
    "pycharm": {
     "name": "#%%\n"
    }
   }
  },
  {
   "cell_type": "code",
   "execution_count": 41,
   "outputs": [
    {
     "data": {
      "text/plain": "1.0    88166\nName: intern_wait_time_calculable, dtype: int64"
     },
     "execution_count": 41,
     "metadata": {},
     "output_type": "execute_result"
    }
   ],
   "source": [
    "data_age_filter_ts_valid_intern_wait.intern_wait_time_calculable.value_counts()"
   ],
   "metadata": {
    "collapsed": false,
    "pycharm": {
     "name": "#%%\n"
    }
   }
  },
  {
   "cell_type": "code",
   "execution_count": 42,
   "outputs": [
    {
     "data": {
      "text/plain": "        dos_id  age  sexe code postal  nbre_patient  ven_etat  \\\n101514  135694   84     1     81200.0            55         2   \n101515  135695   59     1     81100.0            56         2   \n101517  135697   37     2     81120.0            56         2   \n101518  135762   15     1     81100.0            35         2   \n101519  135763   15     1     81100.0            35         2   \n\n       ven_motifAdmission  gravité  ven_modeEntree  ven_modeSortie  ...  \\\n101514        Non precise        5            11.0            64.0  ...   \n101515        Non precise        3            16.0            62.0  ...   \n101517        Non precise        5            11.0            64.0  ...   \n101518        Non precise        5            11.0            64.0  ...   \n101519        Non precise        5            11.0            64.0  ...   \n\n       date_saisie_obs_spe ccmu_id mode_sortie_id    dest  \\\n101514                 NaN       1              1     NaN   \n101515                 NaN       4              3  1734.0   \n101517                 NaN       2              1     NaN   \n101518                 NaN       1              1     NaN   \n101519                 NaN       1              1     NaN   \n\n                 ven_admission              ven_sortie  \\\n101514  2022-04-25 22:55:00.00  2022-04-26 00:47:00.00   \n101515  2022-04-25 23:04:00.00  2022-04-26 11:50:00.00   \n101517  2022-04-25 23:45:00.00  2022-04-26 02:11:00.00   \n101518  2022-04-26 16:21:00.00  2022-04-26 17:10:00.00   \n101519  2022-04-26 16:22:00.00  2022-04-26 16:58:00.00   \n\n        ven_date_sortie_reelle nbre_pat_uhcd valid_ts_tri  \\\n101514  2022-04-26 00:47:00.00             1          1.0   \n101515  2022-04-26 11:50:00.00             1          1.0   \n101517  2022-04-26 02:11:00.00             1          1.0   \n101518  2022-04-26 17:10:00.00             1          1.0   \n101519  2022-04-26 16:58:00.00             1          1.0   \n\n       intern_wait_time_calculable  \n101514                         1.0  \n101515                         1.0  \n101517                         1.0  \n101518                         1.0  \n101519                         1.0  \n\n[5 rows x 46 columns]",
      "text/html": "<div>\n<style scoped>\n    .dataframe tbody tr th:only-of-type {\n        vertical-align: middle;\n    }\n\n    .dataframe tbody tr th {\n        vertical-align: top;\n    }\n\n    .dataframe thead th {\n        text-align: right;\n    }\n</style>\n<table border=\"1\" class=\"dataframe\">\n  <thead>\n    <tr style=\"text-align: right;\">\n      <th></th>\n      <th>dos_id</th>\n      <th>age</th>\n      <th>sexe</th>\n      <th>code postal</th>\n      <th>nbre_patient</th>\n      <th>ven_etat</th>\n      <th>ven_motifAdmission</th>\n      <th>gravité</th>\n      <th>ven_modeEntree</th>\n      <th>ven_modeSortie</th>\n      <th>...</th>\n      <th>date_saisie_obs_spe</th>\n      <th>ccmu_id</th>\n      <th>mode_sortie_id</th>\n      <th>dest</th>\n      <th>ven_admission</th>\n      <th>ven_sortie</th>\n      <th>ven_date_sortie_reelle</th>\n      <th>nbre_pat_uhcd</th>\n      <th>valid_ts_tri</th>\n      <th>intern_wait_time_calculable</th>\n    </tr>\n  </thead>\n  <tbody>\n    <tr>\n      <th>101514</th>\n      <td>135694</td>\n      <td>84</td>\n      <td>1</td>\n      <td>81200.0</td>\n      <td>55</td>\n      <td>2</td>\n      <td>Non precise</td>\n      <td>5</td>\n      <td>11.0</td>\n      <td>64.0</td>\n      <td>...</td>\n      <td>NaN</td>\n      <td>1</td>\n      <td>1</td>\n      <td>NaN</td>\n      <td>2022-04-25 22:55:00.00</td>\n      <td>2022-04-26 00:47:00.00</td>\n      <td>2022-04-26 00:47:00.00</td>\n      <td>1</td>\n      <td>1.0</td>\n      <td>1.0</td>\n    </tr>\n    <tr>\n      <th>101515</th>\n      <td>135695</td>\n      <td>59</td>\n      <td>1</td>\n      <td>81100.0</td>\n      <td>56</td>\n      <td>2</td>\n      <td>Non precise</td>\n      <td>3</td>\n      <td>16.0</td>\n      <td>62.0</td>\n      <td>...</td>\n      <td>NaN</td>\n      <td>4</td>\n      <td>3</td>\n      <td>1734.0</td>\n      <td>2022-04-25 23:04:00.00</td>\n      <td>2022-04-26 11:50:00.00</td>\n      <td>2022-04-26 11:50:00.00</td>\n      <td>1</td>\n      <td>1.0</td>\n      <td>1.0</td>\n    </tr>\n    <tr>\n      <th>101517</th>\n      <td>135697</td>\n      <td>37</td>\n      <td>2</td>\n      <td>81120.0</td>\n      <td>56</td>\n      <td>2</td>\n      <td>Non precise</td>\n      <td>5</td>\n      <td>11.0</td>\n      <td>64.0</td>\n      <td>...</td>\n      <td>NaN</td>\n      <td>2</td>\n      <td>1</td>\n      <td>NaN</td>\n      <td>2022-04-25 23:45:00.00</td>\n      <td>2022-04-26 02:11:00.00</td>\n      <td>2022-04-26 02:11:00.00</td>\n      <td>1</td>\n      <td>1.0</td>\n      <td>1.0</td>\n    </tr>\n    <tr>\n      <th>101518</th>\n      <td>135762</td>\n      <td>15</td>\n      <td>1</td>\n      <td>81100.0</td>\n      <td>35</td>\n      <td>2</td>\n      <td>Non precise</td>\n      <td>5</td>\n      <td>11.0</td>\n      <td>64.0</td>\n      <td>...</td>\n      <td>NaN</td>\n      <td>1</td>\n      <td>1</td>\n      <td>NaN</td>\n      <td>2022-04-26 16:21:00.00</td>\n      <td>2022-04-26 17:10:00.00</td>\n      <td>2022-04-26 17:10:00.00</td>\n      <td>1</td>\n      <td>1.0</td>\n      <td>1.0</td>\n    </tr>\n    <tr>\n      <th>101519</th>\n      <td>135763</td>\n      <td>15</td>\n      <td>1</td>\n      <td>81100.0</td>\n      <td>35</td>\n      <td>2</td>\n      <td>Non precise</td>\n      <td>5</td>\n      <td>11.0</td>\n      <td>64.0</td>\n      <td>...</td>\n      <td>NaN</td>\n      <td>1</td>\n      <td>1</td>\n      <td>NaN</td>\n      <td>2022-04-26 16:22:00.00</td>\n      <td>2022-04-26 16:58:00.00</td>\n      <td>2022-04-26 16:58:00.00</td>\n      <td>1</td>\n      <td>1.0</td>\n      <td>1.0</td>\n    </tr>\n  </tbody>\n</table>\n<p>5 rows × 46 columns</p>\n</div>"
     },
     "execution_count": 42,
     "metadata": {},
     "output_type": "execute_result"
    }
   ],
   "source": [
    "data_age_filter_ts_valid_intern_wait.tail()"
   ],
   "metadata": {
    "collapsed": false,
    "pycharm": {
     "name": "#%%\n"
    }
   }
  },
  {
   "cell_type": "code",
   "execution_count": 43,
   "outputs": [
    {
     "data": {
      "text/plain": "       dos_id  age  sexe code postal  nbre_patient  ven_etat  \\\n88161  135694   84     1     81200.0            55         2   \n88162  135695   59     1     81100.0            56         2   \n88163  135697   37     2     81120.0            56         2   \n88164  135762   15     1     81100.0            35         2   \n88165  135763   15     1     81100.0            35         2   \n\n      ven_motifAdmission  gravité  ven_modeEntree  ven_modeSortie  ...  \\\n88161        Non precise        5            11.0            64.0  ...   \n88162        Non precise        3            16.0            62.0  ...   \n88163        Non precise        5            11.0            64.0  ...   \n88164        Non precise        5            11.0            64.0  ...   \n88165        Non precise        5            11.0            64.0  ...   \n\n      date_saisie_obs_spe ccmu_id mode_sortie_id    dest  \\\n88161                 NaN       1              1     NaN   \n88162                 NaN       4              3  1734.0   \n88163                 NaN       2              1     NaN   \n88164                 NaN       1              1     NaN   \n88165                 NaN       1              1     NaN   \n\n                ven_admission              ven_sortie  ven_date_sortie_reelle  \\\n88161  2022-04-25 22:55:00.00  2022-04-26 00:47:00.00  2022-04-26 00:47:00.00   \n88162  2022-04-25 23:04:00.00  2022-04-26 11:50:00.00  2022-04-26 11:50:00.00   \n88163  2022-04-25 23:45:00.00  2022-04-26 02:11:00.00  2022-04-26 02:11:00.00   \n88164  2022-04-26 16:21:00.00  2022-04-26 17:10:00.00  2022-04-26 17:10:00.00   \n88165  2022-04-26 16:22:00.00  2022-04-26 16:58:00.00  2022-04-26 16:58:00.00   \n\n      nbre_pat_uhcd valid_ts_tri intern_wait_time_calculable  \n88161             1          1.0                         1.0  \n88162             1          1.0                         1.0  \n88163             1          1.0                         1.0  \n88164             1          1.0                         1.0  \n88165             1          1.0                         1.0  \n\n[5 rows x 46 columns]",
      "text/html": "<div>\n<style scoped>\n    .dataframe tbody tr th:only-of-type {\n        vertical-align: middle;\n    }\n\n    .dataframe tbody tr th {\n        vertical-align: top;\n    }\n\n    .dataframe thead th {\n        text-align: right;\n    }\n</style>\n<table border=\"1\" class=\"dataframe\">\n  <thead>\n    <tr style=\"text-align: right;\">\n      <th></th>\n      <th>dos_id</th>\n      <th>age</th>\n      <th>sexe</th>\n      <th>code postal</th>\n      <th>nbre_patient</th>\n      <th>ven_etat</th>\n      <th>ven_motifAdmission</th>\n      <th>gravité</th>\n      <th>ven_modeEntree</th>\n      <th>ven_modeSortie</th>\n      <th>...</th>\n      <th>date_saisie_obs_spe</th>\n      <th>ccmu_id</th>\n      <th>mode_sortie_id</th>\n      <th>dest</th>\n      <th>ven_admission</th>\n      <th>ven_sortie</th>\n      <th>ven_date_sortie_reelle</th>\n      <th>nbre_pat_uhcd</th>\n      <th>valid_ts_tri</th>\n      <th>intern_wait_time_calculable</th>\n    </tr>\n  </thead>\n  <tbody>\n    <tr>\n      <th>88161</th>\n      <td>135694</td>\n      <td>84</td>\n      <td>1</td>\n      <td>81200.0</td>\n      <td>55</td>\n      <td>2</td>\n      <td>Non precise</td>\n      <td>5</td>\n      <td>11.0</td>\n      <td>64.0</td>\n      <td>...</td>\n      <td>NaN</td>\n      <td>1</td>\n      <td>1</td>\n      <td>NaN</td>\n      <td>2022-04-25 22:55:00.00</td>\n      <td>2022-04-26 00:47:00.00</td>\n      <td>2022-04-26 00:47:00.00</td>\n      <td>1</td>\n      <td>1.0</td>\n      <td>1.0</td>\n    </tr>\n    <tr>\n      <th>88162</th>\n      <td>135695</td>\n      <td>59</td>\n      <td>1</td>\n      <td>81100.0</td>\n      <td>56</td>\n      <td>2</td>\n      <td>Non precise</td>\n      <td>3</td>\n      <td>16.0</td>\n      <td>62.0</td>\n      <td>...</td>\n      <td>NaN</td>\n      <td>4</td>\n      <td>3</td>\n      <td>1734.0</td>\n      <td>2022-04-25 23:04:00.00</td>\n      <td>2022-04-26 11:50:00.00</td>\n      <td>2022-04-26 11:50:00.00</td>\n      <td>1</td>\n      <td>1.0</td>\n      <td>1.0</td>\n    </tr>\n    <tr>\n      <th>88163</th>\n      <td>135697</td>\n      <td>37</td>\n      <td>2</td>\n      <td>81120.0</td>\n      <td>56</td>\n      <td>2</td>\n      <td>Non precise</td>\n      <td>5</td>\n      <td>11.0</td>\n      <td>64.0</td>\n      <td>...</td>\n      <td>NaN</td>\n      <td>2</td>\n      <td>1</td>\n      <td>NaN</td>\n      <td>2022-04-25 23:45:00.00</td>\n      <td>2022-04-26 02:11:00.00</td>\n      <td>2022-04-26 02:11:00.00</td>\n      <td>1</td>\n      <td>1.0</td>\n      <td>1.0</td>\n    </tr>\n    <tr>\n      <th>88164</th>\n      <td>135762</td>\n      <td>15</td>\n      <td>1</td>\n      <td>81100.0</td>\n      <td>35</td>\n      <td>2</td>\n      <td>Non precise</td>\n      <td>5</td>\n      <td>11.0</td>\n      <td>64.0</td>\n      <td>...</td>\n      <td>NaN</td>\n      <td>1</td>\n      <td>1</td>\n      <td>NaN</td>\n      <td>2022-04-26 16:21:00.00</td>\n      <td>2022-04-26 17:10:00.00</td>\n      <td>2022-04-26 17:10:00.00</td>\n      <td>1</td>\n      <td>1.0</td>\n      <td>1.0</td>\n    </tr>\n    <tr>\n      <th>88165</th>\n      <td>135763</td>\n      <td>15</td>\n      <td>1</td>\n      <td>81100.0</td>\n      <td>35</td>\n      <td>2</td>\n      <td>Non precise</td>\n      <td>5</td>\n      <td>11.0</td>\n      <td>64.0</td>\n      <td>...</td>\n      <td>NaN</td>\n      <td>1</td>\n      <td>1</td>\n      <td>NaN</td>\n      <td>2022-04-26 16:22:00.00</td>\n      <td>2022-04-26 16:58:00.00</td>\n      <td>2022-04-26 16:58:00.00</td>\n      <td>1</td>\n      <td>1.0</td>\n      <td>1.0</td>\n    </tr>\n  </tbody>\n</table>\n<p>5 rows × 46 columns</p>\n</div>"
     },
     "execution_count": 43,
     "metadata": {},
     "output_type": "execute_result"
    }
   ],
   "source": [
    "data_age_filter_ts_valid_intern_wait.to_csv(\"clean/data_age_filter_ts_valid_intern_wait.csv\", sep=\";\", index=False)\n",
    "data_age_filter_ts_valid_intern_wait = pd.read_csv(\"clean/data_age_filter_ts_valid_intern_wait.csv\", sep=\";\", low_memory=False)\n",
    "data_age_filter_ts_valid_intern_wait.tail()"
   ],
   "metadata": {
    "collapsed": false,
    "pycharm": {
     "name": "#%%\n"
    }
   }
  },
  {
   "cell_type": "code",
   "execution_count": 44,
   "outputs": [
    {
     "name": "stdout",
     "output_type": "stream",
     "text": [
      "<class 'pandas.core.frame.DataFrame'>\n",
      "RangeIndex: 88166 entries, 0 to 88165\n",
      "Data columns (total 46 columns):\n",
      " #   Column                       Non-Null Count  Dtype  \n",
      "---  ------                       --------------  -----  \n",
      " 0   dos_id                       88166 non-null  int64  \n",
      " 1   age                          88166 non-null  int64  \n",
      " 2   sexe                         88166 non-null  int64  \n",
      " 3   code postal                  87419 non-null  object \n",
      " 4   nbre_patient                 88166 non-null  int64  \n",
      " 5   ven_etat                     88166 non-null  int64  \n",
      " 6   ven_motifAdmission           88078 non-null  object \n",
      " 7   gravité                      88166 non-null  int64  \n",
      " 8   ven_modeEntree               88090 non-null  float64\n",
      " 9   ven_modeSortie               78080 non-null  float64\n",
      " 10  date_arrivee_patient         88166 non-null  object \n",
      " 11  TS_tri                       88166 non-null  object \n",
      " 12  debut_loc_iao                59973 non-null  object \n",
      " 13  fin_loc_iao                  59969 non-null  object \n",
      " 14  h_debut_att                  64693 non-null  object \n",
      " 15  h_fin_att                    64673 non-null  object \n",
      " 16  h_debut_box                  81523 non-null  object \n",
      " 17  h_fin_box                    81523 non-null  object \n",
      " 18  box                          81523 non-null  object \n",
      " 19  statut                       88166 non-null  object \n",
      " 20  motif                        87941 non-null  object \n",
      " 21  motif_code                   87941 non-null  object \n",
      " 22  h_debut_att_transfert        10387 non-null  object \n",
      " 23  h_fin_att_transfert          10387 non-null  object \n",
      " 24  dos_fin_PEC                  88166 non-null  object \n",
      " 25  serv_dest                    25038 non-null  float64\n",
      " 26  dos_fin_sortie               88166 non-null  object \n",
      " 27  date_deb_affect_med_interne  37364 non-null  object \n",
      " 28  date_fin_affect_med_interne  37364 non-null  object \n",
      " 29  date_deb_affect_med          29925 non-null  object \n",
      " 30  date_fin_affect_med          29925 non-null  object \n",
      " 31  c10ma                        88166 non-null  object \n",
      " 32  diag_categ_pmsi              88125 non-null  object \n",
      " 33  diag_typage_pmsi             88166 non-null  float64\n",
      " 34  nbre_dem_avis_spe            88166 non-null  int64  \n",
      " 35  date_deb_obs_avis_spe        2950 non-null   object \n",
      " 36  date_saisie_obs_spe          2950 non-null   object \n",
      " 37  ccmu_id                      88166 non-null  int64  \n",
      " 38  mode_sortie_id               88166 non-null  int64  \n",
      " 39  dest                         25038 non-null  float64\n",
      " 40  ven_admission                88166 non-null  object \n",
      " 41  ven_sortie                   87915 non-null  object \n",
      " 42  ven_date_sortie_reelle       87910 non-null  object \n",
      " 43  nbre_pat_uhcd                88166 non-null  int64  \n",
      " 44  valid_ts_tri                 88166 non-null  float64\n",
      " 45  intern_wait_time_calculable  88166 non-null  float64\n",
      "dtypes: float64(7), int64(10), object(29)\n",
      "memory usage: 30.9+ MB\n"
     ]
    }
   ],
   "source": [
    "data_age_filter_ts_valid_intern_wait.info()"
   ],
   "metadata": {
    "collapsed": false,
    "pycharm": {
     "name": "#%%\n"
    }
   }
  },
  {
   "cell_type": "code",
   "execution_count": 45,
   "outputs": [],
   "source": [
    "#Add columns intern wait time begin and end timestamps\n",
    "def calculate_intern_wait_time_begin_end(dataframe=None):\n",
    "    ts_tri = datetime.strptime(dataframe[\"TS_tri\"][:-4], \"%Y-%m-%d %H:%M:%S\")\n",
    "    ven_sortie = datetime.strptime(dataframe[\"dos_fin_PEC\"], \"%Y-%m-%d %H:%M\")\n",
    "\n",
    "    fin_loc_iao = dataframe['fin_loc_iao']\n",
    "    h_debut_att = dataframe['h_debut_att']\n",
    "\n",
    "    h_fin_att = dataframe['h_fin_att']\n",
    "    h_debut_box = dataframe['h_debut_box']\n",
    "    h_debut_att_transfert = dataframe['h_debut_att_transfert']\n",
    "\n",
    "    wait_time_interne_deb = fin_loc_iao\n",
    "    wait_time_interne_end = h_debut_box\n",
    "    if pd.isnull(wait_time_interne_deb) and not pd.isnull(h_debut_att):\n",
    "        wait_time_interne_deb = datetime.strptime(h_debut_att, \"%Y-%m-%d %H:%M\")\n",
    "    elif pd.isnull(wait_time_interne_deb) and pd.isnull(h_debut_att):\n",
    "        wait_time_interne_deb = ts_tri\n",
    "    elif not pd.isnull(wait_time_interne_deb):\n",
    "        wait_time_interne_deb = datetime.strptime(wait_time_interne_deb, \"%Y-%m-%d %H:%M\")\n",
    "\n",
    "    if pd.isnull(wait_time_interne_end) and (not pd.isnull(h_fin_att) or not pd.isnull(h_debut_att_transfert)):\n",
    "        if not pd.isnull(h_fin_att):\n",
    "            wait_time_interne_end = datetime.strptime(h_fin_att, \"%Y-%m-%d %H:%M\")\n",
    "        else:\n",
    "            wait_time_interne_end = datetime.strptime(h_debut_att_transfert, \"%Y-%m-%d %H:%M\")\n",
    "    elif not pd.isnull(wait_time_interne_end):\n",
    "        wait_time_interne_end = datetime.strptime(wait_time_interne_end, \"%Y-%m-%d %H:%M\")\n",
    "\n",
    "    #Case where there is no intern wait time\n",
    "    if pd.isnull(wait_time_interne_end) and ven_sortie - wait_time_interne_deb <= timedelta(\n",
    "            minutes=15):\n",
    "        wait_time_interne_end = ts_tri\n",
    "    elif pd.isnull(wait_time_interne_end):\n",
    "        print(\"Problem in filtering!!!\")\n",
    "        print(\"wait_time_interne_deb: \", wait_time_interne_deb, \"\\nwait_time_interne_end: \", wait_time_interne_end)\n",
    "        print(\"\\nts_tri = \", ts_tri,\n",
    "              \"\\nven_sortie = \",ven_sortie,\n",
    "\n",
    "              \"\\nfin_loc_iao = \", fin_loc_iao,\n",
    "              \"\\nh_debut_att = \", h_debut_att,\n",
    "\n",
    "              \"\\nh_fin_att = \", h_fin_att,\n",
    "              \"\\nh_debut_box = \", h_debut_box,\n",
    "              \"\\nh_debut_att_transfert = \", h_debut_att_transfert,)\n",
    "\n",
    "    if wait_time_interne_deb > wait_time_interne_end:\n",
    "        if not pd.isnull(h_debut_att):\n",
    "            wait_time_interne_deb = datetime.strptime(h_debut_att, \"%Y-%m-%d %H:%M\")\n",
    "        elif not pd.isnull(fin_loc_iao):\n",
    "            wait_time_interne_deb = datetime.strptime(fin_loc_iao, \"%Y-%m-%d %H:%M\")\n",
    "    if wait_time_interne_deb > wait_time_interne_end:\n",
    "        wait_time_interne_deb = wait_time_interne_end\n",
    "\n",
    "    return wait_time_interne_deb, wait_time_interne_end\n",
    "\n",
    "\n",
    "def add_column_intern_wait_time_begin_end(dataframe=None):\n",
    "    df = dataframe.copy(deep=True)\n",
    "    start = time.time()\n",
    "    for row_i in range(len(dataframe)):\n",
    "        df.at[row_i, 'intern_wait_time_deb'], df.at[row_i, 'intern_wait_time_end'] = calculate_intern_wait_time_begin_end(\n",
    "            dataframe=dataframe.iloc[row_i])\n",
    "        if row_i % 10000 == 0:\n",
    "            print(\"\\n*******************************************************************\")\n",
    "            print(\"row_i: \", row_i)\n",
    "            print(\"Partial time of execution: \", time.time() - start, \" s\")\n",
    "            print(\"******************************************************************\\n\")\n",
    "    end = time.time()\n",
    "    print(\"The time of execution of above program is :\", end - start, \" s\")\n",
    "    return df"
   ],
   "metadata": {
    "collapsed": false,
    "pycharm": {
     "name": "#%%\n"
    }
   }
  },
  {
   "cell_type": "code",
   "execution_count": 46,
   "outputs": [
    {
     "name": "stdout",
     "output_type": "stream",
     "text": [
      "\n",
      "*******************************************************************\n",
      "row_i:  0\n",
      "Partial time of execution:  0.0020003318786621094  s\n",
      "******************************************************************\n",
      "\n",
      "\n",
      "*******************************************************************\n",
      "row_i:  10000\n",
      "Partial time of execution:  2.9616644382476807  s\n",
      "******************************************************************\n",
      "\n",
      "\n",
      "*******************************************************************\n",
      "row_i:  20000\n",
      "Partial time of execution:  6.485936880111694  s\n",
      "******************************************************************\n",
      "\n",
      "\n",
      "*******************************************************************\n",
      "row_i:  30000\n",
      "Partial time of execution:  9.387516021728516  s\n",
      "******************************************************************\n",
      "\n",
      "\n",
      "*******************************************************************\n",
      "row_i:  40000\n",
      "Partial time of execution:  12.23507022857666  s\n",
      "******************************************************************\n",
      "\n",
      "\n",
      "*******************************************************************\n",
      "row_i:  50000\n",
      "Partial time of execution:  15.411069631576538  s\n",
      "******************************************************************\n",
      "\n",
      "\n",
      "*******************************************************************\n",
      "row_i:  60000\n",
      "Partial time of execution:  18.19026279449463  s\n",
      "******************************************************************\n",
      "\n",
      "\n",
      "*******************************************************************\n",
      "row_i:  70000\n",
      "Partial time of execution:  21.31924557685852  s\n",
      "******************************************************************\n",
      "\n",
      "\n",
      "*******************************************************************\n",
      "row_i:  80000\n",
      "Partial time of execution:  24.417245626449585  s\n",
      "******************************************************************\n",
      "\n",
      "The time of execution of above program is : 26.733409643173218  s\n"
     ]
    }
   ],
   "source": [
    "data_age_filter_full_intern_wait_ts = add_column_intern_wait_time_begin_end(\n",
    "    dataframe=data_age_filter_ts_valid_intern_wait)"
   ],
   "metadata": {
    "collapsed": false,
    "pycharm": {
     "name": "#%%\n"
    }
   }
  },
  {
   "cell_type": "code",
   "execution_count": 47,
   "outputs": [
    {
     "name": "stdout",
     "output_type": "stream",
     "text": [
      "<class 'pandas.core.frame.DataFrame'>\n",
      "RangeIndex: 88166 entries, 0 to 88165\n",
      "Data columns (total 48 columns):\n",
      " #   Column                       Non-Null Count  Dtype         \n",
      "---  ------                       --------------  -----         \n",
      " 0   dos_id                       88166 non-null  int64         \n",
      " 1   age                          88166 non-null  int64         \n",
      " 2   sexe                         88166 non-null  int64         \n",
      " 3   code postal                  87419 non-null  object        \n",
      " 4   nbre_patient                 88166 non-null  int64         \n",
      " 5   ven_etat                     88166 non-null  int64         \n",
      " 6   ven_motifAdmission           88078 non-null  object        \n",
      " 7   gravité                      88166 non-null  int64         \n",
      " 8   ven_modeEntree               88090 non-null  float64       \n",
      " 9   ven_modeSortie               78080 non-null  float64       \n",
      " 10  date_arrivee_patient         88166 non-null  object        \n",
      " 11  TS_tri                       88166 non-null  object        \n",
      " 12  debut_loc_iao                59973 non-null  object        \n",
      " 13  fin_loc_iao                  59969 non-null  object        \n",
      " 14  h_debut_att                  64693 non-null  object        \n",
      " 15  h_fin_att                    64673 non-null  object        \n",
      " 16  h_debut_box                  81523 non-null  object        \n",
      " 17  h_fin_box                    81523 non-null  object        \n",
      " 18  box                          81523 non-null  object        \n",
      " 19  statut                       88166 non-null  object        \n",
      " 20  motif                        87941 non-null  object        \n",
      " 21  motif_code                   87941 non-null  object        \n",
      " 22  h_debut_att_transfert        10387 non-null  object        \n",
      " 23  h_fin_att_transfert          10387 non-null  object        \n",
      " 24  dos_fin_PEC                  88166 non-null  object        \n",
      " 25  serv_dest                    25038 non-null  float64       \n",
      " 26  dos_fin_sortie               88166 non-null  object        \n",
      " 27  date_deb_affect_med_interne  37364 non-null  object        \n",
      " 28  date_fin_affect_med_interne  37364 non-null  object        \n",
      " 29  date_deb_affect_med          29925 non-null  object        \n",
      " 30  date_fin_affect_med          29925 non-null  object        \n",
      " 31  c10ma                        88166 non-null  object        \n",
      " 32  diag_categ_pmsi              88125 non-null  object        \n",
      " 33  diag_typage_pmsi             88166 non-null  float64       \n",
      " 34  nbre_dem_avis_spe            88166 non-null  int64         \n",
      " 35  date_deb_obs_avis_spe        2950 non-null   object        \n",
      " 36  date_saisie_obs_spe          2950 non-null   object        \n",
      " 37  ccmu_id                      88166 non-null  int64         \n",
      " 38  mode_sortie_id               88166 non-null  int64         \n",
      " 39  dest                         25038 non-null  float64       \n",
      " 40  ven_admission                88166 non-null  object        \n",
      " 41  ven_sortie                   87915 non-null  object        \n",
      " 42  ven_date_sortie_reelle       87910 non-null  object        \n",
      " 43  nbre_pat_uhcd                88166 non-null  int64         \n",
      " 44  valid_ts_tri                 88166 non-null  float64       \n",
      " 45  intern_wait_time_calculable  88166 non-null  float64       \n",
      " 46  intern_wait_time_deb         88166 non-null  datetime64[ns]\n",
      " 47  intern_wait_time_end         88166 non-null  datetime64[ns]\n",
      "dtypes: datetime64[ns](2), float64(7), int64(10), object(29)\n",
      "memory usage: 32.3+ MB\n"
     ]
    }
   ],
   "source": [
    "data_age_filter_full_intern_wait_ts.info()"
   ],
   "metadata": {
    "collapsed": false,
    "pycharm": {
     "name": "#%%\n"
    }
   }
  },
  {
   "cell_type": "code",
   "execution_count": 48,
   "outputs": [
    {
     "data": {
      "text/plain": "(88166, 48)"
     },
     "execution_count": 48,
     "metadata": {},
     "output_type": "execute_result"
    }
   ],
   "source": [
    "data_age_filter_full_intern_wait_ts.shape"
   ],
   "metadata": {
    "collapsed": false,
    "pycharm": {
     "name": "#%%\n"
    }
   }
  },
  {
   "cell_type": "code",
   "execution_count": 49,
   "outputs": [
    {
     "data": {
      "text/plain": "[]"
     },
     "execution_count": 49,
     "metadata": {},
     "output_type": "execute_result"
    }
   ],
   "source": [
    "#Delete rows with null intern_wait_time_end\n",
    "rows_list = data_age_filter_full_intern_wait_ts.index[pd.isnull(data_age_filter_full_intern_wait_ts['intern_wait_time_end'])].tolist()\n",
    "rows_list"
   ],
   "metadata": {
    "collapsed": false,
    "pycharm": {
     "name": "#%%\n"
    }
   }
  },
  {
   "cell_type": "code",
   "execution_count": 50,
   "outputs": [
    {
     "data": {
      "text/plain": "(88166, 48)"
     },
     "execution_count": 50,
     "metadata": {},
     "output_type": "execute_result"
    }
   ],
   "source": [
    "data_age_filter_full_intern_wait_ts.drop(rows_list, axis=0, inplace=True)\n",
    "data_age_filter_full_intern_wait_ts.shape"
   ],
   "metadata": {
    "collapsed": false,
    "pycharm": {
     "name": "#%%\n"
    }
   }
  },
  {
   "cell_type": "code",
   "execution_count": 51,
   "outputs": [
    {
     "data": {
      "text/plain": "       dos_id  age  sexe code postal  nbre_patient  ven_etat  \\\n88161  135694   84     1     81200.0            55         2   \n88162  135695   59     1     81100.0            56         2   \n88163  135697   37     2     81120.0            56         2   \n88164  135762   15     1     81100.0            35         2   \n88165  135763   15     1     81100.0            35         2   \n\n      ven_motifAdmission  gravité  ven_modeEntree  ven_modeSortie  ...  \\\n88161        Non precise        5            11.0            64.0  ...   \n88162        Non precise        3            16.0            62.0  ...   \n88163        Non precise        5            11.0            64.0  ...   \n88164        Non precise        5            11.0            64.0  ...   \n88165        Non precise        5            11.0            64.0  ...   \n\n      mode_sortie_id    dest           ven_admission              ven_sortie  \\\n88161              1     NaN  2022-04-25 22:55:00.00  2022-04-26 00:47:00.00   \n88162              3  1734.0  2022-04-25 23:04:00.00  2022-04-26 11:50:00.00   \n88163              1     NaN  2022-04-25 23:45:00.00  2022-04-26 02:11:00.00   \n88164              1     NaN  2022-04-26 16:21:00.00  2022-04-26 17:10:00.00   \n88165              1     NaN  2022-04-26 16:22:00.00  2022-04-26 16:58:00.00   \n\n       ven_date_sortie_reelle nbre_pat_uhcd valid_ts_tri  \\\n88161  2022-04-26 00:47:00.00             1          1.0   \n88162  2022-04-26 11:50:00.00             1          1.0   \n88163  2022-04-26 02:11:00.00             1          1.0   \n88164  2022-04-26 17:10:00.00             1          1.0   \n88165  2022-04-26 16:58:00.00             1          1.0   \n\n      intern_wait_time_calculable intern_wait_time_deb intern_wait_time_end  \n88161                         1.0  2022-04-25 22:59:00  2022-04-25 23:18:00  \n88162                         1.0  2022-04-25 23:17:00  2022-04-25 23:31:00  \n88163                         1.0  2022-04-25 23:52:00  2022-04-26 00:59:00  \n88164                         1.0  2022-04-26 16:26:00  2022-04-26 17:10:00  \n88165                         1.0  2022-04-26 16:26:00  2022-04-26 16:58:00  \n\n[5 rows x 48 columns]",
      "text/html": "<div>\n<style scoped>\n    .dataframe tbody tr th:only-of-type {\n        vertical-align: middle;\n    }\n\n    .dataframe tbody tr th {\n        vertical-align: top;\n    }\n\n    .dataframe thead th {\n        text-align: right;\n    }\n</style>\n<table border=\"1\" class=\"dataframe\">\n  <thead>\n    <tr style=\"text-align: right;\">\n      <th></th>\n      <th>dos_id</th>\n      <th>age</th>\n      <th>sexe</th>\n      <th>code postal</th>\n      <th>nbre_patient</th>\n      <th>ven_etat</th>\n      <th>ven_motifAdmission</th>\n      <th>gravité</th>\n      <th>ven_modeEntree</th>\n      <th>ven_modeSortie</th>\n      <th>...</th>\n      <th>mode_sortie_id</th>\n      <th>dest</th>\n      <th>ven_admission</th>\n      <th>ven_sortie</th>\n      <th>ven_date_sortie_reelle</th>\n      <th>nbre_pat_uhcd</th>\n      <th>valid_ts_tri</th>\n      <th>intern_wait_time_calculable</th>\n      <th>intern_wait_time_deb</th>\n      <th>intern_wait_time_end</th>\n    </tr>\n  </thead>\n  <tbody>\n    <tr>\n      <th>88161</th>\n      <td>135694</td>\n      <td>84</td>\n      <td>1</td>\n      <td>81200.0</td>\n      <td>55</td>\n      <td>2</td>\n      <td>Non precise</td>\n      <td>5</td>\n      <td>11.0</td>\n      <td>64.0</td>\n      <td>...</td>\n      <td>1</td>\n      <td>NaN</td>\n      <td>2022-04-25 22:55:00.00</td>\n      <td>2022-04-26 00:47:00.00</td>\n      <td>2022-04-26 00:47:00.00</td>\n      <td>1</td>\n      <td>1.0</td>\n      <td>1.0</td>\n      <td>2022-04-25 22:59:00</td>\n      <td>2022-04-25 23:18:00</td>\n    </tr>\n    <tr>\n      <th>88162</th>\n      <td>135695</td>\n      <td>59</td>\n      <td>1</td>\n      <td>81100.0</td>\n      <td>56</td>\n      <td>2</td>\n      <td>Non precise</td>\n      <td>3</td>\n      <td>16.0</td>\n      <td>62.0</td>\n      <td>...</td>\n      <td>3</td>\n      <td>1734.0</td>\n      <td>2022-04-25 23:04:00.00</td>\n      <td>2022-04-26 11:50:00.00</td>\n      <td>2022-04-26 11:50:00.00</td>\n      <td>1</td>\n      <td>1.0</td>\n      <td>1.0</td>\n      <td>2022-04-25 23:17:00</td>\n      <td>2022-04-25 23:31:00</td>\n    </tr>\n    <tr>\n      <th>88163</th>\n      <td>135697</td>\n      <td>37</td>\n      <td>2</td>\n      <td>81120.0</td>\n      <td>56</td>\n      <td>2</td>\n      <td>Non precise</td>\n      <td>5</td>\n      <td>11.0</td>\n      <td>64.0</td>\n      <td>...</td>\n      <td>1</td>\n      <td>NaN</td>\n      <td>2022-04-25 23:45:00.00</td>\n      <td>2022-04-26 02:11:00.00</td>\n      <td>2022-04-26 02:11:00.00</td>\n      <td>1</td>\n      <td>1.0</td>\n      <td>1.0</td>\n      <td>2022-04-25 23:52:00</td>\n      <td>2022-04-26 00:59:00</td>\n    </tr>\n    <tr>\n      <th>88164</th>\n      <td>135762</td>\n      <td>15</td>\n      <td>1</td>\n      <td>81100.0</td>\n      <td>35</td>\n      <td>2</td>\n      <td>Non precise</td>\n      <td>5</td>\n      <td>11.0</td>\n      <td>64.0</td>\n      <td>...</td>\n      <td>1</td>\n      <td>NaN</td>\n      <td>2022-04-26 16:21:00.00</td>\n      <td>2022-04-26 17:10:00.00</td>\n      <td>2022-04-26 17:10:00.00</td>\n      <td>1</td>\n      <td>1.0</td>\n      <td>1.0</td>\n      <td>2022-04-26 16:26:00</td>\n      <td>2022-04-26 17:10:00</td>\n    </tr>\n    <tr>\n      <th>88165</th>\n      <td>135763</td>\n      <td>15</td>\n      <td>1</td>\n      <td>81100.0</td>\n      <td>35</td>\n      <td>2</td>\n      <td>Non precise</td>\n      <td>5</td>\n      <td>11.0</td>\n      <td>64.0</td>\n      <td>...</td>\n      <td>1</td>\n      <td>NaN</td>\n      <td>2022-04-26 16:22:00.00</td>\n      <td>2022-04-26 16:58:00.00</td>\n      <td>2022-04-26 16:58:00.00</td>\n      <td>1</td>\n      <td>1.0</td>\n      <td>1.0</td>\n      <td>2022-04-26 16:26:00</td>\n      <td>2022-04-26 16:58:00</td>\n    </tr>\n  </tbody>\n</table>\n<p>5 rows × 48 columns</p>\n</div>"
     },
     "execution_count": 51,
     "metadata": {},
     "output_type": "execute_result"
    }
   ],
   "source": [
    "data_age_filter_full_intern_wait_ts.to_csv(\"clean/data_age_filter_full_intern_wait_ts.csv\", sep=\";\", index=False)\n",
    "data_age_filter_full_intern_wait_ts = pd.read_csv(\"clean/data_age_filter_full_intern_wait_ts.csv\", sep=\";\", low_memory=False)\n",
    "data_age_filter_full_intern_wait_ts.tail()"
   ],
   "metadata": {
    "collapsed": false,
    "pycharm": {
     "name": "#%%\n"
    }
   }
  },
  {
   "cell_type": "code",
   "execution_count": 52,
   "outputs": [
    {
     "name": "stdout",
     "output_type": "stream",
     "text": [
      "<class 'pandas.core.frame.DataFrame'>\n",
      "RangeIndex: 88166 entries, 0 to 88165\n",
      "Data columns (total 48 columns):\n",
      " #   Column                       Non-Null Count  Dtype  \n",
      "---  ------                       --------------  -----  \n",
      " 0   dos_id                       88166 non-null  int64  \n",
      " 1   age                          88166 non-null  int64  \n",
      " 2   sexe                         88166 non-null  int64  \n",
      " 3   code postal                  87419 non-null  object \n",
      " 4   nbre_patient                 88166 non-null  int64  \n",
      " 5   ven_etat                     88166 non-null  int64  \n",
      " 6   ven_motifAdmission           88078 non-null  object \n",
      " 7   gravité                      88166 non-null  int64  \n",
      " 8   ven_modeEntree               88090 non-null  float64\n",
      " 9   ven_modeSortie               78080 non-null  float64\n",
      " 10  date_arrivee_patient         88166 non-null  object \n",
      " 11  TS_tri                       88166 non-null  object \n",
      " 12  debut_loc_iao                59973 non-null  object \n",
      " 13  fin_loc_iao                  59969 non-null  object \n",
      " 14  h_debut_att                  64693 non-null  object \n",
      " 15  h_fin_att                    64673 non-null  object \n",
      " 16  h_debut_box                  81523 non-null  object \n",
      " 17  h_fin_box                    81523 non-null  object \n",
      " 18  box                          81523 non-null  object \n",
      " 19  statut                       88166 non-null  object \n",
      " 20  motif                        87941 non-null  object \n",
      " 21  motif_code                   87941 non-null  object \n",
      " 22  h_debut_att_transfert        10387 non-null  object \n",
      " 23  h_fin_att_transfert          10387 non-null  object \n",
      " 24  dos_fin_PEC                  88166 non-null  object \n",
      " 25  serv_dest                    25038 non-null  float64\n",
      " 26  dos_fin_sortie               88166 non-null  object \n",
      " 27  date_deb_affect_med_interne  37364 non-null  object \n",
      " 28  date_fin_affect_med_interne  37364 non-null  object \n",
      " 29  date_deb_affect_med          29925 non-null  object \n",
      " 30  date_fin_affect_med          29925 non-null  object \n",
      " 31  c10ma                        88166 non-null  object \n",
      " 32  diag_categ_pmsi              88125 non-null  object \n",
      " 33  diag_typage_pmsi             88166 non-null  float64\n",
      " 34  nbre_dem_avis_spe            88166 non-null  int64  \n",
      " 35  date_deb_obs_avis_spe        2950 non-null   object \n",
      " 36  date_saisie_obs_spe          2950 non-null   object \n",
      " 37  ccmu_id                      88166 non-null  int64  \n",
      " 38  mode_sortie_id               88166 non-null  int64  \n",
      " 39  dest                         25038 non-null  float64\n",
      " 40  ven_admission                88166 non-null  object \n",
      " 41  ven_sortie                   87915 non-null  object \n",
      " 42  ven_date_sortie_reelle       87910 non-null  object \n",
      " 43  nbre_pat_uhcd                88166 non-null  int64  \n",
      " 44  valid_ts_tri                 88166 non-null  float64\n",
      " 45  intern_wait_time_calculable  88166 non-null  float64\n",
      " 46  intern_wait_time_deb         88166 non-null  object \n",
      " 47  intern_wait_time_end         88166 non-null  object \n",
      "dtypes: float64(7), int64(10), object(31)\n",
      "memory usage: 32.3+ MB\n"
     ]
    }
   ],
   "source": [
    "data_age_filter_full_intern_wait_ts.info()"
   ],
   "metadata": {
    "collapsed": false,
    "pycharm": {
     "name": "#%%\n"
    }
   }
  },
  {
   "cell_type": "code",
   "execution_count": 53,
   "outputs": [
    {
     "data": {
      "text/plain": "[]"
     },
     "execution_count": 53,
     "metadata": {},
     "output_type": "execute_result"
    }
   ],
   "source": [
    "#Cleaning test patients\n",
    "\n",
    "#load test patient list\n",
    "patient_test = pd.read_csv(\"output/patient_test.csv\", sep=\";\", low_memory=False)\n",
    "patient_test_list = list(patient_test[\"dos_id\"])\n",
    "\n",
    "patient_list = list(data_age_filter_full_intern_wait_ts[\"dos_id\"])\n",
    "\n",
    "patient_test_list = list(set(patient_test_list) & set(patient_list))\n",
    "patient_test_list"
   ],
   "metadata": {
    "collapsed": false,
    "pycharm": {
     "name": "#%%\n"
    }
   }
  },
  {
   "cell_type": "code",
   "execution_count": 54,
   "outputs": [],
   "source": [
    "# dropping test patients list if there is\n",
    "data_age_filter_full_intern_wait_ts.drop(patient_test_list, inplace = True)"
   ],
   "metadata": {
    "collapsed": false,
    "pycharm": {
     "name": "#%%\n"
    }
   }
  },
  {
   "cell_type": "code",
   "execution_count": 55,
   "outputs": [
    {
     "data": {
      "text/plain": "       dos_id  age  sexe code postal  nbre_patient  ven_etat  \\\n88161  135694   84     1     81200.0            55         2   \n88162  135695   59     1     81100.0            56         2   \n88163  135697   37     2     81120.0            56         2   \n88164  135762   15     1     81100.0            35         2   \n88165  135763   15     1     81100.0            35         2   \n\n      ven_motifAdmission  gravité  ven_modeEntree  ven_modeSortie  ...  \\\n88161        Non precise        5            11.0            64.0  ...   \n88162        Non precise        3            16.0            62.0  ...   \n88163        Non precise        5            11.0            64.0  ...   \n88164        Non precise        5            11.0            64.0  ...   \n88165        Non precise        5            11.0            64.0  ...   \n\n      mode_sortie_id    dest           ven_admission              ven_sortie  \\\n88161              1     NaN  2022-04-25 22:55:00.00  2022-04-26 00:47:00.00   \n88162              3  1734.0  2022-04-25 23:04:00.00  2022-04-26 11:50:00.00   \n88163              1     NaN  2022-04-25 23:45:00.00  2022-04-26 02:11:00.00   \n88164              1     NaN  2022-04-26 16:21:00.00  2022-04-26 17:10:00.00   \n88165              1     NaN  2022-04-26 16:22:00.00  2022-04-26 16:58:00.00   \n\n       ven_date_sortie_reelle nbre_pat_uhcd valid_ts_tri  \\\n88161  2022-04-26 00:47:00.00             1          1.0   \n88162  2022-04-26 11:50:00.00             1          1.0   \n88163  2022-04-26 02:11:00.00             1          1.0   \n88164  2022-04-26 17:10:00.00             1          1.0   \n88165  2022-04-26 16:58:00.00             1          1.0   \n\n      intern_wait_time_calculable intern_wait_time_deb intern_wait_time_end  \n88161                         1.0  2022-04-25 22:59:00  2022-04-25 23:18:00  \n88162                         1.0  2022-04-25 23:17:00  2022-04-25 23:31:00  \n88163                         1.0  2022-04-25 23:52:00  2022-04-26 00:59:00  \n88164                         1.0  2022-04-26 16:26:00  2022-04-26 17:10:00  \n88165                         1.0  2022-04-26 16:26:00  2022-04-26 16:58:00  \n\n[5 rows x 48 columns]",
      "text/html": "<div>\n<style scoped>\n    .dataframe tbody tr th:only-of-type {\n        vertical-align: middle;\n    }\n\n    .dataframe tbody tr th {\n        vertical-align: top;\n    }\n\n    .dataframe thead th {\n        text-align: right;\n    }\n</style>\n<table border=\"1\" class=\"dataframe\">\n  <thead>\n    <tr style=\"text-align: right;\">\n      <th></th>\n      <th>dos_id</th>\n      <th>age</th>\n      <th>sexe</th>\n      <th>code postal</th>\n      <th>nbre_patient</th>\n      <th>ven_etat</th>\n      <th>ven_motifAdmission</th>\n      <th>gravité</th>\n      <th>ven_modeEntree</th>\n      <th>ven_modeSortie</th>\n      <th>...</th>\n      <th>mode_sortie_id</th>\n      <th>dest</th>\n      <th>ven_admission</th>\n      <th>ven_sortie</th>\n      <th>ven_date_sortie_reelle</th>\n      <th>nbre_pat_uhcd</th>\n      <th>valid_ts_tri</th>\n      <th>intern_wait_time_calculable</th>\n      <th>intern_wait_time_deb</th>\n      <th>intern_wait_time_end</th>\n    </tr>\n  </thead>\n  <tbody>\n    <tr>\n      <th>88161</th>\n      <td>135694</td>\n      <td>84</td>\n      <td>1</td>\n      <td>81200.0</td>\n      <td>55</td>\n      <td>2</td>\n      <td>Non precise</td>\n      <td>5</td>\n      <td>11.0</td>\n      <td>64.0</td>\n      <td>...</td>\n      <td>1</td>\n      <td>NaN</td>\n      <td>2022-04-25 22:55:00.00</td>\n      <td>2022-04-26 00:47:00.00</td>\n      <td>2022-04-26 00:47:00.00</td>\n      <td>1</td>\n      <td>1.0</td>\n      <td>1.0</td>\n      <td>2022-04-25 22:59:00</td>\n      <td>2022-04-25 23:18:00</td>\n    </tr>\n    <tr>\n      <th>88162</th>\n      <td>135695</td>\n      <td>59</td>\n      <td>1</td>\n      <td>81100.0</td>\n      <td>56</td>\n      <td>2</td>\n      <td>Non precise</td>\n      <td>3</td>\n      <td>16.0</td>\n      <td>62.0</td>\n      <td>...</td>\n      <td>3</td>\n      <td>1734.0</td>\n      <td>2022-04-25 23:04:00.00</td>\n      <td>2022-04-26 11:50:00.00</td>\n      <td>2022-04-26 11:50:00.00</td>\n      <td>1</td>\n      <td>1.0</td>\n      <td>1.0</td>\n      <td>2022-04-25 23:17:00</td>\n      <td>2022-04-25 23:31:00</td>\n    </tr>\n    <tr>\n      <th>88163</th>\n      <td>135697</td>\n      <td>37</td>\n      <td>2</td>\n      <td>81120.0</td>\n      <td>56</td>\n      <td>2</td>\n      <td>Non precise</td>\n      <td>5</td>\n      <td>11.0</td>\n      <td>64.0</td>\n      <td>...</td>\n      <td>1</td>\n      <td>NaN</td>\n      <td>2022-04-25 23:45:00.00</td>\n      <td>2022-04-26 02:11:00.00</td>\n      <td>2022-04-26 02:11:00.00</td>\n      <td>1</td>\n      <td>1.0</td>\n      <td>1.0</td>\n      <td>2022-04-25 23:52:00</td>\n      <td>2022-04-26 00:59:00</td>\n    </tr>\n    <tr>\n      <th>88164</th>\n      <td>135762</td>\n      <td>15</td>\n      <td>1</td>\n      <td>81100.0</td>\n      <td>35</td>\n      <td>2</td>\n      <td>Non precise</td>\n      <td>5</td>\n      <td>11.0</td>\n      <td>64.0</td>\n      <td>...</td>\n      <td>1</td>\n      <td>NaN</td>\n      <td>2022-04-26 16:21:00.00</td>\n      <td>2022-04-26 17:10:00.00</td>\n      <td>2022-04-26 17:10:00.00</td>\n      <td>1</td>\n      <td>1.0</td>\n      <td>1.0</td>\n      <td>2022-04-26 16:26:00</td>\n      <td>2022-04-26 17:10:00</td>\n    </tr>\n    <tr>\n      <th>88165</th>\n      <td>135763</td>\n      <td>15</td>\n      <td>1</td>\n      <td>81100.0</td>\n      <td>35</td>\n      <td>2</td>\n      <td>Non precise</td>\n      <td>5</td>\n      <td>11.0</td>\n      <td>64.0</td>\n      <td>...</td>\n      <td>1</td>\n      <td>NaN</td>\n      <td>2022-04-26 16:22:00.00</td>\n      <td>2022-04-26 16:58:00.00</td>\n      <td>2022-04-26 16:58:00.00</td>\n      <td>1</td>\n      <td>1.0</td>\n      <td>1.0</td>\n      <td>2022-04-26 16:26:00</td>\n      <td>2022-04-26 16:58:00</td>\n    </tr>\n  </tbody>\n</table>\n<p>5 rows × 48 columns</p>\n</div>"
     },
     "execution_count": 55,
     "metadata": {},
     "output_type": "execute_result"
    }
   ],
   "source": [
    "data_age_filter_full_intern_wait_ts.to_csv(\"clean/data_age_filter_full_intern_wait_ts.csv\", sep=\";\", index=False)\n",
    "data_age_filter_full_intern_wait_ts = pd.read_csv(\"clean/data_age_filter_full_intern_wait_ts.csv\", sep=\";\")\n",
    "data_age_filter_full_intern_wait_ts.tail()"
   ],
   "metadata": {
    "collapsed": false,
    "pycharm": {
     "name": "#%%\n"
    }
   }
  },
  {
   "cell_type": "code",
   "execution_count": null,
   "outputs": [],
   "source": [],
   "metadata": {
    "collapsed": false,
    "pycharm": {
     "name": "#%%\n"
    }
   }
  },
  {
   "cell_type": "code",
   "execution_count": 89,
   "outputs": [
    {
     "name": "stdout",
     "output_type": "stream",
     "text": [
      "\n",
      "*******************************************************************\n",
      "row_i:  0\n",
      "Partial time of execution:  0.0009989738464355469  s\n",
      "******************************************************************\n",
      "\n",
      "\n",
      "*******************************************************************\n",
      "row_i:  10000\n",
      "Partial time of execution:  2.5080149173736572  s\n",
      "******************************************************************\n",
      "\n",
      "\n",
      "*******************************************************************\n",
      "row_i:  20000\n",
      "Partial time of execution:  4.479139566421509  s\n",
      "******************************************************************\n",
      "\n",
      "\n",
      "*******************************************************************\n",
      "row_i:  30000\n",
      "Partial time of execution:  6.3488757610321045  s\n",
      "******************************************************************\n",
      "\n",
      "\n",
      "*******************************************************************\n",
      "row_i:  40000\n",
      "Partial time of execution:  8.212951183319092  s\n",
      "******************************************************************\n",
      "\n",
      "\n",
      "*******************************************************************\n",
      "row_i:  50000\n",
      "Partial time of execution:  10.20958423614502  s\n",
      "******************************************************************\n",
      "\n",
      "\n",
      "*******************************************************************\n",
      "row_i:  60000\n",
      "Partial time of execution:  12.287584781646729  s\n",
      "******************************************************************\n",
      "\n",
      "\n",
      "*******************************************************************\n",
      "row_i:  70000\n",
      "Partial time of execution:  14.198813438415527  s\n",
      "******************************************************************\n",
      "\n",
      "\n",
      "*******************************************************************\n",
      "row_i:  80000\n",
      "Partial time of execution:  16.149975538253784  s\n",
      "******************************************************************\n",
      "\n",
      "The time of execution of above program is : 17.708939790725708  s\n"
     ]
    }
   ],
   "source": [
    "#Cleaning temporary code\n",
    "df = add_column_iao_sort_ts_validity(dataframe=data_age_filter_full_intern_wait_ts.copy(deep=True))"
   ],
   "metadata": {
    "collapsed": false,
    "pycharm": {
     "name": "#%%\n"
    }
   }
  },
  {
   "cell_type": "code",
   "execution_count": 90,
   "outputs": [
    {
     "data": {
      "text/plain": "1.0    88166\nName: valid_ts_tri, dtype: int64"
     },
     "execution_count": 90,
     "metadata": {},
     "output_type": "execute_result"
    }
   ],
   "source": [
    "df[\"valid_ts_tri\"].value_counts()"
   ],
   "metadata": {
    "collapsed": false,
    "pycharm": {
     "name": "#%%\n"
    }
   }
  },
  {
   "cell_type": "code",
   "execution_count": 91,
   "outputs": [
    {
     "data": {
      "text/plain": "Int64Index([], dtype='int64')"
     },
     "execution_count": 91,
     "metadata": {},
     "output_type": "execute_result"
    }
   ],
   "source": [
    "# get names of indexes for which\n",
    "# column valid_ts_tri has value 0\n",
    "index_patients = df[df['valid_ts_tri'] == 0].index\n",
    "index_patients"
   ],
   "metadata": {
    "collapsed": false,
    "pycharm": {
     "name": "#%%\n"
    }
   }
  },
  {
   "cell_type": "code",
   "execution_count": 92,
   "outputs": [
    {
     "data": {
      "text/plain": "(88166, 49)"
     },
     "execution_count": 92,
     "metadata": {},
     "output_type": "execute_result"
    }
   ],
   "source": [
    "df.shape"
   ],
   "metadata": {
    "collapsed": false,
    "pycharm": {
     "name": "#%%\n"
    }
   }
  },
  {
   "cell_type": "code",
   "execution_count": 93,
   "outputs": [
    {
     "data": {
      "text/plain": "(88166, 49)"
     },
     "execution_count": 93,
     "metadata": {},
     "output_type": "execute_result"
    }
   ],
   "source": [
    "# drop these row indexes\n",
    "# from dataFrame\n",
    "df.drop(index_patients, inplace=True)\n",
    "df.shape"
   ],
   "metadata": {
    "collapsed": false,
    "pycharm": {
     "name": "#%%\n"
    }
   }
  },
  {
   "cell_type": "code",
   "execution_count": 94,
   "outputs": [
    {
     "data": {
      "text/plain": "1.0    88166\nName: valid_ts_tri, dtype: int64"
     },
     "execution_count": 94,
     "metadata": {},
     "output_type": "execute_result"
    }
   ],
   "source": [
    "df.valid_ts_tri.value_counts()"
   ],
   "metadata": {
    "collapsed": false,
    "pycharm": {
     "name": "#%%\n"
    }
   }
  },
  {
   "cell_type": "code",
   "execution_count": 230,
   "outputs": [],
   "source": [
    "df.to_csv(\"clean/data_age_filter_full_intern_wait_ts.csv\", sep=\";\", index=False)"
   ],
   "metadata": {
    "collapsed": false,
    "pycharm": {
     "name": "#%%\n"
    }
   }
  },
  {
   "cell_type": "code",
   "execution_count": null,
   "outputs": [],
   "source": [],
   "metadata": {
    "collapsed": false,
    "pycharm": {
     "name": "#%%\n"
    }
   }
  }
 ],
 "metadata": {
  "kernelspec": {
   "display_name": "Python 3",
   "language": "python",
   "name": "python3"
  },
  "language_info": {
   "codemirror_mode": {
    "name": "ipython",
    "version": 2
   },
   "file_extension": ".py",
   "mimetype": "text/x-python",
   "name": "python",
   "nbconvert_exporter": "python",
   "pygments_lexer": "ipython2",
   "version": "2.7.6"
  }
 },
 "nbformat": 4,
 "nbformat_minor": 0
}