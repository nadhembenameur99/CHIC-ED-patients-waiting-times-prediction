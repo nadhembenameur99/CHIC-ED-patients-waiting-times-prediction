{
 "cells": [
  {
   "cell_type": "code",
   "execution_count": 1,
   "outputs": [],
   "source": [
    "import pandas as pd\n",
    "import numpy as np\n",
    "\n",
    "data = pd.read_csv('output/feature_df.csv', sep=';', low_memory=False)"
   ],
   "metadata": {
    "collapsed": false,
    "pycharm": {
     "name": "#%%\n"
    }
   }
  },
  {
   "cell_type": "code",
   "execution_count": 2,
   "outputs": [
    {
     "data": {
      "text/plain": "   dos_id  age  sexe residence  mode_entree  etat_patient_entree motif_code  \\\n0    2226   46     2   81290.0         11.0                    2      R52.9   \n1    2228   16     1   81100.0         11.0                    2     M79.61   \n2    2229   63     2   81700.0         11.0                    2      J02.9   \n3    2230   38     1   81100.0         11.0                    2      R22.1   \n4    2231   55     2   81290.0         11.0                    2      T13.9   \n\n  motif_admission  score_tri  occupation_lits  ...  week  month  quarter  \\\n0     Non precise          4         0.890957  ...     4      1        1   \n1     Non precise          5         0.904255  ...     4      1        1   \n2     Non precise          5         0.906915  ...     4      1        1   \n3     Non precise          5         0.906915  ...     4      1        1   \n4     Non precise          5         0.909574  ...     4      1        1   \n\n   est_venu_3_derniers_mois  est_venu_derniers_48h  \\\n0                       NaN                    NaN   \n1                       NaN                    NaN   \n2                       NaN                    NaN   \n3                       NaN                    NaN   \n4                       NaN                    NaN   \n\n   moyenne_dynamique_temps_attente  date_arrivee_patient  wait_time_ext  \\\n0                        27.000000   2019-01-22 08:46:00           27.0   \n1                        28.000000   2019-01-22 09:00:00           29.0   \n2                        39.333333   2019-01-22 09:06:00           25.0   \n3                        43.000000   2019-01-22 09:15:00           25.0   \n4                        44.400000   2019-01-22 09:20:00           23.0   \n\n   wait_time_interne  wait_time  \n0                0.0       27.0  \n1                0.0       29.0  \n2               37.0       62.0  \n3               29.0       54.0  \n4               27.0       50.0  \n\n[5 rows x 39 columns]",
      "text/html": "<div>\n<style scoped>\n    .dataframe tbody tr th:only-of-type {\n        vertical-align: middle;\n    }\n\n    .dataframe tbody tr th {\n        vertical-align: top;\n    }\n\n    .dataframe thead th {\n        text-align: right;\n    }\n</style>\n<table border=\"1\" class=\"dataframe\">\n  <thead>\n    <tr style=\"text-align: right;\">\n      <th></th>\n      <th>dos_id</th>\n      <th>age</th>\n      <th>sexe</th>\n      <th>residence</th>\n      <th>mode_entree</th>\n      <th>etat_patient_entree</th>\n      <th>motif_code</th>\n      <th>motif_admission</th>\n      <th>score_tri</th>\n      <th>occupation_lits</th>\n      <th>...</th>\n      <th>week</th>\n      <th>month</th>\n      <th>quarter</th>\n      <th>est_venu_3_derniers_mois</th>\n      <th>est_venu_derniers_48h</th>\n      <th>moyenne_dynamique_temps_attente</th>\n      <th>date_arrivee_patient</th>\n      <th>wait_time_ext</th>\n      <th>wait_time_interne</th>\n      <th>wait_time</th>\n    </tr>\n  </thead>\n  <tbody>\n    <tr>\n      <th>0</th>\n      <td>2226</td>\n      <td>46</td>\n      <td>2</td>\n      <td>81290.0</td>\n      <td>11.0</td>\n      <td>2</td>\n      <td>R52.9</td>\n      <td>Non precise</td>\n      <td>4</td>\n      <td>0.890957</td>\n      <td>...</td>\n      <td>4</td>\n      <td>1</td>\n      <td>1</td>\n      <td>NaN</td>\n      <td>NaN</td>\n      <td>27.000000</td>\n      <td>2019-01-22 08:46:00</td>\n      <td>27.0</td>\n      <td>0.0</td>\n      <td>27.0</td>\n    </tr>\n    <tr>\n      <th>1</th>\n      <td>2228</td>\n      <td>16</td>\n      <td>1</td>\n      <td>81100.0</td>\n      <td>11.0</td>\n      <td>2</td>\n      <td>M79.61</td>\n      <td>Non precise</td>\n      <td>5</td>\n      <td>0.904255</td>\n      <td>...</td>\n      <td>4</td>\n      <td>1</td>\n      <td>1</td>\n      <td>NaN</td>\n      <td>NaN</td>\n      <td>28.000000</td>\n      <td>2019-01-22 09:00:00</td>\n      <td>29.0</td>\n      <td>0.0</td>\n      <td>29.0</td>\n    </tr>\n    <tr>\n      <th>2</th>\n      <td>2229</td>\n      <td>63</td>\n      <td>2</td>\n      <td>81700.0</td>\n      <td>11.0</td>\n      <td>2</td>\n      <td>J02.9</td>\n      <td>Non precise</td>\n      <td>5</td>\n      <td>0.906915</td>\n      <td>...</td>\n      <td>4</td>\n      <td>1</td>\n      <td>1</td>\n      <td>NaN</td>\n      <td>NaN</td>\n      <td>39.333333</td>\n      <td>2019-01-22 09:06:00</td>\n      <td>25.0</td>\n      <td>37.0</td>\n      <td>62.0</td>\n    </tr>\n    <tr>\n      <th>3</th>\n      <td>2230</td>\n      <td>38</td>\n      <td>1</td>\n      <td>81100.0</td>\n      <td>11.0</td>\n      <td>2</td>\n      <td>R22.1</td>\n      <td>Non precise</td>\n      <td>5</td>\n      <td>0.906915</td>\n      <td>...</td>\n      <td>4</td>\n      <td>1</td>\n      <td>1</td>\n      <td>NaN</td>\n      <td>NaN</td>\n      <td>43.000000</td>\n      <td>2019-01-22 09:15:00</td>\n      <td>25.0</td>\n      <td>29.0</td>\n      <td>54.0</td>\n    </tr>\n    <tr>\n      <th>4</th>\n      <td>2231</td>\n      <td>55</td>\n      <td>2</td>\n      <td>81290.0</td>\n      <td>11.0</td>\n      <td>2</td>\n      <td>T13.9</td>\n      <td>Non precise</td>\n      <td>5</td>\n      <td>0.909574</td>\n      <td>...</td>\n      <td>4</td>\n      <td>1</td>\n      <td>1</td>\n      <td>NaN</td>\n      <td>NaN</td>\n      <td>44.400000</td>\n      <td>2019-01-22 09:20:00</td>\n      <td>23.0</td>\n      <td>27.0</td>\n      <td>50.0</td>\n    </tr>\n  </tbody>\n</table>\n<p>5 rows × 39 columns</p>\n</div>"
     },
     "execution_count": 2,
     "metadata": {},
     "output_type": "execute_result"
    }
   ],
   "source": [
    "dataset = data.copy(deep=True)\n",
    "dataset.head()"
   ],
   "metadata": {
    "collapsed": false,
    "pycharm": {
     "name": "#%%\n"
    }
   }
  },
  {
   "cell_type": "code",
   "execution_count": 3,
   "outputs": [],
   "source": [
    "dataset.insert(26, \"hour_of_day\", np.nan, True)\n",
    "dataset['date_arrivee_patient'] = pd.to_datetime(dataset['date_arrivee_patient'])\n",
    "dataset['hour_of_day'] = dataset['date_arrivee_patient'].dt.hour"
   ],
   "metadata": {
    "collapsed": false,
    "pycharm": {
     "name": "#%%\n"
    }
   }
  },
  {
   "cell_type": "code",
   "execution_count": 4,
   "outputs": [
    {
     "data": {
      "text/plain": "10    6616\n9     6089\n11    5973\n14    5642\n13    5604\n15    5368\n16    5030\n12    5019\n17    4994\n18    4909\n8     4493\n19    4352\n20    3844\n21    3495\n22    2777\n23    2416\n7     2044\n0     1912\n1     1568\n6     1333\n2     1298\n3     1151\n4     1121\n5     1118\nName: hour_of_day, dtype: int64"
     },
     "execution_count": 4,
     "metadata": {},
     "output_type": "execute_result"
    }
   ],
   "source": [
    "dataset['hour_of_day'].value_counts()"
   ],
   "metadata": {
    "collapsed": false,
    "pycharm": {
     "name": "#%%\n"
    }
   }
  },
  {
   "cell_type": "code",
   "execution_count": 5,
   "outputs": [
    {
     "data": {
      "text/plain": "Index(['dos_id', 'age', 'sexe', 'residence', 'mode_entree',\n       'etat_patient_entree', 'motif_code', 'motif_admission', 'score_tri',\n       'occupation_lits', 'nbre_patient_urgence', 'occupation_salles_att',\n       'ratio_medecin_patient', 'ratio_interne_patient',\n       'ratio_infirmiere_patient', 'nbre_patient_score_0',\n       'nbre_patient_score_1', 'nbre_patient_score_2', 'nbre_patient_score_3',\n       'nbre_patient_score_4', 'nbre_patient_score_5',\n       'nbre_patient_salle_att_ext', 'nbre_patient_salle_att_interne',\n       'nbre_patient_traite_sans_fin_PEC', 'nbre_patient_entre_finPEC_sortie',\n       'nbre_patient_UHCD', 'hour_of_day', 'UHCD_saturee', 'day_of_week',\n       'is_weekend', 'week', 'month', 'quarter', 'est_venu_3_derniers_mois',\n       'est_venu_derniers_48h', 'moyenne_dynamique_temps_attente',\n       'date_arrivee_patient', 'wait_time_ext', 'wait_time_interne',\n       'wait_time'],\n      dtype='object')"
     },
     "execution_count": 5,
     "metadata": {},
     "output_type": "execute_result"
    }
   ],
   "source": [
    "dataset.columns"
   ],
   "metadata": {
    "collapsed": false,
    "pycharm": {
     "name": "#%%\n"
    }
   }
  },
  {
   "cell_type": "code",
   "execution_count": 6,
   "outputs": [
    {
     "name": "stdout",
     "output_type": "stream",
     "text": [
      "<class 'pandas.core.frame.DataFrame'>\n",
      "RangeIndex: 88166 entries, 0 to 88165\n",
      "Data columns (total 40 columns):\n",
      " #   Column                            Non-Null Count  Dtype         \n",
      "---  ------                            --------------  -----         \n",
      " 0   dos_id                            88166 non-null  int64         \n",
      " 1   age                               88166 non-null  int64         \n",
      " 2   sexe                              88166 non-null  int64         \n",
      " 3   residence                         87419 non-null  object        \n",
      " 4   mode_entree                       88090 non-null  float64       \n",
      " 5   etat_patient_entree               88166 non-null  int64         \n",
      " 6   motif_code                        87941 non-null  object        \n",
      " 7   motif_admission                   88078 non-null  object        \n",
      " 8   score_tri                         88166 non-null  int64         \n",
      " 9   occupation_lits                   88166 non-null  float64       \n",
      " 10  nbre_patient_urgence              88166 non-null  float64       \n",
      " 11  occupation_salles_att             88166 non-null  float64       \n",
      " 12  ratio_medecin_patient             0 non-null      float64       \n",
      " 13  ratio_interne_patient             0 non-null      float64       \n",
      " 14  ratio_infirmiere_patient          0 non-null      float64       \n",
      " 15  nbre_patient_score_0              88166 non-null  float64       \n",
      " 16  nbre_patient_score_1              88166 non-null  float64       \n",
      " 17  nbre_patient_score_2              88166 non-null  float64       \n",
      " 18  nbre_patient_score_3              88166 non-null  float64       \n",
      " 19  nbre_patient_score_4              88166 non-null  float64       \n",
      " 20  nbre_patient_score_5              88166 non-null  float64       \n",
      " 21  nbre_patient_salle_att_ext        88166 non-null  float64       \n",
      " 22  nbre_patient_salle_att_interne    88166 non-null  float64       \n",
      " 23  nbre_patient_traite_sans_fin_PEC  88166 non-null  float64       \n",
      " 24  nbre_patient_entre_finPEC_sortie  88166 non-null  float64       \n",
      " 25  nbre_patient_UHCD                 88166 non-null  int64         \n",
      " 26  hour_of_day                       88166 non-null  int64         \n",
      " 27  UHCD_saturee                      88166 non-null  int64         \n",
      " 28  day_of_week                       88166 non-null  int64         \n",
      " 29  is_weekend                        88166 non-null  bool          \n",
      " 30  week                              88166 non-null  int64         \n",
      " 31  month                             88166 non-null  int64         \n",
      " 32  quarter                           88166 non-null  int64         \n",
      " 33  est_venu_3_derniers_mois          0 non-null      float64       \n",
      " 34  est_venu_derniers_48h             0 non-null      float64       \n",
      " 35  moyenne_dynamique_temps_attente   88166 non-null  float64       \n",
      " 36  date_arrivee_patient              88166 non-null  datetime64[ns]\n",
      " 37  wait_time_ext                     88166 non-null  float64       \n",
      " 38  wait_time_interne                 88166 non-null  float64       \n",
      " 39  wait_time                         88166 non-null  float64       \n",
      "dtypes: bool(1), datetime64[ns](1), float64(23), int64(12), object(3)\n",
      "memory usage: 26.3+ MB\n"
     ]
    }
   ],
   "source": [
    "dataset.info()"
   ],
   "metadata": {
    "collapsed": false,
    "pycharm": {
     "name": "#%%\n"
    }
   }
  },
  {
   "cell_type": "code",
   "execution_count": 7,
   "outputs": [],
   "source": [
    "dataset.drop(columns=['dos_id', 'motif_admission', 'ratio_medecin_patient', 'ratio_interne_patient',\n",
    "                      'ratio_infirmiere_patient', 'est_venu_3_derniers_mois',\n",
    "                      'est_venu_derniers_48h', 'date_arrivee_patient'], inplace=True)"
   ],
   "metadata": {
    "collapsed": false,
    "pycharm": {
     "name": "#%%\n"
    }
   }
  },
  {
   "cell_type": "code",
   "execution_count": 8,
   "outputs": [
    {
     "data": {
      "text/plain": "(88166, 32)"
     },
     "execution_count": 8,
     "metadata": {},
     "output_type": "execute_result"
    }
   ],
   "source": [
    "dataset.shape"
   ],
   "metadata": {
    "collapsed": false,
    "pycharm": {
     "name": "#%%\n"
    }
   }
  },
  {
   "cell_type": "code",
   "execution_count": 9,
   "outputs": [
    {
     "data": {
      "text/plain": "   age  sexe residence  mode_entree  etat_patient_entree motif_code  \\\n0   46     2   81290.0         11.0                    2      R52.9   \n1   16     1   81100.0         11.0                    2     M79.61   \n2   63     2   81700.0         11.0                    2      J02.9   \n3   38     1   81100.0         11.0                    2      R22.1   \n4   55     2   81290.0         11.0                    2      T13.9   \n\n   score_tri  occupation_lits  nbre_patient_urgence  occupation_salles_att  \\\n0          4         0.890957                   0.0               0.000000   \n1          5         0.904255                   1.0               1.000000   \n2          5         0.906915                   2.0               1.000000   \n3          5         0.906915                   3.0               0.666667   \n4          5         0.909574                   4.0               0.750000   \n\n   ...  UHCD_saturee  day_of_week  is_weekend  week  month  quarter  \\\n0  ...             1            1       False     4      1        1   \n1  ...             1            1       False     4      1        1   \n2  ...             1            1       False     4      1        1   \n3  ...             1            1       False     4      1        1   \n4  ...             1            1       False     4      1        1   \n\n   moyenne_dynamique_temps_attente  wait_time_ext  wait_time_interne  \\\n0                        27.000000           27.0                0.0   \n1                        28.000000           29.0                0.0   \n2                        39.333333           25.0               37.0   \n3                        43.000000           25.0               29.0   \n4                        44.400000           23.0               27.0   \n\n   wait_time  \n0       27.0  \n1       29.0  \n2       62.0  \n3       54.0  \n4       50.0  \n\n[5 rows x 32 columns]",
      "text/html": "<div>\n<style scoped>\n    .dataframe tbody tr th:only-of-type {\n        vertical-align: middle;\n    }\n\n    .dataframe tbody tr th {\n        vertical-align: top;\n    }\n\n    .dataframe thead th {\n        text-align: right;\n    }\n</style>\n<table border=\"1\" class=\"dataframe\">\n  <thead>\n    <tr style=\"text-align: right;\">\n      <th></th>\n      <th>age</th>\n      <th>sexe</th>\n      <th>residence</th>\n      <th>mode_entree</th>\n      <th>etat_patient_entree</th>\n      <th>motif_code</th>\n      <th>score_tri</th>\n      <th>occupation_lits</th>\n      <th>nbre_patient_urgence</th>\n      <th>occupation_salles_att</th>\n      <th>...</th>\n      <th>UHCD_saturee</th>\n      <th>day_of_week</th>\n      <th>is_weekend</th>\n      <th>week</th>\n      <th>month</th>\n      <th>quarter</th>\n      <th>moyenne_dynamique_temps_attente</th>\n      <th>wait_time_ext</th>\n      <th>wait_time_interne</th>\n      <th>wait_time</th>\n    </tr>\n  </thead>\n  <tbody>\n    <tr>\n      <th>0</th>\n      <td>46</td>\n      <td>2</td>\n      <td>81290.0</td>\n      <td>11.0</td>\n      <td>2</td>\n      <td>R52.9</td>\n      <td>4</td>\n      <td>0.890957</td>\n      <td>0.0</td>\n      <td>0.000000</td>\n      <td>...</td>\n      <td>1</td>\n      <td>1</td>\n      <td>False</td>\n      <td>4</td>\n      <td>1</td>\n      <td>1</td>\n      <td>27.000000</td>\n      <td>27.0</td>\n      <td>0.0</td>\n      <td>27.0</td>\n    </tr>\n    <tr>\n      <th>1</th>\n      <td>16</td>\n      <td>1</td>\n      <td>81100.0</td>\n      <td>11.0</td>\n      <td>2</td>\n      <td>M79.61</td>\n      <td>5</td>\n      <td>0.904255</td>\n      <td>1.0</td>\n      <td>1.000000</td>\n      <td>...</td>\n      <td>1</td>\n      <td>1</td>\n      <td>False</td>\n      <td>4</td>\n      <td>1</td>\n      <td>1</td>\n      <td>28.000000</td>\n      <td>29.0</td>\n      <td>0.0</td>\n      <td>29.0</td>\n    </tr>\n    <tr>\n      <th>2</th>\n      <td>63</td>\n      <td>2</td>\n      <td>81700.0</td>\n      <td>11.0</td>\n      <td>2</td>\n      <td>J02.9</td>\n      <td>5</td>\n      <td>0.906915</td>\n      <td>2.0</td>\n      <td>1.000000</td>\n      <td>...</td>\n      <td>1</td>\n      <td>1</td>\n      <td>False</td>\n      <td>4</td>\n      <td>1</td>\n      <td>1</td>\n      <td>39.333333</td>\n      <td>25.0</td>\n      <td>37.0</td>\n      <td>62.0</td>\n    </tr>\n    <tr>\n      <th>3</th>\n      <td>38</td>\n      <td>1</td>\n      <td>81100.0</td>\n      <td>11.0</td>\n      <td>2</td>\n      <td>R22.1</td>\n      <td>5</td>\n      <td>0.906915</td>\n      <td>3.0</td>\n      <td>0.666667</td>\n      <td>...</td>\n      <td>1</td>\n      <td>1</td>\n      <td>False</td>\n      <td>4</td>\n      <td>1</td>\n      <td>1</td>\n      <td>43.000000</td>\n      <td>25.0</td>\n      <td>29.0</td>\n      <td>54.0</td>\n    </tr>\n    <tr>\n      <th>4</th>\n      <td>55</td>\n      <td>2</td>\n      <td>81290.0</td>\n      <td>11.0</td>\n      <td>2</td>\n      <td>T13.9</td>\n      <td>5</td>\n      <td>0.909574</td>\n      <td>4.0</td>\n      <td>0.750000</td>\n      <td>...</td>\n      <td>1</td>\n      <td>1</td>\n      <td>False</td>\n      <td>4</td>\n      <td>1</td>\n      <td>1</td>\n      <td>44.400000</td>\n      <td>23.0</td>\n      <td>27.0</td>\n      <td>50.0</td>\n    </tr>\n  </tbody>\n</table>\n<p>5 rows × 32 columns</p>\n</div>"
     },
     "execution_count": 9,
     "metadata": {},
     "output_type": "execute_result"
    }
   ],
   "source": [
    "dataset.head()"
   ],
   "metadata": {
    "collapsed": false,
    "pycharm": {
     "name": "#%%\n"
    }
   }
  },
  {
   "cell_type": "code",
   "execution_count": 10,
   "outputs": [],
   "source": [
    "from sklearn.model_selection import train_test_split\n",
    "from sklearn.impute import SimpleImputer"
   ],
   "metadata": {
    "collapsed": false,
    "pycharm": {
     "name": "#%%\n"
    }
   }
  },
  {
   "cell_type": "code",
   "execution_count": 11,
   "outputs": [
    {
     "name": "stdout",
     "output_type": "stream",
     "text": [
      "<class 'pandas.core.frame.DataFrame'>\n",
      "RangeIndex: 88166 entries, 0 to 88165\n",
      "Data columns (total 32 columns):\n",
      " #   Column                            Non-Null Count  Dtype  \n",
      "---  ------                            --------------  -----  \n",
      " 0   age                               88166 non-null  int64  \n",
      " 1   sexe                              88166 non-null  int64  \n",
      " 2   residence                         87419 non-null  object \n",
      " 3   mode_entree                       88090 non-null  float64\n",
      " 4   etat_patient_entree               88166 non-null  int64  \n",
      " 5   motif_code                        87941 non-null  object \n",
      " 6   score_tri                         88166 non-null  int64  \n",
      " 7   occupation_lits                   88166 non-null  float64\n",
      " 8   nbre_patient_urgence              88166 non-null  float64\n",
      " 9   occupation_salles_att             88166 non-null  float64\n",
      " 10  nbre_patient_score_0              88166 non-null  float64\n",
      " 11  nbre_patient_score_1              88166 non-null  float64\n",
      " 12  nbre_patient_score_2              88166 non-null  float64\n",
      " 13  nbre_patient_score_3              88166 non-null  float64\n",
      " 14  nbre_patient_score_4              88166 non-null  float64\n",
      " 15  nbre_patient_score_5              88166 non-null  float64\n",
      " 16  nbre_patient_salle_att_ext        88166 non-null  float64\n",
      " 17  nbre_patient_salle_att_interne    88166 non-null  float64\n",
      " 18  nbre_patient_traite_sans_fin_PEC  88166 non-null  float64\n",
      " 19  nbre_patient_entre_finPEC_sortie  88166 non-null  float64\n",
      " 20  nbre_patient_UHCD                 88166 non-null  int64  \n",
      " 21  hour_of_day                       88166 non-null  int64  \n",
      " 22  UHCD_saturee                      88166 non-null  int64  \n",
      " 23  day_of_week                       88166 non-null  int64  \n",
      " 24  is_weekend                        88166 non-null  bool   \n",
      " 25  week                              88166 non-null  int64  \n",
      " 26  month                             88166 non-null  int64  \n",
      " 27  quarter                           88166 non-null  int64  \n",
      " 28  moyenne_dynamique_temps_attente   88166 non-null  float64\n",
      " 29  wait_time_ext                     88166 non-null  float64\n",
      " 30  wait_time_interne                 88166 non-null  float64\n",
      " 31  wait_time                         88166 non-null  float64\n",
      "dtypes: bool(1), float64(18), int64(11), object(2)\n",
      "memory usage: 20.9+ MB\n"
     ]
    }
   ],
   "source": [
    "dataset.info()"
   ],
   "metadata": {
    "collapsed": false,
    "pycharm": {
     "name": "#%%\n"
    }
   }
  },
  {
   "cell_type": "code",
   "execution_count": 12,
   "outputs": [
    {
     "data": {
      "text/plain": "count    88166.000000\nmean        85.084420\nstd        285.361208\nmin          0.000000\n25%         14.000000\n50%         42.000000\n75%        121.000000\nmax      75534.000000\nName: wait_time, dtype: float64"
     },
     "execution_count": 12,
     "metadata": {},
     "output_type": "execute_result"
    }
   ],
   "source": [
    "data['wait_time'].describe()"
   ],
   "metadata": {
    "collapsed": false,
    "pycharm": {
     "name": "#%%\n"
    }
   }
  },
  {
   "cell_type": "code",
   "execution_count": 13,
   "outputs": [
    {
     "data": {
      "text/plain": "Empty DataFrame\nColumns: [dos_id, age, sexe, residence, mode_entree, etat_patient_entree, motif_code, motif_admission, score_tri, occupation_lits, nbre_patient_urgence, occupation_salles_att, ratio_medecin_patient, ratio_interne_patient, ratio_infirmiere_patient, nbre_patient_score_0, nbre_patient_score_1, nbre_patient_score_2, nbre_patient_score_3, nbre_patient_score_4, nbre_patient_score_5, nbre_patient_salle_att_ext, nbre_patient_salle_att_interne, nbre_patient_traite_sans_fin_PEC, nbre_patient_entre_finPEC_sortie, nbre_patient_UHCD, UHCD_saturee, day_of_week, is_weekend, week, month, quarter, est_venu_3_derniers_mois, est_venu_derniers_48h, moyenne_dynamique_temps_attente, date_arrivee_patient, wait_time_ext, wait_time_interne, wait_time]\nIndex: []\n\n[0 rows x 39 columns]",
      "text/html": "<div>\n<style scoped>\n    .dataframe tbody tr th:only-of-type {\n        vertical-align: middle;\n    }\n\n    .dataframe tbody tr th {\n        vertical-align: top;\n    }\n\n    .dataframe thead th {\n        text-align: right;\n    }\n</style>\n<table border=\"1\" class=\"dataframe\">\n  <thead>\n    <tr style=\"text-align: right;\">\n      <th></th>\n      <th>dos_id</th>\n      <th>age</th>\n      <th>sexe</th>\n      <th>residence</th>\n      <th>mode_entree</th>\n      <th>etat_patient_entree</th>\n      <th>motif_code</th>\n      <th>motif_admission</th>\n      <th>score_tri</th>\n      <th>occupation_lits</th>\n      <th>...</th>\n      <th>week</th>\n      <th>month</th>\n      <th>quarter</th>\n      <th>est_venu_3_derniers_mois</th>\n      <th>est_venu_derniers_48h</th>\n      <th>moyenne_dynamique_temps_attente</th>\n      <th>date_arrivee_patient</th>\n      <th>wait_time_ext</th>\n      <th>wait_time_interne</th>\n      <th>wait_time</th>\n    </tr>\n  </thead>\n  <tbody>\n  </tbody>\n</table>\n<p>0 rows × 39 columns</p>\n</div>"
     },
     "execution_count": 13,
     "metadata": {},
     "output_type": "execute_result"
    }
   ],
   "source": [
    "data[data['wait_time'] < 0]"
   ],
   "metadata": {
    "collapsed": false,
    "pycharm": {
     "name": "#%%\n"
    }
   }
  },
  {
   "cell_type": "code",
   "execution_count": 14,
   "outputs": [],
   "source": [
    "# Separate into train and test sets\n",
    "X_train, X_test, y_train, y_test = train_test_split(\n",
    "    dataset.drop(['wait_time_ext', 'wait_time_interne', 'wait_time'], axis=1),\n",
    "    dataset['wait_time'],\n",
    "    test_size=0.3,\n",
    "    random_state=0\n",
    ")"
   ],
   "metadata": {
    "collapsed": false,
    "pycharm": {
     "name": "#%%\n"
    }
   }
  },
  {
   "cell_type": "code",
   "execution_count": 15,
   "outputs": [],
   "source": [
    "# set up the imputer\n",
    "# Use most frequent values to impute categorical data\n",
    "mode_imputer = SimpleImputer(strategy='most_frequent')"
   ],
   "metadata": {
    "collapsed": false,
    "pycharm": {
     "name": "#%%\n"
    }
   }
  },
  {
   "cell_type": "code",
   "execution_count": 16,
   "outputs": [
    {
     "data": {
      "text/plain": "SimpleImputer(strategy='most_frequent')"
     },
     "execution_count": 16,
     "metadata": {},
     "output_type": "execute_result"
    }
   ],
   "source": [
    "# fit the imputer\n",
    "mode_imputer.fit(X_train)"
   ],
   "metadata": {
    "collapsed": false,
    "pycharm": {
     "name": "#%%\n"
    }
   }
  },
  {
   "cell_type": "code",
   "execution_count": 17,
   "outputs": [],
   "source": [
    "# transform the data\n",
    "X_train = mode_imputer.transform(X_train)"
   ],
   "metadata": {
    "collapsed": false,
    "pycharm": {
     "name": "#%%\n"
    }
   }
  },
  {
   "cell_type": "code",
   "execution_count": 18,
   "outputs": [
    {
     "data": {
      "text/plain": "(61716, 29)"
     },
     "execution_count": 18,
     "metadata": {},
     "output_type": "execute_result"
    }
   ],
   "source": [
    "X_train.shape"
   ],
   "metadata": {
    "collapsed": false,
    "pycharm": {
     "name": "#%%\n"
    }
   }
  },
  {
   "cell_type": "code",
   "execution_count": 19,
   "outputs": [
    {
     "name": "stdout",
     "output_type": "stream",
     "text": [
      "<class 'pandas.core.frame.DataFrame'>\n",
      "RangeIndex: 61716 entries, 0 to 61715\n",
      "Data columns (total 29 columns):\n",
      " #   Column                            Non-Null Count  Dtype \n",
      "---  ------                            --------------  ----- \n",
      " 0   age                               61716 non-null  object\n",
      " 1   sexe                              61716 non-null  object\n",
      " 2   residence                         61716 non-null  object\n",
      " 3   mode_entree                       61716 non-null  object\n",
      " 4   etat_patient_entree               61716 non-null  object\n",
      " 5   motif_code                        61716 non-null  object\n",
      " 6   score_tri                         61716 non-null  object\n",
      " 7   occupation_lits                   61716 non-null  object\n",
      " 8   nbre_patient_urgence              61716 non-null  object\n",
      " 9   occupation_salles_att             61716 non-null  object\n",
      " 10  nbre_patient_score_0              61716 non-null  object\n",
      " 11  nbre_patient_score_1              61716 non-null  object\n",
      " 12  nbre_patient_score_2              61716 non-null  object\n",
      " 13  nbre_patient_score_3              61716 non-null  object\n",
      " 14  nbre_patient_score_4              61716 non-null  object\n",
      " 15  nbre_patient_score_5              61716 non-null  object\n",
      " 16  nbre_patient_salle_att_ext        61716 non-null  object\n",
      " 17  nbre_patient_salle_att_interne    61716 non-null  object\n",
      " 18  nbre_patient_traite_sans_fin_PEC  61716 non-null  object\n",
      " 19  nbre_patient_entre_finPEC_sortie  61716 non-null  object\n",
      " 20  nbre_patient_UHCD                 61716 non-null  object\n",
      " 21  hour_of_day                       61716 non-null  object\n",
      " 22  UHCD_saturee                      61716 non-null  object\n",
      " 23  day_of_week                       61716 non-null  object\n",
      " 24  is_weekend                        61716 non-null  object\n",
      " 25  week                              61716 non-null  object\n",
      " 26  month                             61716 non-null  object\n",
      " 27  quarter                           61716 non-null  object\n",
      " 28  moyenne_dynamique_temps_attente   61716 non-null  object\n",
      "dtypes: object(29)\n",
      "memory usage: 13.7+ MB\n"
     ]
    }
   ],
   "source": [
    "X_train = pd.DataFrame(X_train)\n",
    "X_train.columns = dataset.columns[:-3]\n",
    "X_train.info()"
   ],
   "metadata": {
    "collapsed": false,
    "pycharm": {
     "name": "#%%\n"
    }
   }
  },
  {
   "cell_type": "code",
   "execution_count": 20,
   "outputs": [
    {
     "data": {
      "text/plain": "0    53.0\n1    13.0\n2    34.0\n3    32.0\n4    47.0\nName: wait_time, dtype: float64"
     },
     "execution_count": 20,
     "metadata": {},
     "output_type": "execute_result"
    }
   ],
   "source": [
    "y_train = y_train.reset_index(drop=True)\n",
    "y_train.head()"
   ],
   "metadata": {
    "collapsed": false,
    "pycharm": {
     "name": "#%%\n"
    }
   }
  },
  {
   "cell_type": "code",
   "execution_count": 21,
   "outputs": [],
   "source": [
    "X_test = mode_imputer.transform(X_test)"
   ],
   "metadata": {
    "collapsed": false,
    "pycharm": {
     "name": "#%%\n"
    }
   }
  },
  {
   "cell_type": "code",
   "execution_count": 22,
   "outputs": [
    {
     "name": "stdout",
     "output_type": "stream",
     "text": [
      "<class 'pandas.core.frame.DataFrame'>\n",
      "RangeIndex: 26450 entries, 0 to 26449\n",
      "Data columns (total 29 columns):\n",
      " #   Column                            Non-Null Count  Dtype \n",
      "---  ------                            --------------  ----- \n",
      " 0   age                               26450 non-null  object\n",
      " 1   sexe                              26450 non-null  object\n",
      " 2   residence                         26450 non-null  object\n",
      " 3   mode_entree                       26450 non-null  object\n",
      " 4   etat_patient_entree               26450 non-null  object\n",
      " 5   motif_code                        26450 non-null  object\n",
      " 6   score_tri                         26450 non-null  object\n",
      " 7   occupation_lits                   26450 non-null  object\n",
      " 8   nbre_patient_urgence              26450 non-null  object\n",
      " 9   occupation_salles_att             26450 non-null  object\n",
      " 10  nbre_patient_score_0              26450 non-null  object\n",
      " 11  nbre_patient_score_1              26450 non-null  object\n",
      " 12  nbre_patient_score_2              26450 non-null  object\n",
      " 13  nbre_patient_score_3              26450 non-null  object\n",
      " 14  nbre_patient_score_4              26450 non-null  object\n",
      " 15  nbre_patient_score_5              26450 non-null  object\n",
      " 16  nbre_patient_salle_att_ext        26450 non-null  object\n",
      " 17  nbre_patient_salle_att_interne    26450 non-null  object\n",
      " 18  nbre_patient_traite_sans_fin_PEC  26450 non-null  object\n",
      " 19  nbre_patient_entre_finPEC_sortie  26450 non-null  object\n",
      " 20  nbre_patient_UHCD                 26450 non-null  object\n",
      " 21  hour_of_day                       26450 non-null  object\n",
      " 22  UHCD_saturee                      26450 non-null  object\n",
      " 23  day_of_week                       26450 non-null  object\n",
      " 24  is_weekend                        26450 non-null  object\n",
      " 25  week                              26450 non-null  object\n",
      " 26  month                             26450 non-null  object\n",
      " 27  quarter                           26450 non-null  object\n",
      " 28  moyenne_dynamique_temps_attente   26450 non-null  object\n",
      "dtypes: object(29)\n",
      "memory usage: 5.9+ MB\n"
     ]
    }
   ],
   "source": [
    "X_test = pd.DataFrame(X_test)\n",
    "X_test.columns = dataset.columns[:-3]\n",
    "X_test.info()"
   ],
   "metadata": {
    "collapsed": false,
    "pycharm": {
     "name": "#%%\n"
    }
   }
  },
  {
   "cell_type": "code",
   "execution_count": 23,
   "outputs": [
    {
     "data": {
      "text/plain": "  age sexe residence mode_entree etat_patient_entree motif_code score_tri  \\\n0  72    1   81200.0        11.0                   2     M79.59         5   \n1  86    1   81540.0        16.0                   2      T13.9         3   \n2  15    1     81100        11.0                   2      T13.9         4   \n3  18    1   81440.0        11.0                   2      T11.9         3   \n4  33    2   81100.0        11.0                   2      R10.4         4   \n\n  occupation_lits nbre_patient_urgence occupation_salles_att  ...  \\\n0        0.675532                 15.0                   0.2  ...   \n1        0.789894                 19.0              0.421053  ...   \n2        0.640957                 18.0              0.444444  ...   \n3        0.890957                 11.0                   0.0  ...   \n4        0.755319                 20.0                   0.1  ...   \n\n  nbre_patient_entre_finPEC_sortie nbre_patient_UHCD hour_of_day UHCD_saturee  \\\n0                              0.0                10          10            1   \n1                              1.0                11          21            1   \n2                              2.0                 9          12            1   \n3                              1.0                10          10            1   \n4                              0.0                 7          19            0   \n\n  day_of_week is_weekend week month quarter moyenne_dynamique_temps_attente  \n0           6       True   21     5       2                            13.2  \n1           2      False   40    10       4                           101.4  \n2           4      False   51    12       4                           135.8  \n3           1      False   41    10       4                        7.466667  \n4           5       True   50    12       4                            31.2  \n\n[5 rows x 29 columns]",
      "text/html": "<div>\n<style scoped>\n    .dataframe tbody tr th:only-of-type {\n        vertical-align: middle;\n    }\n\n    .dataframe tbody tr th {\n        vertical-align: top;\n    }\n\n    .dataframe thead th {\n        text-align: right;\n    }\n</style>\n<table border=\"1\" class=\"dataframe\">\n  <thead>\n    <tr style=\"text-align: right;\">\n      <th></th>\n      <th>age</th>\n      <th>sexe</th>\n      <th>residence</th>\n      <th>mode_entree</th>\n      <th>etat_patient_entree</th>\n      <th>motif_code</th>\n      <th>score_tri</th>\n      <th>occupation_lits</th>\n      <th>nbre_patient_urgence</th>\n      <th>occupation_salles_att</th>\n      <th>...</th>\n      <th>nbre_patient_entre_finPEC_sortie</th>\n      <th>nbre_patient_UHCD</th>\n      <th>hour_of_day</th>\n      <th>UHCD_saturee</th>\n      <th>day_of_week</th>\n      <th>is_weekend</th>\n      <th>week</th>\n      <th>month</th>\n      <th>quarter</th>\n      <th>moyenne_dynamique_temps_attente</th>\n    </tr>\n  </thead>\n  <tbody>\n    <tr>\n      <th>0</th>\n      <td>72</td>\n      <td>1</td>\n      <td>81200.0</td>\n      <td>11.0</td>\n      <td>2</td>\n      <td>M79.59</td>\n      <td>5</td>\n      <td>0.675532</td>\n      <td>15.0</td>\n      <td>0.2</td>\n      <td>...</td>\n      <td>0.0</td>\n      <td>10</td>\n      <td>10</td>\n      <td>1</td>\n      <td>6</td>\n      <td>True</td>\n      <td>21</td>\n      <td>5</td>\n      <td>2</td>\n      <td>13.2</td>\n    </tr>\n    <tr>\n      <th>1</th>\n      <td>86</td>\n      <td>1</td>\n      <td>81540.0</td>\n      <td>16.0</td>\n      <td>2</td>\n      <td>T13.9</td>\n      <td>3</td>\n      <td>0.789894</td>\n      <td>19.0</td>\n      <td>0.421053</td>\n      <td>...</td>\n      <td>1.0</td>\n      <td>11</td>\n      <td>21</td>\n      <td>1</td>\n      <td>2</td>\n      <td>False</td>\n      <td>40</td>\n      <td>10</td>\n      <td>4</td>\n      <td>101.4</td>\n    </tr>\n    <tr>\n      <th>2</th>\n      <td>15</td>\n      <td>1</td>\n      <td>81100</td>\n      <td>11.0</td>\n      <td>2</td>\n      <td>T13.9</td>\n      <td>4</td>\n      <td>0.640957</td>\n      <td>18.0</td>\n      <td>0.444444</td>\n      <td>...</td>\n      <td>2.0</td>\n      <td>9</td>\n      <td>12</td>\n      <td>1</td>\n      <td>4</td>\n      <td>False</td>\n      <td>51</td>\n      <td>12</td>\n      <td>4</td>\n      <td>135.8</td>\n    </tr>\n    <tr>\n      <th>3</th>\n      <td>18</td>\n      <td>1</td>\n      <td>81440.0</td>\n      <td>11.0</td>\n      <td>2</td>\n      <td>T11.9</td>\n      <td>3</td>\n      <td>0.890957</td>\n      <td>11.0</td>\n      <td>0.0</td>\n      <td>...</td>\n      <td>1.0</td>\n      <td>10</td>\n      <td>10</td>\n      <td>1</td>\n      <td>1</td>\n      <td>False</td>\n      <td>41</td>\n      <td>10</td>\n      <td>4</td>\n      <td>7.466667</td>\n    </tr>\n    <tr>\n      <th>4</th>\n      <td>33</td>\n      <td>2</td>\n      <td>81100.0</td>\n      <td>11.0</td>\n      <td>2</td>\n      <td>R10.4</td>\n      <td>4</td>\n      <td>0.755319</td>\n      <td>20.0</td>\n      <td>0.1</td>\n      <td>...</td>\n      <td>0.0</td>\n      <td>7</td>\n      <td>19</td>\n      <td>0</td>\n      <td>5</td>\n      <td>True</td>\n      <td>50</td>\n      <td>12</td>\n      <td>4</td>\n      <td>31.2</td>\n    </tr>\n  </tbody>\n</table>\n<p>5 rows × 29 columns</p>\n</div>"
     },
     "execution_count": 23,
     "metadata": {},
     "output_type": "execute_result"
    }
   ],
   "source": [
    "X_test.head()"
   ],
   "metadata": {
    "collapsed": false,
    "pycharm": {
     "name": "#%%\n"
    }
   }
  },
  {
   "cell_type": "code",
   "execution_count": 24,
   "outputs": [
    {
     "data": {
      "text/plain": "CountFrequencyEncoder(encoding_method='frequency',\n                      variables=['residence', 'motif_code'])"
     },
     "execution_count": 24,
     "metadata": {},
     "output_type": "execute_result"
    }
   ],
   "source": [
    "#Features encoding\n",
    "from feature_engine.encoding import CountFrequencyEncoder\n",
    "\n",
    "# set up the encoder\n",
    "encoder = CountFrequencyEncoder(encoding_method='frequency',\n",
    "                                variables=['residence', 'motif_code'])\n",
    "\n",
    "# fit the encoder\n",
    "encoder.fit(X_train)"
   ],
   "metadata": {
    "collapsed": false,
    "pycharm": {
     "name": "#%%\n"
    }
   }
  },
  {
   "cell_type": "code",
   "execution_count": 25,
   "outputs": [
    {
     "data": {
      "text/plain": "{'residence': {'81100.0': 0.27138829476958976,\n  '81200.0': 0.11245058007647936,\n  '81290.0': 0.06338712813532957,\n  '81100': 0.040086849439367425,\n  '31250.0': 0.031888003111024694,\n  '81700.0': 0.029376498800959234,\n  '81660.0': 0.028193661287186467,\n  '81710.0': 0.021485514291269686,\n  '81570.0': 0.020983213429256596,\n  '81110.0': 0.020869790653963317,\n  '81210.0': 0.020837384146736665,\n  '81240.0': 0.01921705878540411,\n  '81260.0': 0.018536522133644436,\n  '81580.0': 0.017483310648778276,\n  '81440.0': 0.01746710739516495,\n  '81200': 0.01647870892475209,\n  '81540.0': 0.015150042128459395,\n  '81090.0': 0.013967204614686628,\n  '81220.0': 0.011569123079914447,\n  '34220.0': 0.009138635037915614,\n  '81290': 0.009106228530688962,\n  '81490.0': 0.00842569187892929,\n  '81270.0': 0.007631732451876337,\n  '81300.0': 0.0073400738868364766,\n  '81360.0': 0.006789163263983408,\n  '81120.0': 0.006432691684490246,\n  '81230.0': 0.005752155032730573,\n  '31250': 0.00481236632315769,\n  '81330.0': 0.004617927279797783,\n  '81660': 0.004472097997277854,\n  '81700': 0.004212845939464645,\n  '81320.0': 0.0040670166569447145,\n  '31540.0': 0.0037753580919048543,\n  '81470.0': 0.0037753580919048543,\n  '81110': 0.0035647157949316222,\n  '81108.0': 0.0035161060340916455,\n  '81210': 0.0033054637371184134,\n  '81240': 0.0032568539762784367,\n  '34330.0': 0.0032568539762784367,\n  '81570': 0.003175837708211809,\n  '81500.0': 0.0028193661287186467,\n  '81440': 0.0028193661287186467,\n  '81260': 0.00277075636787867,\n  '81000.0': 0.00277075636787867,\n  '81710': 0.00277075636787867,\n  '81580': 0.0025277075636787865,\n  '81540': 0.0022198457450256013,\n  '81090': 0.0018795774191457644,\n  '81220': 0.0017985611510791368,\n  '81530.0': 0.0017661546438524857,\n  '31000.0': 0.0015069025860392766,\n  '81490': 0.0013448700499060211,\n  '31460.0': 0.0012962602890660444,\n  '81230': 0.0012962602890660444,\n  '34220': 0.0012476505282260678,\n  '81600.0': 0.0012476505282260678,\n  '81300': 0.0011342277529327888,\n  '81360': 0.0010694147384794866,\n  '11400.0': 0.00102080497763951,\n  '81120': 0.0010046017240261844,\n  '81270': 0.000988398470412859,\n  '31200.0': 0.0009073822023462311,\n  '34390.0': 0.00087497569511958,\n  '81108': 0.0007615529198263011,\n  '81400.0': 0.0006967399053729989,\n  '31100.0': 0.0006481301445330222,\n  '31540': 0.0006319268909196966,\n  '11390.0': 0.0006319268909196966,\n  '31500.0': 0.0006157236373063711,\n  '31400.0': 0.0006157236373063711,\n  '81470': 0.00058331713007972,\n  '81320': 0.0005671138764663944,\n  '11000.0': 0.0005185041156264178,\n  '81390.0': 0.0005023008620130922,\n  '81500': 0.0005023008620130922,\n  '34210.0': 0.0005023008620130922,\n  '11100.0': 0.0004698943547864411,\n  '81330': 0.00045369110117311556,\n  '31700.0': 0.00043748784755979,\n  '81990.0': 0.00043748784755979,\n  '34330': 0.00043748784755979,\n  '82000.0': 0.00042128459394646445,\n  '31290.0': 0.0004050813403331389,\n  '31300.0': 0.00038887808671981335,\n  '81160.0': 0.0003402683258798367,\n  '81000': 0.0003402683258798367,\n  '31600.0': 0.0003240650722665111,\n  '31130.0': 0.0003240650722665111,\n  '81150.0': 0.00030786181865318554,\n  '81530': 0.00030786181865318554,\n  '11380.0': 0.00029165856503986,\n  '11150.0': 0.0002592520578132089,\n  '34500.0': 0.0002592520578132089,\n  '81800.0': 0.00024304880419988333,\n  '31270.0': 0.00024304880419988333,\n  '11320.0': 0.00024304880419988333,\n  '81370.0': 0.00024304880419988333,\n  '31320.0': 0.00022684555058655778,\n  '31450.0': 0.00022684555058655778,\n  '81340.0': 0.00022684555058655778,\n  '66000.0': 0.00021064229697323223,\n  '31470.0': 0.00021064229697323223,\n  '34200.0': 0.00021064229697323223,\n  '33000.0': 0.00021064229697323223,\n  '11400': 0.00021064229697323223,\n  '31770.0': 0.00019443904335990667,\n  '31000': 0.00019443904335990667,\n  '31140.0': 0.00019443904335990667,\n  '65000.0': 0.00019443904335990667,\n  '31620.0': 0.00017823578974658112,\n  '81600': 0.00017823578974658112,\n  '31150.0': 0.00017823578974658112,\n  '81400': 0.00017823578974658112,\n  '34360.0': 0.00017823578974658112,\n  '12370.0': 0.00016203253613325554,\n  '31280.0': 0.00016203253613325554,\n  '81170.0': 0.00016203253613325554,\n  '31240.0': 0.00016203253613325554,\n  '34390': 0.00016203253613325554,\n  '34000.0': 0.00016203253613325554,\n  '81140.0': 0.00014582928251993,\n  '81310.0': 0.00014582928251993,\n  '31380.0': 0.00014582928251993,\n  '34120.0': 0.00014582928251993,\n  '75018.0': 0.00014582928251993,\n  '81065.0': 0.00014582928251993,\n  '11170.0': 0.00014582928251993,\n  '30000.0': 0.00014582928251993,\n  '34070.0': 0.00012962602890660444,\n  '31450': 0.00012962602890660444,\n  '81130.0': 0.00012962602890660444,\n  '81380.0': 0.00012962602890660444,\n  '34480.0': 0.00012962602890660444,\n  '12100.0': 0.00012962602890660444,\n  '34500': 0.00012962602890660444,\n  '31820.0': 0.00012962602890660444,\n  '6100.0': 0.00012962602890660444,\n  '34300.0': 0.00011342277529327889,\n  '34370.0': 0.00011342277529327889,\n  '31520.0': 0.00011342277529327889,\n  '31400': 0.00011342277529327889,\n  '75015.0': 0.00011342277529327889,\n  '75017.0': 0.00011342277529327889,\n  '31180.0': 0.00011342277529327889,\n  '46000.0': 0.00011342277529327889,\n  '31490.0': 0.00011342277529327889,\n  '31460': 0.00011342277529327889,\n  '81560.0': 0.00011342277529327889,\n  '11300.0': 0.00011342277529327889,\n  '11120.0': 0.00011342277529327889,\n  '34400.0': 0.00011342277529327889,\n  '9100.0': 0.00011342277529327889,\n  '12200.0': 0.00011342277529327889,\n  '12000.0': 0.00011342277529327889,\n  '32600.0': 0.00011342277529327889,\n  '31120.0': 0.00011342277529327889,\n  '34600.0': 9.721952167995334e-05,\n  '11250.0': 9.721952167995334e-05,\n  '81190.0': 9.721952167995334e-05,\n  '30540.0': 9.721952167995334e-05,\n  '81350.0': 9.721952167995334e-05,\n  '81430.0': 9.721952167995334e-05,\n  '31500': 9.721952167995334e-05,\n  '82100.0': 9.721952167995334e-05,\n  '84200.0': 9.721952167995334e-05,\n  '31330.0': 9.721952167995334e-05,\n  '12400.0': 9.721952167995334e-05,\n  '81011.0': 9.721952167995334e-05,\n  '31170.0': 9.721952167995334e-05,\n  '31570.0': 9.721952167995334e-05,\n  '81640.0': 9.721952167995334e-05,\n  '81510.0': 9.721952167995334e-05,\n  '31200': 9.721952167995334e-05,\n  '81310': 9.721952167995334e-05,\n  '31590.0': 9.721952167995334e-05,\n  '31650.0': 9.721952167995334e-05,\n  '32000.0': 9.721952167995334e-05,\n  '81390': 9.721952167995334e-05,\n  '82170.0': 9.721952167995334e-05,\n  '11200.0': 8.101626806662777e-05,\n  '44036.0': 8.101626806662777e-05,\n  '11310.0': 8.101626806662777e-05,\n  '31800.0': 8.101626806662777e-05,\n  '13011.0': 8.101626806662777e-05,\n  '31750.0': 8.101626806662777e-05,\n  '46100.0': 8.101626806662777e-05,\n  '66000': 8.101626806662777e-05,\n  '31660.0': 8.101626806662777e-05,\n  '6130.0': 8.101626806662777e-05,\n  '81150': 8.101626806662777e-05,\n  '31850.0': 8.101626806662777e-05,\n  '31830.0': 8.101626806662777e-05,\n  '31370.0': 8.101626806662777e-05,\n  '11410.0': 8.101626806662777e-05,\n  '34090.0': 8.101626806662777e-05,\n  '12370': 8.101626806662777e-05,\n  '11600.0': 8.101626806662777e-05,\n  '11380': 8.101626806662777e-05,\n  '51100.0': 8.101626806662777e-05,\n  '11560.0': 8.101626806662777e-05,\n  '66300.0': 8.101626806662777e-05,\n  '81250.0': 8.101626806662777e-05,\n  '93700.0': 8.101626806662777e-05,\n  '24100.0': 8.101626806662777e-05,\n  '12450.0': 8.101626806662777e-05,\n  '81999.0': 8.101626806662777e-05,\n  '34110.0': 8.101626806662777e-05,\n  '38000.0': 8.101626806662777e-05,\n  '47000.0': 8.101626806662777e-05,\n  '64000.0': 8.101626806662777e-05,\n  '31280': 6.481301445330222e-05,\n  '20144.0': 6.481301445330222e-05,\n  '33450.0': 6.481301445330222e-05,\n  '13014.0': 6.481301445330222e-05,\n  '75005.0': 6.481301445330222e-05,\n  '89100.0': 6.481301445330222e-05,\n  '11000': 6.481301445330222e-05,\n  '82300.0': 6.481301445330222e-05,\n  '49100.0': 6.481301445330222e-05,\n  '31150': 6.481301445330222e-05,\n  '94400.0': 6.481301445330222e-05,\n  '34270.0': 6.481301445330222e-05,\n  '47300.0': 6.481301445330222e-05,\n  '31240': 6.481301445330222e-05,\n  '34210': 6.481301445330222e-05,\n  '76000.0': 6.481301445330222e-05,\n  '74500.0': 6.481301445330222e-05,\n  '30900.0': 6.481301445330222e-05,\n  '37000.0': 6.481301445330222e-05,\n  '31310.0': 6.481301445330222e-05,\n  '7200': 6.481301445330222e-05,\n  '31600': 6.481301445330222e-05,\n  '34290.0': 6.481301445330222e-05,\n  '32270.0': 6.481301445330222e-05,\n  '12380.0': 6.481301445330222e-05,\n  '31530.0': 6.481301445330222e-05,\n  '34230.0': 6.481301445330222e-05,\n  '12300.0': 6.481301445330222e-05,\n  '80400.0': 6.481301445330222e-05,\n  '19360.0': 6.481301445330222e-05,\n  '34620.0': 6.481301445330222e-05,\n  '59650.0': 6.481301445330222e-05,\n  '34550.0': 6.481301445330222e-05,\n  '66700.0': 6.481301445330222e-05,\n  '13001.0': 6.481301445330222e-05,\n  '31780.0': 6.481301445330222e-05,\n  '83500.0': 6.481301445330222e-05,\n  '31790.0': 6.481301445330222e-05,\n  '81250': 6.481301445330222e-05,\n  '65300.0': 6.481301445330222e-05,\n  '99131.0': 6.481301445330222e-05,\n  '75013.0': 6.481301445330222e-05,\n  '86000.0': 6.481301445330222e-05,\n  '92150.0': 6.481301445330222e-05,\n  '11160.0': 6.481301445330222e-05,\n  '34340.0': 6.481301445330222e-05,\n  '13008.0': 4.860976083997667e-05,\n  '84250.0': 4.860976083997667e-05,\n  '37210.0': 4.860976083997667e-05,\n  '63100.0': 4.860976083997667e-05,\n  '15000.0': 4.860976083997667e-05,\n  '81770.0': 4.860976083997667e-05,\n  '31670.0': 4.860976083997667e-05,\n  '31620': 4.860976083997667e-05,\n  '6000.0': 4.860976083997667e-05,\n  '72100.0': 4.860976083997667e-05,\n  '12800.0': 4.860976083997667e-05,\n  '13110.0': 4.860976083997667e-05,\n  '30200.0': 4.860976083997667e-05,\n  '49300.0': 4.860976083997667e-05,\n  '9000.0': 4.860976083997667e-05,\n  '59800.0': 4.860976083997667e-05,\n  '67150.0': 4.860976083997667e-05,\n  '12170.0': 4.860976083997667e-05,\n  '75014.0': 4.860976083997667e-05,\n  '59700.0': 4.860976083997667e-05,\n  '31140': 4.860976083997667e-05,\n  '31004.0': 4.860976083997667e-05,\n  '93300.0': 4.860976083997667e-05,\n  '45200.0': 4.860976083997667e-05,\n  '82700.0': 4.860976083997667e-05,\n  '82290.0': 4.860976083997667e-05,\n  '31410.0': 4.860976083997667e-05,\n  '82120.0': 4.860976083997667e-05,\n  '13140.0': 4.860976083997667e-05,\n  '13090.0': 4.860976083997667e-05,\n  '82240.0': 4.860976083997667e-05,\n  '83100.0': 4.860976083997667e-05,\n  '31840.0': 4.860976083997667e-05,\n  '34770.0': 4.860976083997667e-05,\n  '82600.0': 4.860976083997667e-05,\n  '13100.0': 4.860976083997667e-05,\n  '81340': 4.860976083997667e-05,\n  '59150.0': 4.860976083997667e-05,\n  '34350.0': 4.860976083997667e-05,\n  '91270.0': 4.860976083997667e-05,\n  '13006.0': 4.860976083997667e-05,\n  '2100.0': 4.860976083997667e-05,\n  '90000.0': 4.860976083997667e-05,\n  '13016.0': 4.860976083997667e-05,\n  '81800': 4.860976083997667e-05,\n  '34320.0': 4.860976083997667e-05,\n  '32300.0': 4.860976083997667e-05,\n  '64100.0': 4.860976083997667e-05,\n  '9400.0': 4.860976083997667e-05,\n  '84000.0': 4.860976083997667e-05,\n  '34490.0': 4.860976083997667e-05,\n  '81610.0': 4.860976083997667e-05,\n  '11370.0': 4.860976083997667e-05,\n  '81204.0': 4.860976083997667e-05,\n  '34200': 4.860976083997667e-05,\n  '67000.0': 4.860976083997667e-05,\n  '75012.0': 4.860976083997667e-05,\n  '6400.0': 4.860976083997667e-05,\n  '9700.0': 4.860976083997667e-05,\n  '83470.0': 4.860976083997667e-05,\n  '59000.0': 4.860976083997667e-05,\n  '34410.0': 4.860976083997667e-05,\n  '75007.0': 4.860976083997667e-05,\n  '34000': 4.860976083997667e-05,\n  '11590.0': 4.860976083997667e-05,\n  '12850.0': 4.860976083997667e-05,\n  '93100.0': 4.860976083997667e-05,\n  '82200.0': 4.860976083997667e-05,\n  '34360': 4.860976083997667e-05,\n  '12220.0': 4.860976083997667e-05,\n  '30100': 4.860976083997667e-05,\n  '26380.0': 4.860976083997667e-05,\n  '33560.0': 4.860976083997667e-05,\n  '92000.0': 4.860976083997667e-05,\n  '31320': 4.860976083997667e-05,\n  '64300.0': 4.860976083997667e-05,\n  '34460.0': 4.860976083997667e-05,\n  '13116.0': 4.860976083997667e-05,\n  '34440.0': 4.860976083997667e-05,\n  '6800.0': 4.860976083997667e-05,\n  '11430.0': 4.860976083997667e-05,\n  '34140': 4.860976083997667e-05,\n  '82800.0': 4.860976083997667e-05,\n  '13009.0': 4.860976083997667e-05,\n  '81370': 4.860976083997667e-05,\n  '59300.0': 4.860976083997667e-05,\n  '1800.0': 4.860976083997667e-05,\n  '11390': 4.860976083997667e-05,\n  '81430': 4.860976083997667e-05,\n  '34970.0': 4.860976083997667e-05,\n  '81630.0': 4.860976083997667e-05,\n  '31252.0': 4.860976083997667e-05,\n  '81471.0': 4.860976083997667e-05,\n  '46090.0': 4.860976083997667e-05,\n  '60560.0': 4.860976083997667e-05,\n  '63500.0': 4.860976083997667e-05,\n  '34140.0': 4.860976083997667e-05,\n  '82370.0': 4.860976083997667e-05,\n  '34100.0': 4.860976083997667e-05,\n  '9500.0': 4.860976083997667e-05,\n  '34570.0': 4.860976083997667e-05,\n  '31132.0': 3.240650722665111e-05,\n  '11710.0': 3.240650722665111e-05,\n  '81035.0': 3.240650722665111e-05,\n  '33910.0': 3.240650722665111e-05,\n  '99109': 3.240650722665111e-05,\n  '92360.0': 3.240650722665111e-05,\n  '11130.0': 3.240650722665111e-05,\n  '24660.0': 3.240650722665111e-05,\n  '12360.0': 3.240650722665111e-05,\n  '94110.0': 3.240650722665111e-05,\n  '9300.0': 3.240650722665111e-05,\n  '81201.0': 3.240650722665111e-05,\n  '93260.0': 3.240650722665111e-05,\n  '19120.0': 3.240650722665111e-05,\n  '32500.0': 3.240650722665111e-05,\n  '93500.0': 3.240650722665111e-05,\n  '81520.0': 3.240650722665111e-05,\n  '13840.0': 3.240650722665111e-05,\n  '11340.0': 3.240650722665111e-05,\n  '12700.0': 3.240650722665111e-05,\n  '93270.0': 3.240650722665111e-05,\n  '12398.0': 3.240650722665111e-05,\n  '64600.0': 3.240650722665111e-05,\n  '12550.0': 3.240650722665111e-05,\n  '66400.0': 3.240650722665111e-05,\n  '16000.0': 3.240650722665111e-05,\n  '32200': 3.240650722665111e-05,\n  '9140': 3.240650722665111e-05,\n  '69100.0': 3.240650722665111e-05,\n  '31270': 3.240650722665111e-05,\n  '93150.0': 3.240650722665111e-05,\n  '13700.0': 3.240650722665111e-05,\n  '25000.0': 3.240650722665111e-05,\n  '69330.0': 3.240650722665111e-05,\n  '91000.0': 3.240650722665111e-05,\n  '31100': 3.240650722665111e-05,\n  '66380.0': 3.240650722665111e-05,\n  '49800.0': 3.240650722665111e-05,\n  '59290.0': 3.240650722665111e-05,\n  '66250.0': 3.240650722665111e-05,\n  '9000': 3.240650722665111e-05,\n  '17600.0': 3.240650722665111e-05,\n  '60000.0': 3.240650722665111e-05,\n  '21000': 3.240650722665111e-05,\n  '51540.0': 3.240650722665111e-05,\n  '69003.0': 3.240650722665111e-05,\n  '17770.0': 3.240650722665111e-05,\n  '33140.0': 3.240650722665111e-05,\n  '74140.0': 3.240650722665111e-05,\n  '44100.0': 3.240650722665111e-05,\n  '92100.0': 3.240650722665111e-05,\n  '12230.0': 3.240650722665111e-05,\n  '13530.0': 3.240650722665111e-05,\n  '28700.0': 3.240650722665111e-05,\n  '34725.0': 3.240650722665111e-05,\n  '74000.0': 3.240650722665111e-05,\n  '33112.0': 3.240650722665111e-05,\n  '77380.0': 3.240650722665111e-05,\n  '31340.0': 3.240650722665111e-05,\n  '11510.0': 3.240650722665111e-05,\n  '49170.0': 3.240650722665111e-05,\n  '78200.0': 3.240650722665111e-05,\n  '6110.0': 3.240650722665111e-05,\n  '19100.0': 3.240650722665111e-05,\n  '11700.0': 3.240650722665111e-05,\n  '85000.0': 3.240650722665111e-05,\n  '33100.0': 3.240650722665111e-05,\n  '83440.0': 3.240650722665111e-05,\n  '14970.0': 3.240650722665111e-05,\n  '78800.0': 3.240650722665111e-05,\n  '81104.0': 3.240650722665111e-05,\n  '80800.0': 3.240650722665111e-05,\n  '93240.0': 3.240650722665111e-05,\n  '86660.0': 3.240650722665111e-05,\n  '13015.0': 3.240650722665111e-05,\n  '64230.0': 3.240650722665111e-05,\n  '76210.0': 3.240650722665111e-05,\n  '95140.0': 3.240650722665111e-05,\n  '47310.0': 3.240650722665111e-05,\n  '46270.0': 3.240650722665111e-05,\n  '77210.0': 3.240650722665111e-05,\n  '2820.0': 3.240650722665111e-05,\n  '84450.0': 3.240650722665111e-05,\n  '11420.0': 3.240650722665111e-05,\n  '38440.0': 3.240650722665111e-05,\n  '19100': 3.240650722665111e-05,\n  '33890.0': 3.240650722665111e-05,\n  '64450.0': 3.240650722665111e-05,\n  '11110': 3.240650722665111e-05,\n  '66750.0': 3.240650722665111e-05,\n  '56600.0': 3.240650722665111e-05,\n  '33230.0': 3.240650722665111e-05,\n  '13370.0': 3.240650722665111e-05,\n  '77700.0': 3.240650722665111e-05,\n  '44000.0': 3.240650722665111e-05,\n  '83200.0': 3.240650722665111e-05,\n  '63000.0': 3.240650722665111e-05,\n  '26000.0': 3.240650722665111e-05,\n  '80190': 3.240650722665111e-05,\n  '78220.0': 3.240650722665111e-05,\n  '31300': 3.240650722665111e-05,\n  '24240.0': 3.240650722665111e-05,\n  '47130.0': 3.240650722665111e-05,\n  '13007.0': 3.240650722665111e-05,\n  '92130.0': 3.240650722665111e-05,\n  '24110.0': 3.240650722665111e-05,\n  '34170.0': 3.240650722665111e-05,\n  '12120': 3.240650722665111e-05,\n  '51000.0': 3.240650722665111e-05,\n  '31370': 3.240650722665111e-05,\n  '64320.0': 3.240650722665111e-05,\n  '99127.0': 3.240650722665111e-05,\n  '38660.0': 3.240650722665111e-05,\n  '12100': 3.240650722665111e-05,\n  '13710.0': 3.240650722665111e-05,\n  '34310.0': 3.240650722665111e-05,\n  '31510.0': 3.240650722665111e-05,\n  '15500.0': 3.240650722665111e-05,\n  '82500.0': 3.240650722665111e-05,\n  '33200.0': 3.240650722665111e-05,\n  '72130.0': 3.240650722665111e-05,\n  '30250.0': 3.240650722665111e-05,\n  '13800.0': 3.240650722665111e-05,\n  '94270.0': 3.240650722665111e-05,\n  '48000.0': 3.240650722665111e-05,\n  '34800.0': 3.240650722665111e-05,\n  '75006.0': 3.240650722665111e-05,\n  '94800.0': 3.240650722665111e-05,\n  '47150.0': 3.240650722665111e-05,\n  '31390.0': 3.240650722665111e-05,\n  '12160.0': 3.240650722665111e-05,\n  '30100.0': 3.240650722665111e-05,\n  '27370': 3.240650722665111e-05,\n  '69400.0': 3.240650722665111e-05,\n  '15400.0': 3.240650722665111e-05,\n  '75009.0': 3.240650722665111e-05,\n  '97470.0': 3.240650722665111e-05,\n  '67100.0': 3.240650722665111e-05,\n  '78400.0': 3.240650722665111e-05,\n  '31220.0': 3.240650722665111e-05,\n  '64110.0': 3.240650722665111e-05,\n  '44300.0': 3.240650722665111e-05,\n  '97200.0': 3.240650722665111e-05,\n  '32250.0': 3.240650722665111e-05,\n  '11100': 3.240650722665111e-05,\n  '62160.0': 3.240650722665111e-05,\n  '11170': 3.240650722665111e-05,\n  '86100.0': 3.240650722665111e-05,\n  '93170.0': 3.240650722665111e-05,\n  '81380': 3.240650722665111e-05,\n  '12330': 3.240650722665111e-05,\n  '9600.0': 3.240650722665111e-05,\n  '69130.0': 3.240650722665111e-05,\n  '48130.0': 3.240650722665111e-05,\n  '13013.0': 3.240650722665111e-05,\n  '81990': 3.240650722665111e-05,\n  '11570.0': 3.240650722665111e-05,\n  '33300.0': 3.240650722665111e-05,\n  '32300': 3.240650722665111e-05,\n  '17400.0': 3.240650722665111e-05,\n  '9700': 3.240650722665111e-05,\n  '66450.0': 3.240650722665111e-05,\n  '6380.0': 3.240650722665111e-05,\n  '33500.0': 3.240650722665111e-05,\n  '77580.0': 3.240650722665111e-05,\n  '34760.0': 3.240650722665111e-05,\n  '32100.0': 3.240650722665111e-05,\n  '31190.0': 3.240650722665111e-05,\n  '94100.0': 3.240650722665111e-05,\n  '12190.0': 3.240650722665111e-05,\n  '82130.0': 3.240650722665111e-05,\n  '81130': 3.240650722665111e-05,\n  '46110.0': 3.240650722665111e-05,\n  '30470.0': 3.240650722665111e-05,\n  '22300.0': 3.240650722665111e-05,\n  '5000.0': 3.240650722665111e-05,\n  '24000.0': 3.240650722665111e-05,\n  '72000.0': 3.240650722665111e-05,\n  '38400.0': 3.240650722665111e-05,\n  '69200.0': 3.240650722665111e-05,\n  '31850': 3.240650722665111e-05,\n  '81560': 3.240650722665111e-05,\n  '11800.0': 3.240650722665111e-05,\n  '75000.0': 3.240650722665111e-05,\n  '34600': 3.240650722665111e-05,\n  '83260.0': 3.240650722665111e-05,\n  '31810.0': 3.240650722665111e-05,\n  '95420.0': 3.240650722665111e-05,\n  '34740.0': 3.240650722665111e-05,\n  '34980.0': 3.240650722665111e-05,\n  '9120.0': 3.240650722665111e-05,\n  '59113.0': 3.240650722665111e-05,\n  '31870.0': 3.240650722665111e-05,\n  '77000.0': 3.240650722665111e-05,\n  '82410.0': 3.240650722665111e-05,\n  '69001.0': 3.240650722665111e-05,\n  '17430.0': 3.240650722665111e-05,\n  '78000.0': 3.240650722665111e-05,\n  '28200.0': 3.240650722665111e-05,\n  '33710.0': 3.240650722665111e-05,\n  '31700': 3.240650722665111e-05,\n  '77590.0': 3.240650722665111e-05,\n  '11110.0': 3.240650722665111e-05,\n  '46250.0': 3.240650722665111e-05,\n  '11290.0': 3.240650722665111e-05,\n  '87000.0': 3.240650722665111e-05,\n  '10000.0': 3.240650722665111e-05,\n  '31560.0': 3.240650722665111e-05,\n  '81140': 3.240650722665111e-05,\n  '31032.0': 3.240650722665111e-05,\n  '76540.0': 3.240650722665111e-05,\n  '13005.0': 3.240650722665111e-05,\n  '11270.0': 3.240650722665111e-05,\n  '81630': 3.240650722665111e-05,\n  '33700.0': 3.240650722665111e-05,\n  '73230.0': 3.240650722665111e-05,\n  '66370.0': 3.240650722665111e-05,\n  '82210.0': 3.240650722665111e-05,\n  '13600.0': 3.240650722665111e-05,\n  '83630.0': 3.240650722665111e-05,\n  '34480': 3.240650722665111e-05,\n  '17610.0': 3.240650722665111e-05,\n  '83600.0': 3.240650722665111e-05,\n  '29800.0': 3.240650722665111e-05,\n  '93290.0': 3.240650722665111e-05,\n  '13120.0': 3.240650722665111e-05,\n  '31220': 3.240650722665111e-05,\n  '34470.0': 3.240650722665111e-05,\n  '11510': 3.240650722665111e-05,\n  '17340.0': 3.240650722665111e-05,\n  '12390.0': 3.240650722665111e-05,\n  '77178.0': 3.240650722665111e-05,\n  '76620.0': 3.240650722665111e-05,\n  '92310.0': 3.240650722665111e-05,\n  '49300': 3.240650722665111e-05,\n  '66600.0': 3.240650722665111e-05,\n  '78110.0': 3.240650722665111e-05,\n  '13004.0': 3.240650722665111e-05,\n  '30350.0': 3.240650722665111e-05,\n  '34450.0': 3.240650722665111e-05,\n  '31142.0': 3.240650722665111e-05,\n  '12390': 3.240650722665111e-05,\n  '89140.0': 3.240650722665111e-05,\n  '30190.0': 3.240650722665111e-05,\n  '69007.0': 3.240650722665111e-05,\n  '19460.0': 3.240650722665111e-05,\n  '63230.0': 3.240650722665111e-05,\n  '81502.0': 3.240650722665111e-05,\n  '75020.0': 3.240650722665111e-05,\n  '94170.0': 3.240650722665111e-05,\n  '94700.0': 3.240650722665111e-05,\n  '97232.0': 3.240650722665111e-05,\n  '9210.0': 3.240650722665111e-05,\n  '93420.0': 3.240650722665111e-05,\n  '94120.0': 3.240650722665111e-05,\n  '34130.0': 3.240650722665111e-05,\n  '86550.0': 3.240650722665111e-05,\n  '81013.0': 3.240650722665111e-05,\n  '34790.0': 3.240650722665111e-05,\n  '69008.0': 3.240650722665111e-05,\n  '94500.0': 1.6203253613325555e-05,\n  '6560.0': 1.6203253613325555e-05,\n  '99328.0': 1.6203253613325555e-05,\n  '31670': 1.6203253613325555e-05,\n  '54200.0': 1.6203253613325555e-05,\n  '31290': 1.6203253613325555e-05,\n  '23200': 1.6203253613325555e-05,\n  '38070.0': 1.6203253613325555e-05,\n  '93130.0': 1.6203253613325555e-05,\n  '9420.0': 1.6203253613325555e-05,\n  '39260.0': 1.6203253613325555e-05,\n  '13320.0': 1.6203253613325555e-05,\n  '24200.0': 1.6203253613325555e-05,\n  '91370.0': 1.6203253613325555e-05,\n  '62100.0': 1.6203253613325555e-05,\n  '45100.0': 1.6203253613325555e-05,\n  '47290.0': 1.6203253613325555e-05,\n  '30350': 1.6203253613325555e-05,\n  '64530': 1.6203253613325555e-05,\n  '14110.0': 1.6203253613325555e-05,\n  '31380': 1.6203253613325555e-05,\n  '6700.0': 1.6203253613325555e-05,\n  '24250.0': 1.6203253613325555e-05,\n  '77140.0': 1.6203253613325555e-05,\n  '62580': 1.6203253613325555e-05,\n  '21540': 1.6203253613325555e-05,\n  '46260.0': 1.6203253613325555e-05,\n  '83860.0': 1.6203253613325555e-05,\n  '37270.0': 1.6203253613325555e-05,\n  '26770.0': 1.6203253613325555e-05,\n  '60880.0': 1.6203253613325555e-05,\n  '42410.0': 1.6203253613325555e-05,\n  '60230.0': 1.6203253613325555e-05,\n  '82140.0': 1.6203253613325555e-05,\n  '83240.0': 1.6203253613325555e-05,\n  '14680.0': 1.6203253613325555e-05,\n  '31180': 1.6203253613325555e-05,\n  '81013': 1.6203253613325555e-05,\n  '84400.0': 1.6203253613325555e-05,\n  '1290.0': 1.6203253613325555e-05,\n  '8500.0': 1.6203253613325555e-05,\n  '81163.0': 1.6203253613325555e-05,\n  '77940.0': 1.6203253613325555e-05,\n  '94400': 1.6203253613325555e-05,\n  '1700.0': 1.6203253613325555e-05,\n  '33530.0': 1.6203253613325555e-05,\n  '47160.0': 1.6203253613325555e-05,\n  '80420': 1.6203253613325555e-05,\n  '59370.0': 1.6203253613325555e-05,\n  '30210': 1.6203253613325555e-05,\n  '2460.0': 1.6203253613325555e-05,\n  '3200': 1.6203253613325555e-05,\n  '80000.0': 1.6203253613325555e-05,\n  '59240.0': 1.6203253613325555e-05,\n  '95400.0': 1.6203253613325555e-05,\n  '94130.0': 1.6203253613325555e-05,\n  '93330.0': 1.6203253613325555e-05,\n  '16240.0': 1.6203253613325555e-05,\n  '40550.0': 1.6203253613325555e-05,\n  '6300.0': 1.6203253613325555e-05,\n  '97440': 1.6203253613325555e-05,\n  '65500': 1.6203253613325555e-05,\n  '99114.0': 1.6203253613325555e-05,\n  '12720.0': 1.6203253613325555e-05,\n  '11120': 1.6203253613325555e-05,\n  '38700.0': 1.6203253613325555e-05,\n  '27180.0': 1.6203253613325555e-05,\n  '85200.0': 1.6203253613325555e-05,\n  '68380.0': 1.6203253613325555e-05,\n  '68210': 1.6203253613325555e-05,\n  '34830.0': 1.6203253613325555e-05,\n  '6190': 1.6203253613325555e-05,\n  '49000.0': 1.6203253613325555e-05,\n  '18520.0': 1.6203253613325555e-05,\n  '2500.0': 1.6203253613325555e-05,\n  '19270': 1.6203253613325555e-05,\n  '6600.0': 1.6203253613325555e-05,\n  '95610.0': 1.6203253613325555e-05,\n  '31480.0': 1.6203253613325555e-05,\n  '28500.0': 1.6203253613325555e-05,\n  '78100.0': 1.6203253613325555e-05,\n  '16120': 1.6203253613325555e-05,\n  '89130.0': 1.6203253613325555e-05,\n  '86130.0': 1.6203253613325555e-05,\n  '45550': 1.6203253613325555e-05,\n  '38450.0': 1.6203253613325555e-05,\n  '17350.0': 1.6203253613325555e-05,\n  '9800.0': 1.6203253613325555e-05,\n  '20260': 1.6203253613325555e-05,\n  '19130.0': 1.6203253613325555e-05,\n  '65000': 1.6203253613325555e-05,\n  '37530.0': 1.6203253613325555e-05,\n  '9240.0': 1.6203253613325555e-05,\n  '27540.0': 1.6203253613325555e-05,\n  '84110.0': 1.6203253613325555e-05,\n  '69530': 1.6203253613325555e-05,\n  '69580.0': 1.6203253613325555e-05,\n  '38490.0': 1.6203253613325555e-05,\n  '71290.0': 1.6203253613325555e-05,\n  '25000': 1.6203253613325555e-05,\n  '31860.0': 1.6203253613325555e-05,\n  '46100': 1.6203253613325555e-05,\n  '44490.0': 1.6203253613325555e-05,\n  '53950.0': 1.6203253613325555e-05,\n  '76680.0': 1.6203253613325555e-05,\n  '33920.0': 1.6203253613325555e-05,\n  '33620.0': 1.6203253613325555e-05,\n  '36140.0': 1.6203253613325555e-05,\n  '74930.0': 1.6203253613325555e-05,\n  '97615.0': 1.6203253613325555e-05,\n  '92140.0': 1.6203253613325555e-05,\n  '64270.0': 1.6203253613325555e-05,\n  '79290.0': 1.6203253613325555e-05,\n  '18170.0': 1.6203253613325555e-05,\n  '78130.0': 1.6203253613325555e-05,\n  '40.0': 1.6203253613325555e-05,\n  '34800': 1.6203253613325555e-05,\n  '46200.0': 1.6203253613325555e-05,\n  '13005': 1.6203253613325555e-05,\n  '11620': 1.6203253613325555e-05,\n  '12110.0': 1.6203253613325555e-05,\n  '82130': 1.6203253613325555e-05,\n  '63122': 1.6203253613325555e-05,\n  '1500.0': 1.6203253613325555e-05,\n  '77240.0': 1.6203253613325555e-05,\n  '56130': 1.6203253613325555e-05,\n  '62000.0': 1.6203253613325555e-05,\n  '65310.0': 1.6203253613325555e-05,\n  '17000.0': 1.6203253613325555e-05,\n  '59200.0': 1.6203253613325555e-05,\n  '32490.0': 1.6203253613325555e-05,\n  '66500.0': 1.6203253613325555e-05,\n  '87430': 1.6203253613325555e-05,\n  '32450.0': 1.6203253613325555e-05,\n  '69002.0': 1.6203253613325555e-05,\n  '94600.0': 1.6203253613325555e-05,\n  '95800.0': 1.6203253613325555e-05,\n  '14210.0': 1.6203253613325555e-05,\n  '72160.0': 1.6203253613325555e-05,\n  '81650.0': 1.6203253613325555e-05,\n  '13105.0': 1.6203253613325555e-05,\n  '92120.0': 1.6203253613325555e-05,\n  '12520.0': 1.6203253613325555e-05,\n  '15250.0': 1.6203253613325555e-05,\n  '52000.0': 1.6203253613325555e-05,\n  '39700.0': 1.6203253613325555e-05,\n  '56000.0': 1.6203253613325555e-05,\n  '65190': 1.6203253613325555e-05,\n  '80290.0': 1.6203253613325555e-05,\n  '82200': 1.6203253613325555e-05,\n  '88120.0': 1.6203253613325555e-05,\n  '89240': 1.6203253613325555e-05,\n  '8541.0': 1.6203253613325555e-05,\n  '67370.0': 1.6203253613325555e-05,\n  '66130': 1.6203253613325555e-05,\n  '34207.0': 1.6203253613325555e-05,\n  '81510': 1.6203253613325555e-05,\n  '30260.0': 1.6203253613325555e-05,\n  '18800': 1.6203253613325555e-05,\n  '76220.0': 1.6203253613325555e-05,\n  '9500': 1.6203253613325555e-05,\n  '93350.0': 1.6203253613325555e-05,\n  '30130.0': 1.6203253613325555e-05,\n  '13000.0': 1.6203253613325555e-05,\n  '77600.0': 1.6203253613325555e-05,\n  '12140': 1.6203253613325555e-05,\n  '63200.0': 1.6203253613325555e-05,\n  '13006': 1.6203253613325555e-05,\n  '30820.0': 1.6203253613325555e-05,\n  '66690.0': 1.6203253613325555e-05,\n  '47380': 1.6203253613325555e-05,\n  '31750': 1.6203253613325555e-05,\n  '12130': 1.6203253613325555e-05,\n  '59640.0': 1.6203253613325555e-05,\n  '76390.0': 1.6203253613325555e-05,\n  '38360.0': 1.6203253613325555e-05,\n  '40': 1.6203253613325555e-05,\n  '30360': 1.6203253613325555e-05,\n  '38930.0': 1.6203253613325555e-05,\n  '60350.0': 1.6203253613325555e-05,\n  '24210.0': 1.6203253613325555e-05,\n  '67200.0': 1.6203253613325555e-05,\n  '12310.0': 1.6203253613325555e-05,\n  '64200.0': 1.6203253613325555e-05,\n  '60600.0': 1.6203253613325555e-05,\n  '5200.0': 1.6203253613325555e-05,\n  '53200.0': 1.6203253613325555e-05,\n  '66280.0': 1.6203253613325555e-05,\n  '42300.0': 1.6203253613325555e-05,\n  '64530.0': 1.6203253613325555e-05,\n  '50470.0': 1.6203253613325555e-05,\n  '9390.0': 1.6203253613325555e-05,\n  '17580.0': 1.6203253613325555e-05,\n  '30913.0': 1.6203253613325555e-05,\n  '24440': 1.6203253613325555e-05,\n  '78140.0': 1.6203253613325555e-05,\n  '92290.0': 1.6203253613325555e-05,\n  '44600.0': 1.6203253613325555e-05,\n  '62640.0': 1.6203253613325555e-05,\n  '25170.0': 1.6203253613325555e-05,\n  '34470': 1.6203253613325555e-05,\n  '13130': 1.6203253613325555e-05,\n  '65370.0': 1.6203253613325555e-05,\n  '64700.0': 1.6203253613325555e-05,\n  '97300.0': 1.6203253613325555e-05,\n  '32130.0': 1.6203253613325555e-05,\n  '81102.0': 1.6203253613325555e-05,\n  '91580.0': 1.6203253613325555e-05,\n  '34422.0': 1.6203253613325555e-05,\n  '28300.0': 1.6203253613325555e-05,\n  '69490.0': 1.6203253613325555e-05,\n  '12400': 1.6203253613325555e-05,\n  '87120.0': 1.6203253613325555e-05,\n  '30300.0': 1.6203253613325555e-05,\n  '33120.0': 1.6203253613325555e-05,\n  '91410': 1.6203253613325555e-05,\n  '88000.0': 1.6203253613325555e-05,\n  '30730.0': 1.6203253613325555e-05,\n  '20167': 1.6203253613325555e-05,\n  '44190.0': 1.6203253613325555e-05,\n  '12800': 1.6203253613325555e-05,\n  '40100.0': 1.6203253613325555e-05,\n  '34820.0': 1.6203253613325555e-05,\n  '87200.0': 1.6203253613325555e-05,\n  '19250.0': 1.6203253613325555e-05,\n  '34560': 1.6203253613325555e-05,\n  '91310': 1.6203253613325555e-05,\n  '13010.0': 1.6203253613325555e-05,\n  '34350': 1.6203253613325555e-05,\n  '11190.0': 1.6203253613325555e-05,\n  '55230.0': 1.6203253613325555e-05,\n  '38110.0': 1.6203253613325555e-05,\n  '83210': 1.6203253613325555e-05,\n  '44320.0': 1.6203253613325555e-05,\n  '29250.0': 1.6203253613325555e-05,\n  '92160.0': 1.6203253613325555e-05,\n  '82370': 1.6203253613325555e-05,\n  '91330.0': 1.6203253613325555e-05,\n  '83470': 1.6203253613325555e-05,\n  '48170.0': 1.6203253613325555e-05,\n  '45320.0': 1.6203253613325555e-05,\n  '56680.0': 1.6203253613325555e-05,\n  '92800.0': 1.6203253613325555e-05,\n  '94240.0': 1.6203253613325555e-05,\n  '59223.0': 1.6203253613325555e-05,\n  '92600.0': 1.6203253613325555e-05,\n  '34540.0': 1.6203253613325555e-05,\n  '9350.0': 1.6203253613325555e-05,\n  '24390.0': 1.6203253613325555e-05,\n  '95710.0': 1.6203253613325555e-05,\n  '44510.0': 1.6203253613325555e-05,\n  '48500.0': 1.6203253613325555e-05,\n  '92370.0': 1.6203253613325555e-05,\n  '11260.0': 1.6203253613325555e-05,\n  '45520.0': 1.6203253613325555e-05,\n  '84300.0': 1.6203253613325555e-05,\n  '66110.0': 1.6203253613325555e-05,\n  '54800.0': 1.6203253613325555e-05,\n  '26220.0': 1.6203253613325555e-05,\n  '34810': 1.6203253613325555e-05,\n  '47130': 1.6203253613325555e-05,\n  '35250.0': 1.6203253613325555e-05,\n  '31580': 1.6203253613325555e-05,\n  '62223.0': 1.6203253613325555e-05,\n  '67240': 1.6203253613325555e-05,\n  '22470.0': 1.6203253613325555e-05,\n  '91150.0': 1.6203253613325555e-05,\n  '56350': 1.6203253613325555e-05,\n  '42600.0': 1.6203253613325555e-05,\n  '64340.0': 1.6203253613325555e-05,\n  '79160.0': 1.6203253613325555e-05,\n  '92350.0': 1.6203253613325555e-05,\n  '81740.0': 1.6203253613325555e-05,\n  '16440': 1.6203253613325555e-05,\n  '63730.0': 1.6203253613325555e-05,\n  '66330': 1.6203253613325555e-05,\n  '22200.0': 1.6203253613325555e-05,\n  '34370': 1.6203253613325555e-05,\n  '10130.0': 1.6203253613325555e-05,\n  '19700.0': 1.6203253613325555e-05,\n  '47340.0': 1.6203253613325555e-05,\n  '77420': 1.6203253613325555e-05,\n  '47140.0': 1.6203253613325555e-05,\n  '36260.0': 1.6203253613325555e-05,\n  '75002.0': 1.6203253613325555e-05,\n  '5100.0': 1.6203253613325555e-05,\n  '80430.0': 1.6203253613325555e-05,\n  '42000.0': 1.6203253613325555e-05,\n  '71570.0': 1.6203253613325555e-05,\n  '2240.0': 1.6203253613325555e-05,\n  '67720.0': 1.6203253613325555e-05,\n  '13009': 1.6203253613325555e-05,\n  '13500.0': 1.6203253613325555e-05,\n  '16560.0': 1.6203253613325555e-05,\n  '31120': 1.6203253613325555e-05,\n  '66200.0': 1.6203253613325555e-05,\n  '91190.0': 1.6203253613325555e-05,\n  '17440.0': 1.6203253613325555e-05,\n  '19400.0': 1.6203253613325555e-05,\n  '13012': 1.6203253613325555e-05,\n  '33150.0': 1.6203253613325555e-05,\n  '64260.0': 1.6203253613325555e-05,\n  '66290.0': 1.6203253613325555e-05,\n  '12700': 1.6203253613325555e-05,\n  '66150.0': 1.6203253613325555e-05,\n  '71160.0': 1.6203253613325555e-05,\n  '27940.0': 1.6203253613325555e-05,\n  '18100.0': 1.6203253613325555e-05,\n  '65420.0': 1.6203253613325555e-05,\n  '29350.0': 1.6203253613325555e-05,\n  '62159.0': 1.6203253613325555e-05,\n  '89440.0': 1.6203253613325555e-05,\n  '47500.0': 1.6203253613325555e-05,\n  '77860.0': 1.6203253613325555e-05,\n  '61800.0': 1.6203253613325555e-05,\n  '59510.0': 1.6203253613325555e-05,\n  '34410': 1.6203253613325555e-05,\n  '83490.0': 1.6203253613325555e-05,\n  '57140.0': 1.6203253613325555e-05,\n  '58150': 1.6203253613325555e-05,\n  '58000.0': 1.6203253613325555e-05,\n  '93370.0': 1.6203253613325555e-05,\n  '34190.0': 1.6203253613325555e-05,\n  '62860.0': 1.6203253613325555e-05,\n  '8200.0': 1.6203253613325555e-05,\n  '76600.0': 1.6203253613325555e-05,\n  '94300.0': 1.6203253613325555e-05,\n  '81160': 1.6203253613325555e-05,\n  '75006': 1.6203253613325555e-05,\n  '33170.0': 1.6203253613325555e-05,\n  '66170': 1.6203253613325555e-05,\n  '59152': 1.6203253613325555e-05,\n  '92380.0': 1.6203253613325555e-05,\n  '85140.0': 1.6203253613325555e-05,\n  '11440': 1.6203253613325555e-05,\n  '41100.0': 1.6203253613325555e-05,\n  '34440': 1.6203253613325555e-05,\n  '34490': 1.6203253613325555e-05,\n  '84510.0': 1.6203253613325555e-05,\n  '64990': 1.6203253613325555e-05,\n  '24660': 1.6203253613325555e-05,\n  '66730.0': 1.6203253613325555e-05,\n  '17137.0': 1.6203253613325555e-05,\n  '75019.0': 1.6203253613325555e-05,\n  '24130.0': 1.6203253613325555e-05,\n  '64990.0': 1.6203253613325555e-05,\n  '31350.0': 1.6203253613325555e-05,\n  '6270.0': 1.6203253613325555e-05,\n  '22250': 1.6203253613325555e-05,\n  '2220.0': 1.6203253613325555e-05,\n  '60200.0': 1.6203253613325555e-05,\n  '31205.0': 1.6203253613325555e-05,\n  '63520.0': 1.6203253613325555e-05,\n  '63320.0': 1.6203253613325555e-05,\n  '40800.0': 1.6203253613325555e-05,\n  '4700.0': 1.6203253613325555e-05,\n  '83300.0': 1.6203253613325555e-05,\n  '18380.0': 1.6203253613325555e-05,\n  '30129.0': 1.6203253613325555e-05,\n  '33600': 1.6203253613325555e-05,\n  '81590': 1.6203253613325555e-05,\n  '31420.0': 1.6203253613325555e-05,\n  '74150.0': 1.6203253613325555e-05,\n  '62120.0': 1.6203253613325555e-05,\n  '35580.0': 1.6203253613325555e-05,\n  '1100.0': 1.6203253613325555e-05,\n  '16200.0': 1.6203253613325555e-05,\n  '45360.0': 1.6203253613325555e-05,\n  '71000.0': 1.6203253613325555e-05,\n  '30630.0': 1.6203253613325555e-05,\n  '67520.0': 1.6203253613325555e-05,\n  '77350': 1.6203253613325555e-05,\n  '98731.0': 1.6203253613325555e-05,\n  '4340.0': 1.6203253613325555e-05,\n  '83110.0': 1.6203253613325555e-05,\n  '66330.0': 1.6203253613325555e-05,\n  '78610.0': 1.6203253613325555e-05,\n  '85300.0': 1.6203253613325555e-05,\n  '78630.0': 1.6203253613325555e-05,\n  '34340': 1.6203253613325555e-05,\n  '3190.0': 1.6203253613325555e-05,\n  '33350.0': 1.6203253613325555e-05,\n  '69009': 1.6203253613325555e-05,\n  ...},\n 'motif_code': {'T13.9': 0.0842569187892929,\n  'R10.4': 0.07344934862920474,\n  'T11.9': 0.0669518439302612,\n  'R06.0': 0.05418368008296066,\n  'T00.9': 0.05385961501069415,\n  'R07.4': 0.044607557197485256,\n  'M54.9': 0.026492319657787283,\n  'M79.61': 0.02516365286149459,\n  'R53.+0': 0.02424006740553503,\n  'S00.9': 0.020059627973297037,\n  'R51': 0.01939529457515069,\n  'R50.9': 0.018860587205910946,\n  'Z02.9': 0.018682351416164367,\n  'L03.9': 0.017774969213818135,\n  'R10.3': 0.016932400025925207,\n  'Z04.9': 0.015798172272992416,\n  'R11': 0.014226456672499837,\n  'I64': 0.013626936288806792,\n  'M79.60': 0.013610733035193466,\n  'R53.+1': 0.013432497245446885,\n  'R42': 0.013173245187633676,\n  'R55': 0.012881586622593817,\n  'R05': 0.012168643463607492,\n  'R10.2': 0.011731155616047702,\n  'F32.9': 0.011714952362434377,\n  'T15.9': 0.011277464514874587,\n  'R79.9': 0.010370082312528355,\n  'J02.9': 0.009657139153542032,\n  'F41.9': 0.008830773219262428,\n  'Z76.0': 0.008652537429515847,\n  'K08.9': 0.008571521161449219,\n  'S21': 0.008409488625315964,\n  'R39.8': 0.008393285371702638,\n  'R00.2': 0.008344675610862662,\n  'H92.0': 0.008247456089182708,\n  'R04.0': 0.008085423553049453,\n  'R21': 0.007696545466329639,\n  'T01.9': 0.00743729340851643,\n  'H57.1': 0.006983602307343314,\n  'S00.8': 0.006805366517596733,\n  'R52.9': 0.006756756756756757,\n  'S39.9': 0.006189642880290363,\n  'S06.0': 0.00597900058331713,\n  'T50.9': 0.005881781061637177,\n  'H53.9': 0.005606325750210642,\n  'H57.9': 0.005606325750210642,\n  'K52.9': 0.005363276946010759,\n  'Z01.6': 0.005201244409877503,\n  'R41.0': 0.005071618380970899,\n  'N92.1': 0.004796163069544364,\n  'R56.8': 0.004763756562317713,\n  'R46.2': 0.00466653704063776,\n  'R45.6': 0.004617927279797783,\n  'R33': 0.004358675221984574,\n  'S19.9': 0.00408321991055804,\n  'K92.1': 0.004034610149718064,\n  'T63.9': 0.0037753580919048543,\n  'K59.0': 0.00349990278047832,\n  'R44.8': 0.0034836995268649946,\n  'R40.2': 0.003321666990731739,\n  'O20.9': 0.003289260483505088,\n  'S32.8': 0.0032568539762784367,\n  'R60.0': 0.00320824421543846,\n  'F10': 0.0031920409618251344,\n  'R31': 0.003175837708211809,\n  'I10': 0.0030948214401451814,\n  'T78.4': 0.0029651954112385765,\n  'L98.8': 0.0027545531142653444,\n  'Z20': 0.0026573335925853914,\n  'T30.0': 0.00262492708535874,\n  'N50.9': 0.0023818782811588566,\n  'T17': 0.0023170652667055544,\n  'H93.1': 0.002122626223345648,\n  'T14.0': 0.0020254067016656943,\n  'T85.9': 0.001960593687212392,\n  'J45': 0.00189578067275909,\n  'I80.2': 0.0018147644046924622,\n  'M79.59': 0.0017013416293991833,\n  'K62.8': 0.0017013416293991833,\n  'Z20.9': 0.0016527318685592067,\n  'R26.8': 0.0016203253613325556,\n  'R22.1': 0.0015069025860392766,\n  'R44.3': 0.0013772765571326722,\n  'Z48.0': 0.0013610733035193468,\n  'K92.0': 0.00131246354267937,\n  'R73.9': 0.0012152440209994167,\n  'R04.2': 0.00116663426015944,\n  'L29.9': 0.0010532114848661612,\n  'T88.7': 0.0009721952167995333,\n  'J31.0': 0.0008911789487329056,\n  'Z60.9': 0.0008587724415062545,\n  'E16.2': 0.0008587724415062545,\n  'G47.0': 0.0008425691878929289,\n  'S05.9': 0.0007615529198263011,\n  'N89.8': 0.0007129431589863245,\n  'Z74.0': 0.0006643333981463478,\n  'R25.1': 0.0006643333981463478,\n  'S31.8': 0.0006481301445330222,\n  'R57.9': 0.0006319268909196966,\n  'X69.9': 0.0006157236373063711,\n  'H92.1': 0.0005995203836930455,\n  'I46.9': 0.00058331713007972,\n  'R23.3': 0.0005671138764663944,\n  'N61': 0.0005509106228530689,\n  'T88.9': 0.0005185041156264178,\n  'T18.9': 0.0005185041156264178,\n  'R36': 0.0005185041156264178,\n  'R17': 0.00048609760839976666,\n  'I74.3': 0.0004698943547864411,\n  'R19.0': 0.00042128459394646445,\n  'T17.9': 0.00038887808671981335,\n  'R63.0': 0.00038887808671981335,\n  'F19.3': 0.0003402683258798367,\n  'N92.6': 0.00030786181865318554,\n  'T68': 0.00021064229697323223,\n  'C10.8': 0.00017823578974658112,\n  'T19.2': 0.00016203253613325554,\n  'M25.49': 0.00014582928251993,\n  'R23.0': 0.00014582928251993,\n  'T82.1': 0.00011342277529327889,\n  'O99.8': 0.00011342277529327889,\n  'Z39.1': 8.101626806662777e-05,\n  'Z51.5': 8.101626806662777e-05,\n  'T74.2': 8.101626806662777e-05,\n  'T18.5': 6.481301445330222e-05,\n  'T67.0': 6.481301445330222e-05,\n  'R06.6': 6.481301445330222e-05,\n  'S37.8': 6.481301445330222e-05,\n  'T14.7': 4.860976083997667e-05,\n  'B89': 3.240650722665111e-05,\n  'P90': 1.6203253613325555e-05,\n  'R06.2': 1.6203253613325555e-05,\n  'T35.7': 1.6203253613325555e-05,\n  'S36.6': 1.6203253613325555e-05}}"
     },
     "execution_count": 25,
     "metadata": {},
     "output_type": "execute_result"
    }
   ],
   "source": [
    "encoder.encoder_dict_"
   ],
   "metadata": {
    "collapsed": false,
    "pycharm": {
     "name": "#%%\n"
    }
   }
  },
  {
   "cell_type": "code",
   "execution_count": 26,
   "outputs": [
    {
     "data": {
      "text/plain": "1530"
     },
     "execution_count": 26,
     "metadata": {},
     "output_type": "execute_result"
    }
   ],
   "source": [
    "len(encoder.encoder_dict_['residence'])"
   ],
   "metadata": {
    "collapsed": false,
    "pycharm": {
     "name": "#%%\n"
    }
   }
  },
  {
   "cell_type": "code",
   "execution_count": 27,
   "outputs": [
    {
     "data": {
      "text/plain": "{'residence': {'81100.0': 0.2717202268431002,\n  '81200.0': 0.1130812854442344,\n  '81290.0': 0.06419659735349717,\n  '81100': 0.03988657844990548,\n  '31250.0': 0.03413988657844991,\n  '81700.0': 0.030359168241965974,\n  '81660.0': 0.030207939508506615,\n  '81710.0': 0.021739130434782608,\n  '81570.0': 0.020793950850661626,\n  '81210.0': 0.02052930056710775,\n  '81110.0': 0.02003780718336484,\n  '81240.0': 0.018109640831758034,\n  '81440.0': 0.018071833648393196,\n  '81260.0': 0.017466918714555767,\n  '81580.0': 0.017240075614366728,\n  '81200': 0.0166351606805293,\n  '81540.0': 0.015803402646502835,\n  '81090.0': 0.012967863894139887,\n  '81220.0': 0.010850661625708885,\n  '81290': 0.008998109640831758,\n  '81490.0': 0.008771266540642721,\n  '34220.0': 0.008695652173913044,\n  '81270.0': 0.007561436672967864,\n  '81300.0': 0.007107750472589792,\n  '81360.0': 0.007032136105860114,\n  '81120.0': 0.006578449905482042,\n  '81230.0': 0.0060491493383742915,\n  '31250': 0.0048393194706994325,\n  '81330.0': 0.004650283553875236,\n  '81470.0': 0.004536862003780718,\n  '81660': 0.004272211720226843,\n  '81108.0': 0.0038185255198487714,\n  '81700': 0.003780718336483932,\n  '31540.0': 0.0035916824196597355,\n  '81320.0': 0.0034782608695652175,\n  '81240': 0.0033648393194706996,\n  '81710': 0.0032136105860113423,\n  '34330.0': 0.003175803402646503,\n  '81570': 0.003175803402646503,\n  '81500.0': 0.0029867674858223064,\n  '81210': 0.0029111531190926278,\n  '81260': 0.002835538752362949,\n  '81110': 0.002684310018903592,\n  '81440': 0.0026086956521739132,\n  '81580': 0.0024952741020793953,\n  '81000.0': 0.0023062381852551983,\n  '81090': 0.0020793950850661624,\n  '81540': 0.001890359168241966,\n  '81230': 0.0017391304347826088,\n  '81530.0': 0.0017391304347826088,\n  '31000.0': 0.0016257088846880908,\n  '81600.0': 0.0014366729678638942,\n  '81120': 0.001398865784499055,\n  '81270': 0.0011720226843100188,\n  '31460.0': 0.0011342155009451795,\n  '34220': 0.0011342155009451795,\n  '11400.0': 0.0010207939508506615,\n  '81490': 0.0010207939508506615,\n  '31200.0': 0.0009829867674858222,\n  '81220': 0.0009829867674858222,\n  '34390.0': 0.0009073724007561437,\n  '31500.0': 0.0008317580340264651,\n  '81360': 0.0007939508506616257,\n  '81300': 0.0007939508506616257,\n  '81470': 0.0007561436672967864,\n  '81320': 0.0006805293005671078,\n  '31600.0': 0.0006049149338374291,\n  '11390.0': 0.0006049149338374291,\n  '81108': 0.0006049149338374291,\n  '81000': 0.0005671077504725897,\n  '81990.0': 0.0005671077504725897,\n  '31450.0': 0.0005671077504725897,\n  '31100.0': 0.0005671077504725897,\n  '31400.0': 0.0005671077504725897,\n  '81330': 0.0005293005671077504,\n  '81400.0': 0.0005293005671077504,\n  '81160.0': 0.0004914933837429111,\n  '81370.0': 0.0004914933837429111,\n  '81150.0': 0.0004914933837429111,\n  '31300.0': 0.0004914933837429111,\n  '81390.0': 0.00045368620037807185,\n  '11000.0': 0.00045368620037807185,\n  '34210.0': 0.00041587901701323253,\n  '31770.0': 0.00041587901701323253,\n  '81530': 0.00041587901701323253,\n  '34500.0': 0.00041587901701323253,\n  '11380.0': 0.00041587901701323253,\n  '31180.0': 0.00041587901701323253,\n  '31700.0': 0.00041587901701323253,\n  '31540': 0.00041587901701323253,\n  '82000.0': 0.0003780718336483932,\n  '34360.0': 0.0003402646502835539,\n  '66000.0': 0.0003402646502835539,\n  '34330': 0.00030245746691871453,\n  '31000': 0.00030245746691871453,\n  '81500': 0.00030245746691871453,\n  '12370.0': 0.00030245746691871453,\n  '31290.0': 0.00030245746691871453,\n  '81340.0': 0.0002646502835538752,\n  '81800.0': 0.0002646502835538752,\n  '81430.0': 0.0002646502835538752,\n  '81250.0': 0.0002646502835538752,\n  '11170.0': 0.0002646502835538752,\n  '31140.0': 0.00022684310018903592,\n  '34300.0': 0.00022684310018903592,\n  '81380.0': 0.00022684310018903592,\n  '31170.0': 0.0001890359168241966,\n  '11320.0': 0.0001890359168241966,\n  '9100.0': 0.0001890359168241966,\n  '81390': 0.0001890359168241966,\n  '31620.0': 0.0001890359168241966,\n  '11400': 0.0001890359168241966,\n  '31130.0': 0.0001890359168241966,\n  '31840.0': 0.0001890359168241966,\n  '81640.0': 0.0001890359168241966,\n  '34120.0': 0.0001890359168241966,\n  '13006.0': 0.0001890359168241966,\n  '11100.0': 0.0001890359168241966,\n  '34000.0': 0.0001890359168241966,\n  '11110.0': 0.00015122873345935726,\n  '24100.0': 0.00015122873345935726,\n  '33000.0': 0.00015122873345935726,\n  '81011.0': 0.00015122873345935726,\n  '34370.0': 0.00015122873345935726,\n  '31470.0': 0.00015122873345935726,\n  '31320.0': 0.00015122873345935726,\n  '13110.0': 0.00015122873345935726,\n  '31400': 0.00015122873345935726,\n  '12170.0': 0.00015122873345935726,\n  '11290.0': 0.00015122873345935726,\n  '75009.0': 0.00015122873345935726,\n  '34570.0': 0.00015122873345935726,\n  '34200.0': 0.00015122873345935726,\n  '11300.0': 0.00015122873345935726,\n  '38000.0': 0.00015122873345935726,\n  '11600.0': 0.00015122873345935726,\n  '32600.0': 0.00015122873345935726,\n  '31570.0': 0.00015122873345935726,\n  '31120.0': 0.00015122873345935726,\n  '81990': 0.00015122873345935726,\n  '81600': 0.00015122873345935726,\n  '11120.0': 0.00015122873345935726,\n  '31590.0': 0.00011342155009451796,\n  '34070.0': 0.00011342155009451796,\n  '75012.0': 0.00011342155009451796,\n  '13014.0': 0.00011342155009451796,\n  '81560.0': 0.00011342155009451796,\n  '82200.0': 0.00011342155009451796,\n  '34210': 0.00011342155009451796,\n  '17400.0': 0.00011342155009451796,\n  '34230.0': 0.00011342155009451796,\n  '75019.0': 0.00011342155009451796,\n  '64100.0': 0.00011342155009451796,\n  '34800.0': 0.00011342155009451796,\n  '11150.0': 0.00011342155009451796,\n  '11250.0': 0.00011342155009451796,\n  '82700.0': 0.00011342155009451796,\n  '65000.0': 0.00011342155009451796,\n  '51100.0': 0.00011342155009451796,\n  '42000.0': 0.00011342155009451796,\n  '13013.0': 0.00011342155009451796,\n  '31380.0': 0.00011342155009451796,\n  '40000.0': 0.00011342155009451796,\n  '31490.0': 0.00011342155009451796,\n  '13016.0': 0.00011342155009451796,\n  '31670.0': 0.00011342155009451796,\n  '31800.0': 0.00011342155009451796,\n  '34480.0': 0.00011342155009451796,\n  '11590.0': 0.00011342155009451796,\n  '12200.0': 0.00011342155009451796,\n  '94300.0': 0.00011342155009451796,\n  '31300': 0.00011342155009451796,\n  '11310.0': 0.00011342155009451796,\n  '31280.0': 0.00011342155009451796,\n  '71160.0': 0.00011342155009451796,\n  '12370': 0.00011342155009451796,\n  '9700.0': 0.00011342155009451796,\n  '31100': 0.00011342155009451796,\n  '86660.0': 0.00011342155009451796,\n  '82710.0': 0.00011342155009451796,\n  '46300.0': 0.00011342155009451796,\n  '12300.0': 0.00011342155009451796,\n  '12000.0': 0.00011342155009451796,\n  '9300.0': 0.00011342155009451796,\n  '31650.0': 0.00011342155009451796,\n  '81130.0': 0.00011342155009451796,\n  '78590.0': 0.00011342155009451796,\n  '11800.0': 0.00011342155009451796,\n  '9340.0': 0.00011342155009451796,\n  '81510.0': 0.00011342155009451796,\n  '75018.0': 0.00011342155009451796,\n  '69100.0': 7.561436672967863e-05,\n  '9340': 7.561436672967863e-05,\n  '49300': 7.561436672967863e-05,\n  '11160.0': 7.561436672967863e-05,\n  '33620.0': 7.561436672967863e-05,\n  '81310': 7.561436672967863e-05,\n  '32130.0': 7.561436672967863e-05,\n  '12550.0': 7.561436672967863e-05,\n  '75017.0': 7.561436672967863e-05,\n  '34160.0': 7.561436672967863e-05,\n  '77390.0': 7.561436672967863e-05,\n  '38250.0': 7.561436672967863e-05,\n  '91650.0': 7.561436672967863e-05,\n  '77127.0': 7.561436672967863e-05,\n  '84000.0': 7.561436672967863e-05,\n  '30210.0': 7.561436672967863e-05,\n  '34080.0': 7.561436672967863e-05,\n  '77470.0': 7.561436672967863e-05,\n  '34000': 7.561436672967863e-05,\n  '85170.0': 7.561436672967863e-05,\n  '6100.0': 7.561436672967863e-05,\n  '31190.0': 7.561436672967863e-05,\n  '6130.0': 7.561436672967863e-05,\n  '78560.0': 7.561436672967863e-05,\n  '43150.0': 7.561436672967863e-05,\n  '30540.0': 7.561436672967863e-05,\n  '11000': 7.561436672967863e-05,\n  '11270.0': 7.561436672967863e-05,\n  '31520.0': 7.561436672967863e-05,\n  '42800.0': 7.561436672967863e-05,\n  '76190.0': 7.561436672967863e-05,\n  '75005.0': 7.561436672967863e-05,\n  '94000.0': 7.561436672967863e-05,\n  '13090.0': 7.561436672967863e-05,\n  '38400.0': 7.561436672967863e-05,\n  '57100.0': 7.561436672967863e-05,\n  '34790.0': 7.561436672967863e-05,\n  '92400.0': 7.561436672967863e-05,\n  '44036.0': 7.561436672967863e-05,\n  '81310.0': 7.561436672967863e-05,\n  '34540.0': 7.561436672967863e-05,\n  '94400.0': 7.561436672967863e-05,\n  '46090.0': 7.561436672967863e-05,\n  '46100.0': 7.561436672967863e-05,\n  '92130.0': 7.561436672967863e-05,\n  '81610': 7.561436672967863e-05,\n  '45100.0': 7.561436672967863e-05,\n  '31200': 7.561436672967863e-05,\n  '34600.0': 7.561436672967863e-05,\n  '81140.0': 7.561436672967863e-05,\n  '44650.0': 7.561436672967863e-05,\n  '18000.0': 7.561436672967863e-05,\n  '31270.0': 7.561436672967863e-05,\n  '31810.0': 7.561436672967863e-05,\n  '11200.0': 7.561436672967863e-05,\n  '47130.0': 7.561436672967863e-05,\n  '75020.0': 7.561436672967863e-05,\n  '31450': 7.561436672967863e-05,\n  '30900.0': 7.561436672967863e-05,\n  '16450.0': 7.561436672967863e-05,\n  '46000.0': 7.561436672967863e-05,\n  '33000': 7.561436672967863e-05,\n  '33190.0': 7.561436672967863e-05,\n  '33700.0': 7.561436672967863e-05,\n  '93300.0': 7.561436672967863e-05,\n  '31280': 7.561436672967863e-05,\n  '97490.0': 7.561436672967863e-05,\n  '75015.0': 7.561436672967863e-05,\n  '31550.0': 7.561436672967863e-05,\n  '19100.0': 7.561436672967863e-05,\n  '81740.0': 7.561436672967863e-05,\n  '27000.0': 7.561436672967863e-05,\n  '31330.0': 7.561436672967863e-05,\n  '91200.0': 7.561436672967863e-05,\n  '81170': 7.561436672967863e-05,\n  '17000.0': 7.561436672967863e-05,\n  '11430.0': 7.561436672967863e-05,\n  '75007.0': 7.561436672967863e-05,\n  '12380.0': 7.561436672967863e-05,\n  '69380.0': 7.561436672967863e-05,\n  '31470': 7.561436672967863e-05,\n  '41130.0': 7.561436672967863e-05,\n  '81350.0': 7.561436672967863e-05,\n  '34400.0': 7.561436672967863e-05,\n  '92170': 7.561436672967863e-05,\n  '82600.0': 7.561436672967863e-05,\n  '31780.0': 7.561436672967863e-05,\n  '6400.0': 7.561436672967863e-05,\n  '33800.0': 7.561436672967863e-05,\n  '13920.0': 7.561436672967863e-05,\n  '66300.0': 7.561436672967863e-05,\n  '34130.0': 7.561436672967863e-05,\n  '18100': 7.561436672967863e-05,\n  '82400.0': 7.561436672967863e-05,\n  '56000.0': 7.561436672967863e-05,\n  '81163': 7.561436672967863e-05,\n  '33120.0': 7.561436672967863e-05,\n  '81170.0': 7.561436672967863e-05,\n  '82300.0': 7.561436672967863e-05,\n  '31460': 7.561436672967863e-05,\n  '32500.0': 7.561436672967863e-05,\n  '76600.0': 7.561436672967863e-05,\n  '26000.0': 7.561436672967863e-05,\n  '81750.0': 7.561436672967863e-05,\n  '34390': 7.561436672967863e-05,\n  '34440.0': 7.561436672967863e-05,\n  '13003.0': 7.561436672967863e-05,\n  '63000.0': 7.561436672967863e-05,\n  '31170': 7.561436672967863e-05,\n  '31560.0': 7.561436672967863e-05,\n  '31150.0': 7.561436672967863e-05,\n  '26600.0': 7.561436672967863e-05,\n  '44522.0': 3.7807183364839316e-05,\n  '66490.0': 3.7807183364839316e-05,\n  '66130.0': 3.7807183364839316e-05,\n  '31004.0': 3.7807183364839316e-05,\n  '66200.0': 3.7807183364839316e-05,\n  '78300.0': 3.7807183364839316e-05,\n  '99109.0': 3.7807183364839316e-05,\n  '6320.0': 3.7807183364839316e-05,\n  '91270.0': 3.7807183364839316e-05,\n  '79400': 3.7807183364839316e-05,\n  '12800.0': 3.7807183364839316e-05,\n  '68800.0': 3.7807183364839316e-05,\n  '39220.0': 3.7807183364839316e-05,\n  '22130.0': 3.7807183364839316e-05,\n  '84220': 3.7807183364839316e-05,\n  '11620.0': 3.7807183364839316e-05,\n  '78955.0': 3.7807183364839316e-05,\n  '40240': 3.7807183364839316e-05,\n  '81107.0': 3.7807183364839316e-05,\n  '71290.0': 3.7807183364839316e-05,\n  '34410.0': 3.7807183364839316e-05,\n  '4100': 3.7807183364839316e-05,\n  '67000.0': 3.7807183364839316e-05,\n  '45200.0': 3.7807183364839316e-05,\n  '73000.0': 3.7807183364839316e-05,\n  '81362.0': 3.7807183364839316e-05,\n  '49080.0': 3.7807183364839316e-05,\n  '89400.0': 3.7807183364839316e-05,\n  '56350.0': 3.7807183364839316e-05,\n  '65800.0': 3.7807183364839316e-05,\n  '34380.0': 3.7807183364839316e-05,\n  '31360.0': 3.7807183364839316e-05,\n  '31240.0': 3.7807183364839316e-05,\n  '34600': 3.7807183364839316e-05,\n  '6250.0': 3.7807183364839316e-05,\n  '5000.0': 3.7807183364839316e-05,\n  '69001.0': 3.7807183364839316e-05,\n  '31260.0': 3.7807183364839316e-05,\n  '34760.0': 3.7807183364839316e-05,\n  '2150.0': 3.7807183364839316e-05,\n  '16000': 3.7807183364839316e-05,\n  '44000.0': 3.7807183364839316e-05,\n  '49680.0': 3.7807183364839316e-05,\n  '31850.0': 3.7807183364839316e-05,\n  '5100.0': 3.7807183364839316e-05,\n  '27820.0': 3.7807183364839316e-05,\n  '37000.0': 3.7807183364839316e-05,\n  '74360.0': 3.7807183364839316e-05,\n  '33270.0': 3.7807183364839316e-05,\n  '32400': 3.7807183364839316e-05,\n  '75018': 3.7807183364839316e-05,\n  '13320.0': 3.7807183364839316e-05,\n  '69210.0': 3.7807183364839316e-05,\n  '42600': 3.7807183364839316e-05,\n  '74700.0': 3.7807183364839316e-05,\n  '35690.0': 3.7807183364839316e-05,\n  '66510.0': 3.7807183364839316e-05,\n  '40100.0': 3.7807183364839316e-05,\n  '91580.0': 3.7807183364839316e-05,\n  '12330.0': 3.7807183364839316e-05,\n  '57920.0': 3.7807183364839316e-05,\n  '31340.0': 3.7807183364839316e-05,\n  '62100.0': 3.7807183364839316e-05,\n  '75010.0': 3.7807183364839316e-05,\n  '6200.0': 3.7807183364839316e-05,\n  '59152.0': 3.7807183364839316e-05,\n  '11420.0': 3.7807183364839316e-05,\n  '56680.0': 3.7807183364839316e-05,\n  '1500.0': 3.7807183364839316e-05,\n  '41600.0': 3.7807183364839316e-05,\n  '41200.0': 3.7807183364839316e-05,\n  '13290.0': 3.7807183364839316e-05,\n  '68420': 3.7807183364839316e-05,\n  '62360.0': 3.7807183364839316e-05,\n  '34650.0': 3.7807183364839316e-05,\n  '34360': 3.7807183364839316e-05,\n  '11270': 3.7807183364839316e-05,\n  '72370.0': 3.7807183364839316e-05,\n  '81770.0': 3.7807183364839316e-05,\n  '34620.0': 3.7807183364839316e-05,\n  '29200.0': 3.7807183364839316e-05,\n  '92350.0': 3.7807183364839316e-05,\n  '64230.0': 3.7807183364839316e-05,\n  '31370.0': 3.7807183364839316e-05,\n  '31270': 3.7807183364839316e-05,\n  '59330.0': 3.7807183364839316e-05,\n  '69200.0': 3.7807183364839316e-05,\n  '32430.0': 3.7807183364839316e-05,\n  '11190': 3.7807183364839316e-05,\n  '60100.0': 3.7807183364839316e-05,\n  '11570.0': 3.7807183364839316e-05,\n  '59000.0': 3.7807183364839316e-05,\n  '49800.0': 3.7807183364839316e-05,\n  '57410.0': 3.7807183364839316e-05,\n  '81560': 3.7807183364839316e-05,\n  '57930.0': 3.7807183364839316e-05,\n  '81065.0': 3.7807183364839316e-05,\n  '60190.0': 3.7807183364839316e-05,\n  '31750': 3.7807183364839316e-05,\n  '14120': 3.7807183364839316e-05,\n  '34820.0': 3.7807183364839316e-05,\n  '37390.0': 3.7807183364839316e-05,\n  '91520.0': 3.7807183364839316e-05,\n  '6340.0': 3.7807183364839316e-05,\n  '4300.0': 3.7807183364839316e-05,\n  '75011.0': 3.7807183364839316e-05,\n  '47440.0': 3.7807183364839316e-05,\n  '78800.0': 3.7807183364839316e-05,\n  '13380.0': 3.7807183364839316e-05,\n  '85200': 3.7807183364839316e-05,\n  '62117.0': 3.7807183364839316e-05,\n  '46100': 3.7807183364839316e-05,\n  '80190.0': 3.7807183364839316e-05,\n  '73600.0': 3.7807183364839316e-05,\n  '66250': 3.7807183364839316e-05,\n  '17430.0': 3.7807183364839316e-05,\n  '12350.0': 3.7807183364839316e-05,\n  '65380': 3.7807183364839316e-05,\n  '60390.0': 3.7807183364839316e-05,\n  '62740.0': 3.7807183364839316e-05,\n  '1150': 3.7807183364839316e-05,\n  '6000.0': 3.7807183364839316e-05,\n  '69320.0': 3.7807183364839316e-05,\n  '62510.0': 3.7807183364839316e-05,\n  '42170.0': 3.7807183364839316e-05,\n  '66650': 3.7807183364839316e-05,\n  '89340.0': 3.7807183364839316e-05,\n  '75016.0': 3.7807183364839316e-05,\n  '46270.0': 3.7807183364839316e-05,\n  '44420': 3.7807183364839316e-05,\n  '63350.0': 3.7807183364839316e-05,\n  '37600.0': 3.7807183364839316e-05,\n  '13010': 3.7807183364839316e-05,\n  '82170.0': 3.7807183364839316e-05,\n  '76360.0': 3.7807183364839316e-05,\n  '23600.0': 3.7807183364839316e-05,\n  '3700.0': 3.7807183364839316e-05,\n  '17590': 3.7807183364839316e-05,\n  '81420.0': 3.7807183364839316e-05,\n  '72700.0': 3.7807183364839316e-05,\n  '52170.0': 3.7807183364839316e-05,\n  '87350': 3.7807183364839316e-05,\n  '26200.0': 3.7807183364839316e-05,\n  '60730.0': 3.7807183364839316e-05,\n  '59140.0': 3.7807183364839316e-05,\n  '43100.0': 3.7807183364839316e-05,\n  '31410.0': 3.7807183364839316e-05,\n  '66500.0': 3.7807183364839316e-05,\n  '62600.0': 3.7807183364839316e-05,\n  '73100.0': 3.7807183364839316e-05,\n  '98800.0': 3.7807183364839316e-05,\n  '35137.0': 3.7807183364839316e-05,\n  '81711.0': 3.7807183364839316e-05,\n  '11390': 3.7807183364839316e-05,\n  '31150': 3.7807183364839316e-05,\n  '54670.0': 3.7807183364839316e-05,\n  '97228.0': 3.7807183364839316e-05,\n  '9120.0': 3.7807183364839316e-05,\n  '9000.0': 3.7807183364839316e-05,\n  '60800': 3.7807183364839316e-05,\n  '81020.0': 3.7807183364839316e-05,\n  '11260.0': 3.7807183364839316e-05,\n  '81190.0': 3.7807183364839316e-05,\n  '78100': 3.7807183364839316e-05,\n  '66230.0': 3.7807183364839316e-05,\n  '26300.0': 3.7807183364839316e-05,\n  '59700.0': 3.7807183364839316e-05,\n  '66660.0': 3.7807183364839316e-05,\n  '11510': 3.7807183364839316e-05,\n  '44690': 3.7807183364839316e-05,\n  '10000.0': 3.7807183364839316e-05,\n  '48170.0': 3.7807183364839316e-05,\n  '42155.0': 3.7807183364839316e-05,\n  '33700': 3.7807183364839316e-05,\n  '78310.0': 3.7807183364839316e-05,\n  '11380': 3.7807183364839316e-05,\n  '44600.0': 3.7807183364839316e-05,\n  '31330': 3.7807183364839316e-05,\n  '78220.0': 3.7807183364839316e-05,\n  '11230': 3.7807183364839316e-05,\n  '33200.0': 3.7807183364839316e-05,\n  '17210.0': 3.7807183364839316e-05,\n  '18140.0': 3.7807183364839316e-05,\n  '94140.0': 3.7807183364839316e-05,\n  '12850': 3.7807183364839316e-05,\n  '81400': 3.7807183364839316e-05,\n  '63670.0': 3.7807183364839316e-05,\n  '59870': 3.7807183364839316e-05,\n  '38220.0': 3.7807183364839316e-05,\n  '19200.0': 3.7807183364839316e-05,\n  '34190.0': 3.7807183364839316e-05,\n  '37250.0': 3.7807183364839316e-05,\n  '77340.0': 3.7807183364839316e-05,\n  '7200.0': 3.7807183364839316e-05,\n  '50440.0': 3.7807183364839316e-05,\n  '56110.0': 3.7807183364839316e-05,\n  '44380.0': 3.7807183364839316e-05,\n  '40290.0': 3.7807183364839316e-05,\n  '11250': 3.7807183364839316e-05,\n  '19120.0': 3.7807183364839316e-05,\n  '57250.0': 3.7807183364839316e-05,\n  '86500.0': 3.7807183364839316e-05,\n  '62280.0': 3.7807183364839316e-05,\n  '84410': 3.7807183364839316e-05,\n  '33400.0': 3.7807183364839316e-05,\n  '81800': 3.7807183364839316e-05,\n  '82230.0': 3.7807183364839316e-05,\n  '11130.0': 3.7807183364839316e-05,\n  '29200': 3.7807183364839316e-05,\n  '95380.0': 3.7807183364839316e-05,\n  '31830.0': 3.7807183364839316e-05,\n  '33360.0': 3.7807183364839316e-05,\n  '33440.0': 3.7807183364839316e-05,\n  '33600.0': 3.7807183364839316e-05,\n  '30460.0': 3.7807183364839316e-05,\n  '16500.0': 3.7807183364839316e-05,\n  '82800.0': 3.7807183364839316e-05,\n  '65380.0': 3.7807183364839316e-05,\n  '9400.0': 3.7807183364839316e-05,\n  '68200.0': 3.7807183364839316e-05,\n  '24470.0': 3.7807183364839316e-05,\n  '86550.0': 3.7807183364839316e-05,\n  '13600.0': 3.7807183364839316e-05,\n  '81640': 3.7807183364839316e-05,\n  '3300.0': 3.7807183364839316e-05,\n  '77330.0': 3.7807183364839316e-05,\n  '92160': 3.7807183364839316e-05,\n  '26780.0': 3.7807183364839316e-05,\n  '9700': 3.7807183364839316e-05,\n  '11420': 3.7807183364839316e-05,\n  '82100.0': 3.7807183364839316e-05,\n  '65190': 3.7807183364839316e-05,\n  '91390': 3.7807183364839316e-05,\n  '92390.0': 3.7807183364839316e-05,\n  '67500.0': 3.7807183364839316e-05,\n  '46260.0': 3.7807183364839316e-05,\n  '95260.0': 3.7807183364839316e-05,\n  '46190.0': 3.7807183364839316e-05,\n  '34260': 3.7807183364839316e-05,\n  '33520.0': 3.7807183364839316e-05,\n  '94260.0': 3.7807183364839316e-05,\n  '59280.0': 3.7807183364839316e-05,\n  '12390.0': 3.7807183364839316e-05,\n  '78190.0': 3.7807183364839316e-05,\n  '30270.0': 3.7807183364839316e-05,\n  '95340': 3.7807183364839316e-05,\n  '12240.0': 3.7807183364839316e-05,\n  '69330.0': 3.7807183364839316e-05,\n  '33100.0': 3.7807183364839316e-05,\n  '82370.0': 3.7807183364839316e-05,\n  '33130.0': 3.7807183364839316e-05,\n  '13580.0': 3.7807183364839316e-05,\n  '33140.0': 3.7807183364839316e-05,\n  '95330.0': 3.7807183364839316e-05,\n  '32320.0': 3.7807183364839316e-05,\n  '31660.0': 3.7807183364839316e-05,\n  '12400.0': 3.7807183364839316e-05,\n  '60300.0': 3.7807183364839316e-05,\n  '13116.0': 3.7807183364839316e-05,\n  '77590.0': 3.7807183364839316e-05,\n  '81160': 3.7807183364839316e-05,\n  '24130.0': 3.7807183364839316e-05,\n  '13007.0': 3.7807183364839316e-05,\n  '84100.0': 3.7807183364839316e-05,\n  '78460.0': 3.7807183364839316e-05,\n  '32250.0': 3.7807183364839316e-05,\n  '59600.0': 3.7807183364839316e-05,\n  '81267': 3.7807183364839316e-05,\n  '46110.0': 3.7807183364839316e-05,\n  '42400.0': 3.7807183364839316e-05,\n  '41170.0': 3.7807183364839316e-05,\n  '54180.0': 3.7807183364839316e-05,\n  '81190': 3.7807183364839316e-05,\n  '2430': 3.7807183364839316e-05,\n  '30310.0': 3.7807183364839316e-05,\n  '66400': 3.7807183364839316e-05,\n  '34170.0': 3.7807183364839316e-05,\n  '82350.0': 3.7807183364839316e-05,\n  '7700.0': 3.7807183364839316e-05,\n  '78200.0': 3.7807183364839316e-05,\n  '81104.0': 3.7807183364839316e-05,\n  '31130': 3.7807183364839316e-05,\n  '81450.0': 3.7807183364839316e-05,\n  '13140.0': 3.7807183364839316e-05,\n  '34630': 3.7807183364839316e-05,\n  '69770.0': 3.7807183364839316e-05,\n  '13127.0': 3.7807183364839316e-05,\n  '94220.0': 3.7807183364839316e-05,\n  '26120.0': 3.7807183364839316e-05,\n  '50570.0': 3.7807183364839316e-05,\n  '11120': 3.7807183364839316e-05,\n  '83800.0': 3.7807183364839316e-05,\n  '17550.0': 3.7807183364839316e-05,\n  '63100.0': 3.7807183364839316e-05,\n  '75014.0': 3.7807183364839316e-05,\n  '11360.0': 3.7807183364839316e-05,\n  '30650.0': 3.7807183364839316e-05,\n  '40270': 3.7807183364839316e-05,\n  '81630.0': 3.7807183364839316e-05,\n  '94400': 3.7807183364839316e-05,\n  '31240': 3.7807183364839316e-05,\n  '13014': 3.7807183364839316e-05,\n  '77380.0': 3.7807183364839316e-05,\n  '31780': 3.7807183364839316e-05,\n  '65420.0': 3.7807183364839316e-05,\n  '92320.0': 3.7807183364839316e-05,\n  '16440.0': 3.7807183364839316e-05,\n  '40220.0': 3.7807183364839316e-05,\n  '34500': 3.7807183364839316e-05,\n  '33330.0': 3.7807183364839316e-05,\n  '49310.0': 3.7807183364839316e-05,\n  '49000.0': 3.7807183364839316e-05,\n  '2100.0': 3.7807183364839316e-05,\n  '83000.0': 3.7807183364839316e-05,\n  '13002.0': 3.7807183364839316e-05,\n  '13700.0': 3.7807183364839316e-05,\n  '94230.0': 3.7807183364839316e-05,\n  '58420.0': 3.7807183364839316e-05,\n  '59113.0': 3.7807183364839316e-05,\n  '28500.0': 3.7807183364839316e-05,\n  '32500': 3.7807183364839316e-05,\n  '40120.0': 3.7807183364839316e-05,\n  '34970.0': 3.7807183364839316e-05,\n  '24200.0': 3.7807183364839316e-05,\n  '13400.0': 3.7807183364839316e-05,\n  '11290': 3.7807183364839316e-05,\n  '66190.0': 3.7807183364839316e-05,\n  '35000.0': 3.7807183364839316e-05,\n  '42300.0': 3.7807183364839316e-05,\n  '34490.0': 3.7807183364839316e-05,\n  '6810': 3.7807183364839316e-05,\n  '31590': 3.7807183364839316e-05,\n  '25620.0': 3.7807183364839316e-05,\n  '34340.0': 3.7807183364839316e-05,\n  '38950.0': 3.7807183364839316e-05,\n  '7200': 3.7807183364839316e-05,\n  '81112.0': 3.7807183364839316e-05,\n  '51220.0': 3.7807183364839316e-05,\n  '34140.0': 3.7807183364839316e-05,\n  '64520.0': 3.7807183364839316e-05,\n  '9310.0': 3.7807183364839316e-05,\n  '32450.0': 3.7807183364839316e-05,\n  '65410.0': 3.7807183364839316e-05,\n  '29800.0': 3.7807183364839316e-05,\n  '79370.0': 3.7807183364839316e-05,\n  '85170': 3.7807183364839316e-05,\n  '93140.0': 3.7807183364839316e-05,\n  '65460.0': 3.7807183364839316e-05,\n  '17100.0': 3.7807183364839316e-05,\n  '19250.0': 3.7807183364839316e-05,\n  '60660.0': 3.7807183364839316e-05,\n  '64140.0': 3.7807183364839316e-05,\n  '59139.0': 3.7807183364839316e-05,\n  '60700.0': 3.7807183364839316e-05,\n  '33910.0': 3.7807183364839316e-05,\n  '53600.0': 3.7807183364839316e-05,\n  '11700.0': 3.7807183364839316e-05,\n  '6100': 3.7807183364839316e-05,\n  '49300.0': 3.7807183364839316e-05,\n  '15000': 3.7807183364839316e-05,\n  '40465': 3.7807183364839316e-05,\n  '11370.0': 3.7807183364839316e-05,\n  '91290': 3.7807183364839316e-05,\n  '92500.0': 3.7807183364839316e-05,\n  '34990': 3.7807183364839316e-05,\n  '32190.0': 3.7807183364839316e-05,\n  '75003.0': 3.7807183364839316e-05,\n  '42320.0': 3.7807183364839316e-05,\n  '95480.0': 3.7807183364839316e-05,\n  '30200': 3.7807183364839316e-05,\n  '12510.0': 3.7807183364839316e-05,\n  '13330.0': 3.7807183364839316e-05,\n  '26250.0': 3.7807183364839316e-05,\n  '65260.0': 3.7807183364839316e-05,\n  '80118.0': 3.7807183364839316e-05,\n  '78930.0': 3.7807183364839316e-05,\n  '38130.0': 3.7807183364839316e-05,\n  '49240': 3.7807183364839316e-05,\n  '31790.0': 3.7807183364839316e-05,\n  '81430': 3.7807183364839316e-05,\n  '66100.0': 3.7807183364839316e-05,\n  '24490': 3.7807183364839316e-05,\n  '27220.0': 3.7807183364839316e-05,\n  '9500.0': 3.7807183364839316e-05,\n  '24110.0': 3.7807183364839316e-05,\n  '93700.0': 3.7807183364839316e-05,\n  '91230.0': 3.7807183364839316e-05,\n  '89440.0': 3.7807183364839316e-05,\n  '64210.0': 3.7807183364839316e-05,\n  '31210.0': 3.7807183364839316e-05,\n  '9200.0': 3.7807183364839316e-05,\n  '44510.0': 3.7807183364839316e-05,\n  '69450.0': 3.7807183364839316e-05,\n  '83210.0': 3.7807183364839316e-05,\n  '63420.0': 3.7807183364839316e-05,\n  '80420.0': 3.7807183364839316e-05,\n  '80200.0': 3.7807183364839316e-05,\n  '99127.0': 3.7807183364839316e-05,\n  '84350.0': 3.7807183364839316e-05,\n  '59800.0': 3.7807183364839316e-05,\n  '37550.0': 3.7807183364839316e-05,\n  '14000.0': 3.7807183364839316e-05,\n  '59229.0': 3.7807183364839316e-05,\n  '57300.0': 3.7807183364839316e-05,\n  '77130.0': 3.7807183364839316e-05,\n  '13200.0': 3.7807183364839316e-05,\n  '38380': 3.7807183364839316e-05,\n  '30400.0': 3.7807183364839316e-05,\n  '85280.0': 3.7807183364839316e-05,\n  '34750.0': 3.7807183364839316e-05,\n  '4100.0': 3.7807183364839316e-05,\n  '75013.0': 3.7807183364839316e-05,\n  '31212.0': 3.7807183364839316e-05,\n  '59267.0': 3.7807183364839316e-05,\n  '71000.0': 3.7807183364839316e-05,\n  '1000.0': 3.7807183364839316e-05,\n  '92310.0': 3.7807183364839316e-05,\n  '93270.0': 3.7807183364839316e-05,\n  '33290.0': 3.7807183364839316e-05,\n  '13310': 3.7807183364839316e-05,\n  '78340.0': 3.7807183364839316e-05,\n  '59610.0': 3.7807183364839316e-05,\n  '91380.0': 3.7807183364839316e-05,\n  '59350.0': 3.7807183364839316e-05,\n  '11600': 3.7807183364839316e-05,\n  '34550.0': 3.7807183364839316e-05,\n  '34510.0': 3.7807183364839316e-05,\n  '92600.0': 3.7807183364839316e-05,\n  '76850.0': 3.7807183364839316e-05,\n  '32000.0': 3.7807183364839316e-05,\n  '30240.0': 3.7807183364839316e-05,\n  '66170': 3.7807183364839316e-05,\n  '40160.0': 3.7807183364839316e-05,\n  '33650.0': 3.7807183364839316e-05,\n  '62990.0': 3.7807183364839316e-05,\n  '34880.0': 3.7807183364839316e-05,\n  '30121.0': 3.7807183364839316e-05,\n  '92240.0': 3.7807183364839316e-05,\n  '30340.0': 3.7807183364839316e-05,\n  '95320.0': 3.7807183364839316e-05,\n  '12100.0': 3.7807183364839316e-05,\n  '31700': 3.7807183364839316e-05,\n  '33500.0': 3.7807183364839316e-05,\n  '31310.0': 3.7807183364839316e-05,\n  '57290': 3.7807183364839316e-05,\n  '74000.0': 3.7807183364839316e-05,\n  '85570.0': 3.7807183364839316e-05,\n  '64000.0': 3.7807183364839316e-05,\n  '78000.0': 3.7807183364839316e-05,\n  '84170.0': 3.7807183364839316e-05,\n  '36100.0': 3.7807183364839316e-05,\n  '81471.0': 3.7807183364839316e-05,\n  '31660': 3.7807183364839316e-05,\n  '31550': 3.7807183364839316e-05,\n  '78113.0': 3.7807183364839316e-05,\n  '34200': 3.7807183364839316e-05,\n  '25560.0': 3.7807183364839316e-05,\n  '16000.0': 3.7807183364839316e-05,\n  '81610.0': 3.7807183364839316e-05,\n  '95800': 3.7807183364839316e-05,\n  '82130.0': 3.7807183364839316e-05,\n  '42720.0': 3.7807183364839316e-05,\n  '12850.0': 3.7807183364839316e-05,\n  '85150.0': 3.7807183364839316e-05,\n  '83980.0': 3.7807183364839316e-05,\n  '82340.0': 3.7807183364839316e-05,\n  '78330.0': 3.7807183364839316e-05,\n  '79230.0': 3.7807183364839316e-05,\n  '82000': 3.7807183364839316e-05,\n  '94700.0': 3.7807183364839316e-05,\n  '31640.0': 3.7807183364839316e-05,\n  '65300.0': 3.7807183364839316e-05,\n  '69890.0': 3.7807183364839316e-05,\n  '48000.0': 3.7807183364839316e-05,\n  '77240.0': 3.7807183364839316e-05,\n  '12520.0': 3.7807183364839316e-05,\n  '59910.0': 3.7807183364839316e-05,\n  '92230.0': 3.7807183364839316e-05,\n  '25000.0': 3.7807183364839316e-05,\n  '13110': 3.7807183364839316e-05,\n  '60000.0': 3.7807183364839316e-05,\n  '47370.0': 3.7807183364839316e-05,\n  '44230.0': 3.7807183364839316e-05,\n  '92500': 3.7807183364839316e-05,\n  '39700.0': 3.7807183364839316e-05,\n  '20166.0': 3.7807183364839316e-05,\n  '99131.0': 3.7807183364839316e-05,\n  '13190.0': 3.7807183364839316e-05,\n  '59263.0': 3.7807183364839316e-05,\n  '24460.0': 3.7807183364839316e-05,\n  '11190.0': 3.7807183364839316e-05,\n  '9110.0': 3.7807183364839316e-05,\n  '64800': 3.7807183364839316e-05,\n  '70300.0': 3.7807183364839316e-05,\n  '77230.0': 3.7807183364839316e-05,\n  '82370': 3.7807183364839316e-05,\n  '66600.0': 3.7807183364839316e-05,\n  '34980.0': 3.7807183364839316e-05,\n  '81203.0': 3.7807183364839316e-05,\n  '39100': 3.7807183364839316e-05,\n  '47270.0': 3.7807183364839316e-05,\n  '69003.0': 3.7807183364839316e-05,\n  '65200.0': 3.7807183364839316e-05,\n  '2460.0': 3.7807183364839316e-05,\n  '31420.0': 3.7807183364839316e-05,\n  '94210.0': 3.7807183364839316e-05,\n  '38290.0': 3.7807183364839316e-05,\n  '51400.0': 3.7807183364839316e-05,\n  '13300': 3.7807183364839316e-05,\n  '49100.0': 3.7807183364839316e-05,\n  '66210.0': 3.7807183364839316e-05,\n  '15000.0': 3.7807183364839316e-05,\n  '76000.0': 3.7807183364839316e-05,\n  '34350.0': 3.7807183364839316e-05,\n  '81380': 3.7807183364839316e-05,\n  '85340.0': 3.7807183364839316e-05,\n  '26130': 3.7807183364839316e-05,\n  '50220.0': 3.7807183364839316e-05,\n  '19000.0': 3.7807183364839316e-05,\n  '72100.0': 3.7807183364839316e-05,\n  '31570': 3.7807183364839316e-05,\n  '4700.0': 3.7807183364839316e-05,\n  '32260.0': 3.7807183364839316e-05,\n  '33260.0': 3.7807183364839316e-05,\n  '31120': 3.7807183364839316e-05,\n  '16600.0': 3.7807183364839316e-05,\n  '68210': 3.7807183364839316e-05,\n  '91160.0': 3.7807183364839316e-05,\n  '82210.0': 3.7807183364839316e-05,\n  '10160.0': 3.7807183364839316e-05,\n  '32310.0': 3.7807183364839316e-05}}"
     },
     "execution_count": 27,
     "metadata": {},
     "output_type": "execute_result"
    }
   ],
   "source": [
    "# Encode unique values in test dataset not available in train dataset\n",
    "df = X_test.copy(deep=True)\n",
    "\n",
    "# set up the encoder\n",
    "test_encoder = CountFrequencyEncoder(encoding_method='frequency',\n",
    "                                variables=['residence'])\n",
    "\n",
    "# fit the encoder\n",
    "test_encoder.fit(df)\n",
    "test_encoder.encoder_dict_"
   ],
   "metadata": {
    "collapsed": false,
    "pycharm": {
     "name": "#%%\n"
    }
   }
  },
  {
   "cell_type": "code",
   "execution_count": 28,
   "outputs": [
    {
     "data": {
      "text/plain": "1846"
     },
     "execution_count": 28,
     "metadata": {},
     "output_type": "execute_result"
    }
   ],
   "source": [
    "#Merge two dict\n",
    "encoder.encoder_dict_['residence'] = test_encoder.encoder_dict_['residence']|encoder.encoder_dict_['residence']\n",
    "len(encoder.encoder_dict_['residence'])"
   ],
   "metadata": {
    "collapsed": false,
    "pycharm": {
     "name": "#%%\n"
    }
   }
  },
  {
   "cell_type": "code",
   "execution_count": 29,
   "outputs": [],
   "source": [
    "# transform the data\n",
    "train_t = encoder.transform(X_train)"
   ],
   "metadata": {
    "collapsed": false,
    "pycharm": {
     "name": "#%%\n"
    }
   }
  },
  {
   "cell_type": "code",
   "execution_count": 30,
   "outputs": [
    {
     "name": "stderr",
     "output_type": "stream",
     "text": [
      "C:\\Users\\NBA\\anaconda3\\envs\\Data_Science\\lib\\site-packages\\feature_engine\\encoding\\base_encoder.py:238: UserWarning: During the encoding, NaN values were introduced in the feature(s) motif_code.\n",
      "  warnings.warn(\n"
     ]
    }
   ],
   "source": [
    "# transform the data\n",
    "test_t = encoder.transform(X_test)"
   ],
   "metadata": {
    "collapsed": false,
    "pycharm": {
     "name": "#%%\n"
    }
   }
  },
  {
   "cell_type": "code",
   "execution_count": 31,
   "outputs": [
    {
     "name": "stdout",
     "output_type": "stream",
     "text": [
      "<class 'pandas.core.frame.DataFrame'>\n",
      "RangeIndex: 26450 entries, 0 to 26449\n",
      "Data columns (total 29 columns):\n",
      " #   Column                            Non-Null Count  Dtype  \n",
      "---  ------                            --------------  -----  \n",
      " 0   age                               26450 non-null  object \n",
      " 1   sexe                              26450 non-null  object \n",
      " 2   residence                         26450 non-null  float64\n",
      " 3   mode_entree                       26450 non-null  object \n",
      " 4   etat_patient_entree               26450 non-null  object \n",
      " 5   motif_code                        26449 non-null  float64\n",
      " 6   score_tri                         26450 non-null  object \n",
      " 7   occupation_lits                   26450 non-null  object \n",
      " 8   nbre_patient_urgence              26450 non-null  object \n",
      " 9   occupation_salles_att             26450 non-null  object \n",
      " 10  nbre_patient_score_0              26450 non-null  object \n",
      " 11  nbre_patient_score_1              26450 non-null  object \n",
      " 12  nbre_patient_score_2              26450 non-null  object \n",
      " 13  nbre_patient_score_3              26450 non-null  object \n",
      " 14  nbre_patient_score_4              26450 non-null  object \n",
      " 15  nbre_patient_score_5              26450 non-null  object \n",
      " 16  nbre_patient_salle_att_ext        26450 non-null  object \n",
      " 17  nbre_patient_salle_att_interne    26450 non-null  object \n",
      " 18  nbre_patient_traite_sans_fin_PEC  26450 non-null  object \n",
      " 19  nbre_patient_entre_finPEC_sortie  26450 non-null  object \n",
      " 20  nbre_patient_UHCD                 26450 non-null  object \n",
      " 21  hour_of_day                       26450 non-null  object \n",
      " 22  UHCD_saturee                      26450 non-null  object \n",
      " 23  day_of_week                       26450 non-null  object \n",
      " 24  is_weekend                        26450 non-null  object \n",
      " 25  week                              26450 non-null  object \n",
      " 26  month                             26450 non-null  object \n",
      " 27  quarter                           26450 non-null  object \n",
      " 28  moyenne_dynamique_temps_attente   26450 non-null  object \n",
      "dtypes: float64(2), object(27)\n",
      "memory usage: 5.9+ MB\n"
     ]
    }
   ],
   "source": [
    "test_t.info()"
   ],
   "metadata": {
    "collapsed": false,
    "pycharm": {
     "name": "#%%\n"
    }
   }
  },
  {
   "cell_type": "code",
   "execution_count": 32,
   "outputs": [
    {
     "data": {
      "text/plain": "0.084257    5200\n0.073449    4533\n0.066952    4132\n0.054184    3344\n0.053860    3324\n            ... \n0.000178      11\n0.000162      10\n0.000016       4\n0.000049       3\n0.000032       2\nName: motif_code, Length: 117, dtype: int64"
     },
     "execution_count": 32,
     "metadata": {},
     "output_type": "execute_result"
    }
   ],
   "source": [
    "train_t[\"motif_code\"].value_counts()"
   ],
   "metadata": {
    "collapsed": false,
    "pycharm": {
     "name": "#%%\n"
    }
   }
  },
  {
   "cell_type": "code",
   "execution_count": 33,
   "outputs": [],
   "source": [
    "#test_t[\"wait_time\"]"
   ],
   "metadata": {
    "collapsed": false,
    "pycharm": {
     "name": "#%%\n"
    }
   }
  },
  {
   "cell_type": "code",
   "execution_count": 34,
   "outputs": [],
   "source": [
    "#test_t.dropna(inplace=True)\n",
    "#test_t.info()"
   ],
   "metadata": {
    "collapsed": false,
    "pycharm": {
     "name": "#%%\n"
    }
   }
  },
  {
   "cell_type": "code",
   "execution_count": 35,
   "outputs": [
    {
     "data": {
      "text/plain": "  age sexe  residence mode_entree etat_patient_entree  motif_code score_tri  \\\n0  72    1   0.112451        11.0                   2    0.001701         5   \n1  86    1   0.015150        16.0                   2    0.084257         3   \n2  15    1   0.040087        11.0                   2    0.084257         4   \n3  18    1   0.017467        11.0                   2    0.066952         3   \n4  33    2   0.271388        11.0                   2    0.073449         4   \n\n  occupation_lits nbre_patient_urgence occupation_salles_att  ...  \\\n0        0.675532                 15.0                   0.2  ...   \n1        0.789894                 19.0              0.421053  ...   \n2        0.640957                 18.0              0.444444  ...   \n3        0.890957                 11.0                   0.0  ...   \n4        0.755319                 20.0                   0.1  ...   \n\n  nbre_patient_entre_finPEC_sortie nbre_patient_UHCD hour_of_day UHCD_saturee  \\\n0                              0.0                10          10            1   \n1                              1.0                11          21            1   \n2                              2.0                 9          12            1   \n3                              1.0                10          10            1   \n4                              0.0                 7          19            0   \n\n  day_of_week is_weekend week month quarter moyenne_dynamique_temps_attente  \n0           6       True   21     5       2                            13.2  \n1           2      False   40    10       4                           101.4  \n2           4      False   51    12       4                           135.8  \n3           1      False   41    10       4                        7.466667  \n4           5       True   50    12       4                            31.2  \n\n[5 rows x 29 columns]",
      "text/html": "<div>\n<style scoped>\n    .dataframe tbody tr th:only-of-type {\n        vertical-align: middle;\n    }\n\n    .dataframe tbody tr th {\n        vertical-align: top;\n    }\n\n    .dataframe thead th {\n        text-align: right;\n    }\n</style>\n<table border=\"1\" class=\"dataframe\">\n  <thead>\n    <tr style=\"text-align: right;\">\n      <th></th>\n      <th>age</th>\n      <th>sexe</th>\n      <th>residence</th>\n      <th>mode_entree</th>\n      <th>etat_patient_entree</th>\n      <th>motif_code</th>\n      <th>score_tri</th>\n      <th>occupation_lits</th>\n      <th>nbre_patient_urgence</th>\n      <th>occupation_salles_att</th>\n      <th>...</th>\n      <th>nbre_patient_entre_finPEC_sortie</th>\n      <th>nbre_patient_UHCD</th>\n      <th>hour_of_day</th>\n      <th>UHCD_saturee</th>\n      <th>day_of_week</th>\n      <th>is_weekend</th>\n      <th>week</th>\n      <th>month</th>\n      <th>quarter</th>\n      <th>moyenne_dynamique_temps_attente</th>\n    </tr>\n  </thead>\n  <tbody>\n    <tr>\n      <th>0</th>\n      <td>72</td>\n      <td>1</td>\n      <td>0.112451</td>\n      <td>11.0</td>\n      <td>2</td>\n      <td>0.001701</td>\n      <td>5</td>\n      <td>0.675532</td>\n      <td>15.0</td>\n      <td>0.2</td>\n      <td>...</td>\n      <td>0.0</td>\n      <td>10</td>\n      <td>10</td>\n      <td>1</td>\n      <td>6</td>\n      <td>True</td>\n      <td>21</td>\n      <td>5</td>\n      <td>2</td>\n      <td>13.2</td>\n    </tr>\n    <tr>\n      <th>1</th>\n      <td>86</td>\n      <td>1</td>\n      <td>0.015150</td>\n      <td>16.0</td>\n      <td>2</td>\n      <td>0.084257</td>\n      <td>3</td>\n      <td>0.789894</td>\n      <td>19.0</td>\n      <td>0.421053</td>\n      <td>...</td>\n      <td>1.0</td>\n      <td>11</td>\n      <td>21</td>\n      <td>1</td>\n      <td>2</td>\n      <td>False</td>\n      <td>40</td>\n      <td>10</td>\n      <td>4</td>\n      <td>101.4</td>\n    </tr>\n    <tr>\n      <th>2</th>\n      <td>15</td>\n      <td>1</td>\n      <td>0.040087</td>\n      <td>11.0</td>\n      <td>2</td>\n      <td>0.084257</td>\n      <td>4</td>\n      <td>0.640957</td>\n      <td>18.0</td>\n      <td>0.444444</td>\n      <td>...</td>\n      <td>2.0</td>\n      <td>9</td>\n      <td>12</td>\n      <td>1</td>\n      <td>4</td>\n      <td>False</td>\n      <td>51</td>\n      <td>12</td>\n      <td>4</td>\n      <td>135.8</td>\n    </tr>\n    <tr>\n      <th>3</th>\n      <td>18</td>\n      <td>1</td>\n      <td>0.017467</td>\n      <td>11.0</td>\n      <td>2</td>\n      <td>0.066952</td>\n      <td>3</td>\n      <td>0.890957</td>\n      <td>11.0</td>\n      <td>0.0</td>\n      <td>...</td>\n      <td>1.0</td>\n      <td>10</td>\n      <td>10</td>\n      <td>1</td>\n      <td>1</td>\n      <td>False</td>\n      <td>41</td>\n      <td>10</td>\n      <td>4</td>\n      <td>7.466667</td>\n    </tr>\n    <tr>\n      <th>4</th>\n      <td>33</td>\n      <td>2</td>\n      <td>0.271388</td>\n      <td>11.0</td>\n      <td>2</td>\n      <td>0.073449</td>\n      <td>4</td>\n      <td>0.755319</td>\n      <td>20.0</td>\n      <td>0.1</td>\n      <td>...</td>\n      <td>0.0</td>\n      <td>7</td>\n      <td>19</td>\n      <td>0</td>\n      <td>5</td>\n      <td>True</td>\n      <td>50</td>\n      <td>12</td>\n      <td>4</td>\n      <td>31.2</td>\n    </tr>\n  </tbody>\n</table>\n<p>5 rows × 29 columns</p>\n</div>"
     },
     "execution_count": 35,
     "metadata": {},
     "output_type": "execute_result"
    }
   ],
   "source": [
    "test_t.head()"
   ],
   "metadata": {
    "collapsed": false,
    "pycharm": {
     "name": "#%%\n"
    }
   }
  },
  {
   "cell_type": "code",
   "execution_count": 36,
   "outputs": [],
   "source": [
    "# Encode feature is_weekend\n",
    "from feature_engine.encoding import OrdinalEncoder\n",
    "\n",
    "\n",
    "# set up the encoder\n",
    "encoder = OrdinalEncoder(encoding_method='ordered', variables=['is_weekend'])\n",
    "\n",
    "# fit the encoder\n",
    "encoder.fit(train_t, y_train)\n",
    "\n",
    "# transform the data\n",
    "Train_t = encoder.transform(train_t)\n",
    "Test_t = encoder.transform(test_t)"
   ],
   "metadata": {
    "collapsed": false,
    "pycharm": {
     "name": "#%%\n"
    }
   }
  },
  {
   "cell_type": "code",
   "execution_count": 37,
   "outputs": [
    {
     "data": {
      "text/plain": "  age sexe  residence mode_entree etat_patient_entree  motif_code score_tri  \\\n0  83    2   0.112451        16.0                   2    0.044608         4   \n1  23    1   0.013967        11.0                   2    0.044608         4   \n2  22    1   0.271388        11.0                   2    0.019395         5   \n3  46    2   0.020837        11.0                   2    0.005201         5   \n4  23    2   0.009139        11.0                   2    0.008572         5   \n\n  occupation_lits nbre_patient_urgence occupation_salles_att  ...  \\\n0        0.651596                 14.0              0.285714  ...   \n1        0.800532                  2.0                   0.0  ...   \n2         0.81383                  9.0              0.555556  ...   \n3        0.680851                  7.0              0.285714  ...   \n4        0.648936                  7.0              0.142857  ...   \n\n  nbre_patient_entre_finPEC_sortie nbre_patient_UHCD hour_of_day UHCD_saturee  \\\n0                              0.0                 2          20            0   \n1                              1.0                 4           3            0   \n2                              0.0                12           8            1   \n3                              0.0                 7           9            0   \n4                              0.0                 5           8            0   \n\n  day_of_week is_weekend week month quarter moyenne_dynamique_temps_attente  \n0           5          0   49    12       4                            71.8  \n1           2          1    7     2       1                            31.2  \n2           0          1   48    11       4                           244.4  \n3           3          1   19     5       2                       46.266667  \n4           2          1   32     8       3                       18.533333  \n\n[5 rows x 29 columns]",
      "text/html": "<div>\n<style scoped>\n    .dataframe tbody tr th:only-of-type {\n        vertical-align: middle;\n    }\n\n    .dataframe tbody tr th {\n        vertical-align: top;\n    }\n\n    .dataframe thead th {\n        text-align: right;\n    }\n</style>\n<table border=\"1\" class=\"dataframe\">\n  <thead>\n    <tr style=\"text-align: right;\">\n      <th></th>\n      <th>age</th>\n      <th>sexe</th>\n      <th>residence</th>\n      <th>mode_entree</th>\n      <th>etat_patient_entree</th>\n      <th>motif_code</th>\n      <th>score_tri</th>\n      <th>occupation_lits</th>\n      <th>nbre_patient_urgence</th>\n      <th>occupation_salles_att</th>\n      <th>...</th>\n      <th>nbre_patient_entre_finPEC_sortie</th>\n      <th>nbre_patient_UHCD</th>\n      <th>hour_of_day</th>\n      <th>UHCD_saturee</th>\n      <th>day_of_week</th>\n      <th>is_weekend</th>\n      <th>week</th>\n      <th>month</th>\n      <th>quarter</th>\n      <th>moyenne_dynamique_temps_attente</th>\n    </tr>\n  </thead>\n  <tbody>\n    <tr>\n      <th>0</th>\n      <td>83</td>\n      <td>2</td>\n      <td>0.112451</td>\n      <td>16.0</td>\n      <td>2</td>\n      <td>0.044608</td>\n      <td>4</td>\n      <td>0.651596</td>\n      <td>14.0</td>\n      <td>0.285714</td>\n      <td>...</td>\n      <td>0.0</td>\n      <td>2</td>\n      <td>20</td>\n      <td>0</td>\n      <td>5</td>\n      <td>0</td>\n      <td>49</td>\n      <td>12</td>\n      <td>4</td>\n      <td>71.8</td>\n    </tr>\n    <tr>\n      <th>1</th>\n      <td>23</td>\n      <td>1</td>\n      <td>0.013967</td>\n      <td>11.0</td>\n      <td>2</td>\n      <td>0.044608</td>\n      <td>4</td>\n      <td>0.800532</td>\n      <td>2.0</td>\n      <td>0.0</td>\n      <td>...</td>\n      <td>1.0</td>\n      <td>4</td>\n      <td>3</td>\n      <td>0</td>\n      <td>2</td>\n      <td>1</td>\n      <td>7</td>\n      <td>2</td>\n      <td>1</td>\n      <td>31.2</td>\n    </tr>\n    <tr>\n      <th>2</th>\n      <td>22</td>\n      <td>1</td>\n      <td>0.271388</td>\n      <td>11.0</td>\n      <td>2</td>\n      <td>0.019395</td>\n      <td>5</td>\n      <td>0.81383</td>\n      <td>9.0</td>\n      <td>0.555556</td>\n      <td>...</td>\n      <td>0.0</td>\n      <td>12</td>\n      <td>8</td>\n      <td>1</td>\n      <td>0</td>\n      <td>1</td>\n      <td>48</td>\n      <td>11</td>\n      <td>4</td>\n      <td>244.4</td>\n    </tr>\n    <tr>\n      <th>3</th>\n      <td>46</td>\n      <td>2</td>\n      <td>0.020837</td>\n      <td>11.0</td>\n      <td>2</td>\n      <td>0.005201</td>\n      <td>5</td>\n      <td>0.680851</td>\n      <td>7.0</td>\n      <td>0.285714</td>\n      <td>...</td>\n      <td>0.0</td>\n      <td>7</td>\n      <td>9</td>\n      <td>0</td>\n      <td>3</td>\n      <td>1</td>\n      <td>19</td>\n      <td>5</td>\n      <td>2</td>\n      <td>46.266667</td>\n    </tr>\n    <tr>\n      <th>4</th>\n      <td>23</td>\n      <td>2</td>\n      <td>0.009139</td>\n      <td>11.0</td>\n      <td>2</td>\n      <td>0.008572</td>\n      <td>5</td>\n      <td>0.648936</td>\n      <td>7.0</td>\n      <td>0.142857</td>\n      <td>...</td>\n      <td>0.0</td>\n      <td>5</td>\n      <td>8</td>\n      <td>0</td>\n      <td>2</td>\n      <td>1</td>\n      <td>32</td>\n      <td>8</td>\n      <td>3</td>\n      <td>18.533333</td>\n    </tr>\n  </tbody>\n</table>\n<p>5 rows × 29 columns</p>\n</div>"
     },
     "execution_count": 37,
     "metadata": {},
     "output_type": "execute_result"
    }
   ],
   "source": [
    "Train_t.head()"
   ],
   "metadata": {
    "collapsed": false,
    "pycharm": {
     "name": "#%%\n"
    }
   }
  },
  {
   "cell_type": "code",
   "execution_count": 38,
   "outputs": [],
   "source": [
    "Train_t.to_csv(\"model_v2/x_train.csv\", sep=\";\", index=False)\n",
    "y_train.to_csv(\"model_v2/y_train.csv\", sep=\";\", index=False)\n",
    "\n",
    "Test_t.to_csv(\"model_v2/x_test.csv\", sep=\";\", index=False)\n",
    "y_test.to_csv(\"model_v2/y_test.csv\", sep=\";\", index=False)"
   ],
   "metadata": {
    "collapsed": false,
    "pycharm": {
     "name": "#%%\n"
    }
   }
  },
  {
   "cell_type": "code",
   "execution_count": 36,
   "outputs": [],
   "source": [],
   "metadata": {
    "collapsed": false,
    "pycharm": {
     "name": "#%%\n"
    }
   }
  }
 ],
 "metadata": {
  "kernelspec": {
   "display_name": "Python 3",
   "language": "python",
   "name": "python3"
  },
  "language_info": {
   "codemirror_mode": {
    "name": "ipython",
    "version": 2
   },
   "file_extension": ".py",
   "mimetype": "text/x-python",
   "name": "python",
   "nbconvert_exporter": "python",
   "pygments_lexer": "ipython2",
   "version": "2.7.6"
  }
 },
 "nbformat": 4,
 "nbformat_minor": 0
}