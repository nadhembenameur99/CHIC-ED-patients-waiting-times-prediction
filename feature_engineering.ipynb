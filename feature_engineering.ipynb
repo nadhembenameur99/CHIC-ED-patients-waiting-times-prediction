{
 "cells": [
  {
   "cell_type": "code",
   "execution_count": null,
   "metadata": {
    "pycharm": {
     "name": "#%%\n"
    }
   },
   "outputs": [],
   "source": [
    "import pandas as pd\n",
    "\n",
    "data = pd.read_csv('clean/data_age_filter_full_intern_wait_ts.csv', sep=';', low_memory=False)\n",
    "data.tail()"
   ]
  },
  {
   "cell_type": "code",
   "execution_count": null,
   "metadata": {
    "pycharm": {
     "name": "#%%\n"
    }
   },
   "outputs": [],
   "source": [
    "sorted_data = data.sort_values(by=[\"gravité\", \"date_arrivee_patient\"])\n",
    "sorted_data.head()"
   ]
  },
  {
   "cell_type": "code",
   "execution_count": null,
   "outputs": [],
   "source": [
    "sorted_data.info()"
   ],
   "metadata": {
    "collapsed": false,
    "pycharm": {
     "name": "#%%\n"
    }
   }
  },
  {
   "cell_type": "code",
   "execution_count": null,
   "metadata": {
    "pycharm": {
     "name": "#%%\n"
    }
   },
   "outputs": [],
   "source": [
    "print(sorted_data[\"gravité\"].value_counts().sort_index())"
   ]
  },
  {
   "cell_type": "code",
   "execution_count": null,
   "metadata": {
    "pycharm": {
     "name": "#%%\n"
    }
   },
   "outputs": [],
   "source": [
    "import matplotlib.pyplot as plt\n",
    "\n",
    "plt.hist(data=sorted_data, x=\"gravité\")"
   ]
  },
  {
   "cell_type": "code",
   "execution_count": null,
   "metadata": {
    "pycharm": {
     "name": "#%%\n"
    }
   },
   "outputs": [],
   "source": [
    "sorted_data.iloc[259:264]"
   ]
  },
  {
   "cell_type": "code",
   "execution_count": null,
   "metadata": {
    "pycharm": {
     "name": "#%%\n"
    }
   },
   "outputs": [],
   "source": [
    "sorted_data.tail()"
   ]
  },
  {
   "cell_type": "code",
   "execution_count": null,
   "metadata": {
    "pycharm": {
     "name": "#%%\n"
    }
   },
   "outputs": [],
   "source": [
    "sorted_data.to_csv(\"output/sorted_data.csv\", sep=\";\", index=False)\n",
    "sorted_data = pd.read_csv(\"output/sorted_data.csv\", sep=\";\", low_memory=False)\n",
    "sorted_data.iloc[259:264]"
   ]
  },
  {
   "cell_type": "code",
   "execution_count": null,
   "metadata": {
    "pycharm": {
     "name": "#%%\n"
    }
   },
   "outputs": [],
   "source": [
    "columns = [\"dos_id\", \"age\", \"sexe\", \"residence\", \"mode_entree\", \"etat_patient_entree\", \"motif_admission\", \"score_tri\",\n",
    "           \"occupation_lits\", \"ratio_medecin_patient\", \"ratio_interne_patient\", \"ratio_infirmiere_patient\",\n",
    "           \"nbre_patient_score_0\", \"nbre_patient_score_1\", \"nbre_patient_score_2\", \"nbre_patient_score_3\",\n",
    "           \"nbre_patient_score_4\", \"nbre_patient_score_5\", \"nbre_patient_salle_att_ext\",\n",
    "           \"nbre_patient_salle_att_interne\", \"nbre_patient_traite_sans_fin_PEC\", \"nbre_patient_entre_finPEC_sortie\",\n",
    "           \"nbre_patient_UHCD\", \"UHCD_saturee\", \"est_venu_3_derniers_mois\", \"est_venu_derniers_48h\",\n",
    "           \"moyenne_dynamique_temps_attente\", \"date_arrivee_patient\", \"wait_time_ext\", \"wait_time_interne\", \"wait_time\"]\n",
    "\n",
    "feature_df = pd.DataFrame(columns=columns)"
   ]
  },
  {
   "cell_type": "code",
   "execution_count": null,
   "metadata": {
    "pycharm": {
     "name": "#%%\n"
    }
   },
   "outputs": [],
   "source": [
    "feature_df[\"dos_id\"] = sorted_data[\"dos_id\"]\n",
    "feature_df[\"age\"] = sorted_data[\"age\"]\n",
    "feature_df[\"sexe\"] = sorted_data[\"sexe\"]\n",
    "feature_df[\"residence\"] = sorted_data[\"code postal\"]\n",
    "feature_df[\"mode_entree\"] = sorted_data[\"ven_modeEntree\"]\n",
    "feature_df[\"etat_patient_entree\"] = sorted_data[\"ven_etat\"]\n",
    "feature_df[\"motif_admission\"] = sorted_data[\"ven_motifAdmission\"]\n",
    "feature_df[\"score_tri\"] = sorted_data[\"gravité\"]\n",
    "feature_df[\"nbre_patient_UHCD\"] = sorted_data[\"nbre_pat_uhcd\"]\n",
    "feature_df[\"date_arrivee_patient\"] = sorted_data[\"date_arrivee_patient\"]"
   ]
  },
  {
   "cell_type": "code",
   "execution_count": null,
   "metadata": {
    "pycharm": {
     "name": "#%%\n"
    }
   },
   "outputs": [],
   "source": [
    "feature_df.head()"
   ]
  },
  {
   "cell_type": "code",
   "execution_count": null,
   "metadata": {
    "pycharm": {
     "name": "#%%\n"
    }
   },
   "outputs": [],
   "source": [
    "feature_df.columns"
   ]
  },
  {
   "cell_type": "code",
   "execution_count": null,
   "outputs": [],
   "source": [
    "feature_df.to_csv(\"output/feature_df.csv\", sep=\";\", index=False)"
   ],
   "metadata": {
    "collapsed": false,
    "pycharm": {
     "name": "#%%\n"
    }
   }
  },
  {
   "cell_type": "code",
   "execution_count": null,
   "metadata": {
    "pycharm": {
     "name": "#%%\n"
    }
   },
   "outputs": [],
   "source": [
    "#Feature Transformation\n",
    "sorted_data = pd.read_csv(\"output/sorted_data.csv\", sep=\";\", low_memory=False)\n",
    "sorted_data.head()"
   ]
  },
  {
   "cell_type": "code",
   "execution_count": null,
   "metadata": {
    "pycharm": {
     "name": "#%%\n"
    }
   },
   "outputs": [],
   "source": [
    "feature_df = pd.read_csv(\"output/feature_df.csv\", sep=\";\", low_memory=False)\n",
    "feature_df.head()"
   ]
  },
  {
   "cell_type": "code",
   "execution_count": null,
   "metadata": {
    "pycharm": {
     "name": "#%%\n"
    }
   },
   "outputs": [],
   "source": [
    "feature_df.columns"
   ]
  },
  {
   "cell_type": "code",
   "execution_count": null,
   "outputs": [],
   "source": [
    "sorted_data = sorted_data.sort_values(by=[\"gravité\", \"date_arrivee_patient\"])\n",
    "sorted_data.to_csv(\"output/sorted_data.csv\", sep=\";\", index=False)\n",
    "sorted_data = pd.read_csv(\"output/sorted_data.csv\", sep=\";\", low_memory=False)"
   ],
   "metadata": {
    "collapsed": false,
    "pycharm": {
     "name": "#%%\n"
    }
   }
  },
  {
   "cell_type": "code",
   "execution_count": null,
   "outputs": [],
   "source": [
    "#Feature nbre_patient_score 0,1,2 calculation\n",
    "from datetime import datetime, timedelta\n",
    "\n",
    "\n",
    "def caluler_nbre_patient_par_score(patient_admission_ts, score, ranges, dos_id):\n",
    "    counter = 0\n",
    "    range_min = ranges[\"min\"]\n",
    "    range_max = ranges[\"max\"]\n",
    "    index = range_min\n",
    "\n",
    "    df_process = sorted_data.iloc[range_min:range_max]\n",
    "    for row_index in range(range_min, range_max):\n",
    "        other_patient_admission = datetime.strptime(df_process.loc[row_index, \"date_arrivee_patient\"],\n",
    "                                                    \"%Y-%m-%d %H:%M\")\n",
    "        other_patient_exit = datetime.strptime(df_process.loc[row_index, \"dos_fin_sortie\"], \"%d/%m/%Y %H:%M\")\n",
    "        ven_sortie = df_process.loc[row_index, \"ven_sortie\"]\n",
    "        if (other_patient_exit - other_patient_admission) > timedelta(days=2) and not pd.isnull(ven_sortie):\n",
    "            other_patient_exit = datetime.strptime(df_process.loc[row_index, \"ven_sortie\"][:-3], \"%Y-%m-%d %H:%M:%S\")\n",
    "\n",
    "        other_patient_score = df_process.loc[row_index, \"gravité\"]\n",
    "        other_patient_dos_id = df_process.loc[row_index, \"dos_id\"]\n",
    "\n",
    "        #print(\"\\nother_patient_admission: \", other_patient_admission)\n",
    "        #print(\"other_patient_exit: \", other_patient_exit)\n",
    "        #print(\"patient_admission_ts\", patient_admission_ts)\n",
    "        #print(\"patient_admission_ts <= other_patient_exit\",patient_admission_ts <= other_patient_exit)\n",
    "\n",
    "        if other_patient_score != score or patient_admission_ts < other_patient_admission:\n",
    "            #print(\"\\nother_patient_admission: \", other_patient_admission)\n",
    "            #print(\"other_patient_exit: \", other_patient_exit)\n",
    "            #print(\"##Break##\", \", row_index: \", row_index, \", dos_id: \", dos_id, \", date admission: \", patient_admission_ts, \", counter: \", counter)\n",
    "            break\n",
    "        if other_patient_dos_id != dos_id and other_patient_admission <= patient_admission_ts <= other_patient_exit and other_patient_score == score:\n",
    "            counter += 1\n",
    "            if counter == 1:\n",
    "                index = row_index\n",
    "            #print(\"Add\", \", row_index: \", row_index, \", dos_id: \", dos_id, \", other_patient_dos_id: \", other_patient_dos_id, \", date admission: \", patient_admission_ts, \", counter: \", counter)\n",
    "\n",
    "    return counter, index"
   ],
   "metadata": {
    "collapsed": false,
    "pycharm": {
     "name": "#%%\n"
    }
   }
  },
  {
   "cell_type": "code",
   "execution_count": null,
   "outputs": [],
   "source": [
    "feature_df = feature_df.sort_values(by=[\"date_arrivee_patient\"])\n",
    "feature_df.to_csv(\"output/feature_df.csv\", sep=\";\", index=False)\n",
    "feature_df = pd.read_csv(\"output/feature_df.csv\", sep=\";\", low_memory=False)\n",
    "feature_df.columns"
   ],
   "metadata": {
    "collapsed": false,
    "pycharm": {
     "name": "#%%\n"
    }
   }
  },
  {
   "cell_type": "code",
   "execution_count": null,
   "outputs": [],
   "source": [
    "print(sorted_data[\"gravité\"].value_counts().sort_index())"
   ],
   "metadata": {
    "collapsed": false,
    "pycharm": {
     "name": "#%%\n"
    }
   }
  },
  {
   "cell_type": "code",
   "execution_count": null,
   "outputs": [],
   "source": [
    "range_list = sorted_data[\"gravité\"].value_counts().sort_index()\n",
    "range_list[0]"
   ],
   "metadata": {
    "collapsed": false,
    "pycharm": {
     "name": "#%%\n"
    }
   }
  },
  {
   "cell_type": "code",
   "execution_count": null,
   "outputs": [],
   "source": [
    "import time\n",
    "\n",
    "start = time.time()\n",
    "index = 0\n",
    "borne_sup = range_list[0]\n",
    "for row_i in range(len(feature_df)):\n",
    "    feature_df.loc[row_i, \"nbre_patient_score_0\"], index = caluler_nbre_patient_par_score(\n",
    "        patient_admission_ts=datetime.strptime(feature_df.loc[row_i, \"date_arrivee_patient\"], \"%Y-%m-%d %H:%M\"),\n",
    "        score=0, ranges={\"min\": index, \"max\": borne_sup}, dos_id=feature_df.loc[row_i, \"dos_id\"])\n",
    "    #print(\"\\n patient_ven_admission\", feature_df.loc[row_i, \"date_arrivee_patient\"])\n",
    "    #print(index)\n",
    "    #print(\"other_patient_ven_admission\",sorted_data.loc[index, \"date_arrivee_patient\"])\n",
    "    if row_i % 10000 == 0:\n",
    "        print(\"\\n*******************************************************************\")\n",
    "        print(\"row_i: \", row_i)\n",
    "        print(\"Partial time of execution: \", time.time() - start, \" s\")\n",
    "        print(\"index: \", index)\n",
    "        print(\"******************************************************************\\n\")\n",
    "end = time.time()\n",
    "print(\"The time of execution of above program is :\", end - start, \" s\")\n",
    "\n",
    "feature_df.to_csv(\"output/feature_df.csv\", sep=\";\", index=False)"
   ],
   "metadata": {
    "collapsed": false,
    "pycharm": {
     "name": "#%%\n"
    }
   }
  },
  {
   "cell_type": "code",
   "execution_count": null,
   "outputs": [],
   "source": [
    "#To index dataset backup\n",
    "dataset_version = 0\n",
    "\n",
    "feature_df.to_csv(\"output/feature_df_bak_\" + str(dataset_version) + \".csv\", sep=\";\", index=False)\n",
    "dataset_version += 1"
   ],
   "metadata": {
    "collapsed": false,
    "pycharm": {
     "name": "#%%\n"
    }
   }
  },
  {
   "cell_type": "code",
   "execution_count": null,
   "outputs": [],
   "source": [
    "import time\n",
    "\n",
    "start = time.time()\n",
    "index = borne_sup\n",
    "borne_sup += range_list[1]\n",
    "for row_i in range(len(feature_df)):\n",
    "    feature_df.loc[row_i, \"nbre_patient_score_1\"], index = caluler_nbre_patient_par_score(\n",
    "        patient_admission_ts=datetime.strptime(feature_df.loc[row_i, \"date_arrivee_patient\"], \"%Y-%m-%d %H:%M\"),\n",
    "        score=1, ranges={\"min\": index, \"max\": borne_sup}, dos_id=feature_df.loc[row_i, \"dos_id\"])\n",
    "    #print(\"\\n patient_ven_admission\", feature_df.loc[row_i, \"date_arrivee_patient\"])\n",
    "    #print(index)\n",
    "    #print(\"other_patient_ven_admission\",sorted_data.loc[index, \"date_arrivee_patient\"])\n",
    "    if row_i % 10000 == 0:\n",
    "        print(\"\\n*******************************************************************\")\n",
    "        print(\"row_i: \", row_i)\n",
    "        print(\"Partial time of execution: \", time.time() - start, \" s\")\n",
    "        print(\"index: \", index)\n",
    "        print(\"******************************************************************\\n\")\n",
    "end = time.time()\n",
    "print(\"The time of execution of above program is :\", end - start, \" s\")\n",
    "\n",
    "feature_df.to_csv(\"output/feature_df.csv\", sep=\";\", index=False)\n",
    "\n",
    "#To create dataset backup\n",
    "feature_df.to_csv(\"output/feature_df_bak_\" + str(dataset_version) + \".csv\", sep=\";\", index=False)\n",
    "dataset_version += 1"
   ],
   "metadata": {
    "collapsed": false,
    "pycharm": {
     "name": "#%%\n"
    }
   }
  },
  {
   "cell_type": "code",
   "execution_count": null,
   "outputs": [],
   "source": [
    "import time\n",
    "\n",
    "start = time.time()\n",
    "index = borne_sup\n",
    "borne_sup += range_list[2]\n",
    "for row_i in range(len(feature_df)):\n",
    "    feature_df.loc[row_i, \"nbre_patient_score_2\"], index = caluler_nbre_patient_par_score(\n",
    "        patient_admission_ts=datetime.strptime(feature_df.loc[row_i, \"date_arrivee_patient\"], \"%Y-%m-%d %H:%M\"),\n",
    "        score=2, ranges={\"min\": index, \"max\": borne_sup}, dos_id=feature_df.loc[row_i, \"dos_id\"])\n",
    "    #print(\"\\n patient_ven_admission\", feature_df.loc[row_i, \"date_arrivee_patient\"])\n",
    "    #print(index)\n",
    "    #print(\"other_patient_ven_admission\",sorted_data.loc[index, \"date_arrivee_patient\"])\n",
    "    if row_i % 10000 == 0:\n",
    "        print(\"\\n*******************************************************************\")\n",
    "        print(\"row_i: \", row_i)\n",
    "        print(\"Partial time of execution: \", time.time() - start, \" s\")\n",
    "        print(\"index: \", index)\n",
    "        print(\"******************************************************************\\n\")\n",
    "end = time.time()\n",
    "print(\"The time of execution of above program is :\", end - start, \" s\")\n",
    "\n",
    "feature_df.to_csv(\"output/feature_df.csv\", sep=\";\", index=False)\n",
    "\n",
    "#To create dataset backup\n",
    "feature_df.to_csv(\"output/feature_df_bak_\" + str(dataset_version) + \".csv\", sep=\";\", index=False)\n",
    "dataset_version += 1"
   ],
   "metadata": {
    "collapsed": false,
    "pycharm": {
     "name": "#%%\n"
    }
   }
  },
  {
   "cell_type": "code",
   "execution_count": null,
   "outputs": [],
   "source": [
    "import time\n",
    "\n",
    "start = time.time()\n",
    "index = borne_sup\n",
    "borne_sup += range_list[3]\n",
    "for row_i in range(len(feature_df)):\n",
    "    feature_df.loc[row_i, \"nbre_patient_score_3\"], index = caluler_nbre_patient_par_score(\n",
    "        patient_admission_ts=datetime.strptime(feature_df.loc[row_i, \"date_arrivee_patient\"], \"%Y-%m-%d %H:%M\"),\n",
    "        score=3, ranges={\"min\": index, \"max\": borne_sup}, dos_id=feature_df.loc[row_i, \"dos_id\"])\n",
    "    #print(\"\\n patient_ven_admission\", feature_df.loc[row_i, \"date_arrivee_patient\"])\n",
    "    #print(index)\n",
    "    #print(\"other_patient_ven_admission\",sorted_data.loc[index, \"date_arrivee_patient\"])\n",
    "    if row_i % 10000 == 0:\n",
    "        print(\"\\n*******************************************************************\")\n",
    "        print(\"row_i: \", row_i)\n",
    "        print(\"Partial time of execution: \", time.time() - start, \" s\")\n",
    "        print(\"index: \", index)\n",
    "        print(\"******************************************************************\\n\")\n",
    "end = time.time()\n",
    "print(\"The time of execution of above program is :\", end - start, \" s\")\n",
    "\n",
    "feature_df.to_csv(\"output/feature_df.csv\", sep=\";\", index=False)\n",
    "\n",
    "#To create dataset backup\n",
    "feature_df.to_csv(\"output/feature_df_bak_\" + str(dataset_version) + \".csv\", sep=\";\", index=False)\n",
    "dataset_version += 1"
   ],
   "metadata": {
    "collapsed": false,
    "pycharm": {
     "name": "#%%\n"
    }
   }
  },
  {
   "cell_type": "code",
   "execution_count": null,
   "outputs": [],
   "source": [
    "import time\n",
    "\n",
    "start = time.time()\n",
    "index = borne_sup\n",
    "borne_sup += range_list[4]\n",
    "for row_i in range(len(feature_df)):\n",
    "    feature_df.loc[row_i, \"nbre_patient_score_4\"], index = caluler_nbre_patient_par_score(\n",
    "        patient_admission_ts=datetime.strptime(feature_df.loc[row_i, \"date_arrivee_patient\"], \"%Y-%m-%d %H:%M\"),\n",
    "        score=4, ranges={\"min\": index, \"max\": borne_sup}, dos_id=feature_df.loc[row_i, \"dos_id\"])\n",
    "    #print(\"\\n patient_ven_admission\", feature_df.loc[row_i, \"date_arrivee_patient\"])\n",
    "    #print(index)\n",
    "    #print(\"other_patient_ven_admission\",sorted_data.loc[index, \"date_arrivee_patient\"])\n",
    "    if row_i % 10000 == 0:\n",
    "        print(\"\\n*******************************************************************\")\n",
    "        print(\"row_i: \", row_i)\n",
    "        print(\"Partial time of execution: \", time.time() - start, \" s\")\n",
    "        print(\"index: \", index)\n",
    "        print(\"******************************************************************\\n\")\n",
    "end = time.time()\n",
    "print(\"The time of execution of above program is :\", end - start, \" s\")\n",
    "\n",
    "feature_df.to_csv(\"output/feature_df.csv\", sep=\";\", index=False)\n",
    "\n",
    "#To create dataset backup\n",
    "feature_df.to_csv(\"output/feature_df_bak_\" + str(dataset_version) + \".csv\", sep=\";\", index=False)\n",
    "dataset_version += 1"
   ],
   "metadata": {
    "collapsed": false,
    "pycharm": {
     "name": "#%%\n"
    }
   }
  },
  {
   "cell_type": "code",
   "execution_count": null,
   "outputs": [],
   "source": [
    "import time\n",
    "\n",
    "start = time.time()\n",
    "index = borne_sup\n",
    "borne_sup += range_list[5]\n",
    "for row_i in range(len(feature_df)):\n",
    "    feature_df.loc[row_i, \"nbre_patient_score_5\"], index = caluler_nbre_patient_par_score(\n",
    "        patient_admission_ts=datetime.strptime(feature_df.loc[row_i, \"date_arrivee_patient\"], \"%Y-%m-%d %H:%M\"),\n",
    "        score=5, ranges={\"min\": index, \"max\": borne_sup}, dos_id=feature_df.loc[row_i, \"dos_id\"])\n",
    "    #print(\"\\n patient_ven_admission\", feature_df.loc[row_i, \"date_arrivee_patient\"])\n",
    "    #print(index)\n",
    "    #print(\"other_patient_ven_admission\",sorted_data.loc[index, \"date_arrivee_patient\"])\n",
    "    if row_i % 10000 == 0:\n",
    "        print(\"\\n*******************************************************************\")\n",
    "        print(\"row_i: \", row_i)\n",
    "        print(\"Partial time of execution: \", time.time() - start, \" s\")\n",
    "        print(\"index: \", index)\n",
    "        print(\"******************************************************************\\n\")\n",
    "end = time.time()\n",
    "print(\"The time of execution of above program is :\", end - start, \" s\")\n",
    "\n",
    "feature_df.to_csv(\"output/feature_df.csv\", sep=\";\", index=False)\n",
    "\n",
    "#To create dataset backup\n",
    "feature_df.to_csv(\"output/feature_df_bak_\" + str(dataset_version) + \".csv\", sep=\";\", index=False)\n",
    "dataset_version += 1"
   ],
   "metadata": {
    "collapsed": false,
    "pycharm": {
     "name": "#%%\n"
    }
   }
  },
  {
   "cell_type": "code",
   "execution_count": null,
   "outputs": [],
   "source": [
    "#Feature occupation_lits caluculation\n",
    "from datetime import datetime\n",
    "\n",
    "nbre_lits_date_1 = datetime.strptime(\"2018-05-02\", \"%Y-%m-%d\")\n",
    "nbre_lits_date_2 = datetime.strptime(\"2018-11-05\", \"%Y-%m-%d\")\n",
    "\n",
    "#data = pd.read_csv('output/result_with_nbre_patient.csv', sep=';', encoding='latin-1')\n",
    "sorted_data = sorted_data.sort_values(by=[\"dos_id\"])\n",
    "sorted_data.to_csv(\"output/sorted_data.csv\", sep=\";\", index=False)\n",
    "sorted_data = pd.read_csv(\"output/sorted_data.csv\", sep=\";\", low_memory=False)\n",
    "sorted_data.head()"
   ],
   "metadata": {
    "collapsed": false,
    "pycharm": {
     "name": "#%%\n"
    }
   }
  },
  {
   "cell_type": "code",
   "execution_count": null,
   "outputs": [],
   "source": [
    "feature_df = feature_df.sort_values(by=[\"dos_id\"])\n",
    "feature_df.to_csv(\"output/feature_df.csv\", sep=\";\", index=False)\n",
    "feature_df = pd.read_csv(\"output/feature_df.csv\", sep=\";\", low_memory=False)\n",
    "feature_df.head()"
   ],
   "metadata": {
    "collapsed": false,
    "pycharm": {
     "name": "#%%\n"
    }
   }
  },
  {
   "cell_type": "code",
   "execution_count": null,
   "outputs": [],
   "source": [
    "start = time.time()\n",
    "for row_index in range(len(feature_df)):\n",
    "    patient_admission = datetime.strptime(feature_df.loc[row_index, \"date_arrivee_patient\"], \"%Y-%m-%d %H:%M\")\n",
    "    nbre_patient = sorted_data.loc[row_index, \"nbre_patient\"]\n",
    "    if sorted_data.loc[row_index, \"dos_id\"] != feature_df.loc[row_index, \"dos_id\"]:\n",
    "        print(\"False Dos_id matching!\")\n",
    "    if patient_admission < nbre_lits_date_1:\n",
    "        feature_df.loc[row_index, \"occupation_lits\"] = nbre_patient / 367\n",
    "    elif nbre_lits_date_1 <= patient_admission < nbre_lits_date_2:\n",
    "        feature_df.loc[row_index, \"occupation_lits\"] = nbre_patient / 372\n",
    "    elif patient_admission >= nbre_lits_date_2:\n",
    "        feature_df.loc[row_index, \"occupation_lits\"] = nbre_patient / 376\n",
    "    if row_index % 10000 == 0:\n",
    "        print(\"\\n*******************************************************************\")\n",
    "        print(\"row_index: \", row_index)\n",
    "        print(\"Partial time of execution: \", time.time() - start, \" s\")\n",
    "        print(\"******************************************************************\\n\")\n",
    "\n",
    "end = time.time()\n",
    "print(\"The time of execution of above program is :\", end - start, \" s\")\n",
    "\n",
    "feature_df.to_csv(\"output/feature_df.csv\", sep=\";\", index=False)\n",
    "\n",
    "#To create dataset backup\n",
    "feature_df.to_csv(\"output/feature_df_bak_\" + str(dataset_version) + \".csv\", sep=\";\", index=False)\n",
    "dataset_version += 1\n",
    "\n",
    "feature_df.head()"
   ],
   "metadata": {
    "collapsed": false,
    "pycharm": {
     "name": "#%%\n"
    }
   }
  },
  {
   "cell_type": "code",
   "execution_count": null,
   "metadata": {
    "pycharm": {
     "name": "#%%\n"
    }
   },
   "outputs": [],
   "source": [
    "#Feature UHCD_saturee caluculation\n",
    "start = time.time()\n",
    "for row_index in range(len(feature_df)):\n",
    "    nbre_patient_UHCD = feature_df.loc[row_index, \"nbre_patient_UHCD\"]\n",
    "    if nbre_patient_UHCD <= 8:\n",
    "        feature_df.loc[row_index, \"UHCD_saturee\"] = 0\n",
    "    elif nbre_patient_UHCD > 8:\n",
    "        feature_df.loc[row_index, \"UHCD_saturee\"] = 1\n",
    "    if row_index % 10000 == 0:\n",
    "        print(\"\\n*******************************************************************\")\n",
    "        print(\"row_index: \", row_index)\n",
    "        print(\"Partial time of execution: \", time.time() - start, \" s\")\n",
    "        print(\"******************************************************************\\n\")\n",
    "\n",
    "end = time.time()\n",
    "print(\"The time of execution of above program is :\", end - start, \" s\")\n",
    "\n",
    "feature_df.to_csv(\"output/feature_df.csv\", sep=\";\", index=False)\n",
    "\n",
    "#To create dataset backup\n",
    "feature_df.to_csv(\"output/feature_df_bak_\" + str(dataset_version) + \".csv\", sep=\";\", index=False)\n",
    "dataset_version += 1\n",
    "\n",
    "feature_df.head()"
   ]
  },
  {
   "cell_type": "code",
   "execution_count": null,
   "metadata": {
    "pycharm": {
     "name": "#%%\n"
    }
   },
   "outputs": [],
   "source": [
    "feature_df = feature_df.astype({'UHCD_saturee': 'int32'})"
   ]
  },
  {
   "cell_type": "code",
   "execution_count": null,
   "metadata": {
    "pycharm": {
     "name": "#%%\n"
    }
   },
   "outputs": [],
   "source": [
    "feature_df.head()"
   ]
  },
  {
   "cell_type": "code",
   "execution_count": null,
   "metadata": {
    "pycharm": {
     "name": "#%%\n"
    }
   },
   "outputs": [],
   "source": [
    "feature_df = feature_df.sort_values(by=[\"date_arrivee_patient\"])\n",
    "feature_df.to_csv(\"output/feature_df.csv\", sep=\";\", index=False)\n",
    "feature_df = pd.read_csv(\"output/feature_df.csv\", sep=\";\", low_memory=False)\n",
    "feature_df.head()"
   ]
  },
  {
   "cell_type": "code",
   "execution_count": null,
   "metadata": {
    "pycharm": {
     "name": "#%%\n"
    }
   },
   "outputs": [],
   "source": [
    "#Feature nbre_patient_salle_att_ext caluculation\n",
    "\n",
    "from datetime import datetime\n",
    "\n",
    "#sorted_data = pd.read_csv(\"output/sorted_data.csv\", sep=\";\")\n",
    "sorted_data = sorted_data.sort_values(by=[\"date_arrivee_patient\", \"TS_tri\"])\n",
    "\n",
    "sorted_data.to_csv(\"output/sorted_data.csv\", sep=\";\", index=False)\n",
    "sorted_data = pd.read_csv(\"output/sorted_data.csv\", sep=\";\", low_memory=False)\n",
    "\n",
    "\n",
    "def caluler_nbre_patient_salle_att_par_date(patient_admission_ts, ranges, dos_id):\n",
    "    counter = 0\n",
    "    range_min = ranges[\"min\"]\n",
    "    range_max = ranges[\"max\"]\n",
    "    index = range_min\n",
    "    df_process = sorted_data.iloc[range_min:range_max]\n",
    "    for row_index in range(range_min, range_max):\n",
    "        other_patient_admission = datetime.strptime(df_process.loc[row_index, \"date_arrivee_patient\"],\n",
    "                                                    \"%Y-%m-%d %H:%M\")\n",
    "        other_patient_TS_tri = datetime.strptime(df_process.loc[row_index, \"TS_tri\"][:-4], \"%Y-%m-%d %H:%M:%S\")\n",
    "        other_patient_dos_id = df_process.loc[row_index, \"dos_id\"]\n",
    "        #print(\"\\npatient_admission_ts: \", patient_admission_ts)\n",
    "        #print(\"other_patient_admission: \", other_patient_admission)\n",
    "        #print(\"other_patient_TS_tri: \", other_patient_TS_tri)\n",
    "        #print(\"other_patient_admission *is after* patient_admission_ts ==> \", other_patient_admission > patient_admission_ts)\n",
    "        #print(\"patient_admission_ts - other_patient_TS_tri ==> \", abs(patient_admission_ts - other_patient_TS_tri) > timedelta(days=1))\n",
    "        if patient_admission_ts < other_patient_admission:\n",
    "            #print(\" ==> break\")\n",
    "            break\n",
    "        if other_patient_dos_id != dos_id and other_patient_admission <= patient_admission_ts <= other_patient_TS_tri:\n",
    "            counter += 1\n",
    "            if counter == 1:\n",
    "                index = row_index\n",
    "            #print(\"\\n## patient_admission_ts *is before* other_patient_TS_tri\\n ==> counter: \", counter)\n",
    "\n",
    "    return counter, index\n"
   ]
  },
  {
   "cell_type": "code",
   "execution_count": null,
   "metadata": {
    "pycharm": {
     "name": "#%%\n"
    }
   },
   "outputs": [],
   "source": [
    "import time\n",
    "\n",
    "index = 0\n",
    "start = time.time()\n",
    "for row_i in range(len(feature_df)):\n",
    "    feature_df.loc[row_i, \"nbre_patient_salle_att_ext\"], index = caluler_nbre_patient_salle_att_par_date(\n",
    "        patient_admission_ts=datetime.strptime(feature_df.loc[row_i, \"date_arrivee_patient\"], \"%Y-%m-%d %H:%M\"),\n",
    "        ranges={\"min\": index, \"max\": len(feature_df)}, dos_id=feature_df.loc[row_i, \"dos_id\"])\n",
    "    #print(\"\\n patient_ven_admission\", feature_df.loc[row_i, \"date_arrivee_patient\"])\n",
    "    #print(index)\n",
    "    #print(\"other_patient_ven_admission\",sorted_data.loc[index, \"date_arrivee_patient\"])\n",
    "    if row_i % 5000 == 0:\n",
    "        print(\"\\n*******************************************************************\")\n",
    "        print(\"row_i: \", row_i)\n",
    "        print(\"index: \", index)\n",
    "        #print(\"-patient_ven_admission\", feature_df.loc[row_i, \"date_arrivee_patient\"])\n",
    "        #print(\"-other_patient_ven_admission\", sorted_data.loc[index, \"date_arrivee_patient\"])\n",
    "        print(\"Partial time of execution: \", time.time() - start, \" s\")\n",
    "        print(\"******************************************************************\\n\")\n",
    "end = time.time()\n",
    "print(\"The time of execution of above program is :\", end - start, \" s\")\n",
    "\n",
    "feature_df.to_csv(\"output/feature_df.csv\", sep=\";\", index=False)\n",
    "\n",
    "#To create dataset backup\n",
    "feature_df.to_csv(\"output/feature_df_bak_\" + str(dataset_version) + \".csv\", sep=\";\", index=False)\n",
    "dataset_version += 1\n",
    "\n",
    "feature_df.head()"
   ]
  },
  {
   "cell_type": "code",
   "execution_count": null,
   "outputs": [],
   "source": [
    "feature_df.nbre_patient_salle_att_ext.value_counts().sort_values()"
   ],
   "metadata": {
    "collapsed": false,
    "pycharm": {
     "name": "#%%\n"
    }
   }
  },
  {
   "cell_type": "code",
   "execution_count": null,
   "metadata": {
    "pycharm": {
     "name": "#%%\n"
    }
   },
   "outputs": [],
   "source": [
    "#Feature nbre_patient_salle_att_interne caluculation\n",
    "\n",
    "from datetime import datetime\n",
    "\n",
    "sorted_data = sorted_data.sort_values(by=[\"intern_wait_time_deb\", \"intern_wait_time_end\"])\n",
    "sorted_data.to_csv(\"output/sorted_data.csv\", sep=\";\", index=False)\n",
    "sorted_data = pd.read_csv(\"output/sorted_data.csv\", sep=\";\", low_memory=False)\n",
    "sorted_data.head()"
   ]
  },
  {
   "cell_type": "code",
   "execution_count": null,
   "outputs": [],
   "source": [
    "def caluler_nbre_patient_salle_att_interne_par_date(patient_admission_ts, ranges, dos_id):\n",
    "    counter = 0\n",
    "    range_min = ranges[\"min\"]\n",
    "    range_max = ranges[\"max\"]\n",
    "    index = range_min\n",
    "    df_process = sorted_data.iloc[range_min:range_max]\n",
    "    for row_index in range(range_min, range_max):\n",
    "        other_patient_debut_att_interne = df_process.loc[row_index, \"intern_wait_time_deb\"][:-3]\n",
    "        other_patient_fin_att_interne = df_process.loc[row_index, \"intern_wait_time_end\"][:-3]\n",
    "        if not pd.isnull(other_patient_debut_att_interne) and not pd.isnull(other_patient_fin_att_interne):\n",
    "            other_patient_debut_att_interne = datetime.strptime(other_patient_debut_att_interne, \"%Y-%m-%d %H:%M\")\n",
    "            other_patient_fin_att_interne = datetime.strptime(other_patient_fin_att_interne, \"%Y-%m-%d %H:%M\")\n",
    "            other_patient_dos_id = df_process.loc[row_index, \"dos_id\"]\n",
    "            if patient_admission_ts < other_patient_debut_att_interne:\n",
    "                #print(\" ==> break\")\n",
    "                break\n",
    "            if other_patient_dos_id != dos_id and other_patient_debut_att_interne <= patient_admission_ts <= other_patient_fin_att_interne:\n",
    "                counter += 1\n",
    "                if counter == 1:\n",
    "                    index = row_index\n",
    "        else:\n",
    "            print(\"\\nother_patient_debut_att_interne: \", other_patient_debut_att_interne)\n",
    "            print(\"other_patient_fin_att_interne: \", other_patient_fin_att_interne)\n",
    "\n",
    "    return counter, index"
   ],
   "metadata": {
    "collapsed": false,
    "pycharm": {
     "name": "#%%\n"
    }
   }
  },
  {
   "cell_type": "code",
   "execution_count": null,
   "outputs": [],
   "source": [
    "import time\n",
    "\n",
    "index = 0\n",
    "start = time.time()\n",
    "for row_i in range(len(feature_df)):\n",
    "    feature_df.loc[row_i, \"nbre_patient_salle_att_interne\"], index = caluler_nbre_patient_salle_att_interne_par_date(\n",
    "        patient_admission_ts=datetime.strptime(feature_df.loc[row_i, \"date_arrivee_patient\"], \"%Y-%m-%d %H:%M\"),\n",
    "        ranges={\"min\": index, \"max\": len(feature_df)}, dos_id=feature_df.loc[row_i, \"dos_id\"])\n",
    "    if row_i % 10000 == 0:\n",
    "        print(\"\\n*******************************************************************\")\n",
    "        print(\"row_i: \", row_i)\n",
    "        print(\"Partial time of execution: \", time.time() - start, \" s\")\n",
    "        print(\"index: \", index)\n",
    "        print(\"******************************************************************\\n\")\n",
    "end = time.time()\n",
    "print(\"The time of execution of above program is :\", end - start, \" s\")\n",
    "\n",
    "feature_df.to_csv(\"output/feature_df.csv\", sep=\";\", index=False)\n",
    "\n",
    "#To create dataset backup\n",
    "feature_df.to_csv(\"output/feature_df_bak_\" + str(dataset_version) + \".csv\", sep=\";\", index=False)\n",
    "dataset_version += 1\n",
    "\n",
    "feature_df.head()"
   ],
   "metadata": {
    "collapsed": false,
    "pycharm": {
     "name": "#%%\n"
    }
   }
  },
  {
   "cell_type": "code",
   "execution_count": null,
   "outputs": [],
   "source": [
    "feature_df.nbre_patient_salle_att_interne.value_counts().sort_values()"
   ],
   "metadata": {
    "collapsed": false,
    "pycharm": {
     "name": "#%%\n"
    }
   }
  },
  {
   "cell_type": "code",
   "execution_count": null,
   "outputs": [],
   "source": [
    "#Feature nbre_patient_traites_sans_fin_PEC caluculation\n",
    "\n",
    "from datetime import datetime\n",
    "import numpy as np\n",
    "\n",
    "#sorted_data = None\n",
    "#sorted_data = pd.read_csv(\"output/sorted_data.csv\", sep=\";\")\n",
    "#sorted_data = sorted_data.astype({'h_debut_att': 'str', 'h_fin_att': 'str'})\n",
    "\"\"\"sorted_data = pd.read_csv(\"data/0_Extration_Urgence.csv\", sep=\";\", encoding=\"latin-1\")\n",
    "\"\"\"\n",
    "#sorted_data = sorted_data.astype({'h_debut_att': 'str', 'h_fin_att': 'str'})\n",
    "#sorted_data[\"h_fin_box\"].replace(' ', np.nan)\n",
    "sorted_data['h_fin_box'].mask(sorted_data['h_fin_box'] == ' ', np.nan, inplace=True)\n",
    "sorted_data['dos_fin_PEC'].mask(sorted_data['dos_fin_PEC'] == ' ', np.nan, inplace=True)\n",
    "sorted_data[\"h_fin_box\"] = pd.to_datetime(sorted_data[\"h_fin_box\"], format=\"%d/%m/%Y %H:%M\").dt.strftime(\n",
    "    \"%Y-%m-%d %H:%M\")\n",
    "#sorted_data[\"h_fin_att\"] = pd.to_datetime(sorted_data[\"h_fin_att\"], format=\"%d/%m/%Y %H:%M\").dt.strftime(\"%Y-%m-%d %H:%M\")\n",
    "#sorted_data[\"h_fin_att\"] = pd.to_datetime(sorted_data[\"h_fin_att\"], infer_datetime_format=True, errors=\"coerce\")\n",
    "\n",
    "sorted_data = sorted_data.sort_values(by=[\"h_fin_box\", \"dos_fin_PEC\"])\n",
    "\n",
    "sorted_data.to_csv(\"output/sorted_data.csv\", sep=\";\", index=False)\n",
    "sorted_data = pd.read_csv(\"output/sorted_data.csv\", sep=\";\", low_memory=False)\n",
    "sorted_data.head()"
   ],
   "metadata": {
    "collapsed": false,
    "pycharm": {
     "name": "#%%\n"
    }
   }
  },
  {
   "cell_type": "code",
   "execution_count": null,
   "outputs": [],
   "source": [
    "def caluler_nbre_patient_traites_sans_fin_pec_par_date(patient_admission_ts, ranges, dos_id):\n",
    "    counter = 0\n",
    "    range_min = ranges[\"min\"]\n",
    "    range_max = ranges[\"max\"]\n",
    "    index = range_min\n",
    "    df_process = sorted_data.iloc[range_min:range_max]\n",
    "    for row_index in range(range_min, range_max):\n",
    "        #print(df_process.loc[row_index, \"h_debut_att\"])\n",
    "        other_patient_fin_box = df_process.loc[row_index, \"h_fin_box\"]\n",
    "        other_patient_fin_pec = df_process.loc[row_index, \"dos_fin_PEC\"]\n",
    "\n",
    "        if not pd.isnull(other_patient_fin_box) and not pd.isnull(other_patient_fin_pec):\n",
    "            other_patient_fin_box = datetime.strptime(other_patient_fin_box, \"%Y-%m-%d %H:%M\")\n",
    "            other_patient_fin_pec = datetime.strptime(other_patient_fin_pec, \"%Y-%m-%d %H:%M\")\n",
    "            other_patient_dos_id = df_process.loc[row_index, \"dos_id\"]\n",
    "            #print(\"\\npatient_admission_ts: \", patient_admission_ts)\n",
    "            #print(\"other_patient_admission: \", other_patient_admission)\n",
    "            #print(\"other_patient_TS_tri: \", other_patient_TS_tri)\n",
    "            #print(\"other_patient_admission *is after* patient_admission_ts ==> \", other_patient_admission > patient_admission_ts)\n",
    "            #print(\"patient_admission_ts - other_patient_TS_tri ==> \", abs(patient_admission_ts - other_patient_TS_tri) > timedelta(days=1))\n",
    "            if patient_admission_ts < other_patient_fin_box:\n",
    "                #print(\" ==> break\")\n",
    "                break\n",
    "            if other_patient_dos_id != dos_id and other_patient_fin_box <= patient_admission_ts <= other_patient_fin_pec:\n",
    "                counter += 1\n",
    "                if counter == 1:\n",
    "                    index = row_index\n",
    "                    \"\"\"print(\"\\n.......................................................................\")\n",
    "                    print(\"patient_ven_admission\", patient_admission_ts)\n",
    "                    print(index)\n",
    "                    print(\"other_patient_debut_attente\", other_patient_debut_att_interne)\n",
    "                    print(\"other_patient_fin_attente\", other_patient_fin_att_interne)\n",
    "                    print(\".......................................................................\\n\")\"\"\"\n",
    "                #print(\"\\n## patient_admission_ts *is before* other_patient_TS_tri\\n ==> counter: \", counter)\n",
    "        else:\n",
    "            print(\"\\nother_patient_fin_box: \", other_patient_fin_box)\n",
    "            print(\"other_patient_fin_pec: \", other_patient_fin_pec)\n",
    "\n",
    "    return counter, index"
   ],
   "metadata": {
    "collapsed": false,
    "pycharm": {
     "name": "#%%\n"
    }
   }
  },
  {
   "cell_type": "code",
   "execution_count": null,
   "outputs": [],
   "source": [
    "feature_df.columns"
   ],
   "metadata": {
    "collapsed": false,
    "pycharm": {
     "name": "#%%\n"
    }
   }
  },
  {
   "cell_type": "code",
   "execution_count": null,
   "outputs": [],
   "source": [
    "import time\n",
    "\n",
    "index = 0\n",
    "start = time.time()\n",
    "for row_i in range(len(feature_df)):\n",
    "    feature_df.loc[\n",
    "        row_i, \"nbre_patient_traite_sans_fin_PEC\"], index = caluler_nbre_patient_traites_sans_fin_pec_par_date(\n",
    "        patient_admission_ts=datetime.strptime(feature_df.loc[row_i, \"date_arrivee_patient\"], \"%Y-%m-%d %H:%M\"),\n",
    "        ranges={\"min\": index, \"max\": len(feature_df)}, dos_id=feature_df.loc[row_i, \"dos_id\"])\n",
    "    \"\"\"print(\"\\n###################################################################\")\n",
    "    print(\"patient_ven_admission\", feature_df.loc[row_i, \"date_arrivee_patient\"])\n",
    "    print(index)\n",
    "    print(\"other_patient_debut_attente\",sorted_data.loc[row_i, \"h_debut_att\"])\n",
    "    print(\"other_patient_fin_attente\",sorted_data.loc[row_i, \"h_fin_att\"])\n",
    "    print(\"###################################################################\\n\")\"\"\"\n",
    "    if row_i % 10000 == 0:\n",
    "        print(\"\\n*******************************************************************\")\n",
    "        print(\"row_i: \", row_i)\n",
    "        print(\"Partial time of execution: \", time.time() - start, \" s\")\n",
    "        print(\"index: \", index)\n",
    "        print(\"******************************************************************\\n\")\n",
    "end = time.time()\n",
    "print(\"The time of execution of above program is :\", end - start, \" s\")\n",
    "\n",
    "feature_df.to_csv(\"output/feature_df.csv\", sep=\";\", index=False)\n",
    "\n",
    "#To create dataset backup\n",
    "feature_df.to_csv(\"output/feature_df_bak_\" + str(dataset_version) + \".csv\", sep=\";\", index=False)\n",
    "dataset_version += 1\n",
    "\n",
    "#feature_df.head()"
   ],
   "metadata": {
    "collapsed": false,
    "pycharm": {
     "name": "#%%\n"
    }
   }
  },
  {
   "cell_type": "code",
   "execution_count": null,
   "outputs": [],
   "source": [
    "feature_df = pd.read_csv(\"output/feature_df.csv\", sep=\";\", low_memory=False)\n",
    "feature_df.head()"
   ],
   "metadata": {
    "collapsed": false,
    "pycharm": {
     "name": "#%%\n"
    }
   }
  },
  {
   "cell_type": "code",
   "execution_count": null,
   "outputs": [],
   "source": [
    "#Feature nbre_patient_entre_finPEC_sortie caluculation\n",
    "\n",
    "from datetime import datetime\n",
    "import numpy as np\n",
    "\n",
    "#sorted_data = None\n",
    "#sorted_data = pd.read_csv(\"output/sorted_data.csv\", sep=\";\")\n",
    "#sorted_data = sorted_data.astype({'h_debut_att': 'str', 'h_fin_att': 'str'})\n",
    "\n",
    "\"\"\"sorted_data = pd.read_csv(\"data/0_Extration_Urgence.csv\", sep=\";\", encoding=\"latin-1\")\n",
    "\"\"\"\n",
    "#sorted_data = sorted_data.astype({'h_debut_att': 'str', 'h_fin_att': 'str'})\n",
    "#sorted_data[\"h_fin_box\"].replace(' ', np.nan)\n",
    "sorted_data['dos_fin_PEC'].mask(sorted_data['dos_fin_PEC'] == ' ', np.nan, inplace=True)\n",
    "sorted_data['dos_fin_sortie'].mask(sorted_data['dos_fin_sortie'] == ' ', np.nan, inplace=True)\n",
    "#sorted_data[\"dos_fin_PEC\"] = pd.to_datetime(sorted_data[\"dos_fin_PEC\"], format=\"%d/%m/%Y %H:%M\").dt.strftime(\n",
    "#    \"%Y-%m-%d %H:%M\")\n",
    "#sorted_data[\"h_fin_att\"] = pd.to_datetime(sorted_data[\"h_fin_att\"], format=\"%d/%m/%Y %H:%M\").dt.strftime(\"%Y-%m-%d %H:%M\")\n",
    "#sorted_data[\"h_fin_att\"] = pd.to_datetime(sorted_data[\"h_fin_att\"], infer_datetime_format=True, errors=\"coerce\")\n",
    "\n",
    "sorted_data = sorted_data.sort_values(by=[\"dos_fin_PEC\", \"dos_fin_sortie\"])\n",
    "\n",
    "sorted_data.to_csv(\"output/sorted_data.csv\", sep=\";\", index=False)\n",
    "sorted_data = pd.read_csv(\"output/sorted_data.csv\", sep=\";\", low_memory=False)\n",
    "sorted_data.head()"
   ],
   "metadata": {
    "collapsed": false,
    "pycharm": {
     "name": "#%%\n"
    }
   }
  },
  {
   "cell_type": "code",
   "execution_count": null,
   "outputs": [],
   "source": [
    "def caluler_nbre_patient_entre_fin_pec_sortie_par_date(patient_admission_ts, ranges, dos_id):\n",
    "    counter = 0\n",
    "    range_min = ranges[\"min\"]\n",
    "    range_max = ranges[\"max\"]\n",
    "    index = range_min\n",
    "    df_process = sorted_data.iloc[range_min:range_max]\n",
    "    for row_index in range(range_min, range_max):\n",
    "        #print(df_process.loc[row_index, \"h_debut_att\"])\n",
    "        other_patient_fin_pec = df_process.loc[row_index, \"dos_fin_PEC\"]\n",
    "        other_patient_fin_sortie = df_process.loc[row_index, \"dos_fin_sortie\"]\n",
    "\n",
    "        if not pd.isnull(other_patient_fin_pec) and not pd.isnull(other_patient_fin_sortie):\n",
    "            other_patient_fin_pec = datetime.strptime(other_patient_fin_pec, \"%Y-%m-%d %H:%M\")\n",
    "            other_patient_fin_sortie = datetime.strptime(other_patient_fin_sortie, \"%d/%m/%Y %H:%M\")\n",
    "            other_patient_dos_id = df_process.loc[row_index, \"dos_id\"]\n",
    "            ven_sortie = df_process.loc[row_index, \"ven_sortie\"]\n",
    "            #print(\"\\npatient_admission_ts: \", patient_admission_ts)\n",
    "            #print(\"other_patient_admission: \", other_patient_admission)\n",
    "            #print(\"other_patient_TS_tri: \", other_patient_TS_tri)\n",
    "            #print(\"other_patient_admission *is after* patient_admission_ts ==> \", other_patient_admission > patient_admission_ts)\n",
    "            #print(\"patient_admission_ts - other_patient_TS_tri ==> \", abs(patient_admission_ts - other_patient_TS_tri) > timedelta(days=1))\n",
    "            if (other_patient_fin_sortie - other_patient_fin_pec) > timedelta(days=2) and not pd.isnull(ven_sortie):\n",
    "                #print(ven_sortie)\n",
    "                other_patient_fin_sortie = datetime.strptime(df_process.loc[row_index, \"ven_sortie\"][:-3],\n",
    "                                                             \"%Y-%m-%d %H:%M:%S\")\n",
    "            if patient_admission_ts < other_patient_fin_pec:\n",
    "                #print(\" ==> break\")\n",
    "                break\n",
    "            if other_patient_dos_id != dos_id and other_patient_fin_pec <= patient_admission_ts <= other_patient_fin_sortie:\n",
    "                counter += 1\n",
    "                if counter == 1:\n",
    "                    index = row_index\n",
    "                    \"\"\"print(\"\\n.......................................................................\")\n",
    "                    print(\"patient_ven_admission\", patient_admission_ts)\n",
    "                    print(index)\n",
    "                    print(\"other_patient_fin_pec\", other_patient_fin_pec)\n",
    "                    print(\"other_patient_fin_sortie\", other_patient_fin_sortie)\n",
    "                    print(\".......................................................................\\n\")\"\"\"\n",
    "                #print(\"\\n## patient_admission_ts *is before* other_patient_TS_tri\\n ==> counter: \", counter)\n",
    "        else:\n",
    "            print(\"\\nother_patient_fin_pec: \", other_patient_fin_pec)\n",
    "            print(\"other_patient_fin_sortie: \", other_patient_fin_sortie)\n",
    "\n",
    "    return counter, index"
   ],
   "metadata": {
    "collapsed": false,
    "pycharm": {
     "name": "#%%\n"
    }
   }
  },
  {
   "cell_type": "code",
   "execution_count": 59,
   "outputs": [
    {
     "name": "stdout",
     "output_type": "stream",
     "text": [
      "\n",
      "*******************************************************************\n",
      "row_i:  0\n",
      "Partial time of execution:  0.0009992122650146484  s\n",
      "index:  0\n",
      "******************************************************************\n",
      "\n",
      "\n",
      "*******************************************************************\n",
      "row_i:  10000\n",
      "Partial time of execution:  8.832453966140747  s\n",
      "index:  9990\n",
      "******************************************************************\n",
      "\n",
      "\n",
      "*******************************************************************\n",
      "row_i:  20000\n",
      "Partial time of execution:  17.958512544631958  s\n",
      "index:  19975\n",
      "******************************************************************\n",
      "\n",
      "\n",
      "*******************************************************************\n",
      "row_i:  30000\n",
      "Partial time of execution:  27.147369146347046  s\n",
      "index:  29964\n",
      "******************************************************************\n",
      "\n",
      "\n",
      "*******************************************************************\n",
      "row_i:  40000\n",
      "Partial time of execution:  35.468557357788086  s\n",
      "index:  39970\n",
      "******************************************************************\n",
      "\n",
      "\n",
      "*******************************************************************\n",
      "row_i:  50000\n",
      "Partial time of execution:  43.94706082344055  s\n",
      "index:  49987\n",
      "******************************************************************\n",
      "\n",
      "\n",
      "*******************************************************************\n",
      "row_i:  60000\n",
      "Partial time of execution:  52.53182864189148  s\n",
      "index:  59980\n",
      "******************************************************************\n",
      "\n",
      "\n",
      "*******************************************************************\n",
      "row_i:  70000\n",
      "Partial time of execution:  60.627037048339844  s\n",
      "index:  69989\n",
      "******************************************************************\n",
      "\n",
      "\n",
      "*******************************************************************\n",
      "row_i:  80000\n",
      "Partial time of execution:  68.27291250228882  s\n",
      "index:  79973\n",
      "******************************************************************\n",
      "\n",
      "The time of execution of above program is : 74.7726035118103  s\n"
     ]
    }
   ],
   "source": [
    "import time\n",
    "\n",
    "index = 0\n",
    "start = time.time()\n",
    "for row_i in range(len(feature_df)):\n",
    "    feature_df.loc[\n",
    "        row_i, \"nbre_patient_entre_finPEC_sortie\"], index = caluler_nbre_patient_entre_fin_pec_sortie_par_date(\n",
    "        patient_admission_ts=datetime.strptime(feature_df.loc[row_i, \"date_arrivee_patient\"], \"%Y-%m-%d %H:%M\"),\n",
    "        ranges={\"min\": index, \"max\": len(feature_df)}, dos_id=feature_df.loc[row_i, \"dos_id\"])\n",
    "    \"\"\"print(\"\\n###################################################################\")\n",
    "    print(\"patient_ven_admission\", feature_df.loc[row_i, \"date_arrivee_patient\"])\n",
    "    print(index)\n",
    "    print(\"other_patient_debut_attente\",sorted_data.loc[index, \"h_debut_att\"])\n",
    "    print(\"other_patient_fin_attente\",sorted_data.loc[index, \"h_fin_att\"])\n",
    "    print(\"###################################################################\\n\")\"\"\"\n",
    "    if row_i % 10000 == 0:\n",
    "        print(\"\\n*******************************************************************\")\n",
    "        print(\"row_i: \", row_i)\n",
    "        print(\"Partial time of execution: \", time.time() - start, \" s\")\n",
    "        print(\"index: \", index)\n",
    "        \"\"\"print(\"patient_ven_admission: \", feature_df.loc[row_i, \"date_arrivee_patient\"])\n",
    "        print(\"\\nother_patient_fin_pec: \", sorted_data.loc[index, \"dos_fin_PEC\"])\n",
    "        print(\"other_patient_fin_sortie: \", sorted_data.loc[index, \"dos_fin_sortie\"])\"\"\"\n",
    "        print(\"******************************************************************\\n\")\n",
    "end = time.time()\n",
    "print(\"The time of execution of above program is :\", end - start, \" s\")\n",
    "\n",
    "feature_df.to_csv(\"output/feature_df.csv\", sep=\";\", index=False)\n",
    "\n",
    "#To create dataset backup\n",
    "feature_df.to_csv(\"output/feature_df_bak_\" + str(dataset_version) + \".csv\", sep=\";\", index=False)\n",
    "dataset_version += 1\n",
    "\n",
    "#feature_df.head()"
   ],
   "metadata": {
    "collapsed": false,
    "pycharm": {
     "name": "#%%\n"
    }
   }
  },
  {
   "cell_type": "code",
   "execution_count": 60,
   "outputs": [
    {
     "data": {
      "text/plain": "12"
     },
     "execution_count": 60,
     "metadata": {},
     "output_type": "execute_result"
    }
   ],
   "source": [
    "dataset_version"
   ],
   "metadata": {
    "collapsed": false,
    "pycharm": {
     "name": "#%%\n"
    }
   }
  },
  {
   "cell_type": "code",
   "execution_count": 61,
   "outputs": [
    {
     "data": {
      "text/plain": "   dos_id  age  sexe residence  mode_entree  etat_patient_entree  \\\n0    2226   46     2   81290.0         11.0                    2   \n1    2228   16     1   81100.0         11.0                    2   \n2    2229   63     2   81700.0         11.0                    2   \n3    2230   38     1   81100.0         11.0                    2   \n4    2231   55     2   81290.0         11.0                    2   \n\n  motif_admission  score_tri  occupation_lits  ratio_medecin_patient  ...  \\\n0     Non precise          4         0.890957                    NaN  ...   \n1     Non precise          5         0.904255                    NaN  ...   \n2     Non precise          5         0.906915                    NaN  ...   \n3     Non precise          5         0.906915                    NaN  ...   \n4     Non precise          5         0.909574                    NaN  ...   \n\n   nbre_patient_entre_finPEC_sortie  nbre_patient_UHCD  UHCD_saturee  \\\n0                               0.0                 11             1   \n1                               0.0                 11             1   \n2                               0.0                 11             1   \n3                               0.0                 11             1   \n4                               0.0                 11             1   \n\n   est_venu_3_derniers_mois  est_venu_derniers_48h  \\\n0                       NaN                    NaN   \n1                       NaN                    NaN   \n2                       NaN                    NaN   \n3                       NaN                    NaN   \n4                       NaN                    NaN   \n\n   moyenne_dynamique_temps_attente  date_arrivee_patient  wait_time_ext  \\\n0                              NaN      2019-01-22 08:46            NaN   \n1                              NaN      2019-01-22 09:00            NaN   \n2                              NaN      2019-01-22 09:06            NaN   \n3                              NaN      2019-01-22 09:15            NaN   \n4                              NaN      2019-01-22 09:20            NaN   \n\n   wait_time_interne  wait_time  \n0                NaN        NaN  \n1                NaN        NaN  \n2                NaN        NaN  \n3                NaN        NaN  \n4                NaN        NaN  \n\n[5 rows x 31 columns]",
      "text/html": "<div>\n<style scoped>\n    .dataframe tbody tr th:only-of-type {\n        vertical-align: middle;\n    }\n\n    .dataframe tbody tr th {\n        vertical-align: top;\n    }\n\n    .dataframe thead th {\n        text-align: right;\n    }\n</style>\n<table border=\"1\" class=\"dataframe\">\n  <thead>\n    <tr style=\"text-align: right;\">\n      <th></th>\n      <th>dos_id</th>\n      <th>age</th>\n      <th>sexe</th>\n      <th>residence</th>\n      <th>mode_entree</th>\n      <th>etat_patient_entree</th>\n      <th>motif_admission</th>\n      <th>score_tri</th>\n      <th>occupation_lits</th>\n      <th>ratio_medecin_patient</th>\n      <th>...</th>\n      <th>nbre_patient_entre_finPEC_sortie</th>\n      <th>nbre_patient_UHCD</th>\n      <th>UHCD_saturee</th>\n      <th>est_venu_3_derniers_mois</th>\n      <th>est_venu_derniers_48h</th>\n      <th>moyenne_dynamique_temps_attente</th>\n      <th>date_arrivee_patient</th>\n      <th>wait_time_ext</th>\n      <th>wait_time_interne</th>\n      <th>wait_time</th>\n    </tr>\n  </thead>\n  <tbody>\n    <tr>\n      <th>0</th>\n      <td>2226</td>\n      <td>46</td>\n      <td>2</td>\n      <td>81290.0</td>\n      <td>11.0</td>\n      <td>2</td>\n      <td>Non precise</td>\n      <td>4</td>\n      <td>0.890957</td>\n      <td>NaN</td>\n      <td>...</td>\n      <td>0.0</td>\n      <td>11</td>\n      <td>1</td>\n      <td>NaN</td>\n      <td>NaN</td>\n      <td>NaN</td>\n      <td>2019-01-22 08:46</td>\n      <td>NaN</td>\n      <td>NaN</td>\n      <td>NaN</td>\n    </tr>\n    <tr>\n      <th>1</th>\n      <td>2228</td>\n      <td>16</td>\n      <td>1</td>\n      <td>81100.0</td>\n      <td>11.0</td>\n      <td>2</td>\n      <td>Non precise</td>\n      <td>5</td>\n      <td>0.904255</td>\n      <td>NaN</td>\n      <td>...</td>\n      <td>0.0</td>\n      <td>11</td>\n      <td>1</td>\n      <td>NaN</td>\n      <td>NaN</td>\n      <td>NaN</td>\n      <td>2019-01-22 09:00</td>\n      <td>NaN</td>\n      <td>NaN</td>\n      <td>NaN</td>\n    </tr>\n    <tr>\n      <th>2</th>\n      <td>2229</td>\n      <td>63</td>\n      <td>2</td>\n      <td>81700.0</td>\n      <td>11.0</td>\n      <td>2</td>\n      <td>Non precise</td>\n      <td>5</td>\n      <td>0.906915</td>\n      <td>NaN</td>\n      <td>...</td>\n      <td>0.0</td>\n      <td>11</td>\n      <td>1</td>\n      <td>NaN</td>\n      <td>NaN</td>\n      <td>NaN</td>\n      <td>2019-01-22 09:06</td>\n      <td>NaN</td>\n      <td>NaN</td>\n      <td>NaN</td>\n    </tr>\n    <tr>\n      <th>3</th>\n      <td>2230</td>\n      <td>38</td>\n      <td>1</td>\n      <td>81100.0</td>\n      <td>11.0</td>\n      <td>2</td>\n      <td>Non precise</td>\n      <td>5</td>\n      <td>0.906915</td>\n      <td>NaN</td>\n      <td>...</td>\n      <td>0.0</td>\n      <td>11</td>\n      <td>1</td>\n      <td>NaN</td>\n      <td>NaN</td>\n      <td>NaN</td>\n      <td>2019-01-22 09:15</td>\n      <td>NaN</td>\n      <td>NaN</td>\n      <td>NaN</td>\n    </tr>\n    <tr>\n      <th>4</th>\n      <td>2231</td>\n      <td>55</td>\n      <td>2</td>\n      <td>81290.0</td>\n      <td>11.0</td>\n      <td>2</td>\n      <td>Non precise</td>\n      <td>5</td>\n      <td>0.909574</td>\n      <td>NaN</td>\n      <td>...</td>\n      <td>0.0</td>\n      <td>11</td>\n      <td>1</td>\n      <td>NaN</td>\n      <td>NaN</td>\n      <td>NaN</td>\n      <td>2019-01-22 09:20</td>\n      <td>NaN</td>\n      <td>NaN</td>\n      <td>NaN</td>\n    </tr>\n  </tbody>\n</table>\n<p>5 rows × 31 columns</p>\n</div>"
     },
     "execution_count": 61,
     "metadata": {},
     "output_type": "execute_result"
    }
   ],
   "source": [
    "feature_df.to_csv(\"output/feature_df.csv\", sep=\";\", index=False)\n",
    "feature_df = pd.read_csv(\"output/feature_df.csv\", sep=\";\", low_memory=False)\n",
    "feature_df.head()"
   ],
   "metadata": {
    "collapsed": false,
    "pycharm": {
     "name": "#%%\n"
    }
   }
  },
  {
   "cell_type": "code",
   "execution_count": 62,
   "outputs": [
    {
     "data": {
      "text/plain": "   dos_id  age  sexe code postal  nbre_patient  ven_etat ven_motifAdmission  \\\n0    2226   46     2     81290.0           335         2        Non precise   \n1    2228   16     1     81100.0           340         2        Non precise   \n2    2229   63     2     81700.0           341         2        Non precise   \n3    2230   38     1     81100.0           341         2        Non precise   \n4    2231   55     2     81290.0           342         2        Non precise   \n\n   gravité  ven_modeEntree  ven_modeSortie  ... mode_sortie_id    dest  \\\n0        4            11.0            64.0  ...              3  2701.0   \n1        5            11.0            64.0  ...              1     NaN   \n2        5            11.0            64.0  ...              3  2701.0   \n3        5            11.0            64.0  ...              1     NaN   \n4        5            11.0            64.0  ...              1     NaN   \n\n            ven_admission              ven_sortie  ven_date_sortie_reelle  \\\n0  2019-01-22 08:46:00.00  2019-01-23 13:00:00.00  2019-01-23 13:00:00.00   \n1  2019-01-22 09:00:00.00  2019-01-22 10:06:00.00  2019-01-22 10:06:00.00   \n2  2019-01-22 09:06:00.00  2019-01-24 11:27:00.00  2019-01-24 11:27:00.00   \n3  2019-01-22 09:15:00.00  2019-01-22 11:29:00.00  2019-01-22 11:29:00.00   \n4  2019-01-22 09:20:00.00  2019-01-22 10:45:00.00  2019-01-22 10:45:00.00   \n\n  nbre_pat_uhcd valid_ts_tri intern_wait_time_calculable intern_wait_time_deb  \\\n0            11          1.0                         1.0  2019-01-22 09:13:00   \n1            11          1.0                         1.0  2019-01-22 09:29:00   \n2            11          1.0                         1.0  2019-01-22 09:31:00   \n3            11          1.0                         1.0  2019-01-22 09:40:00   \n4            11          1.0                         1.0  2019-01-22 09:43:00   \n\n  intern_wait_time_end  \n0  2019-01-22 09:13:00  \n1  2019-01-22 09:29:00  \n2  2019-01-22 10:08:00  \n3  2019-01-22 10:09:00  \n4  2019-01-22 10:10:00  \n\n[5 rows x 48 columns]",
      "text/html": "<div>\n<style scoped>\n    .dataframe tbody tr th:only-of-type {\n        vertical-align: middle;\n    }\n\n    .dataframe tbody tr th {\n        vertical-align: top;\n    }\n\n    .dataframe thead th {\n        text-align: right;\n    }\n</style>\n<table border=\"1\" class=\"dataframe\">\n  <thead>\n    <tr style=\"text-align: right;\">\n      <th></th>\n      <th>dos_id</th>\n      <th>age</th>\n      <th>sexe</th>\n      <th>code postal</th>\n      <th>nbre_patient</th>\n      <th>ven_etat</th>\n      <th>ven_motifAdmission</th>\n      <th>gravité</th>\n      <th>ven_modeEntree</th>\n      <th>ven_modeSortie</th>\n      <th>...</th>\n      <th>mode_sortie_id</th>\n      <th>dest</th>\n      <th>ven_admission</th>\n      <th>ven_sortie</th>\n      <th>ven_date_sortie_reelle</th>\n      <th>nbre_pat_uhcd</th>\n      <th>valid_ts_tri</th>\n      <th>intern_wait_time_calculable</th>\n      <th>intern_wait_time_deb</th>\n      <th>intern_wait_time_end</th>\n    </tr>\n  </thead>\n  <tbody>\n    <tr>\n      <th>0</th>\n      <td>2226</td>\n      <td>46</td>\n      <td>2</td>\n      <td>81290.0</td>\n      <td>335</td>\n      <td>2</td>\n      <td>Non precise</td>\n      <td>4</td>\n      <td>11.0</td>\n      <td>64.0</td>\n      <td>...</td>\n      <td>3</td>\n      <td>2701.0</td>\n      <td>2019-01-22 08:46:00.00</td>\n      <td>2019-01-23 13:00:00.00</td>\n      <td>2019-01-23 13:00:00.00</td>\n      <td>11</td>\n      <td>1.0</td>\n      <td>1.0</td>\n      <td>2019-01-22 09:13:00</td>\n      <td>2019-01-22 09:13:00</td>\n    </tr>\n    <tr>\n      <th>1</th>\n      <td>2228</td>\n      <td>16</td>\n      <td>1</td>\n      <td>81100.0</td>\n      <td>340</td>\n      <td>2</td>\n      <td>Non precise</td>\n      <td>5</td>\n      <td>11.0</td>\n      <td>64.0</td>\n      <td>...</td>\n      <td>1</td>\n      <td>NaN</td>\n      <td>2019-01-22 09:00:00.00</td>\n      <td>2019-01-22 10:06:00.00</td>\n      <td>2019-01-22 10:06:00.00</td>\n      <td>11</td>\n      <td>1.0</td>\n      <td>1.0</td>\n      <td>2019-01-22 09:29:00</td>\n      <td>2019-01-22 09:29:00</td>\n    </tr>\n    <tr>\n      <th>2</th>\n      <td>2229</td>\n      <td>63</td>\n      <td>2</td>\n      <td>81700.0</td>\n      <td>341</td>\n      <td>2</td>\n      <td>Non precise</td>\n      <td>5</td>\n      <td>11.0</td>\n      <td>64.0</td>\n      <td>...</td>\n      <td>3</td>\n      <td>2701.0</td>\n      <td>2019-01-22 09:06:00.00</td>\n      <td>2019-01-24 11:27:00.00</td>\n      <td>2019-01-24 11:27:00.00</td>\n      <td>11</td>\n      <td>1.0</td>\n      <td>1.0</td>\n      <td>2019-01-22 09:31:00</td>\n      <td>2019-01-22 10:08:00</td>\n    </tr>\n    <tr>\n      <th>3</th>\n      <td>2230</td>\n      <td>38</td>\n      <td>1</td>\n      <td>81100.0</td>\n      <td>341</td>\n      <td>2</td>\n      <td>Non precise</td>\n      <td>5</td>\n      <td>11.0</td>\n      <td>64.0</td>\n      <td>...</td>\n      <td>1</td>\n      <td>NaN</td>\n      <td>2019-01-22 09:15:00.00</td>\n      <td>2019-01-22 11:29:00.00</td>\n      <td>2019-01-22 11:29:00.00</td>\n      <td>11</td>\n      <td>1.0</td>\n      <td>1.0</td>\n      <td>2019-01-22 09:40:00</td>\n      <td>2019-01-22 10:09:00</td>\n    </tr>\n    <tr>\n      <th>4</th>\n      <td>2231</td>\n      <td>55</td>\n      <td>2</td>\n      <td>81290.0</td>\n      <td>342</td>\n      <td>2</td>\n      <td>Non precise</td>\n      <td>5</td>\n      <td>11.0</td>\n      <td>64.0</td>\n      <td>...</td>\n      <td>1</td>\n      <td>NaN</td>\n      <td>2019-01-22 09:20:00.00</td>\n      <td>2019-01-22 10:45:00.00</td>\n      <td>2019-01-22 10:45:00.00</td>\n      <td>11</td>\n      <td>1.0</td>\n      <td>1.0</td>\n      <td>2019-01-22 09:43:00</td>\n      <td>2019-01-22 10:10:00</td>\n    </tr>\n  </tbody>\n</table>\n<p>5 rows × 48 columns</p>\n</div>"
     },
     "execution_count": 62,
     "metadata": {},
     "output_type": "execute_result"
    }
   ],
   "source": [
    "#Feature nbre_patient_urgence caluculation\n",
    "\n",
    "import numpy as np\n",
    "\n",
    "sorted_data[\"dos_fin_sortie\"] = pd.to_datetime(sorted_data[\"dos_fin_sortie\"], format=\"%d/%m/%Y %H:%M\").dt.strftime(\n",
    "    \"%Y-%m-%d %H:%M\")\n",
    "\n",
    "sorted_data = sorted_data.sort_values(by=[\"date_arrivee_patient\", \"dos_fin_sortie\"])\n",
    "\n",
    "sorted_data.to_csv(\"output/sorted_data.csv\", sep=\";\", index=False)\n",
    "sorted_data = pd.read_csv(\"output/sorted_data.csv\", sep=\";\", low_memory=False)\n",
    "sorted_data.head()"
   ],
   "metadata": {
    "collapsed": false,
    "pycharm": {
     "name": "#%%\n"
    }
   }
  },
  {
   "cell_type": "code",
   "execution_count": 63,
   "outputs": [],
   "source": [
    "from datetime import datetime\n",
    "\n",
    "feature_df = feature_df.sort_values(by=[\"date_arrivee_patient\"])\n",
    "feature_df.insert(9, \"nbre_patient_urgence\", np.nan, True)\n",
    "feature_df.to_csv(\"output/feature_df.csv\", sep=\";\", index=False)\n",
    "feature_df = pd.read_csv(\"output/feature_df.csv\", sep=\";\", low_memory=False)"
   ],
   "metadata": {
    "collapsed": false,
    "pycharm": {
     "name": "#%%\n"
    }
   }
  },
  {
   "cell_type": "code",
   "execution_count": 64,
   "outputs": [],
   "source": [
    "def caluler_nbre_patient_urgence_par_date(patient_admission_ts, ranges, dos_id):\n",
    "    counter = 0\n",
    "    range_min = ranges[\"min\"]\n",
    "    range_max = ranges[\"max\"]\n",
    "    index = range_min\n",
    "\n",
    "    df_process = sorted_data.iloc[range_min:range_max]\n",
    "    for row_index in range(range_min, range_max):\n",
    "        #print(\"df_process.loc[row_index, 'date_arrivee_patient']: \", df_process.loc[row_index, \"date_arrivee_patient\"])\n",
    "        #print(\"df_process.loc[row_index, 'dos_fin_sortie']: \", df_process.loc[row_index, \"dos_fin_sortie\"])\n",
    "        #print(\"patient_admission_ts: \", patient_admission_ts)\n",
    "\n",
    "        other_patient_admission = datetime.strptime(df_process.loc[row_index, \"date_arrivee_patient\"],\n",
    "                                                    \"%Y-%m-%d %H:%M\")\n",
    "        other_patient_exit = datetime.strptime(df_process.loc[row_index, \"dos_fin_sortie\"], \"%Y-%m-%d %H:%M\")\n",
    "        ven_sortie = df_process.loc[row_index, \"ven_sortie\"]\n",
    "\n",
    "        if (other_patient_exit - other_patient_admission) > timedelta(days=2) and not pd.isnull(ven_sortie):\n",
    "            other_patient_exit = datetime.strptime(ven_sortie[:-3], \"%Y-%m-%d %H:%M:%S\")\n",
    "\n",
    "        other_patient_dos_id = df_process.loc[row_index, \"dos_id\"]\n",
    "\n",
    "        if patient_admission_ts < other_patient_admission:\n",
    "            break\n",
    "        if other_patient_dos_id != dos_id and other_patient_admission <= patient_admission_ts <= other_patient_exit:\n",
    "            counter += 1\n",
    "            if counter == 1:\n",
    "                index = row_index\n",
    "            #print(\"Add\", \", row_index: \", row_index, \", dos_id: \", dos_id, \", other_patient_dos_id: \", other_patient_dos_id, \", date admission: \", patient_admission_ts, \", counter: \", counter)\n",
    "\n",
    "    return counter, index"
   ],
   "metadata": {
    "collapsed": false,
    "pycharm": {
     "name": "#%%\n"
    }
   }
  },
  {
   "cell_type": "code",
   "execution_count": 65,
   "outputs": [
    {
     "name": "stdout",
     "output_type": "stream",
     "text": [
      "\n",
      "*******************************************************************\n",
      "row_i:  0\n",
      "Partial time of execution:  0.002004384994506836  s\n",
      "index:  0\n",
      "******************************************************************\n",
      "\n",
      "\n",
      "*******************************************************************\n",
      "row_i:  10000\n",
      "Partial time of execution:  27.5061137676239  s\n",
      "index:  9998\n",
      "******************************************************************\n",
      "\n",
      "\n",
      "*******************************************************************\n",
      "row_i:  20000\n",
      "Partial time of execution:  51.548943519592285  s\n",
      "index:  19969\n",
      "******************************************************************\n",
      "\n",
      "\n",
      "*******************************************************************\n",
      "row_i:  30000\n",
      "Partial time of execution:  76.70356726646423  s\n",
      "index:  29992\n",
      "******************************************************************\n",
      "\n",
      "\n",
      "*******************************************************************\n",
      "row_i:  40000\n",
      "Partial time of execution:  97.51524448394775  s\n",
      "index:  39958\n",
      "******************************************************************\n",
      "\n",
      "\n",
      "*******************************************************************\n",
      "row_i:  50000\n",
      "Partial time of execution:  120.5841588973999  s\n",
      "index:  49991\n",
      "******************************************************************\n",
      "\n",
      "\n",
      "*******************************************************************\n",
      "row_i:  60000\n",
      "Partial time of execution:  140.83956098556519  s\n",
      "index:  59997\n",
      "******************************************************************\n",
      "\n",
      "\n",
      "*******************************************************************\n",
      "row_i:  70000\n",
      "Partial time of execution:  162.97388291358948  s\n",
      "index:  69994\n",
      "******************************************************************\n",
      "\n",
      "\n",
      "*******************************************************************\n",
      "row_i:  80000\n",
      "Partial time of execution:  185.01246309280396  s\n",
      "index:  79965\n",
      "******************************************************************\n",
      "\n",
      "The time of execution of above program is : 205.39540147781372  s\n"
     ]
    },
    {
     "data": {
      "text/plain": "   dos_id  age  sexe residence  mode_entree  etat_patient_entree  \\\n0    2226   46     2   81290.0         11.0                    2   \n1    2228   16     1   81100.0         11.0                    2   \n2    2229   63     2   81700.0         11.0                    2   \n3    2230   38     1   81100.0         11.0                    2   \n4    2231   55     2   81290.0         11.0                    2   \n\n  motif_admission  score_tri  occupation_lits  nbre_patient_urgence  ...  \\\n0     Non precise          4         0.890957                   0.0  ...   \n1     Non precise          5         0.904255                   1.0  ...   \n2     Non precise          5         0.906915                   2.0  ...   \n3     Non precise          5         0.906915                   3.0  ...   \n4     Non precise          5         0.909574                   4.0  ...   \n\n   nbre_patient_entre_finPEC_sortie  nbre_patient_UHCD  UHCD_saturee  \\\n0                               0.0                 11             1   \n1                               0.0                 11             1   \n2                               0.0                 11             1   \n3                               0.0                 11             1   \n4                               0.0                 11             1   \n\n   est_venu_3_derniers_mois  est_venu_derniers_48h  \\\n0                       NaN                    NaN   \n1                       NaN                    NaN   \n2                       NaN                    NaN   \n3                       NaN                    NaN   \n4                       NaN                    NaN   \n\n   moyenne_dynamique_temps_attente  date_arrivee_patient  wait_time_ext  \\\n0                              NaN      2019-01-22 08:46            NaN   \n1                              NaN      2019-01-22 09:00            NaN   \n2                              NaN      2019-01-22 09:06            NaN   \n3                              NaN      2019-01-22 09:15            NaN   \n4                              NaN      2019-01-22 09:20            NaN   \n\n   wait_time_interne  wait_time  \n0                NaN        NaN  \n1                NaN        NaN  \n2                NaN        NaN  \n3                NaN        NaN  \n4                NaN        NaN  \n\n[5 rows x 32 columns]",
      "text/html": "<div>\n<style scoped>\n    .dataframe tbody tr th:only-of-type {\n        vertical-align: middle;\n    }\n\n    .dataframe tbody tr th {\n        vertical-align: top;\n    }\n\n    .dataframe thead th {\n        text-align: right;\n    }\n</style>\n<table border=\"1\" class=\"dataframe\">\n  <thead>\n    <tr style=\"text-align: right;\">\n      <th></th>\n      <th>dos_id</th>\n      <th>age</th>\n      <th>sexe</th>\n      <th>residence</th>\n      <th>mode_entree</th>\n      <th>etat_patient_entree</th>\n      <th>motif_admission</th>\n      <th>score_tri</th>\n      <th>occupation_lits</th>\n      <th>nbre_patient_urgence</th>\n      <th>...</th>\n      <th>nbre_patient_entre_finPEC_sortie</th>\n      <th>nbre_patient_UHCD</th>\n      <th>UHCD_saturee</th>\n      <th>est_venu_3_derniers_mois</th>\n      <th>est_venu_derniers_48h</th>\n      <th>moyenne_dynamique_temps_attente</th>\n      <th>date_arrivee_patient</th>\n      <th>wait_time_ext</th>\n      <th>wait_time_interne</th>\n      <th>wait_time</th>\n    </tr>\n  </thead>\n  <tbody>\n    <tr>\n      <th>0</th>\n      <td>2226</td>\n      <td>46</td>\n      <td>2</td>\n      <td>81290.0</td>\n      <td>11.0</td>\n      <td>2</td>\n      <td>Non precise</td>\n      <td>4</td>\n      <td>0.890957</td>\n      <td>0.0</td>\n      <td>...</td>\n      <td>0.0</td>\n      <td>11</td>\n      <td>1</td>\n      <td>NaN</td>\n      <td>NaN</td>\n      <td>NaN</td>\n      <td>2019-01-22 08:46</td>\n      <td>NaN</td>\n      <td>NaN</td>\n      <td>NaN</td>\n    </tr>\n    <tr>\n      <th>1</th>\n      <td>2228</td>\n      <td>16</td>\n      <td>1</td>\n      <td>81100.0</td>\n      <td>11.0</td>\n      <td>2</td>\n      <td>Non precise</td>\n      <td>5</td>\n      <td>0.904255</td>\n      <td>1.0</td>\n      <td>...</td>\n      <td>0.0</td>\n      <td>11</td>\n      <td>1</td>\n      <td>NaN</td>\n      <td>NaN</td>\n      <td>NaN</td>\n      <td>2019-01-22 09:00</td>\n      <td>NaN</td>\n      <td>NaN</td>\n      <td>NaN</td>\n    </tr>\n    <tr>\n      <th>2</th>\n      <td>2229</td>\n      <td>63</td>\n      <td>2</td>\n      <td>81700.0</td>\n      <td>11.0</td>\n      <td>2</td>\n      <td>Non precise</td>\n      <td>5</td>\n      <td>0.906915</td>\n      <td>2.0</td>\n      <td>...</td>\n      <td>0.0</td>\n      <td>11</td>\n      <td>1</td>\n      <td>NaN</td>\n      <td>NaN</td>\n      <td>NaN</td>\n      <td>2019-01-22 09:06</td>\n      <td>NaN</td>\n      <td>NaN</td>\n      <td>NaN</td>\n    </tr>\n    <tr>\n      <th>3</th>\n      <td>2230</td>\n      <td>38</td>\n      <td>1</td>\n      <td>81100.0</td>\n      <td>11.0</td>\n      <td>2</td>\n      <td>Non precise</td>\n      <td>5</td>\n      <td>0.906915</td>\n      <td>3.0</td>\n      <td>...</td>\n      <td>0.0</td>\n      <td>11</td>\n      <td>1</td>\n      <td>NaN</td>\n      <td>NaN</td>\n      <td>NaN</td>\n      <td>2019-01-22 09:15</td>\n      <td>NaN</td>\n      <td>NaN</td>\n      <td>NaN</td>\n    </tr>\n    <tr>\n      <th>4</th>\n      <td>2231</td>\n      <td>55</td>\n      <td>2</td>\n      <td>81290.0</td>\n      <td>11.0</td>\n      <td>2</td>\n      <td>Non precise</td>\n      <td>5</td>\n      <td>0.909574</td>\n      <td>4.0</td>\n      <td>...</td>\n      <td>0.0</td>\n      <td>11</td>\n      <td>1</td>\n      <td>NaN</td>\n      <td>NaN</td>\n      <td>NaN</td>\n      <td>2019-01-22 09:20</td>\n      <td>NaN</td>\n      <td>NaN</td>\n      <td>NaN</td>\n    </tr>\n  </tbody>\n</table>\n<p>5 rows × 32 columns</p>\n</div>"
     },
     "execution_count": 65,
     "metadata": {},
     "output_type": "execute_result"
    }
   ],
   "source": [
    "import time\n",
    "\n",
    "start = time.time()\n",
    "index = 0\n",
    "for row_i in range(len(feature_df)):\n",
    "    feature_df.loc[row_i, \"nbre_patient_urgence\"], index = caluler_nbre_patient_urgence_par_date(\n",
    "        patient_admission_ts=datetime.strptime(feature_df.loc[row_i, \"date_arrivee_patient\"], \"%Y-%m-%d %H:%M\"),\n",
    "        ranges={\"min\": index, \"max\": len(feature_df)}, dos_id=feature_df.loc[row_i, \"dos_id\"])\n",
    "    #print(\"\\n patient_ven_admission\", feature_df.loc[row_i, \"date_arrivee_patient\"])\n",
    "    #print(index)\n",
    "    #print(\"other_patient_ven_admission\",sorted_data.loc[index, \"date_arrivee_patient\"])\n",
    "    if row_i % 10000 == 0:\n",
    "        print(\"\\n*******************************************************************\")\n",
    "        print(\"row_i: \", row_i)\n",
    "        print(\"Partial time of execution: \", time.time() - start, \" s\")\n",
    "        print(\"index: \", index)\n",
    "        print(\"******************************************************************\\n\")\n",
    "end = time.time()\n",
    "print(\"The time of execution of above program is :\", end - start, \" s\")\n",
    "\n",
    "feature_df.to_csv(\"output/feature_df.csv\", sep=\";\", index=False)\n",
    "\n",
    "#To create dataset backup\n",
    "feature_df.to_csv(\"output/feature_df_bak_\" + str(dataset_version) + \".csv\", sep=\";\", index=False)\n",
    "dataset_version += 1\n",
    "\n",
    "feature_df.head()"
   ],
   "metadata": {
    "collapsed": false,
    "pycharm": {
     "name": "#%%\n"
    }
   }
  },
  {
   "cell_type": "code",
   "execution_count": 66,
   "outputs": [
    {
     "data": {
      "text/plain": "0.0      312\n1.0      934\n2.0     1586\n3.0     2044\n4.0     2380\n5.0     2515\n6.0     2701\n7.0     2922\n8.0     3039\n9.0     3249\n10.0    3554\n11.0    3774\n12.0    3876\n13.0    4059\n14.0    4283\n15.0    4503\n16.0    4486\n17.0    4345\n18.0    4200\n19.0    4013\n20.0    3512\n21.0    3254\n22.0    2998\n23.0    2719\n24.0    2396\n25.0    2032\n26.0    1650\n27.0    1362\n28.0    1173\n29.0     922\n30.0     737\n31.0     637\n32.0     513\n33.0     381\n34.0     263\n35.0     193\n36.0     166\n37.0     163\n38.0     107\n39.0      73\n40.0      45\n41.0      33\n42.0      31\n43.0      18\n44.0      13\nName: nbre_patient_urgence, dtype: int64"
     },
     "execution_count": 66,
     "metadata": {},
     "output_type": "execute_result"
    }
   ],
   "source": [
    "feature_df.nbre_patient_urgence.value_counts().sort_index()"
   ],
   "metadata": {
    "collapsed": false,
    "pycharm": {
     "name": "#%%\n"
    }
   }
  },
  {
   "cell_type": "code",
   "execution_count": 67,
   "outputs": [],
   "source": [
    "#Feature occupation_salles_att\n",
    "feature_df.insert(10, \"occupation_salles_att\", np.nan, True)\n",
    "feature_df[\"occupation_salles_att\"] = (feature_df[\"nbre_patient_salle_att_ext\"] + feature_df[\"nbre_patient_salle_att_interne\"]) / feature_df[\"nbre_patient_urgence\"]"
   ],
   "metadata": {
    "collapsed": false,
    "pycharm": {
     "name": "#%%\n"
    }
   }
  },
  {
   "cell_type": "code",
   "execution_count": 68,
   "outputs": [],
   "source": [
    "feature_df[\"occupation_salles_att\"].fillna(0, inplace=True)\n",
    "feature_df[\"occupation_salles_att\"].replace([np.inf], 0, inplace=True)"
   ],
   "metadata": {
    "collapsed": false,
    "pycharm": {
     "name": "#%%\n"
    }
   }
  },
  {
   "cell_type": "code",
   "execution_count": 69,
   "outputs": [
    {
     "data": {
      "text/plain": "   dos_id  age  sexe residence  mode_entree  etat_patient_entree  \\\n0    2226   46     2   81290.0         11.0                    2   \n1    2228   16     1   81100.0         11.0                    2   \n2    2229   63     2   81700.0         11.0                    2   \n3    2230   38     1   81100.0         11.0                    2   \n4    2231   55     2   81290.0         11.0                    2   \n\n  motif_admission  score_tri  occupation_lits  nbre_patient_urgence  ...  \\\n0     Non precise          4         0.890957                   0.0  ...   \n1     Non precise          5         0.904255                   1.0  ...   \n2     Non precise          5         0.906915                   2.0  ...   \n3     Non precise          5         0.906915                   3.0  ...   \n4     Non precise          5         0.909574                   4.0  ...   \n\n   nbre_patient_entre_finPEC_sortie  nbre_patient_UHCD  UHCD_saturee  \\\n0                               0.0                 11             1   \n1                               0.0                 11             1   \n2                               0.0                 11             1   \n3                               0.0                 11             1   \n4                               0.0                 11             1   \n\n   est_venu_3_derniers_mois  est_venu_derniers_48h  \\\n0                       NaN                    NaN   \n1                       NaN                    NaN   \n2                       NaN                    NaN   \n3                       NaN                    NaN   \n4                       NaN                    NaN   \n\n   moyenne_dynamique_temps_attente  date_arrivee_patient  wait_time_ext  \\\n0                              NaN      2019-01-22 08:46            NaN   \n1                              NaN      2019-01-22 09:00            NaN   \n2                              NaN      2019-01-22 09:06            NaN   \n3                              NaN      2019-01-22 09:15            NaN   \n4                              NaN      2019-01-22 09:20            NaN   \n\n   wait_time_interne  wait_time  \n0                NaN        NaN  \n1                NaN        NaN  \n2                NaN        NaN  \n3                NaN        NaN  \n4                NaN        NaN  \n\n[5 rows x 33 columns]",
      "text/html": "<div>\n<style scoped>\n    .dataframe tbody tr th:only-of-type {\n        vertical-align: middle;\n    }\n\n    .dataframe tbody tr th {\n        vertical-align: top;\n    }\n\n    .dataframe thead th {\n        text-align: right;\n    }\n</style>\n<table border=\"1\" class=\"dataframe\">\n  <thead>\n    <tr style=\"text-align: right;\">\n      <th></th>\n      <th>dos_id</th>\n      <th>age</th>\n      <th>sexe</th>\n      <th>residence</th>\n      <th>mode_entree</th>\n      <th>etat_patient_entree</th>\n      <th>motif_admission</th>\n      <th>score_tri</th>\n      <th>occupation_lits</th>\n      <th>nbre_patient_urgence</th>\n      <th>...</th>\n      <th>nbre_patient_entre_finPEC_sortie</th>\n      <th>nbre_patient_UHCD</th>\n      <th>UHCD_saturee</th>\n      <th>est_venu_3_derniers_mois</th>\n      <th>est_venu_derniers_48h</th>\n      <th>moyenne_dynamique_temps_attente</th>\n      <th>date_arrivee_patient</th>\n      <th>wait_time_ext</th>\n      <th>wait_time_interne</th>\n      <th>wait_time</th>\n    </tr>\n  </thead>\n  <tbody>\n    <tr>\n      <th>0</th>\n      <td>2226</td>\n      <td>46</td>\n      <td>2</td>\n      <td>81290.0</td>\n      <td>11.0</td>\n      <td>2</td>\n      <td>Non precise</td>\n      <td>4</td>\n      <td>0.890957</td>\n      <td>0.0</td>\n      <td>...</td>\n      <td>0.0</td>\n      <td>11</td>\n      <td>1</td>\n      <td>NaN</td>\n      <td>NaN</td>\n      <td>NaN</td>\n      <td>2019-01-22 08:46</td>\n      <td>NaN</td>\n      <td>NaN</td>\n      <td>NaN</td>\n    </tr>\n    <tr>\n      <th>1</th>\n      <td>2228</td>\n      <td>16</td>\n      <td>1</td>\n      <td>81100.0</td>\n      <td>11.0</td>\n      <td>2</td>\n      <td>Non precise</td>\n      <td>5</td>\n      <td>0.904255</td>\n      <td>1.0</td>\n      <td>...</td>\n      <td>0.0</td>\n      <td>11</td>\n      <td>1</td>\n      <td>NaN</td>\n      <td>NaN</td>\n      <td>NaN</td>\n      <td>2019-01-22 09:00</td>\n      <td>NaN</td>\n      <td>NaN</td>\n      <td>NaN</td>\n    </tr>\n    <tr>\n      <th>2</th>\n      <td>2229</td>\n      <td>63</td>\n      <td>2</td>\n      <td>81700.0</td>\n      <td>11.0</td>\n      <td>2</td>\n      <td>Non precise</td>\n      <td>5</td>\n      <td>0.906915</td>\n      <td>2.0</td>\n      <td>...</td>\n      <td>0.0</td>\n      <td>11</td>\n      <td>1</td>\n      <td>NaN</td>\n      <td>NaN</td>\n      <td>NaN</td>\n      <td>2019-01-22 09:06</td>\n      <td>NaN</td>\n      <td>NaN</td>\n      <td>NaN</td>\n    </tr>\n    <tr>\n      <th>3</th>\n      <td>2230</td>\n      <td>38</td>\n      <td>1</td>\n      <td>81100.0</td>\n      <td>11.0</td>\n      <td>2</td>\n      <td>Non precise</td>\n      <td>5</td>\n      <td>0.906915</td>\n      <td>3.0</td>\n      <td>...</td>\n      <td>0.0</td>\n      <td>11</td>\n      <td>1</td>\n      <td>NaN</td>\n      <td>NaN</td>\n      <td>NaN</td>\n      <td>2019-01-22 09:15</td>\n      <td>NaN</td>\n      <td>NaN</td>\n      <td>NaN</td>\n    </tr>\n    <tr>\n      <th>4</th>\n      <td>2231</td>\n      <td>55</td>\n      <td>2</td>\n      <td>81290.0</td>\n      <td>11.0</td>\n      <td>2</td>\n      <td>Non precise</td>\n      <td>5</td>\n      <td>0.909574</td>\n      <td>4.0</td>\n      <td>...</td>\n      <td>0.0</td>\n      <td>11</td>\n      <td>1</td>\n      <td>NaN</td>\n      <td>NaN</td>\n      <td>NaN</td>\n      <td>2019-01-22 09:20</td>\n      <td>NaN</td>\n      <td>NaN</td>\n      <td>NaN</td>\n    </tr>\n  </tbody>\n</table>\n<p>5 rows × 33 columns</p>\n</div>"
     },
     "execution_count": 69,
     "metadata": {},
     "output_type": "execute_result"
    }
   ],
   "source": [
    "feature_df.to_csv(\"output/feature_df.csv\", sep=\";\", index=False)\n",
    "\n",
    "#To create dataset backup\n",
    "feature_df.to_csv(\"output/feature_df_bak_\" + str(dataset_version) + \".csv\", sep=\";\", index=False)\n",
    "dataset_version += 1\n",
    "\n",
    "feature_df.head()"
   ],
   "metadata": {
    "collapsed": false,
    "pycharm": {
     "name": "#%%\n"
    }
   }
  },
  {
   "cell_type": "code",
   "execution_count": 70,
   "outputs": [
    {
     "data": {
      "text/plain": "0.000000    9172\n0.041667       1\n0.045455       4\n0.047619       4\n0.050000       8\n            ... \n3.250000       1\n3.333333       1\n4.333333       1\n4.600000       1\n5.500000       1\nName: occupation_salles_att, Length: 407, dtype: int64"
     },
     "execution_count": 70,
     "metadata": {},
     "output_type": "execute_result"
    }
   ],
   "source": [
    "feature_df[\"occupation_salles_att\"].value_counts().sort_index()"
   ],
   "metadata": {
    "collapsed": false,
    "pycharm": {
     "name": "#%%\n"
    }
   }
  },
  {
   "cell_type": "code",
   "execution_count": 71,
   "outputs": [],
   "source": [
    "#Features wait_time (s) caluculation\n",
    "\n",
    "import numpy as np\n",
    "import pandas as pd\n",
    "from datetime import datetime\n"
   ],
   "metadata": {
    "collapsed": false,
    "pycharm": {
     "name": "#%%\n"
    }
   }
  },
  {
   "cell_type": "code",
   "execution_count": 72,
   "outputs": [],
   "source": [
    "sorted_data = pd.read_csv(\"output/sorted_data.csv\", sep=\";\", low_memory=False)\n",
    "sorted_data = sorted_data.sort_values(by=[\"dos_id\"])\n",
    "sorted_data.to_csv(\"output/sorted_data.csv\", sep=\";\", index=False)\n",
    "sorted_data = pd.read_csv(\"output/sorted_data.csv\", sep=\";\", low_memory=False)"
   ],
   "metadata": {
    "collapsed": false,
    "pycharm": {
     "name": "#%%\n"
    }
   }
  },
  {
   "cell_type": "code",
   "execution_count": 73,
   "outputs": [
    {
     "data": {
      "text/plain": "   dos_id  age  sexe code postal  nbre_patient  ven_etat ven_motifAdmission  \\\n0    2226   46     2     81290.0           335         2        Non precise   \n1    2228   16     1     81100.0           340         2        Non precise   \n2    2229   63     2     81700.0           341         2        Non precise   \n3    2230   38     1     81100.0           341         2        Non precise   \n4    2231   55     2     81290.0           342         2        Non precise   \n\n   gravité  ven_modeEntree  ven_modeSortie  ... mode_sortie_id    dest  \\\n0        4            11.0            64.0  ...              3  2701.0   \n1        5            11.0            64.0  ...              1     NaN   \n2        5            11.0            64.0  ...              3  2701.0   \n3        5            11.0            64.0  ...              1     NaN   \n4        5            11.0            64.0  ...              1     NaN   \n\n            ven_admission              ven_sortie  ven_date_sortie_reelle  \\\n0  2019-01-22 08:46:00.00  2019-01-23 13:00:00.00  2019-01-23 13:00:00.00   \n1  2019-01-22 09:00:00.00  2019-01-22 10:06:00.00  2019-01-22 10:06:00.00   \n2  2019-01-22 09:06:00.00  2019-01-24 11:27:00.00  2019-01-24 11:27:00.00   \n3  2019-01-22 09:15:00.00  2019-01-22 11:29:00.00  2019-01-22 11:29:00.00   \n4  2019-01-22 09:20:00.00  2019-01-22 10:45:00.00  2019-01-22 10:45:00.00   \n\n  nbre_pat_uhcd valid_ts_tri intern_wait_time_calculable intern_wait_time_deb  \\\n0            11          1.0                         1.0  2019-01-22 09:13:00   \n1            11          1.0                         1.0  2019-01-22 09:29:00   \n2            11          1.0                         1.0  2019-01-22 09:31:00   \n3            11          1.0                         1.0  2019-01-22 09:40:00   \n4            11          1.0                         1.0  2019-01-22 09:43:00   \n\n  intern_wait_time_end  \n0  2019-01-22 09:13:00  \n1  2019-01-22 09:29:00  \n2  2019-01-22 10:08:00  \n3  2019-01-22 10:09:00  \n4  2019-01-22 10:10:00  \n\n[5 rows x 48 columns]",
      "text/html": "<div>\n<style scoped>\n    .dataframe tbody tr th:only-of-type {\n        vertical-align: middle;\n    }\n\n    .dataframe tbody tr th {\n        vertical-align: top;\n    }\n\n    .dataframe thead th {\n        text-align: right;\n    }\n</style>\n<table border=\"1\" class=\"dataframe\">\n  <thead>\n    <tr style=\"text-align: right;\">\n      <th></th>\n      <th>dos_id</th>\n      <th>age</th>\n      <th>sexe</th>\n      <th>code postal</th>\n      <th>nbre_patient</th>\n      <th>ven_etat</th>\n      <th>ven_motifAdmission</th>\n      <th>gravité</th>\n      <th>ven_modeEntree</th>\n      <th>ven_modeSortie</th>\n      <th>...</th>\n      <th>mode_sortie_id</th>\n      <th>dest</th>\n      <th>ven_admission</th>\n      <th>ven_sortie</th>\n      <th>ven_date_sortie_reelle</th>\n      <th>nbre_pat_uhcd</th>\n      <th>valid_ts_tri</th>\n      <th>intern_wait_time_calculable</th>\n      <th>intern_wait_time_deb</th>\n      <th>intern_wait_time_end</th>\n    </tr>\n  </thead>\n  <tbody>\n    <tr>\n      <th>0</th>\n      <td>2226</td>\n      <td>46</td>\n      <td>2</td>\n      <td>81290.0</td>\n      <td>335</td>\n      <td>2</td>\n      <td>Non precise</td>\n      <td>4</td>\n      <td>11.0</td>\n      <td>64.0</td>\n      <td>...</td>\n      <td>3</td>\n      <td>2701.0</td>\n      <td>2019-01-22 08:46:00.00</td>\n      <td>2019-01-23 13:00:00.00</td>\n      <td>2019-01-23 13:00:00.00</td>\n      <td>11</td>\n      <td>1.0</td>\n      <td>1.0</td>\n      <td>2019-01-22 09:13:00</td>\n      <td>2019-01-22 09:13:00</td>\n    </tr>\n    <tr>\n      <th>1</th>\n      <td>2228</td>\n      <td>16</td>\n      <td>1</td>\n      <td>81100.0</td>\n      <td>340</td>\n      <td>2</td>\n      <td>Non precise</td>\n      <td>5</td>\n      <td>11.0</td>\n      <td>64.0</td>\n      <td>...</td>\n      <td>1</td>\n      <td>NaN</td>\n      <td>2019-01-22 09:00:00.00</td>\n      <td>2019-01-22 10:06:00.00</td>\n      <td>2019-01-22 10:06:00.00</td>\n      <td>11</td>\n      <td>1.0</td>\n      <td>1.0</td>\n      <td>2019-01-22 09:29:00</td>\n      <td>2019-01-22 09:29:00</td>\n    </tr>\n    <tr>\n      <th>2</th>\n      <td>2229</td>\n      <td>63</td>\n      <td>2</td>\n      <td>81700.0</td>\n      <td>341</td>\n      <td>2</td>\n      <td>Non precise</td>\n      <td>5</td>\n      <td>11.0</td>\n      <td>64.0</td>\n      <td>...</td>\n      <td>3</td>\n      <td>2701.0</td>\n      <td>2019-01-22 09:06:00.00</td>\n      <td>2019-01-24 11:27:00.00</td>\n      <td>2019-01-24 11:27:00.00</td>\n      <td>11</td>\n      <td>1.0</td>\n      <td>1.0</td>\n      <td>2019-01-22 09:31:00</td>\n      <td>2019-01-22 10:08:00</td>\n    </tr>\n    <tr>\n      <th>3</th>\n      <td>2230</td>\n      <td>38</td>\n      <td>1</td>\n      <td>81100.0</td>\n      <td>341</td>\n      <td>2</td>\n      <td>Non precise</td>\n      <td>5</td>\n      <td>11.0</td>\n      <td>64.0</td>\n      <td>...</td>\n      <td>1</td>\n      <td>NaN</td>\n      <td>2019-01-22 09:15:00.00</td>\n      <td>2019-01-22 11:29:00.00</td>\n      <td>2019-01-22 11:29:00.00</td>\n      <td>11</td>\n      <td>1.0</td>\n      <td>1.0</td>\n      <td>2019-01-22 09:40:00</td>\n      <td>2019-01-22 10:09:00</td>\n    </tr>\n    <tr>\n      <th>4</th>\n      <td>2231</td>\n      <td>55</td>\n      <td>2</td>\n      <td>81290.0</td>\n      <td>342</td>\n      <td>2</td>\n      <td>Non precise</td>\n      <td>5</td>\n      <td>11.0</td>\n      <td>64.0</td>\n      <td>...</td>\n      <td>1</td>\n      <td>NaN</td>\n      <td>2019-01-22 09:20:00.00</td>\n      <td>2019-01-22 10:45:00.00</td>\n      <td>2019-01-22 10:45:00.00</td>\n      <td>11</td>\n      <td>1.0</td>\n      <td>1.0</td>\n      <td>2019-01-22 09:43:00</td>\n      <td>2019-01-22 10:10:00</td>\n    </tr>\n  </tbody>\n</table>\n<p>5 rows × 48 columns</p>\n</div>"
     },
     "execution_count": 73,
     "metadata": {},
     "output_type": "execute_result"
    }
   ],
   "source": [
    "sorted_data.head()"
   ],
   "metadata": {
    "collapsed": false,
    "pycharm": {
     "name": "#%%\n"
    }
   }
  },
  {
   "cell_type": "code",
   "execution_count": 74,
   "outputs": [
    {
     "data": {
      "text/plain": "count                88166\nunique               87650\ntop       2021-04-08 18:09\nfreq                     3\nName: date_arrivee_patient, dtype: object"
     },
     "execution_count": 74,
     "metadata": {},
     "output_type": "execute_result"
    }
   ],
   "source": [
    "sorted_data[\"date_arrivee_patient\"].describe()"
   ],
   "metadata": {
    "collapsed": false,
    "pycharm": {
     "name": "#%%\n"
    }
   }
  },
  {
   "cell_type": "code",
   "execution_count": 75,
   "outputs": [
    {
     "name": "stdout",
     "output_type": "stream",
     "text": [
      "<class 'pandas.core.series.Series'>\n",
      "RangeIndex: 88166 entries, 0 to 88165\n",
      "Series name: date_arrivee_patient\n",
      "Non-Null Count  Dtype \n",
      "--------------  ----- \n",
      "88166 non-null  object\n",
      "dtypes: object(1)\n",
      "memory usage: 688.9+ KB\n"
     ]
    }
   ],
   "source": [
    "sorted_data[\"date_arrivee_patient\"].info()"
   ],
   "metadata": {
    "collapsed": false,
    "pycharm": {
     "name": "#%%\n"
    }
   }
  },
  {
   "cell_type": "code",
   "execution_count": 76,
   "outputs": [],
   "source": [
    "#date_arrivee_patient = datetime.strptime(sorted_data.loc[0, \"date_arrivee_patient\"], \"%Y-%m-%d %H:%M\")"
   ],
   "metadata": {
    "collapsed": false,
    "pycharm": {
     "name": "#%%\n"
    }
   }
  },
  {
   "cell_type": "code",
   "execution_count": 77,
   "outputs": [
    {
     "data": {
      "text/plain": "   dos_id  age  sexe residence  mode_entree  etat_patient_entree  \\\n0    2226   46     2   81290.0         11.0                    2   \n1    2228   16     1   81100.0         11.0                    2   \n2    2229   63     2   81700.0         11.0                    2   \n3    2230   38     1   81100.0         11.0                    2   \n4    2231   55     2   81290.0         11.0                    2   \n\n  motif_admission  score_tri  occupation_lits  nbre_patient_urgence  ...  \\\n0     Non precise          4         0.890957                   0.0  ...   \n1     Non precise          5         0.904255                   1.0  ...   \n2     Non precise          5         0.906915                   2.0  ...   \n3     Non precise          5         0.906915                   3.0  ...   \n4     Non precise          5         0.909574                   4.0  ...   \n\n   nbre_patient_entre_finPEC_sortie  nbre_patient_UHCD  UHCD_saturee  \\\n0                               0.0                 11             1   \n1                               0.0                 11             1   \n2                               0.0                 11             1   \n3                               0.0                 11             1   \n4                               0.0                 11             1   \n\n   est_venu_3_derniers_mois  est_venu_derniers_48h  \\\n0                       NaN                    NaN   \n1                       NaN                    NaN   \n2                       NaN                    NaN   \n3                       NaN                    NaN   \n4                       NaN                    NaN   \n\n   moyenne_dynamique_temps_attente  date_arrivee_patient  wait_time_ext  \\\n0                              NaN      2019-01-22 08:46            NaN   \n1                              NaN      2019-01-22 09:00            NaN   \n2                              NaN      2019-01-22 09:06            NaN   \n3                              NaN      2019-01-22 09:15            NaN   \n4                              NaN      2019-01-22 09:20            NaN   \n\n   wait_time_interne  wait_time  \n0                NaN        NaN  \n1                NaN        NaN  \n2                NaN        NaN  \n3                NaN        NaN  \n4                NaN        NaN  \n\n[5 rows x 33 columns]",
      "text/html": "<div>\n<style scoped>\n    .dataframe tbody tr th:only-of-type {\n        vertical-align: middle;\n    }\n\n    .dataframe tbody tr th {\n        vertical-align: top;\n    }\n\n    .dataframe thead th {\n        text-align: right;\n    }\n</style>\n<table border=\"1\" class=\"dataframe\">\n  <thead>\n    <tr style=\"text-align: right;\">\n      <th></th>\n      <th>dos_id</th>\n      <th>age</th>\n      <th>sexe</th>\n      <th>residence</th>\n      <th>mode_entree</th>\n      <th>etat_patient_entree</th>\n      <th>motif_admission</th>\n      <th>score_tri</th>\n      <th>occupation_lits</th>\n      <th>nbre_patient_urgence</th>\n      <th>...</th>\n      <th>nbre_patient_entre_finPEC_sortie</th>\n      <th>nbre_patient_UHCD</th>\n      <th>UHCD_saturee</th>\n      <th>est_venu_3_derniers_mois</th>\n      <th>est_venu_derniers_48h</th>\n      <th>moyenne_dynamique_temps_attente</th>\n      <th>date_arrivee_patient</th>\n      <th>wait_time_ext</th>\n      <th>wait_time_interne</th>\n      <th>wait_time</th>\n    </tr>\n  </thead>\n  <tbody>\n    <tr>\n      <th>0</th>\n      <td>2226</td>\n      <td>46</td>\n      <td>2</td>\n      <td>81290.0</td>\n      <td>11.0</td>\n      <td>2</td>\n      <td>Non precise</td>\n      <td>4</td>\n      <td>0.890957</td>\n      <td>0.0</td>\n      <td>...</td>\n      <td>0.0</td>\n      <td>11</td>\n      <td>1</td>\n      <td>NaN</td>\n      <td>NaN</td>\n      <td>NaN</td>\n      <td>2019-01-22 08:46</td>\n      <td>NaN</td>\n      <td>NaN</td>\n      <td>NaN</td>\n    </tr>\n    <tr>\n      <th>1</th>\n      <td>2228</td>\n      <td>16</td>\n      <td>1</td>\n      <td>81100.0</td>\n      <td>11.0</td>\n      <td>2</td>\n      <td>Non precise</td>\n      <td>5</td>\n      <td>0.904255</td>\n      <td>1.0</td>\n      <td>...</td>\n      <td>0.0</td>\n      <td>11</td>\n      <td>1</td>\n      <td>NaN</td>\n      <td>NaN</td>\n      <td>NaN</td>\n      <td>2019-01-22 09:00</td>\n      <td>NaN</td>\n      <td>NaN</td>\n      <td>NaN</td>\n    </tr>\n    <tr>\n      <th>2</th>\n      <td>2229</td>\n      <td>63</td>\n      <td>2</td>\n      <td>81700.0</td>\n      <td>11.0</td>\n      <td>2</td>\n      <td>Non precise</td>\n      <td>5</td>\n      <td>0.906915</td>\n      <td>2.0</td>\n      <td>...</td>\n      <td>0.0</td>\n      <td>11</td>\n      <td>1</td>\n      <td>NaN</td>\n      <td>NaN</td>\n      <td>NaN</td>\n      <td>2019-01-22 09:06</td>\n      <td>NaN</td>\n      <td>NaN</td>\n      <td>NaN</td>\n    </tr>\n    <tr>\n      <th>3</th>\n      <td>2230</td>\n      <td>38</td>\n      <td>1</td>\n      <td>81100.0</td>\n      <td>11.0</td>\n      <td>2</td>\n      <td>Non precise</td>\n      <td>5</td>\n      <td>0.906915</td>\n      <td>3.0</td>\n      <td>...</td>\n      <td>0.0</td>\n      <td>11</td>\n      <td>1</td>\n      <td>NaN</td>\n      <td>NaN</td>\n      <td>NaN</td>\n      <td>2019-01-22 09:15</td>\n      <td>NaN</td>\n      <td>NaN</td>\n      <td>NaN</td>\n    </tr>\n    <tr>\n      <th>4</th>\n      <td>2231</td>\n      <td>55</td>\n      <td>2</td>\n      <td>81290.0</td>\n      <td>11.0</td>\n      <td>2</td>\n      <td>Non precise</td>\n      <td>5</td>\n      <td>0.909574</td>\n      <td>4.0</td>\n      <td>...</td>\n      <td>0.0</td>\n      <td>11</td>\n      <td>1</td>\n      <td>NaN</td>\n      <td>NaN</td>\n      <td>NaN</td>\n      <td>2019-01-22 09:20</td>\n      <td>NaN</td>\n      <td>NaN</td>\n      <td>NaN</td>\n    </tr>\n  </tbody>\n</table>\n<p>5 rows × 33 columns</p>\n</div>"
     },
     "execution_count": 77,
     "metadata": {},
     "output_type": "execute_result"
    }
   ],
   "source": [
    "feature_df = feature_df.sort_values(by=[\"dos_id\"])\n",
    "feature_df.to_csv(\"output/feature_df.csv\", sep=\";\", index=False)\n",
    "feature_df = pd.read_csv(\"output/feature_df.csv\", sep=\";\", low_memory=False)\n",
    "feature_df.head()"
   ],
   "metadata": {
    "collapsed": false,
    "pycharm": {
     "name": "#%%\n"
    }
   }
  },
  {
   "cell_type": "code",
   "execution_count": 78,
   "outputs": [],
   "source": [
    "from datetime import datetime, timedelta\n",
    "\n",
    "\n",
    "def calulate_wait_times_per_date(row, dos_id, moy_dyn_time):\n",
    "    date_arrivee_patient = datetime.strptime(sorted_data.loc[row, \"date_arrivee_patient\"], \"%Y-%m-%d %H:%M\")\n",
    "    ts_tri = datetime.strptime(sorted_data.loc[row, \"TS_tri\"][:-4], \"%Y-%m-%d %H:%M:%S\")\n",
    "\n",
    "    wait_time_interne_deb = datetime.strptime(sorted_data.loc[row, \"intern_wait_time_deb\"][:-3], \"%Y-%m-%d %H:%M\")\n",
    "    wait_time_interne_end = datetime.strptime(sorted_data.loc[row, \"intern_wait_time_end\"][:-3], \"%Y-%m-%d %H:%M\")\n",
    "\n",
    "    fin_loc_iao = sorted_data.loc[row, 'fin_loc_iao']\n",
    "    h_debut_att = sorted_data.loc[row, 'h_debut_att']\n",
    "\n",
    "    if wait_time_interne_deb > wait_time_interne_end:\n",
    "        if not pd.isnull(h_debut_att):\n",
    "            wait_time_interne_deb = datetime.strptime(h_debut_att, \"%Y-%m-%d %H:%M\")\n",
    "        elif not pd.isnull(fin_loc_iao):\n",
    "            wait_time_interne_deb = datetime.strptime(fin_loc_iao, \"%Y-%m-%d %H:%M\")\n",
    "    if wait_time_interne_deb > wait_time_interne_end:\n",
    "        wait_time_interne_deb = wait_time_interne_end\n",
    "\n",
    "    if dos_id == sorted_data.loc[row, 'dos_id']:\n",
    "        wait_time_ext = (ts_tri - date_arrivee_patient).total_seconds() // 60\n",
    "        wait_time_interne = (wait_time_interne_end - wait_time_interne_deb).total_seconds() // 60\n",
    "\n",
    "        feature_df.loc[row, \"wait_time_ext\"] = wait_time_ext\n",
    "        feature_df.loc[row, \"wait_time_interne\"] = wait_time_interne\n",
    "\n",
    "        wait_time = wait_time_ext + wait_time_interne\n",
    "        feature_df.loc[row, \"wait_time\"] = wait_time\n",
    "\n",
    "        #feature moyenne_dynamique_temps_attente calculation\n",
    "        if len(moy_dyn_time) < 15:\n",
    "            moy_dyn_time.append(int(wait_time))\n",
    "            feature_df.loc[row, \"moyenne_dynamique_temps_attente\"] = np.mean(moy_dyn_time)\n",
    "        else:\n",
    "            moy_dyn_time = moy_dyn_time[1:]\n",
    "            moy_dyn_time.append(int(wait_time))\n",
    "            feature_df.loc[row, \"moyenne_dynamique_temps_attente\"] = np.mean(moy_dyn_time)\n",
    "\n",
    "    else:\n",
    "        print(\"dos_id order not valid!\")\n",
    "\n",
    "    return moy_dyn_time"
   ],
   "metadata": {
    "collapsed": false,
    "pycharm": {
     "name": "#%%\n"
    }
   }
  },
  {
   "cell_type": "code",
   "execution_count": 79,
   "outputs": [
    {
     "name": "stdout",
     "output_type": "stream",
     "text": [
      "\n",
      "*******************************************************************\n",
      "row_i:  0\n",
      "Partial time of execution:  0.0030057430267333984  s\n",
      "moy_dyn_time_list:  [27]\n",
      "******************************************************************\n",
      "\n",
      "\n",
      "*******************************************************************\n",
      "row_i:  10000\n",
      "Partial time of execution:  7.547046661376953  s\n",
      "moy_dyn_time_list:  [29, 75, 69, 27, 110, 81, 72, 82, 16, 12, 11, 10, 5, 7, 5]\n",
      "******************************************************************\n",
      "\n",
      "\n",
      "*******************************************************************\n",
      "row_i:  20000\n",
      "Partial time of execution:  14.23062801361084  s\n",
      "moy_dyn_time_list:  [141, 170, 145, 170, 9, 291, 147, 16, 132, 151, 160, 118, 71, 138, 121]\n",
      "******************************************************************\n",
      "\n",
      "\n",
      "*******************************************************************\n",
      "row_i:  30000\n",
      "Partial time of execution:  19.247760772705078  s\n",
      "moy_dyn_time_list:  [364, 29, 116, 221, 11, 8, 6, 3, 9, 4, 8, 69, 4, 80, 17]\n",
      "******************************************************************\n",
      "\n",
      "\n",
      "*******************************************************************\n",
      "row_i:  40000\n",
      "Partial time of execution:  23.965007305145264  s\n",
      "moy_dyn_time_list:  [141, 199, 296, 20, 27, 118, 164, 82, 17, 106, 143, 83, 143, 256, 142]\n",
      "******************************************************************\n",
      "\n",
      "\n",
      "*******************************************************************\n",
      "row_i:  50000\n",
      "Partial time of execution:  29.45671820640564  s\n",
      "moy_dyn_time_list:  [11, 13, 10, 8, 28, 6, 78, 23, 20, 84, 141, 82, 204, 71, 65]\n",
      "******************************************************************\n",
      "\n",
      "\n",
      "*******************************************************************\n",
      "row_i:  60000\n",
      "Partial time of execution:  34.148056745529175  s\n",
      "moy_dyn_time_list:  [160, 152, 150, 70, 15, 98, 10, 136, 122, 14, 8, 13, 9, 9, 15]\n",
      "******************************************************************\n",
      "\n",
      "\n",
      "*******************************************************************\n",
      "row_i:  70000\n",
      "Partial time of execution:  39.20334482192993  s\n",
      "moy_dyn_time_list:  [67, 65, 11, 10, 13, 11, 44, 10, 23, 15, 10, 8, 8, 66, 33]\n",
      "******************************************************************\n",
      "\n",
      "\n",
      "*******************************************************************\n",
      "row_i:  80000\n",
      "Partial time of execution:  44.577030181884766  s\n",
      "moy_dyn_time_list:  [125, 20, 13, 65, 151, 213, 17, 134, 65, 108, 53, 124, 133, 122, 146]\n",
      "******************************************************************\n",
      "\n",
      "The time of execution of above program is : 48.68958568572998  s\n"
     ]
    },
    {
     "data": {
      "text/plain": "   dos_id  age  sexe residence  mode_entree  etat_patient_entree  \\\n0    2226   46     2   81290.0         11.0                    2   \n1    2228   16     1   81100.0         11.0                    2   \n2    2229   63     2   81700.0         11.0                    2   \n3    2230   38     1   81100.0         11.0                    2   \n4    2231   55     2   81290.0         11.0                    2   \n\n  motif_admission  score_tri  occupation_lits  nbre_patient_urgence  ...  \\\n0     Non precise          4         0.890957                   0.0  ...   \n1     Non precise          5         0.904255                   1.0  ...   \n2     Non precise          5         0.906915                   2.0  ...   \n3     Non precise          5         0.906915                   3.0  ...   \n4     Non precise          5         0.909574                   4.0  ...   \n\n   nbre_patient_entre_finPEC_sortie  nbre_patient_UHCD  UHCD_saturee  \\\n0                               0.0                 11             1   \n1                               0.0                 11             1   \n2                               0.0                 11             1   \n3                               0.0                 11             1   \n4                               0.0                 11             1   \n\n   est_venu_3_derniers_mois  est_venu_derniers_48h  \\\n0                       NaN                    NaN   \n1                       NaN                    NaN   \n2                       NaN                    NaN   \n3                       NaN                    NaN   \n4                       NaN                    NaN   \n\n   moyenne_dynamique_temps_attente  date_arrivee_patient  wait_time_ext  \\\n0                        27.000000      2019-01-22 08:46           27.0   \n1                        28.000000      2019-01-22 09:00           29.0   \n2                        39.333333      2019-01-22 09:06           25.0   \n3                        43.000000      2019-01-22 09:15           25.0   \n4                        44.400000      2019-01-22 09:20           23.0   \n\n   wait_time_interne  wait_time  \n0                0.0       27.0  \n1                0.0       29.0  \n2               37.0       62.0  \n3               29.0       54.0  \n4               27.0       50.0  \n\n[5 rows x 33 columns]",
      "text/html": "<div>\n<style scoped>\n    .dataframe tbody tr th:only-of-type {\n        vertical-align: middle;\n    }\n\n    .dataframe tbody tr th {\n        vertical-align: top;\n    }\n\n    .dataframe thead th {\n        text-align: right;\n    }\n</style>\n<table border=\"1\" class=\"dataframe\">\n  <thead>\n    <tr style=\"text-align: right;\">\n      <th></th>\n      <th>dos_id</th>\n      <th>age</th>\n      <th>sexe</th>\n      <th>residence</th>\n      <th>mode_entree</th>\n      <th>etat_patient_entree</th>\n      <th>motif_admission</th>\n      <th>score_tri</th>\n      <th>occupation_lits</th>\n      <th>nbre_patient_urgence</th>\n      <th>...</th>\n      <th>nbre_patient_entre_finPEC_sortie</th>\n      <th>nbre_patient_UHCD</th>\n      <th>UHCD_saturee</th>\n      <th>est_venu_3_derniers_mois</th>\n      <th>est_venu_derniers_48h</th>\n      <th>moyenne_dynamique_temps_attente</th>\n      <th>date_arrivee_patient</th>\n      <th>wait_time_ext</th>\n      <th>wait_time_interne</th>\n      <th>wait_time</th>\n    </tr>\n  </thead>\n  <tbody>\n    <tr>\n      <th>0</th>\n      <td>2226</td>\n      <td>46</td>\n      <td>2</td>\n      <td>81290.0</td>\n      <td>11.0</td>\n      <td>2</td>\n      <td>Non precise</td>\n      <td>4</td>\n      <td>0.890957</td>\n      <td>0.0</td>\n      <td>...</td>\n      <td>0.0</td>\n      <td>11</td>\n      <td>1</td>\n      <td>NaN</td>\n      <td>NaN</td>\n      <td>27.000000</td>\n      <td>2019-01-22 08:46</td>\n      <td>27.0</td>\n      <td>0.0</td>\n      <td>27.0</td>\n    </tr>\n    <tr>\n      <th>1</th>\n      <td>2228</td>\n      <td>16</td>\n      <td>1</td>\n      <td>81100.0</td>\n      <td>11.0</td>\n      <td>2</td>\n      <td>Non precise</td>\n      <td>5</td>\n      <td>0.904255</td>\n      <td>1.0</td>\n      <td>...</td>\n      <td>0.0</td>\n      <td>11</td>\n      <td>1</td>\n      <td>NaN</td>\n      <td>NaN</td>\n      <td>28.000000</td>\n      <td>2019-01-22 09:00</td>\n      <td>29.0</td>\n      <td>0.0</td>\n      <td>29.0</td>\n    </tr>\n    <tr>\n      <th>2</th>\n      <td>2229</td>\n      <td>63</td>\n      <td>2</td>\n      <td>81700.0</td>\n      <td>11.0</td>\n      <td>2</td>\n      <td>Non precise</td>\n      <td>5</td>\n      <td>0.906915</td>\n      <td>2.0</td>\n      <td>...</td>\n      <td>0.0</td>\n      <td>11</td>\n      <td>1</td>\n      <td>NaN</td>\n      <td>NaN</td>\n      <td>39.333333</td>\n      <td>2019-01-22 09:06</td>\n      <td>25.0</td>\n      <td>37.0</td>\n      <td>62.0</td>\n    </tr>\n    <tr>\n      <th>3</th>\n      <td>2230</td>\n      <td>38</td>\n      <td>1</td>\n      <td>81100.0</td>\n      <td>11.0</td>\n      <td>2</td>\n      <td>Non precise</td>\n      <td>5</td>\n      <td>0.906915</td>\n      <td>3.0</td>\n      <td>...</td>\n      <td>0.0</td>\n      <td>11</td>\n      <td>1</td>\n      <td>NaN</td>\n      <td>NaN</td>\n      <td>43.000000</td>\n      <td>2019-01-22 09:15</td>\n      <td>25.0</td>\n      <td>29.0</td>\n      <td>54.0</td>\n    </tr>\n    <tr>\n      <th>4</th>\n      <td>2231</td>\n      <td>55</td>\n      <td>2</td>\n      <td>81290.0</td>\n      <td>11.0</td>\n      <td>2</td>\n      <td>Non precise</td>\n      <td>5</td>\n      <td>0.909574</td>\n      <td>4.0</td>\n      <td>...</td>\n      <td>0.0</td>\n      <td>11</td>\n      <td>1</td>\n      <td>NaN</td>\n      <td>NaN</td>\n      <td>44.400000</td>\n      <td>2019-01-22 09:20</td>\n      <td>23.0</td>\n      <td>27.0</td>\n      <td>50.0</td>\n    </tr>\n  </tbody>\n</table>\n<p>5 rows × 33 columns</p>\n</div>"
     },
     "execution_count": 79,
     "metadata": {},
     "output_type": "execute_result"
    }
   ],
   "source": [
    "import time\n",
    "\n",
    "start = time.time()\n",
    "moy_dyn_time_list = []\n",
    "for row_i in range(len(feature_df)):\n",
    "    moy_dyn_time_list = calulate_wait_times_per_date(row=row_i, dos_id=feature_df.loc[row_i, \"dos_id\"],\n",
    "                                                     moy_dyn_time=moy_dyn_time_list)\n",
    "    #print(\"\\n patient_ven_admission\", feature_df.loc[row_i, \"date_arrivee_patient\"])\n",
    "    #print(index)\n",
    "    #print(\"other_patient_ven_admission\",sorted_data.loc[index, \"date_arrivee_patient\"])\n",
    "    if row_i % 10000 == 0:\n",
    "        print(\"\\n*******************************************************************\")\n",
    "        print(\"row_i: \", row_i)\n",
    "        print(\"Partial time of execution: \", time.time() - start, \" s\")\n",
    "        print(\"moy_dyn_time_list: \", moy_dyn_time_list)\n",
    "        print(\"******************************************************************\\n\")\n",
    "end = time.time()\n",
    "print(\"The time of execution of above program is :\", end - start, \" s\")\n",
    "\n",
    "feature_df.to_csv(\"output/feature_df.csv\", sep=\";\", index=False)\n",
    "\n",
    "#To create dataset backup\n",
    "feature_df.to_csv(\"output/feature_df_bak_\" + str(dataset_version) + \".csv\", sep=\";\", index=False)\n",
    "dataset_version += 1\n",
    "\n",
    "feature_df.head()"
   ],
   "metadata": {
    "collapsed": false,
    "pycharm": {
     "name": "#%%\n"
    }
   }
  },
  {
   "cell_type": "code",
   "execution_count": 80,
   "outputs": [
    {
     "data": {
      "text/plain": "(88166, 33)"
     },
     "execution_count": 80,
     "metadata": {},
     "output_type": "execute_result"
    }
   ],
   "source": [
    "feature_df.shape"
   ],
   "metadata": {
    "collapsed": false,
    "pycharm": {
     "name": "#%%\n"
    }
   }
  },
  {
   "cell_type": "code",
   "execution_count": 81,
   "outputs": [],
   "source": [
    "#Temporal features (day of the week, ...)\n",
    "feature_df.insert(26, \"quarter\", np.nan, True)\n",
    "feature_df.insert(26, \"month\", np.nan, True)\n",
    "feature_df.insert(26, \"week\", np.nan, True)\n",
    "feature_df.insert(26, \"is_weekend\", np.nan, True)\n",
    "feature_df.insert(26, \"day_of_week\", np.nan, True)"
   ],
   "metadata": {
    "collapsed": false,
    "pycharm": {
     "name": "#%%\n"
    }
   }
  },
  {
   "cell_type": "code",
   "execution_count": 82,
   "outputs": [
    {
     "data": {
      "text/plain": "   dos_id  age  sexe residence  mode_entree  etat_patient_entree  \\\n0    2226   46     2   81290.0         11.0                    2   \n1    2228   16     1   81100.0         11.0                    2   \n2    2229   63     2   81700.0         11.0                    2   \n3    2230   38     1   81100.0         11.0                    2   \n4    2231   55     2   81290.0         11.0                    2   \n\n  motif_admission  score_tri  occupation_lits  nbre_patient_urgence  ...  \\\n0     Non precise          4         0.890957                   0.0  ...   \n1     Non precise          5         0.904255                   1.0  ...   \n2     Non precise          5         0.906915                   2.0  ...   \n3     Non precise          5         0.906915                   3.0  ...   \n4     Non precise          5         0.909574                   4.0  ...   \n\n   week  month  quarter  est_venu_3_derniers_mois  est_venu_derniers_48h  \\\n0   NaN    NaN      NaN                       NaN                    NaN   \n1   NaN    NaN      NaN                       NaN                    NaN   \n2   NaN    NaN      NaN                       NaN                    NaN   \n3   NaN    NaN      NaN                       NaN                    NaN   \n4   NaN    NaN      NaN                       NaN                    NaN   \n\n   moyenne_dynamique_temps_attente  date_arrivee_patient  wait_time_ext  \\\n0                        27.000000      2019-01-22 08:46           27.0   \n1                        28.000000      2019-01-22 09:00           29.0   \n2                        39.333333      2019-01-22 09:06           25.0   \n3                        43.000000      2019-01-22 09:15           25.0   \n4                        44.400000      2019-01-22 09:20           23.0   \n\n   wait_time_interne  wait_time  \n0                0.0       27.0  \n1                0.0       29.0  \n2               37.0       62.0  \n3               29.0       54.0  \n4               27.0       50.0  \n\n[5 rows x 38 columns]",
      "text/html": "<div>\n<style scoped>\n    .dataframe tbody tr th:only-of-type {\n        vertical-align: middle;\n    }\n\n    .dataframe tbody tr th {\n        vertical-align: top;\n    }\n\n    .dataframe thead th {\n        text-align: right;\n    }\n</style>\n<table border=\"1\" class=\"dataframe\">\n  <thead>\n    <tr style=\"text-align: right;\">\n      <th></th>\n      <th>dos_id</th>\n      <th>age</th>\n      <th>sexe</th>\n      <th>residence</th>\n      <th>mode_entree</th>\n      <th>etat_patient_entree</th>\n      <th>motif_admission</th>\n      <th>score_tri</th>\n      <th>occupation_lits</th>\n      <th>nbre_patient_urgence</th>\n      <th>...</th>\n      <th>week</th>\n      <th>month</th>\n      <th>quarter</th>\n      <th>est_venu_3_derniers_mois</th>\n      <th>est_venu_derniers_48h</th>\n      <th>moyenne_dynamique_temps_attente</th>\n      <th>date_arrivee_patient</th>\n      <th>wait_time_ext</th>\n      <th>wait_time_interne</th>\n      <th>wait_time</th>\n    </tr>\n  </thead>\n  <tbody>\n    <tr>\n      <th>0</th>\n      <td>2226</td>\n      <td>46</td>\n      <td>2</td>\n      <td>81290.0</td>\n      <td>11.0</td>\n      <td>2</td>\n      <td>Non precise</td>\n      <td>4</td>\n      <td>0.890957</td>\n      <td>0.0</td>\n      <td>...</td>\n      <td>NaN</td>\n      <td>NaN</td>\n      <td>NaN</td>\n      <td>NaN</td>\n      <td>NaN</td>\n      <td>27.000000</td>\n      <td>2019-01-22 08:46</td>\n      <td>27.0</td>\n      <td>0.0</td>\n      <td>27.0</td>\n    </tr>\n    <tr>\n      <th>1</th>\n      <td>2228</td>\n      <td>16</td>\n      <td>1</td>\n      <td>81100.0</td>\n      <td>11.0</td>\n      <td>2</td>\n      <td>Non precise</td>\n      <td>5</td>\n      <td>0.904255</td>\n      <td>1.0</td>\n      <td>...</td>\n      <td>NaN</td>\n      <td>NaN</td>\n      <td>NaN</td>\n      <td>NaN</td>\n      <td>NaN</td>\n      <td>28.000000</td>\n      <td>2019-01-22 09:00</td>\n      <td>29.0</td>\n      <td>0.0</td>\n      <td>29.0</td>\n    </tr>\n    <tr>\n      <th>2</th>\n      <td>2229</td>\n      <td>63</td>\n      <td>2</td>\n      <td>81700.0</td>\n      <td>11.0</td>\n      <td>2</td>\n      <td>Non precise</td>\n      <td>5</td>\n      <td>0.906915</td>\n      <td>2.0</td>\n      <td>...</td>\n      <td>NaN</td>\n      <td>NaN</td>\n      <td>NaN</td>\n      <td>NaN</td>\n      <td>NaN</td>\n      <td>39.333333</td>\n      <td>2019-01-22 09:06</td>\n      <td>25.0</td>\n      <td>37.0</td>\n      <td>62.0</td>\n    </tr>\n    <tr>\n      <th>3</th>\n      <td>2230</td>\n      <td>38</td>\n      <td>1</td>\n      <td>81100.0</td>\n      <td>11.0</td>\n      <td>2</td>\n      <td>Non precise</td>\n      <td>5</td>\n      <td>0.906915</td>\n      <td>3.0</td>\n      <td>...</td>\n      <td>NaN</td>\n      <td>NaN</td>\n      <td>NaN</td>\n      <td>NaN</td>\n      <td>NaN</td>\n      <td>43.000000</td>\n      <td>2019-01-22 09:15</td>\n      <td>25.0</td>\n      <td>29.0</td>\n      <td>54.0</td>\n    </tr>\n    <tr>\n      <th>4</th>\n      <td>2231</td>\n      <td>55</td>\n      <td>2</td>\n      <td>81290.0</td>\n      <td>11.0</td>\n      <td>2</td>\n      <td>Non precise</td>\n      <td>5</td>\n      <td>0.909574</td>\n      <td>4.0</td>\n      <td>...</td>\n      <td>NaN</td>\n      <td>NaN</td>\n      <td>NaN</td>\n      <td>NaN</td>\n      <td>NaN</td>\n      <td>44.400000</td>\n      <td>2019-01-22 09:20</td>\n      <td>23.0</td>\n      <td>27.0</td>\n      <td>50.0</td>\n    </tr>\n  </tbody>\n</table>\n<p>5 rows × 38 columns</p>\n</div>"
     },
     "execution_count": 82,
     "metadata": {},
     "output_type": "execute_result"
    }
   ],
   "source": [
    "feature_df.to_csv(\"output/feature_df.csv\", sep=\";\", index=False)\n",
    "\n",
    "#To create dataset backup\n",
    "feature_df.to_csv(\"output/feature_df_bak_\" + str(dataset_version) + \".csv\", sep=\";\", index=False)\n",
    "dataset_version += 1\n",
    "\n",
    "feature_df.head()"
   ],
   "metadata": {
    "collapsed": false,
    "pycharm": {
     "name": "#%%\n"
    }
   }
  },
  {
   "cell_type": "code",
   "execution_count": 83,
   "outputs": [],
   "source": [
    "feature_df['date_arrivee_patient'] = pd.to_datetime(feature_df['date_arrivee_patient'])"
   ],
   "metadata": {
    "collapsed": false,
    "pycharm": {
     "name": "#%%\n"
    }
   }
  },
  {
   "cell_type": "code",
   "execution_count": 84,
   "outputs": [
    {
     "data": {
      "text/plain": "   dos_id  age  sexe residence  mode_entree  etat_patient_entree  \\\n0    2226   46     2   81290.0         11.0                    2   \n1    2228   16     1   81100.0         11.0                    2   \n2    2229   63     2   81700.0         11.0                    2   \n3    2230   38     1   81100.0         11.0                    2   \n4    2231   55     2   81290.0         11.0                    2   \n\n  motif_admission  score_tri  occupation_lits  nbre_patient_urgence  ...  \\\n0     Non precise          4         0.890957                   0.0  ...   \n1     Non precise          5         0.904255                   1.0  ...   \n2     Non precise          5         0.906915                   2.0  ...   \n3     Non precise          5         0.906915                   3.0  ...   \n4     Non precise          5         0.909574                   4.0  ...   \n\n   week  month  quarter  est_venu_3_derniers_mois  est_venu_derniers_48h  \\\n0     4      1        1                       NaN                    NaN   \n1     4      1        1                       NaN                    NaN   \n2     4      1        1                       NaN                    NaN   \n3     4      1        1                       NaN                    NaN   \n4     4      1        1                       NaN                    NaN   \n\n   moyenne_dynamique_temps_attente  date_arrivee_patient  wait_time_ext  \\\n0                        27.000000   2019-01-22 08:46:00           27.0   \n1                        28.000000   2019-01-22 09:00:00           29.0   \n2                        39.333333   2019-01-22 09:06:00           25.0   \n3                        43.000000   2019-01-22 09:15:00           25.0   \n4                        44.400000   2019-01-22 09:20:00           23.0   \n\n   wait_time_interne  wait_time  \n0                0.0       27.0  \n1                0.0       29.0  \n2               37.0       62.0  \n3               29.0       54.0  \n4               27.0       50.0  \n\n[5 rows x 38 columns]",
      "text/html": "<div>\n<style scoped>\n    .dataframe tbody tr th:only-of-type {\n        vertical-align: middle;\n    }\n\n    .dataframe tbody tr th {\n        vertical-align: top;\n    }\n\n    .dataframe thead th {\n        text-align: right;\n    }\n</style>\n<table border=\"1\" class=\"dataframe\">\n  <thead>\n    <tr style=\"text-align: right;\">\n      <th></th>\n      <th>dos_id</th>\n      <th>age</th>\n      <th>sexe</th>\n      <th>residence</th>\n      <th>mode_entree</th>\n      <th>etat_patient_entree</th>\n      <th>motif_admission</th>\n      <th>score_tri</th>\n      <th>occupation_lits</th>\n      <th>nbre_patient_urgence</th>\n      <th>...</th>\n      <th>week</th>\n      <th>month</th>\n      <th>quarter</th>\n      <th>est_venu_3_derniers_mois</th>\n      <th>est_venu_derniers_48h</th>\n      <th>moyenne_dynamique_temps_attente</th>\n      <th>date_arrivee_patient</th>\n      <th>wait_time_ext</th>\n      <th>wait_time_interne</th>\n      <th>wait_time</th>\n    </tr>\n  </thead>\n  <tbody>\n    <tr>\n      <th>0</th>\n      <td>2226</td>\n      <td>46</td>\n      <td>2</td>\n      <td>81290.0</td>\n      <td>11.0</td>\n      <td>2</td>\n      <td>Non precise</td>\n      <td>4</td>\n      <td>0.890957</td>\n      <td>0.0</td>\n      <td>...</td>\n      <td>4</td>\n      <td>1</td>\n      <td>1</td>\n      <td>NaN</td>\n      <td>NaN</td>\n      <td>27.000000</td>\n      <td>2019-01-22 08:46:00</td>\n      <td>27.0</td>\n      <td>0.0</td>\n      <td>27.0</td>\n    </tr>\n    <tr>\n      <th>1</th>\n      <td>2228</td>\n      <td>16</td>\n      <td>1</td>\n      <td>81100.0</td>\n      <td>11.0</td>\n      <td>2</td>\n      <td>Non precise</td>\n      <td>5</td>\n      <td>0.904255</td>\n      <td>1.0</td>\n      <td>...</td>\n      <td>4</td>\n      <td>1</td>\n      <td>1</td>\n      <td>NaN</td>\n      <td>NaN</td>\n      <td>28.000000</td>\n      <td>2019-01-22 09:00:00</td>\n      <td>29.0</td>\n      <td>0.0</td>\n      <td>29.0</td>\n    </tr>\n    <tr>\n      <th>2</th>\n      <td>2229</td>\n      <td>63</td>\n      <td>2</td>\n      <td>81700.0</td>\n      <td>11.0</td>\n      <td>2</td>\n      <td>Non precise</td>\n      <td>5</td>\n      <td>0.906915</td>\n      <td>2.0</td>\n      <td>...</td>\n      <td>4</td>\n      <td>1</td>\n      <td>1</td>\n      <td>NaN</td>\n      <td>NaN</td>\n      <td>39.333333</td>\n      <td>2019-01-22 09:06:00</td>\n      <td>25.0</td>\n      <td>37.0</td>\n      <td>62.0</td>\n    </tr>\n    <tr>\n      <th>3</th>\n      <td>2230</td>\n      <td>38</td>\n      <td>1</td>\n      <td>81100.0</td>\n      <td>11.0</td>\n      <td>2</td>\n      <td>Non precise</td>\n      <td>5</td>\n      <td>0.906915</td>\n      <td>3.0</td>\n      <td>...</td>\n      <td>4</td>\n      <td>1</td>\n      <td>1</td>\n      <td>NaN</td>\n      <td>NaN</td>\n      <td>43.000000</td>\n      <td>2019-01-22 09:15:00</td>\n      <td>25.0</td>\n      <td>29.0</td>\n      <td>54.0</td>\n    </tr>\n    <tr>\n      <th>4</th>\n      <td>2231</td>\n      <td>55</td>\n      <td>2</td>\n      <td>81290.0</td>\n      <td>11.0</td>\n      <td>2</td>\n      <td>Non precise</td>\n      <td>5</td>\n      <td>0.909574</td>\n      <td>4.0</td>\n      <td>...</td>\n      <td>4</td>\n      <td>1</td>\n      <td>1</td>\n      <td>NaN</td>\n      <td>NaN</td>\n      <td>44.400000</td>\n      <td>2019-01-22 09:20:00</td>\n      <td>23.0</td>\n      <td>27.0</td>\n      <td>50.0</td>\n    </tr>\n  </tbody>\n</table>\n<p>5 rows × 38 columns</p>\n</div>"
     },
     "execution_count": 84,
     "metadata": {},
     "output_type": "execute_result"
    }
   ],
   "source": [
    "feature_df[\"quarter\"] = feature_df[\"date_arrivee_patient\"].dt.quarter\n",
    "feature_df[\"month\"] = feature_df[\"date_arrivee_patient\"].dt.month\n",
    "feature_df[\"week\"] = feature_df[\"date_arrivee_patient\"].dt.isocalendar().week\n",
    "feature_df[\"day_of_week\"] = feature_df[\"date_arrivee_patient\"].dt.weekday\n",
    "feature_df[\"is_weekend\"] = feature_df[\"day_of_week\"] >= 5\n",
    "\n",
    "feature_df.to_csv(\"output/feature_df.csv\", sep=\";\", index=False)\n",
    "\n",
    "#To create dataset backup\n",
    "feature_df.to_csv(\"output/feature_df_bak_\" + str(dataset_version) + \".csv\", sep=\";\", index=False)\n",
    "dataset_version += 1\n",
    "\n",
    "feature_df.head()"
   ],
   "metadata": {
    "collapsed": false,
    "pycharm": {
     "name": "#%%\n"
    }
   }
  },
  {
   "cell_type": "code",
   "execution_count": 85,
   "outputs": [],
   "source": [
    "#Add motif_code to feature_df\n",
    "feature_df.insert(6, \"motif_code\", np.nan, True)\n",
    "feature_df = feature_df.sort_values(by=[\"dos_id\"])\n",
    "sorted_data = sorted_data.sort_values(by=[\"dos_id\"])\n",
    "\n",
    "feature_df[\"motif_code\"] = sorted_data[\"motif_code\"]"
   ],
   "metadata": {
    "collapsed": false,
    "pycharm": {
     "name": "#%%\n"
    }
   }
  },
  {
   "cell_type": "code",
   "execution_count": null,
   "outputs": [],
   "source": [
    "feature_df.insert(26, \"hour_of_day\", np.nan, True)\n",
    "feature_df['date_arrivee_patient'] = pd.to_datetime(feature_df['date_arrivee_patient'])\n",
    "feature_df['hour_of_day'] = feature_df['date_arrivee_patient'].dt.hour"
   ],
   "metadata": {
    "collapsed": false,
    "pycharm": {
     "name": "#%%\n"
    }
   }
  },
  {
   "cell_type": "code",
   "execution_count": 86,
   "outputs": [
    {
     "data": {
      "text/plain": "   dos_id  age  sexe residence  mode_entree  etat_patient_entree motif_code  \\\n0    2226   46     2   81290.0         11.0                    2      R52.9   \n1    2228   16     1   81100.0         11.0                    2     M79.61   \n2    2229   63     2   81700.0         11.0                    2      J02.9   \n3    2230   38     1   81100.0         11.0                    2      R22.1   \n4    2231   55     2   81290.0         11.0                    2      T13.9   \n\n  motif_admission  score_tri  occupation_lits  ...  week  month  quarter  \\\n0     Non precise          4         0.890957  ...     4      1        1   \n1     Non precise          5         0.904255  ...     4      1        1   \n2     Non precise          5         0.906915  ...     4      1        1   \n3     Non precise          5         0.906915  ...     4      1        1   \n4     Non precise          5         0.909574  ...     4      1        1   \n\n   est_venu_3_derniers_mois  est_venu_derniers_48h  \\\n0                       NaN                    NaN   \n1                       NaN                    NaN   \n2                       NaN                    NaN   \n3                       NaN                    NaN   \n4                       NaN                    NaN   \n\n   moyenne_dynamique_temps_attente  date_arrivee_patient  wait_time_ext  \\\n0                        27.000000   2019-01-22 08:46:00           27.0   \n1                        28.000000   2019-01-22 09:00:00           29.0   \n2                        39.333333   2019-01-22 09:06:00           25.0   \n3                        43.000000   2019-01-22 09:15:00           25.0   \n4                        44.400000   2019-01-22 09:20:00           23.0   \n\n   wait_time_interne  wait_time  \n0                0.0       27.0  \n1                0.0       29.0  \n2               37.0       62.0  \n3               29.0       54.0  \n4               27.0       50.0  \n\n[5 rows x 39 columns]",
      "text/html": "<div>\n<style scoped>\n    .dataframe tbody tr th:only-of-type {\n        vertical-align: middle;\n    }\n\n    .dataframe tbody tr th {\n        vertical-align: top;\n    }\n\n    .dataframe thead th {\n        text-align: right;\n    }\n</style>\n<table border=\"1\" class=\"dataframe\">\n  <thead>\n    <tr style=\"text-align: right;\">\n      <th></th>\n      <th>dos_id</th>\n      <th>age</th>\n      <th>sexe</th>\n      <th>residence</th>\n      <th>mode_entree</th>\n      <th>etat_patient_entree</th>\n      <th>motif_code</th>\n      <th>motif_admission</th>\n      <th>score_tri</th>\n      <th>occupation_lits</th>\n      <th>...</th>\n      <th>week</th>\n      <th>month</th>\n      <th>quarter</th>\n      <th>est_venu_3_derniers_mois</th>\n      <th>est_venu_derniers_48h</th>\n      <th>moyenne_dynamique_temps_attente</th>\n      <th>date_arrivee_patient</th>\n      <th>wait_time_ext</th>\n      <th>wait_time_interne</th>\n      <th>wait_time</th>\n    </tr>\n  </thead>\n  <tbody>\n    <tr>\n      <th>0</th>\n      <td>2226</td>\n      <td>46</td>\n      <td>2</td>\n      <td>81290.0</td>\n      <td>11.0</td>\n      <td>2</td>\n      <td>R52.9</td>\n      <td>Non precise</td>\n      <td>4</td>\n      <td>0.890957</td>\n      <td>...</td>\n      <td>4</td>\n      <td>1</td>\n      <td>1</td>\n      <td>NaN</td>\n      <td>NaN</td>\n      <td>27.000000</td>\n      <td>2019-01-22 08:46:00</td>\n      <td>27.0</td>\n      <td>0.0</td>\n      <td>27.0</td>\n    </tr>\n    <tr>\n      <th>1</th>\n      <td>2228</td>\n      <td>16</td>\n      <td>1</td>\n      <td>81100.0</td>\n      <td>11.0</td>\n      <td>2</td>\n      <td>M79.61</td>\n      <td>Non precise</td>\n      <td>5</td>\n      <td>0.904255</td>\n      <td>...</td>\n      <td>4</td>\n      <td>1</td>\n      <td>1</td>\n      <td>NaN</td>\n      <td>NaN</td>\n      <td>28.000000</td>\n      <td>2019-01-22 09:00:00</td>\n      <td>29.0</td>\n      <td>0.0</td>\n      <td>29.0</td>\n    </tr>\n    <tr>\n      <th>2</th>\n      <td>2229</td>\n      <td>63</td>\n      <td>2</td>\n      <td>81700.0</td>\n      <td>11.0</td>\n      <td>2</td>\n      <td>J02.9</td>\n      <td>Non precise</td>\n      <td>5</td>\n      <td>0.906915</td>\n      <td>...</td>\n      <td>4</td>\n      <td>1</td>\n      <td>1</td>\n      <td>NaN</td>\n      <td>NaN</td>\n      <td>39.333333</td>\n      <td>2019-01-22 09:06:00</td>\n      <td>25.0</td>\n      <td>37.0</td>\n      <td>62.0</td>\n    </tr>\n    <tr>\n      <th>3</th>\n      <td>2230</td>\n      <td>38</td>\n      <td>1</td>\n      <td>81100.0</td>\n      <td>11.0</td>\n      <td>2</td>\n      <td>R22.1</td>\n      <td>Non precise</td>\n      <td>5</td>\n      <td>0.906915</td>\n      <td>...</td>\n      <td>4</td>\n      <td>1</td>\n      <td>1</td>\n      <td>NaN</td>\n      <td>NaN</td>\n      <td>43.000000</td>\n      <td>2019-01-22 09:15:00</td>\n      <td>25.0</td>\n      <td>29.0</td>\n      <td>54.0</td>\n    </tr>\n    <tr>\n      <th>4</th>\n      <td>2231</td>\n      <td>55</td>\n      <td>2</td>\n      <td>81290.0</td>\n      <td>11.0</td>\n      <td>2</td>\n      <td>T13.9</td>\n      <td>Non precise</td>\n      <td>5</td>\n      <td>0.909574</td>\n      <td>...</td>\n      <td>4</td>\n      <td>1</td>\n      <td>1</td>\n      <td>NaN</td>\n      <td>NaN</td>\n      <td>44.400000</td>\n      <td>2019-01-22 09:20:00</td>\n      <td>23.0</td>\n      <td>27.0</td>\n      <td>50.0</td>\n    </tr>\n  </tbody>\n</table>\n<p>5 rows × 39 columns</p>\n</div>"
     },
     "execution_count": 86,
     "metadata": {},
     "output_type": "execute_result"
    }
   ],
   "source": [
    "feature_df.to_csv(\"output/feature_df.csv\", sep=\";\", index=False)\n",
    "\n",
    "#To create dataset backup\n",
    "feature_df.to_csv(\"output/feature_df_bak_\" + str(dataset_version) + \".csv\", sep=\";\", index=False)\n",
    "dataset_version += 1\n",
    "\n",
    "feature_df.head()"
   ],
   "metadata": {
    "collapsed": false,
    "pycharm": {
     "name": "#%%\n"
    }
   }
  },
  {
   "cell_type": "code",
   "execution_count": 86,
   "outputs": [],
   "source": [],
   "metadata": {
    "collapsed": false,
    "pycharm": {
     "name": "#%%\n"
    }
   }
  }
 ],
 "metadata": {
  "kernelspec": {
   "display_name": "Python 3 (ipykernel)",
   "language": "python",
   "name": "python3"
  },
  "language_info": {
   "codemirror_mode": {
    "name": "ipython",
    "version": 3
   },
   "file_extension": ".py",
   "mimetype": "text/x-python",
   "name": "python",
   "nbconvert_exporter": "python",
   "pygments_lexer": "ipython3",
   "version": "3.9.5"
  }
 },
 "nbformat": 4,
 "nbformat_minor": 1
}